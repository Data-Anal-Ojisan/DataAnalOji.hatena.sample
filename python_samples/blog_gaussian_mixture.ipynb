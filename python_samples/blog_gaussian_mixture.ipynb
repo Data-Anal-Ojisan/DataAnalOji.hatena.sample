{
 "cells": [
  {
   "cell_type": "code",
   "execution_count": 1,
   "metadata": {
    "ExecuteTime": {
     "end_time": "2020-05-27T09:12:59.819502Z",
     "start_time": "2020-05-27T09:12:57.655886Z"
    }
   },
   "outputs": [],
   "source": [
    "import numpy as np\n",
    "import pandas as pd\n",
    "from scipy.stats import norm\n",
    "\n",
    "# package for gmm\n",
    "from sklearn.mixture import GaussianMixture as GMM\n",
    "\n",
    "%matplotlib inline\n",
    "import matplotlib.pyplot as plt"
   ]
  },
  {
   "cell_type": "markdown",
   "metadata": {},
   "source": [
    "# サンプルデータの作成"
   ]
  },
  {
   "cell_type": "code",
   "execution_count": 13,
   "metadata": {
    "ExecuteTime": {
     "end_time": "2020-05-27T09:23:13.923717Z",
     "start_time": "2020-05-27T09:23:13.719250Z"
    }
   },
   "outputs": [
    {
     "data": {
      "image/png": "[encoded data removed]",
      "text/plain": [
       "<Figure size 432x288 with 1 Axes>"
      ]
     },
     "metadata": {
      "needs_background": "light"
     },
     "output_type": "display_data"
    }
   ],
   "source": [
    "# ガウス分布からサンプルデータを作成\n",
    "x1 = np.random.normal(0, 1, 1000)  # 平均0，標準偏差1\n",
    "x2 = np.random.normal(5, 2, 1000)  # 平均5，標準偏差2\n",
    "x = np.concatenate((x1, x2))  # 混合分布の作成\n",
    "\n",
    "# 混合分布の描画\n",
    "plt.hist(x, density=True, bins=100);\n",
    "plt.ylabel(\"Density\");\n",
    "plt.xlabel(\"value\");"
   ]
  },
  {
   "cell_type": "markdown",
   "metadata": {
    "ExecuteTime": {
     "end_time": "2020-05-26T08:00:38.269719Z",
     "start_time": "2020-05-26T08:00:38.255726Z"
    }
   },
   "source": [
    "# GMM によるパラメータ推定"
   ]
  },
  {
   "cell_type": "code",
   "execution_count": 4,
   "metadata": {
    "ExecuteTime": {
     "end_time": "2020-05-27T09:13:12.861374Z",
     "start_time": "2020-05-27T09:13:12.846412Z"
    }
   },
   "outputs": [
    {
     "data": {
      "text/plain": [
       "GaussianMixture(covariance_type='spherical', init_params='kmeans',\n",
       "                max_iter=1000, means_init=None, n_components=2, n_init=1,\n",
       "                precisions_init=None, random_state=1234, reg_covar=1e-06,\n",
       "                tol=0.001, verbose=0, verbose_interval=10, warm_start=False,\n",
       "                weights_init=None)"
      ]
     },
     "execution_count": 4,
     "metadata": {},
     "output_type": "execute_result"
    }
   ],
   "source": [
    "# インスタンスを生成\n",
    "gmm = GMM(n_components=2,  # 想定する分布数\n",
    "          max_iter=1000, # 繰り返し数\n",
    "          covariance_type= \"spherical\", # 共分散タイプ\n",
    "          random_state=1234)\n",
    "\n",
    "# 学習\n",
    "gmm.fit(x.reshape(-1, 1)) # sklearnの入力形状合わせて入力・学習"
   ]
  },
  {
   "cell_type": "markdown",
   "metadata": {},
   "source": [
    "## 推定パラメータ"
   ]
  },
  {
   "cell_type": "markdown",
   "metadata": {},
   "source": [
    "### weight"
   ]
  },
  {
   "cell_type": "code",
   "execution_count": 6,
   "metadata": {
    "ExecuteTime": {
     "end_time": "2020-05-27T09:15:10.587704Z",
     "start_time": "2020-05-27T09:15:10.583717Z"
    }
   },
   "outputs": [
    {
     "name": "stdout",
     "output_type": "stream",
     "text": [
      "[0.49532079 0.50467921]\n"
     ]
    }
   ],
   "source": [
    "weight = gmm.weights_ # 重み\n",
    "print(weight)"
   ]
  },
  {
   "cell_type": "markdown",
   "metadata": {},
   "source": [
    "### mean"
   ]
  },
  {
   "cell_type": "code",
   "execution_count": 7,
   "metadata": {
    "ExecuteTime": {
     "end_time": "2020-05-27T09:15:38.123407Z",
     "start_time": "2020-05-27T09:15:38.119418Z"
    }
   },
   "outputs": [
    {
     "name": "stdout",
     "output_type": "stream",
     "text": [
      "[[5.04083568]\n",
      " [0.02944873]]\n"
     ]
    }
   ],
   "source": [
    "mean = gmm.means_ # 平均\n",
    "print(mean)"
   ]
  },
  {
   "cell_type": "markdown",
   "metadata": {},
   "source": [
    "### covariances"
   ]
  },
  {
   "cell_type": "code",
   "execution_count": 8,
   "metadata": {
    "ExecuteTime": {
     "end_time": "2020-05-27T09:16:48.187670Z",
     "start_time": "2020-05-27T09:16:48.183681Z"
    }
   },
   "outputs": [
    {
     "name": "stdout",
     "output_type": "stream",
     "text": [
      "[4.06478669 0.94194101]\n"
     ]
    }
   ],
   "source": [
    "cov = gmm.covariances_ # 共分散\n",
    "print(cov)"
   ]
  },
  {
   "cell_type": "markdown",
   "metadata": {},
   "source": [
    "## 推定済みパラメータに基づく確率密度分布の導出"
   ]
  },
  {
   "cell_type": "code",
   "execution_count": 26,
   "metadata": {
    "ExecuteTime": {
     "end_time": "2020-05-27T09:40:31.750941Z",
     "start_time": "2020-05-27T09:40:31.626239Z"
    }
   },
   "outputs": [
    {
     "data": {
      "image/png": "[encoded data removed]",
      "text/plain": [
       "<Figure size 432x288 with 1 Axes>"
      ]
     },
     "metadata": {
      "needs_background": "light"
     },
     "output_type": "display_data"
    }
   ],
   "source": [
    "_range = np.arange(-3, 10, 0.01)\n",
    "X1 = weight[0] * norm.pdf(_range, mean[0], np.sqrt(cov[0]))\n",
    "X2 = weight[1] * norm.pdf(_range,mean[1], np.sqrt(cov[1]))\n",
    "\n",
    "plt.plot(_range, X1.flatten(), label=\"X1\", color='red', alpha=0.5);\n",
    "plt.plot(_range, X2.flatten(), label=\"X2\", color='blue', alpha=0.5);\n",
    "plt.plot(_range, (X1 + X2).flatten(), label=\"Mixture\", color='black', alpha=1, linestyle=\"--\")\n",
    "plt.ylabel(\"Probability Density\");\n",
    "plt.xlabel(\"value\");\n",
    "plt.legend();"
   ]
  },
  {
   "cell_type": "markdown",
   "metadata": {},
   "source": [
    "## 推定結果に基づくクラスタリング"
   ]
  },
  {
   "cell_type": "code",
   "execution_count": 27,
   "metadata": {
    "ExecuteTime": {
     "end_time": "2020-05-27T09:41:04.721494Z",
     "start_time": "2020-05-27T09:41:04.345468Z"
    }
   },
   "outputs": [
    {
     "data": {
      "image/png": "[encoded data removed]",
      "text/plain": [
       "<Figure size 432x288 with 1 Axes>"
      ]
     },
     "metadata": {
      "needs_background": "light"
     },
     "output_type": "display_data"
    }
   ],
   "source": [
    "# クラスタリング結果を取得\n",
    "predict = gmm.predict(x.reshape(-1, 1))\n",
    "\n",
    "# クラスタリング結果ごとにヒストグラムを描画\n",
    "plt.hist(x[predict == 0], density=True, bins=100, color='red', alpha=0.5,label=\"class0\");\n",
    "plt.hist(x[predict == 1], density=True, bins=100, color='blue', alpha=0.5,label=\"class1\");\n",
    "plt.ylabel(\"Density\");\n",
    "plt.xlabel(\"value\");\n",
    "plt.legend();\n",
    "plt.show();"
   ]
  },
  {
   "cell_type": "code",
   "execution_count": null,
   "metadata": {},
   "outputs": [],
   "source": []
  }
 ],
 "metadata": {
  "kernelspec": {
   "display_name": "Python 3",
   "language": "python",
   "name": "python3"
  },
  "language_info": {
   "codemirror_mode": {
    "name": "ipython",
    "version": 3
   },
   "file_extension": ".py",
   "mimetype": "text/x-python",
   "name": "python",
   "nbconvert_exporter": "python",
   "pygments_lexer": "ipython3",
   "version": "3.7.6"
  },
  "toc": {
   "base_numbering": 1,
   "nav_menu": {},
   "number_sections": true,
   "sideBar": true,
   "skip_h1_title": false,
   "title_cell": "Table of Contents",
   "title_sidebar": "Contents",
   "toc_cell": false,
   "toc_position": {},
   "toc_section_display": true,
   "toc_window_display": false
  },
  "varInspector": {
   "cols": {
    "lenName": 16,
    "lenType": 16,
    "lenVar": 40
   },
   "kernels_config": {
    "python": {
     "delete_cmd_postfix": "",
     "delete_cmd_prefix": "del ",
     "library": "var_list.py",
     "varRefreshCmd": "print(var_dic_list())"
    },
    "r": {
     "delete_cmd_postfix": ") ",
     "delete_cmd_prefix": "rm(",
     "library": "var_list.r",
     "varRefreshCmd": "cat(var_dic_list()) "
    }
   },
   "position": {
    "height": "271px",
    "left": "1457px",
    "right": "20px",
    "top": "125px",
    "width": "415px"
   },
   "types_to_exclude": [
    "module",
    "function",
    "builtin_function_or_method",
    "instance",
    "_Feature"
   ],
   "window_display": true
  }
 },
 "nbformat": 4,
 "nbformat_minor": 4
}
