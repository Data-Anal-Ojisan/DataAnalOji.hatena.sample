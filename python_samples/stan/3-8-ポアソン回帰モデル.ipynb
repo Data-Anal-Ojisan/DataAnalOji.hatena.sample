{
 "cells": [
  {
   "cell_type": "markdown",
   "metadata": {},
   "source": [
    "「RとStanで始めるベイズ統計モデリングによるデータ分析入門 実践編第8章 ポアソン回帰モデル」を対象に，公開されているR，Stanのコードをpython，pystanのコードへと書き直した一例です。Stanの代わりにpystanを利用しています。\n",
    "\n",
    "本ページでは公開されていない書籍の内容については一切触れません。理論や詳しい説明は書籍を参照してください。\n",
    "\n",
    "なお，こちらで紹介しているコードには誤りが含まれる可能性があります。内容やコードについてお気づきの点等ございましたら，ご指摘いただけると幸いです。"
   ]
  },
  {
   "cell_type": "markdown",
   "metadata": {},
   "source": [
    "# 分析の準備\n",
    "\n",
    "## パッケージの読み込み"
   ]
  },
  {
   "cell_type": "code",
   "execution_count": 1,
   "metadata": {
    "ExecuteTime": {
     "end_time": "2020-08-30T06:47:17.133957Z",
     "start_time": "2020-08-30T06:47:14.346325Z"
    }
   },
   "outputs": [],
   "source": [
    "import os\n",
    "import arviz\n",
    "import pystan\n",
    "import pickle\n",
    "import numpy as np\n",
    "import pandas as pd\n",
    "\n",
    "%matplotlib inline\n",
    "import matplotlib.pyplot as plt\n",
    "plt.style.use('ggplot')\n",
    "plt.rcParams['font.family'] = 'Meiryo'\n",
    "import seaborn as sns"
   ]
  },
  {
   "cell_type": "markdown",
   "metadata": {},
   "source": [
    "# データの読み込みと図示\n",
    "\n",
    "## 分析対象のデータ"
   ]
  },
  {
   "cell_type": "code",
   "execution_count": 2,
   "metadata": {
    "ExecuteTime": {
     "end_time": "2020-08-30T06:47:17.166850Z",
     "start_time": "2020-08-30T06:47:17.139922Z"
    }
   },
   "outputs": [
    {
     "data": {
      "text/html": [
       "<div>\n",
       "<style scoped>\n",
       "    .dataframe tbody tr th:only-of-type {\n",
       "        vertical-align: middle;\n",
       "    }\n",
       "\n",
       "    .dataframe tbody tr th {\n",
       "        vertical-align: top;\n",
       "    }\n",
       "\n",
       "    .dataframe thead th {\n",
       "        text-align: right;\n",
       "    }\n",
       "</style>\n",
       "<table border=\"1\" class=\"dataframe\">\n",
       "  <thead>\n",
       "    <tr style=\"text-align: right;\">\n",
       "      <th></th>\n",
       "      <th>fish_num</th>\n",
       "      <th>weather</th>\n",
       "      <th>temperature</th>\n",
       "    </tr>\n",
       "  </thead>\n",
       "  <tbody>\n",
       "    <tr>\n",
       "      <th>0</th>\n",
       "      <td>0</td>\n",
       "      <td>cloudy</td>\n",
       "      <td>5.5</td>\n",
       "    </tr>\n",
       "    <tr>\n",
       "      <th>1</th>\n",
       "      <td>2</td>\n",
       "      <td>cloudy</td>\n",
       "      <td>21.1</td>\n",
       "    </tr>\n",
       "    <tr>\n",
       "      <th>2</th>\n",
       "      <td>5</td>\n",
       "      <td>cloudy</td>\n",
       "      <td>17.2</td>\n",
       "    </tr>\n",
       "  </tbody>\n",
       "</table>\n",
       "</div>"
      ],
      "text/plain": [
       "   fish_num weather  temperature\n",
       "0         0  cloudy          5.5\n",
       "1         2  cloudy         21.1\n",
       "2         5  cloudy         17.2"
      ]
     },
     "execution_count": 2,
     "metadata": {},
     "output_type": "execute_result"
    }
   ],
   "source": [
    "fish_num_climate = pd.read_csv('3-8-1-fish-num-1.csv')\n",
    "fish_num_climate.head(n=3)"
   ]
  },
  {
   "cell_type": "markdown",
   "metadata": {},
   "source": [
    "## データの要約"
   ]
  },
  {
   "cell_type": "code",
   "execution_count": 3,
   "metadata": {
    "ExecuteTime": {
     "end_time": "2020-08-30T06:47:17.196796Z",
     "start_time": "2020-08-30T06:47:17.176824Z"
    }
   },
   "outputs": [
    {
     "data": {
      "text/html": [
       "<div>\n",
       "<style scoped>\n",
       "    .dataframe tbody tr th:only-of-type {\n",
       "        vertical-align: middle;\n",
       "    }\n",
       "\n",
       "    .dataframe tbody tr th {\n",
       "        vertical-align: top;\n",
       "    }\n",
       "\n",
       "    .dataframe thead th {\n",
       "        text-align: right;\n",
       "    }\n",
       "</style>\n",
       "<table border=\"1\" class=\"dataframe\">\n",
       "  <thead>\n",
       "    <tr style=\"text-align: right;\">\n",
       "      <th></th>\n",
       "      <th>fish_num</th>\n",
       "      <th>weather</th>\n",
       "      <th>temperature</th>\n",
       "    </tr>\n",
       "  </thead>\n",
       "  <tbody>\n",
       "    <tr>\n",
       "      <th>count</th>\n",
       "      <td>100.000000</td>\n",
       "      <td>100</td>\n",
       "      <td>100.000000</td>\n",
       "    </tr>\n",
       "    <tr>\n",
       "      <th>unique</th>\n",
       "      <td>NaN</td>\n",
       "      <td>2</td>\n",
       "      <td>NaN</td>\n",
       "    </tr>\n",
       "    <tr>\n",
       "      <th>top</th>\n",
       "      <td>NaN</td>\n",
       "      <td>cloudy</td>\n",
       "      <td>NaN</td>\n",
       "    </tr>\n",
       "    <tr>\n",
       "      <th>freq</th>\n",
       "      <td>NaN</td>\n",
       "      <td>50</td>\n",
       "      <td>NaN</td>\n",
       "    </tr>\n",
       "    <tr>\n",
       "      <th>mean</th>\n",
       "      <td>1.600000</td>\n",
       "      <td>NaN</td>\n",
       "      <td>14.747000</td>\n",
       "    </tr>\n",
       "    <tr>\n",
       "      <th>std</th>\n",
       "      <td>1.933229</td>\n",
       "      <td>NaN</td>\n",
       "      <td>8.956826</td>\n",
       "    </tr>\n",
       "    <tr>\n",
       "      <th>min</th>\n",
       "      <td>0.000000</td>\n",
       "      <td>NaN</td>\n",
       "      <td>0.200000</td>\n",
       "    </tr>\n",
       "    <tr>\n",
       "      <th>25%</th>\n",
       "      <td>0.000000</td>\n",
       "      <td>NaN</td>\n",
       "      <td>6.750000</td>\n",
       "    </tr>\n",
       "    <tr>\n",
       "      <th>50%</th>\n",
       "      <td>1.000000</td>\n",
       "      <td>NaN</td>\n",
       "      <td>13.250000</td>\n",
       "    </tr>\n",
       "    <tr>\n",
       "      <th>75%</th>\n",
       "      <td>2.000000</td>\n",
       "      <td>NaN</td>\n",
       "      <td>23.225000</td>\n",
       "    </tr>\n",
       "    <tr>\n",
       "      <th>max</th>\n",
       "      <td>8.000000</td>\n",
       "      <td>NaN</td>\n",
       "      <td>29.700000</td>\n",
       "    </tr>\n",
       "  </tbody>\n",
       "</table>\n",
       "</div>"
      ],
      "text/plain": [
       "          fish_num weather  temperature\n",
       "count   100.000000     100   100.000000\n",
       "unique         NaN       2          NaN\n",
       "top            NaN  cloudy          NaN\n",
       "freq           NaN      50          NaN\n",
       "mean      1.600000     NaN    14.747000\n",
       "std       1.933229     NaN     8.956826\n",
       "min       0.000000     NaN     0.200000\n",
       "25%       0.000000     NaN     6.750000\n",
       "50%       1.000000     NaN    13.250000\n",
       "75%       2.000000     NaN    23.225000\n",
       "max       8.000000     NaN    29.700000"
      ]
     },
     "execution_count": 3,
     "metadata": {},
     "output_type": "execute_result"
    }
   ],
   "source": [
    "fish_num_climate.describe(include='all')"
   ]
  },
  {
   "cell_type": "markdown",
   "metadata": {},
   "source": [
    "## 図示"
   ]
  },
  {
   "cell_type": "code",
   "execution_count": 4,
   "metadata": {
    "ExecuteTime": {
     "end_time": "2020-08-30T06:47:18.193902Z",
     "start_time": "2020-08-30T06:47:17.965763Z"
    }
   },
   "outputs": [
    {
     "data": {
      "image/png": "[encoded data removed]",
      "text/plain": [
       "<Figure size 432x288 with 1 Axes>"
      ]
     },
     "metadata": {},
     "output_type": "display_data"
    }
   ],
   "source": [
    "plt.figure()\n",
    "sns.scatterplot(x='temperature', y='fish_num', data=fish_num_climate, hue='weather')\n",
    "plt.title('釣獲尾数と気温・天気の関係')\n",
    "plt.show()"
   ]
  },
  {
   "cell_type": "markdown",
   "metadata": {},
   "source": [
    "# brmsによる分散分析モデルの推定\n",
    "\n",
    "pythonにbrmsの代用可能なパッケージが知っている範囲内で存在しないため，brmsを利用したコードは省略しています。\n",
    "\n",
    "# 補足：brmsを用いない実装の方法\n",
    "\n",
    "## 参考：デザイン行列の作成"
   ]
  },
  {
   "cell_type": "code",
   "execution_count": 8,
   "metadata": {
    "ExecuteTime": {
     "end_time": "2020-08-30T06:49:55.629663Z",
     "start_time": "2020-08-30T06:49:55.613681Z"
    }
   },
   "outputs": [
    {
     "data": {
      "text/html": [
       "<div>\n",
       "<style scoped>\n",
       "    .dataframe tbody tr th:only-of-type {\n",
       "        vertical-align: middle;\n",
       "    }\n",
       "\n",
       "    .dataframe tbody tr th {\n",
       "        vertical-align: top;\n",
       "    }\n",
       "\n",
       "    .dataframe thead th {\n",
       "        text-align: right;\n",
       "    }\n",
       "</style>\n",
       "<table border=\"1\" class=\"dataframe\">\n",
       "  <thead>\n",
       "    <tr style=\"text-align: right;\">\n",
       "      <th></th>\n",
       "      <th>(Intercept)</th>\n",
       "      <th>weather_sunny</th>\n",
       "      <th>temperature</th>\n",
       "    </tr>\n",
       "  </thead>\n",
       "  <tbody>\n",
       "    <tr>\n",
       "      <th>0</th>\n",
       "      <td>1</td>\n",
       "      <td>0</td>\n",
       "      <td>5.5</td>\n",
       "    </tr>\n",
       "    <tr>\n",
       "      <th>1</th>\n",
       "      <td>1</td>\n",
       "      <td>0</td>\n",
       "      <td>21.1</td>\n",
       "    </tr>\n",
       "    <tr>\n",
       "      <th>2</th>\n",
       "      <td>1</td>\n",
       "      <td>0</td>\n",
       "      <td>17.2</td>\n",
       "    </tr>\n",
       "    <tr>\n",
       "      <th>3</th>\n",
       "      <td>1</td>\n",
       "      <td>0</td>\n",
       "      <td>5.0</td>\n",
       "    </tr>\n",
       "    <tr>\n",
       "      <th>4</th>\n",
       "      <td>1</td>\n",
       "      <td>0</td>\n",
       "      <td>28.3</td>\n",
       "    </tr>\n",
       "    <tr>\n",
       "      <th>...</th>\n",
       "      <td>...</td>\n",
       "      <td>...</td>\n",
       "      <td>...</td>\n",
       "    </tr>\n",
       "    <tr>\n",
       "      <th>95</th>\n",
       "      <td>1</td>\n",
       "      <td>1</td>\n",
       "      <td>5.9</td>\n",
       "    </tr>\n",
       "    <tr>\n",
       "      <th>96</th>\n",
       "      <td>1</td>\n",
       "      <td>1</td>\n",
       "      <td>12.8</td>\n",
       "    </tr>\n",
       "    <tr>\n",
       "      <th>97</th>\n",
       "      <td>1</td>\n",
       "      <td>1</td>\n",
       "      <td>2.8</td>\n",
       "    </tr>\n",
       "    <tr>\n",
       "      <th>98</th>\n",
       "      <td>1</td>\n",
       "      <td>1</td>\n",
       "      <td>3.5</td>\n",
       "    </tr>\n",
       "    <tr>\n",
       "      <th>99</th>\n",
       "      <td>1</td>\n",
       "      <td>1</td>\n",
       "      <td>13.2</td>\n",
       "    </tr>\n",
       "  </tbody>\n",
       "</table>\n",
       "<p>100 rows × 3 columns</p>\n",
       "</div>"
      ],
      "text/plain": [
       "    (Intercept)  weather_sunny  temperature\n",
       "0             1              0          5.5\n",
       "1             1              0         21.1\n",
       "2             1              0         17.2\n",
       "3             1              0          5.0\n",
       "4             1              0         28.3\n",
       "..          ...            ...          ...\n",
       "95            1              1          5.9\n",
       "96            1              1         12.8\n",
       "97            1              1          2.8\n",
       "98            1              1          3.5\n",
       "99            1              1         13.2\n",
       "\n",
       "[100 rows x 3 columns]"
      ]
     },
     "metadata": {},
     "output_type": "display_data"
    }
   ],
   "source": [
    "# 応答変数の削除とダミー変数化処理\n",
    "design_mat = pd.get_dummies(fish_num_climate.drop(['fish_num'], axis=1),\n",
    "                   drop_first=True)\n",
    "\n",
    "# 列名を書籍準拠に\n",
    "design_mat = design_mat[['weather_sunny', 'temperature']]\n",
    "\n",
    "# (Intercept)列追加\n",
    "design_mat.insert(0, '(Intercept)', 1)\n",
    "\n",
    "display(design_mat)"
   ]
  },
  {
   "cell_type": "markdown",
   "metadata": {},
   "source": [
    "## 参考：データの作成"
   ]
  },
  {
   "cell_type": "code",
   "execution_count": 10,
   "metadata": {
    "ExecuteTime": {
     "end_time": "2020-08-30T06:50:29.517476Z",
     "start_time": "2020-08-30T06:50:29.509496Z"
    }
   },
   "outputs": [
    {
     "data": {
      "text/plain": [
       "{'N': 100,\n",
       " 'fish_num': 0     0\n",
       " 1     2\n",
       " 2     5\n",
       " 3     1\n",
       " 4     3\n",
       "      ..\n",
       " 95    0\n",
       " 96    0\n",
       " 97    0\n",
       " 98    0\n",
       " 99    0\n",
       " Name: fish_num, Length: 100, dtype: int64,\n",
       " 'temp': 0      5.5\n",
       " 1     21.1\n",
       " 2     17.2\n",
       " 3      5.0\n",
       " 4     28.3\n",
       "       ... \n",
       " 95     5.9\n",
       " 96    12.8\n",
       " 97     2.8\n",
       " 98     3.5\n",
       " 99    13.2\n",
       " Name: temperature, Length: 100, dtype: float64,\n",
       " 'sunny': 0     0\n",
       " 1     0\n",
       " 2     0\n",
       " 3     0\n",
       " 4     0\n",
       "      ..\n",
       " 95    1\n",
       " 96    1\n",
       " 97    1\n",
       " 98    1\n",
       " 99    1\n",
       " Name: weather_sunny, Length: 100, dtype: uint8}"
      ]
     },
     "metadata": {},
     "output_type": "display_data"
    }
   ],
   "source": [
    "data_list_1 = dict(N=len(fish_num_climate),\n",
    "                   fish_num=fish_num_climate['fish_num'],\n",
    "                   temp=fish_num_climate['temperature'],\n",
    "                   sunny=design_mat['weather_sunny'])\n",
    "\n",
    "display(data_list_1)"
   ]
  },
  {
   "cell_type": "markdown",
   "metadata": {},
   "source": [
    "## 参考：自分で変換処理を入れる"
   ]
  },
  {
   "cell_type": "code",
   "execution_count": 11,
   "metadata": {
    "ExecuteTime": {
     "end_time": "2020-08-30T06:53:26.350769Z",
     "start_time": "2020-08-30T06:52:31.661647Z"
    }
   },
   "outputs": [
    {
     "name": "stderr",
     "output_type": "stream",
     "text": [
      "INFO:pystan:COMPILING THE C++ CODE FOR MODEL anon_model_10b93b39bc827a53de74eb5431c131b8 NOW.\n"
     ]
    }
   ],
   "source": [
    "# stanコードの記述\n",
    "stan_code = '''\n",
    "data {\n",
    "  int N;                   // サンプルサイズ\n",
    "  int fish_num[N];         // 釣獲尾数\n",
    "  vector[N] temp;          // 気温データ\n",
    "  vector[N] sunny;         // 晴れダミー変数\n",
    "}\n",
    "\n",
    "parameters {\n",
    "  real Intercept;      // 切片\n",
    "  real b_temp;         // 係数(気温)\n",
    "  real b_sunny;        // 係数(晴れの影響)\n",
    "}\n",
    "\n",
    "model {\n",
    "  vector[N] lambda = exp(Intercept + b_temp*temp + b_sunny*sunny);\n",
    "  fish_num ~ poisson(lambda);\n",
    "}\n",
    "\n",
    "'''\n",
    "\n",
    "# モデルのコンパイル\n",
    "stan_model = pystan.StanModel(model_code=stan_code)\n",
    "\n",
    "# サンプリング\n",
    "glm_pois_stan_exp = stan_model.sampling(data=data_list_1, seed=2, n_jobs=1)"
   ]
  },
  {
   "cell_type": "markdown",
   "metadata": {},
   "source": [
    "## 結果の表示"
   ]
  },
  {
   "cell_type": "code",
   "execution_count": 12,
   "metadata": {
    "ExecuteTime": {
     "end_time": "2020-08-30T06:53:26.410657Z",
     "start_time": "2020-08-30T06:53:26.385697Z"
    }
   },
   "outputs": [
    {
     "name": "stdout",
     "output_type": "stream",
     "text": [
      "Inference for Stan model: anon_model_10b93b39bc827a53de74eb5431c131b8.\n",
      "4 chains, each with iter=2000; warmup=1000; thin=1; \n",
      "post-warmup draws per chain=1000, total post-warmup draws=4000.\n",
      "\n",
      "            mean se_mean     sd   2.5%    50%  97.5%  n_eff   Rhat\n",
      "Intercept  -0.79  6.0e-3   0.24   -1.3  -0.79  -0.35   1628    1.0\n",
      "b_temp      0.08  2.4e-4   0.01   0.06   0.08    0.1   1682    1.0\n",
      "b_sunny    -0.59  3.7e-3   0.17  -0.93  -0.59  -0.26   2089    1.0\n",
      "lp__      -37.73    0.03   1.22 -40.95 -37.41 -36.32   1412    1.0\n",
      "\n",
      "Samples were drawn using NUTS at Sun Aug 30 15:53:26 2020.\n",
      "For each parameter, n_eff is a crude measure of effective sample size,\n",
      "and Rhat is the potential scale reduction factor on split chains (at \n",
      "convergence, Rhat=1).\n"
     ]
    }
   ],
   "source": [
    "print(glm_pois_stan_exp.stansummary(probs=[0.025, 0.5, 0.975]))"
   ]
  },
  {
   "cell_type": "markdown",
   "metadata": {},
   "source": [
    "## 参考：poisson_log関数を使用"
   ]
  },
  {
   "cell_type": "code",
   "execution_count": 35,
   "metadata": {
    "ExecuteTime": {
     "end_time": "2020-08-30T13:55:15.986911Z",
     "start_time": "2020-08-30T13:54:19.037493Z"
    },
    "scrolled": true
   },
   "outputs": [
    {
     "name": "stderr",
     "output_type": "stream",
     "text": [
      "INFO:pystan:COMPILING THE C++ CODE FOR MODEL anon_model_6d78a2071bf51cbe1e42c5c01664ea40 NOW.\n"
     ]
    }
   ],
   "source": [
    "# stanコードの記述\n",
    "stan_code = '''\n",
    "data {\n",
    "  int N;                   // サンプルサイズ\n",
    "  int fish_num[N];         // 釣獲尾数\n",
    "  vector[N] temp;          // 気温データ\n",
    "  vector[N] sunny;         // 晴れダミー変数\n",
    "}\n",
    "\n",
    "parameters {\n",
    "  real Intercept;      // 切片\n",
    "  real b_temp;         // 係数(気温)\n",
    "  real b_sunny;        // 係数(晴れの影響)\n",
    "}\n",
    "\n",
    "model {\n",
    "  vector[N] lambda = Intercept + b_temp*temp + b_sunny*sunny;\n",
    "  fish_num ~ poisson_log(lambda);\n",
    "}\n",
    "\n",
    "generated quantities {\n",
    "    vector[N] lambda_sunny;\n",
    "    vector[N] lambda_cloudy;\n",
    "    vector[N] fish_num_sunny;\n",
    "    vector[N] fish_num_cloudy;\n",
    "    \n",
    "    for(i in 1:N){\n",
    "        lambda_sunny[i] = Intercept +  b_temp*temp[i] + b_sunny*1;\n",
    "        lambda_cloudy[i] = Intercept +  b_temp*temp[i] + b_sunny*0;\n",
    "        fish_num_sunny[i] = poisson_log_rng(lambda_sunny[i]);\n",
    "        fish_num_cloudy[i] = poisson_log_rng(lambda_cloudy[i]);\n",
    "    }\n",
    "}\n",
    "'''\n",
    "\n",
    "# モデルのコンパイル\n",
    "stan_model = pystan.StanModel(model_code=stan_code)\n",
    "\n",
    "# サンプリング\n",
    "glm_pois_stan = stan_model.sampling(data=data_list_1, n_jobs=1)"
   ]
  },
  {
   "cell_type": "markdown",
   "metadata": {},
   "source": [
    "## 参考：結果の表示"
   ]
  },
  {
   "cell_type": "code",
   "execution_count": 36,
   "metadata": {
    "ExecuteTime": {
     "end_time": "2020-08-30T14:06:17.343436Z",
     "start_time": "2020-08-30T14:06:15.805562Z"
    }
   },
   "outputs": [
    {
     "name": "stdout",
     "output_type": "stream",
     "text": [
      "Inference for Stan model: anon_model_6d78a2071bf51cbe1e42c5c01664ea40.\n",
      "4 chains, each with iter=2000; warmup=1000; thin=1; \n",
      "post-warmup draws per chain=1000, total post-warmup draws=4000.\n",
      "\n",
      "                        mean se_mean      sd   2.5%     50%  97.5%  n_eff   Rhat\n",
      "Intercept              -0.79  5.7e-3    0.24  -1.26   -0.79  -0.35   1694    1.0\n",
      "b_temp                  0.08  2.4e-4 10.0e-3   0.06    0.08    0.1   1768    1.0\n",
      "b_sunny                -0.59  3.9e-3    0.17  -0.94   -0.58  -0.25   2052    1.0\n",
      "lambda_sunny[1]        -0.92  4.6e-3    0.21  -1.35   -0.92  -0.53   2030    1.0\n",
      "lambda_sunny[2]         0.37  2.9e-3    0.14   0.08    0.37   0.63   2484    1.0\n",
      "lambda_sunny[3]         0.04  3.0e-3    0.15  -0.25    0.05   0.31   2408    1.0\n",
      "lambda_sunny[4]        -0.97  4.7e-3    0.21   -1.4   -0.96  -0.56   2020    1.0\n",
      "lambda_sunny[5]         0.96  3.4e-3    0.16   0.63    0.97   1.26   2296    1.0\n",
      "lambda_sunny[6]         0.96  3.4e-3    0.16   0.63    0.97   1.26   2296    1.0\n",
      "lambda_sunny[7]        -1.06  4.9e-3    0.22  -1.51   -1.05  -0.64   2000    1.0\n",
      "lambda_sunny[8]         0.69  3.0e-3    0.15   0.38    0.69   0.96   2426    1.0\n",
      "lambda_sunny[9]        -0.22  3.3e-3    0.16  -0.54   -0.22   0.07   2289    1.0\n",
      "lambda_sunny[10]       -0.01  3.0e-3    0.15  -0.32   -0.01   0.26   2384    1.0\n",
      "lambda_sunny[11]     -5.1e-3  3.0e-3    0.15  -0.31 -3.9e-3   0.27   2387    1.0\n",
      "lambda_sunny[12]       -0.78  4.3e-3     0.2  -1.18   -0.78  -0.41   2068    1.0\n",
      "lambda_sunny[13]        0.51  2.9e-3    0.14   0.22    0.51   0.78   2476    1.0\n",
      "lambda_sunny[14]       -0.93  4.6e-3    0.21  -1.36   -0.93  -0.54   2028    1.0\n",
      "lambda_sunny[15]       -0.37  3.5e-3    0.17  -0.71   -0.37  -0.06   2221    1.0\n",
      "lambda_sunny[16]        0.74  3.1e-3    0.15   0.43    0.75   1.02   2404    1.0\n",
      "lambda_sunny[17]        1.05  3.5e-3    0.17   0.71    1.05   1.35   2256    1.0\n",
      "lambda_sunny[18]       -0.82  4.4e-3     0.2  -1.22   -0.81  -0.44   2059    1.0\n",
      "lambda_sunny[19]       -0.28  3.4e-3    0.16   -0.6   -0.28   0.02   2262    1.0\n",
      "lambda_sunny[20]        -1.2  5.3e-3    0.23  -1.67   -1.19  -0.75   1972    1.0\n",
      "lambda_sunny[21]        0.27  2.9e-3    0.14  -0.02    0.27   0.53   2474    1.0\n",
      "lambda_sunny[22]       -0.42  3.6e-3    0.17  -0.76   -0.42  -0.11   2200    1.0\n",
      "lambda_sunny[23]         0.7  3.0e-3    0.15   0.39     0.7   0.97   2423    1.0\n",
      "lambda_sunny[24]       -1.01  4.8e-3    0.22  -1.45    -1.0   -0.6   2011    1.0\n",
      "lambda_sunny[25]       -0.52  3.8e-3    0.18  -0.88   -0.52  -0.19   2159    1.0\n",
      "lambda_sunny[26]       -0.16  3.2e-3    0.15  -0.47   -0.16   0.12   2316    1.0\n",
      "lambda_sunny[27]       -1.01  4.8e-3    0.22  -1.45    -1.0   -0.6   2011    1.0\n",
      "lambda_sunny[28]       -0.49  3.7e-3    0.17  -0.85   -0.49  -0.17   2169    1.0\n",
      "lambda_sunny[29]        1.01  3.4e-3    0.16   0.67    1.02   1.32   2272    1.0\n",
      "lambda_sunny[30]       -1.05  4.9e-3    0.22   -1.5   -1.04  -0.63   2001    1.0\n",
      "lambda_sunny[31]       -1.35  5.6e-3    0.25  -1.86   -1.35  -0.88   1947    1.0\n",
      "lambda_sunny[32]       -0.97  4.7e-3    0.21  -1.41   -0.97  -0.57   2018    1.0\n",
      "lambda_sunny[33]        0.63  3.0e-3    0.15   0.33    0.64   0.91   2449    1.0\n",
      "lambda_sunny[34]        0.78  3.1e-3    0.15   0.47    0.79   1.07   2385    1.0\n",
      "lambda_sunny[35]        -0.1  3.1e-3    0.15  -0.41    -0.1   0.17   2343    1.0\n",
      "lambda_sunny[36]        0.18  2.9e-3    0.14  -0.11    0.18   0.44   2453    1.0\n",
      "lambda_sunny[37]        0.72  3.0e-3    0.15    0.4    0.72   0.99   2415    1.0\n",
      "lambda_sunny[38]       -0.68  4.1e-3    0.19  -1.06   -0.67  -0.33   2102    1.0\n",
      "lambda_sunny[39]        0.28  2.9e-3    0.14  -0.01    0.28   0.54   2475    1.0\n",
      "lambda_sunny[40]       -1.01  4.8e-3    0.22  -1.45    -1.0   -0.6   2011    1.0\n",
      "lambda_sunny[41]        1.06  3.5e-3    0.17   0.72    1.07   1.37   2249    1.0\n",
      "lambda_sunny[42]       -0.64  4.0e-3    0.18  -1.02   -0.64   -0.3   2113    1.0\n",
      "lambda_sunny[43]       -1.09  5.0e-3    0.22  -1.54   -1.08  -0.67   1993    1.0\n",
      "lambda_sunny[44]       -0.97  4.7e-3    0.21  -1.41   -0.97  -0.57   2018    1.0\n",
      "lambda_sunny[45]        0.96  3.4e-3    0.16   0.63    0.97   1.26   2296    1.0\n",
      "lambda_sunny[46]        0.59  2.9e-3    0.15    0.3     0.6   0.86   2460    1.0\n",
      "lambda_sunny[47]        1.04  3.5e-3    0.17    0.7    1.04   1.35   2260    1.0\n",
      "lambda_sunny[48]       -0.51  3.8e-3    0.18  -0.87   -0.51  -0.19   2162    1.0\n",
      "lambda_sunny[49]       -0.13  3.2e-3    0.15  -0.44   -0.13   0.15   2332    1.0\n",
      "lambda_sunny[50]        0.63  3.0e-3    0.15   0.33    0.64   0.91   2449    1.0\n",
      "lambda_sunny[51]       -1.36  5.7e-3    0.25  -1.87   -1.36  -0.89   1946    1.0\n",
      "lambda_sunny[52]       -1.35  5.6e-3    0.25  -1.85   -1.34  -0.88   1948    1.0\n",
      "lambda_sunny[53]        0.32  2.9e-3    0.14   0.03    0.32   0.58   2480    1.0\n",
      "lambda_sunny[54]        0.93  3.3e-3    0.16    0.6    0.94   1.23   2312    1.0\n",
      "lambda_sunny[55]       -0.69  4.1e-3    0.19  -1.08   -0.69  -0.34   2097    1.0\n",
      "lambda_sunny[56]        0.64  3.0e-3    0.15   0.34    0.65   0.92   2447    1.0\n",
      "lambda_sunny[57]        0.57  2.9e-3    0.14   0.28    0.58   0.84   2464    1.0\n",
      "lambda_sunny[58]        1.08  3.5e-3    0.17   0.73    1.09   1.39   2241    1.0\n",
      "lambda_sunny[59]        0.14  2.9e-3    0.14  -0.15    0.15   0.41   2443    1.0\n",
      "lambda_sunny[60]        0.38  2.9e-3    0.14   0.09    0.39   0.65   2485    1.0\n",
      "lambda_sunny[61]        0.53  2.9e-3    0.14   0.24    0.54    0.8   2472    1.0\n",
      "lambda_sunny[62]        0.82  3.2e-3    0.15    0.5    0.83   1.11   2365    1.0\n",
      "lambda_sunny[63]        0.18  2.9e-3    0.14  -0.11    0.18   0.44   2453    1.0\n",
      "lambda_sunny[64]       -0.73  4.2e-3    0.19  -1.12   -0.73  -0.37   2083    1.0\n",
      "lambda_sunny[65]        0.76  3.1e-3    0.15   0.44    0.76   1.04   2397    1.0\n",
      "lambda_sunny[66]       -0.29  3.4e-3    0.16  -0.62   -0.29 4.3e-3   2255    1.0\n",
      "lambda_sunny[67]       -0.42  3.6e-3    0.17  -0.76   -0.42  -0.11   2200    1.0\n",
      "lambda_sunny[68]       -0.24  3.3e-3    0.16  -0.55   -0.24   0.06   2281    1.0\n",
      "lambda_sunny[69]       -0.83  4.4e-3     0.2  -1.24   -0.83  -0.45   2054    1.0\n",
      "lambda_sunny[70]       -1.21  5.3e-3    0.24  -1.69   -1.21  -0.77   1970    1.0\n",
      "lambda_sunny[71]       -0.69  4.1e-3    0.19  -1.08   -0.69  -0.34   2097    1.0\n",
      "lambda_sunny[72]       -0.61  4.0e-3    0.18  -0.98   -0.61  -0.27   2125    1.0\n",
      "lambda_sunny[73]       -1.27  5.4e-3    0.24  -1.76   -1.26  -0.81   1960    1.0\n",
      "lambda_sunny[74]       -0.92  4.6e-3    0.21  -1.35   -0.92  -0.53   2030    1.0\n",
      "lambda_sunny[75]       -0.92  4.6e-3    0.21  -1.35   -0.92  -0.53   2030    1.0\n",
      "lambda_sunny[76]         0.5  2.9e-3    0.14   0.21    0.51   0.77   2477    1.0\n",
      "lambda_sunny[77]       -0.67  4.1e-3    0.19  -1.05   -0.66  -0.32   2105    1.0\n",
      "lambda_sunny[78]        0.77  3.1e-3    0.15   0.46    0.78   1.06   2389    1.0\n",
      "lambda_sunny[79]       -0.38  3.5e-3    0.17  -0.72   -0.38  -0.07   2217    1.0\n",
      "lambda_sunny[80]        0.04  3.0e-3    0.15  -0.25    0.05   0.31   2408    1.0\n",
      "lambda_sunny[81]       -0.51  3.8e-3    0.18  -0.87   -0.51  -0.19   2162    1.0\n",
      "lambda_sunny[82]        0.29  2.9e-3    0.14 5.5e-3     0.3   0.55   2477    1.0\n",
      "lambda_sunny[83]       -1.31  5.5e-3    0.24  -1.81   -1.31  -0.85   1953    1.0\n",
      "lambda_sunny[84]       -0.39  3.5e-3    0.17  -0.73   -0.38  -0.08   2214    1.0\n",
      "lambda_sunny[85]       -0.88  4.5e-3     0.2   -1.3   -0.88  -0.49   2041    1.0\n",
      "lambda_sunny[86]        0.75  3.1e-3    0.15   0.43    0.75   1.03   2400    1.0\n",
      "lambda_sunny[87]        1.03  3.5e-3    0.16   0.69    1.04   1.34   2264    1.0\n",
      "lambda_sunny[88]       -0.58  3.9e-3    0.18  -0.94   -0.57  -0.24   2137    1.0\n",
      "lambda_sunny[89]        0.44  2.9e-3    0.14   0.15    0.45    0.7   2483    1.0\n",
      "lambda_sunny[90]       -0.53  3.8e-3    0.18   -0.9   -0.53  -0.21   2153    1.0\n",
      "lambda_sunny[91]        1.05  3.5e-3    0.17   0.71    1.05   1.35   2256    1.0\n",
      "lambda_sunny[92]       -0.39  3.6e-3    0.17  -0.74   -0.39  -0.08   2210    1.0\n",
      "lambda_sunny[93]       -0.44  3.6e-3    0.17  -0.78   -0.43  -0.12   2193    1.0\n",
      "lambda_sunny[94]        0.01  3.0e-3    0.15  -0.29    0.01   0.28   2394    1.0\n",
      "lambda_sunny[95]       -0.23  3.3e-3    0.16  -0.54   -0.23   0.06   2285    1.0\n",
      "lambda_sunny[96]       -0.89  4.6e-3    0.21  -1.31   -0.89   -0.5   2039    1.0\n",
      "lambda_sunny[97]       -0.32  3.4e-3    0.16  -0.65   -0.32  -0.02   2243    1.0\n",
      "lambda_sunny[98]       -1.15  5.1e-3    0.23  -1.61   -1.14  -0.71   1982    1.0\n",
      "lambda_sunny[99]       -1.09  5.0e-3    0.22  -1.54   -1.08  -0.67   1993    1.0\n",
      "lambda_sunny[100]      -0.29  3.4e-3    0.16  -0.61   -0.29   0.01   2258    1.0\n",
      "lambda_cloudy[1]       -0.34  4.5e-3    0.19  -0.71   -0.33   0.01   1735    1.0\n",
      "lambda_cloudy[2]        0.95  1.8e-3     0.1   0.75    0.95   1.15   3039    1.0\n",
      "lambda_cloudy[3]        0.63  2.2e-3    0.11   0.41    0.63   0.84   2380    1.0\n",
      "lambda_cloudy[4]       -0.38  4.6e-3    0.19  -0.76   -0.37  -0.02   1729    1.0\n",
      "lambda_cloudy[5]        1.55  2.2e-3    0.12   1.31    1.55   1.79   3149    1.0\n",
      "lambda_cloudy[6]        1.55  2.2e-3    0.12   1.31    1.55   1.79   3149    1.0\n",
      "lambda_cloudy[7]       -0.47  4.9e-3     0.2  -0.87   -0.47  -0.09   1718    1.0\n",
      "lambda_cloudy[8]        1.28  1.8e-3    0.11   1.07    1.28   1.48   3391    1.0\n",
      "lambda_cloudy[9]        0.37  2.8e-3    0.12   0.12    0.37    0.6   2043    1.0\n",
      "lambda_cloudy[10]       0.57  2.3e-3    0.11   0.35    0.57   0.79   2289    1.0\n",
      "lambda_cloudy[11]       0.58  2.3e-3    0.11   0.36    0.58   0.79   2301    1.0\n",
      "lambda_cloudy[12]       -0.2  4.1e-3    0.17  -0.54   -0.19   0.13   1761    1.0\n",
      "lambda_cloudy[13]       1.09  1.8e-3     0.1    0.9     1.1   1.29   3287    1.0\n",
      "lambda_cloudy[14]      -0.35  4.5e-3    0.19  -0.72   -0.34 6.8e-3   1734    1.0\n",
      "lambda_cloudy[15]       0.22  3.1e-3    0.14  -0.05    0.22   0.48   1925    1.0\n",
      "lambda_cloudy[16]       1.33  1.9e-3    0.11   1.12    1.33   1.53   3374    1.0\n",
      "lambda_cloudy[17]       1.63  2.3e-3    0.13   1.39    1.63   1.88   3042    1.0\n",
      "lambda_cloudy[18]      -0.23  4.2e-3    0.18  -0.58   -0.23    0.1   1754    1.0\n",
      "lambda_cloudy[19]       0.31  2.9e-3    0.13   0.05    0.31   0.55   1991    1.0\n",
      "lambda_cloudy[20]      -0.61  5.2e-3    0.22  -1.04   -0.61   -0.2   1705    1.0\n",
      "lambda_cloudy[21]       0.85  1.9e-3     0.1   0.65    0.85   1.05   2823    1.0\n",
      "lambda_cloudy[22]       0.17  3.2e-3    0.14  -0.11    0.17   0.43   1894    1.0\n",
      "lambda_cloudy[23]       1.29  1.8e-3    0.11   1.08    1.29   1.49   3390    1.0\n",
      "lambda_cloudy[24]      -0.42  4.7e-3     0.2  -0.81   -0.42  -0.05   1724    1.0\n",
      "lambda_cloudy[25]       0.07  3.5e-3    0.15  -0.23    0.07   0.35   1845    1.0\n",
      "lambda_cloudy[26]       0.42  2.6e-3    0.12   0.18    0.43   0.65   2103    1.0\n",
      "lambda_cloudy[27]      -0.42  4.7e-3     0.2  -0.81   -0.42  -0.05   1724    1.0\n",
      "lambda_cloudy[28]       0.09  3.4e-3    0.15   -0.2     0.1   0.37   1856    1.0\n",
      "lambda_cloudy[29]        1.6  2.2e-3    0.12   1.36     1.6   1.84   3085    1.0\n",
      "lambda_cloudy[30]      -0.46  4.8e-3     0.2  -0.86   -0.46  -0.08   1719    1.0\n",
      "lambda_cloudy[31]      -0.77  5.7e-3    0.23  -1.23   -0.76  -0.32   1695    1.0\n",
      "lambda_cloudy[32]      -0.39  4.6e-3    0.19  -0.77   -0.38  -0.03   1728    1.0\n",
      "lambda_cloudy[33]       1.22  1.8e-3     0.1   1.01    1.22   1.42   3388    1.0\n",
      "lambda_cloudy[34]       1.37  1.9e-3    0.11   1.15    1.37   1.58   3347    1.0\n",
      "lambda_cloudy[35]       0.48  2.5e-3    0.12   0.25    0.48    0.7   2168    1.0\n",
      "lambda_cloudy[36]       0.76  2.0e-3     0.1   0.55    0.76   0.96   2628    1.0\n",
      "lambda_cloudy[37]        1.3  1.8e-3    0.11   1.09     1.3   1.51   3385    1.0\n",
      "lambda_cloudy[38]      -0.09  3.9e-3    0.16  -0.41   -0.09   0.21   1788    1.0\n",
      "lambda_cloudy[39]       0.86  1.9e-3     0.1   0.66    0.86   1.06   2841    1.0\n",
      "lambda_cloudy[40]      -0.42  4.7e-3     0.2  -0.81   -0.42  -0.05   1724    1.0\n",
      "lambda_cloudy[41]       1.65  2.3e-3    0.13    1.4    1.65    1.9   3021    1.0\n",
      "lambda_cloudy[42]      -0.06  3.8e-3    0.16  -0.37   -0.05   0.24   1798    1.0\n",
      "lambda_cloudy[43]       -0.5  5.0e-3    0.21  -0.91    -0.5  -0.12   1714    1.0\n",
      "lambda_cloudy[44]      -0.39  4.6e-3    0.19  -0.77   -0.38  -0.03   1728    1.0\n",
      "lambda_cloudy[45]       1.55  2.2e-3    0.12   1.31    1.55   1.79   3149    1.0\n",
      "lambda_cloudy[46]       1.18  1.8e-3     0.1   0.97    1.18   1.38   3369    1.0\n",
      "lambda_cloudy[47]       1.62  2.3e-3    0.13   1.38    1.63   1.87   3053    1.0\n",
      "lambda_cloudy[48]       0.08  3.4e-3    0.15  -0.22    0.08   0.35   1848    1.0\n",
      "lambda_cloudy[49]       0.46  2.6e-3    0.12   0.22    0.46   0.68   2139    1.0\n",
      "lambda_cloudy[50]       1.22  1.8e-3     0.1   1.01    1.22   1.42   3388    1.0\n",
      "lambda_cloudy[51]      -0.78  5.7e-3    0.23  -1.24   -0.77  -0.33   1694    1.0\n",
      "lambda_cloudy[52]      -0.76  5.7e-3    0.23  -1.22   -0.76  -0.32   1695    1.0\n",
      "lambda_cloudy[53]        0.9  1.9e-3     0.1    0.7     0.9    1.1   2933    1.0\n",
      "lambda_cloudy[54]       1.52  2.1e-3    0.12   1.28    1.52   1.74   3191    1.0\n",
      "lambda_cloudy[55]      -0.11  3.9e-3    0.17  -0.43    -0.1    0.2   1784    1.0\n",
      "lambda_cloudy[56]       1.23  1.8e-3     0.1   1.02    1.23   1.43   3391    1.0\n",
      "lambda_cloudy[57]       1.16  1.8e-3     0.1   0.96    1.16   1.36   3357    1.0\n",
      "lambda_cloudy[58]       1.67  2.4e-3    0.13   1.41    1.67   1.92   3000    1.0\n",
      "lambda_cloudy[59]       0.73  2.1e-3     0.1   0.52    0.73   0.93   2561    1.0\n",
      "lambda_cloudy[60]       0.97  1.8e-3     0.1   0.77    0.97   1.17   3073    1.0\n",
      "lambda_cloudy[61]       1.12  1.8e-3     0.1   0.92    1.12   1.32   3318    1.0\n",
      "lambda_cloudy[62]       1.41  2.0e-3    0.11   1.19    1.41   1.63   3311    1.0\n",
      "lambda_cloudy[63]       0.76  2.0e-3     0.1   0.55    0.76   0.96   2628    1.0\n",
      "lambda_cloudy[64]      -0.15  4.0e-3    0.17  -0.48   -0.14   0.17   1773    1.0\n",
      "lambda_cloudy[65]       1.34  1.9e-3    0.11   1.13    1.35   1.55   3364    1.0\n",
      "lambda_cloudy[66]       0.29  2.9e-3    0.13   0.03    0.29   0.54   1978    1.0\n",
      "lambda_cloudy[67]       0.17  3.2e-3    0.14  -0.11    0.17   0.43   1894    1.0\n",
      "lambda_cloudy[68]       0.35  2.8e-3    0.13    0.1    0.35   0.59   2028    1.0\n",
      "lambda_cloudy[69]      -0.25  4.3e-3    0.18   -0.6   -0.24   0.09   1751    1.0\n",
      "lambda_cloudy[70]      -0.63  5.3e-3    0.22  -1.06   -0.62  -0.21   1704    1.0\n",
      "lambda_cloudy[71]      -0.11  3.9e-3    0.17  -0.43    -0.1    0.2   1784    1.0\n",
      "lambda_cloudy[72]      -0.02  3.7e-3    0.16  -0.33   -0.02   0.27   1809    1.0\n",
      "lambda_cloudy[73]      -0.69  5.4e-3    0.22  -1.13   -0.68  -0.26   1700    1.0\n",
      "lambda_cloudy[74]      -0.34  4.5e-3    0.19  -0.71   -0.33   0.01   1735    1.0\n",
      "lambda_cloudy[75]      -0.34  4.5e-3    0.19  -0.71   -0.33   0.01   1735    1.0\n",
      "lambda_cloudy[76]       1.09  1.8e-3     0.1   0.89    1.09   1.28   3276    1.0\n",
      "lambda_cloudy[77]      -0.08  3.8e-3    0.16   -0.4   -0.08   0.22   1791    1.0\n",
      "lambda_cloudy[78]       1.36  1.9e-3    0.11   1.15    1.36   1.57   3353    1.0\n",
      "lambda_cloudy[79]       0.21  3.1e-3    0.14  -0.06    0.21   0.47   1919    1.0\n",
      "lambda_cloudy[80]       0.63  2.2e-3    0.11   0.41    0.63   0.84   2380    1.0\n",
      "lambda_cloudy[81]       0.08  3.4e-3    0.15  -0.22    0.08   0.35   1848    1.0\n",
      "lambda_cloudy[82]       0.88  1.9e-3     0.1   0.67    0.88   1.07   2878    1.0\n",
      "lambda_cloudy[83]      -0.73  5.6e-3    0.23  -1.18   -0.72  -0.29   1697    1.0\n",
      "lambda_cloudy[84]        0.2  3.1e-3    0.14  -0.07     0.2   0.46   1914    1.0\n",
      "lambda_cloudy[85]       -0.3  4.4e-3    0.18  -0.66   -0.29   0.05   1742    1.0\n",
      "lambda_cloudy[86]       1.33  1.9e-3    0.11   1.12    1.34   1.54   3369    1.0\n",
      "lambda_cloudy[87]       1.62  2.3e-3    0.13   1.37    1.62   1.86   3064    1.0\n",
      "lambda_cloudy[88]       0.01  3.6e-3    0.15  -0.29    0.01    0.3   1821    1.0\n",
      "lambda_cloudy[89]       1.03  1.8e-3     0.1   0.83    1.03   1.22   3184    1.0\n",
      "lambda_cloudy[90]       0.05  3.5e-3    0.15  -0.25    0.06   0.33   1838    1.0\n",
      "lambda_cloudy[91]       1.63  2.3e-3    0.13   1.39    1.63   1.88   3042    1.0\n",
      "lambda_cloudy[92]       0.19  3.2e-3    0.14  -0.08     0.2   0.45   1909    1.0\n",
      "lambda_cloudy[93]       0.15  3.3e-3    0.14  -0.13    0.15   0.42   1885    1.0\n",
      "lambda_cloudy[94]        0.6  2.3e-3    0.11   0.38     0.6   0.81   2326    1.0\n",
      "lambda_cloudy[95]       0.36  2.8e-3    0.13   0.11    0.36   0.59   2035    1.0\n",
      "lambda_cloudy[96]       -0.3  4.4e-3    0.18  -0.67    -0.3   0.04   1740    1.0\n",
      "lambda_cloudy[97]       0.27  3.0e-3    0.13 2.7e-3    0.27   0.52   1959    1.0\n",
      "lambda_cloudy[98]      -0.56  5.1e-3    0.21  -0.98   -0.56  -0.16   1709    1.0\n",
      "lambda_cloudy[99]       -0.5  5.0e-3    0.21  -0.91    -0.5  -0.12   1714    1.0\n",
      "lambda_cloudy[100]       0.3  2.9e-3    0.13   0.04     0.3   0.54   1985    1.0\n",
      "fish_num_sunny[1]        0.4 10.0e-3    0.64    0.0     0.0    2.0   4088    1.0\n",
      "fish_num_sunny[2]       1.47    0.02    1.23    0.0     1.0    4.0   3691    1.0\n",
      "fish_num_sunny[3]       1.08    0.02    1.04    0.0     1.0    3.0   3813    1.0\n",
      "fish_num_sunny[4]        0.4    0.01    0.64    0.0     0.0    2.0   3727    1.0\n",
      "fish_num_sunny[5]        2.6    0.03    1.67    0.0     2.0    6.0   3906    1.0\n",
      "fish_num_sunny[6]       2.67    0.03     1.7    0.0     2.0    6.0   3796    1.0\n",
      "fish_num_sunny[7]       0.36  9.8e-3    0.62    0.0     0.0    2.0   4043    1.0\n",
      "fish_num_sunny[8]       2.01    0.02    1.44    0.0     2.0    5.0   3576    1.0\n",
      "fish_num_sunny[9]        0.8    0.01    0.91    0.0     1.0    3.0   3785    1.0\n",
      "fish_num_sunny[10]       1.0    0.02    1.01    0.0     1.0    3.0   3925    1.0\n",
      "fish_num_sunny[11]      1.03    0.02    1.03    0.0     1.0    3.0   4026    1.0\n",
      "fish_num_sunny[12]      0.48    0.01    0.71    0.0     0.0    2.0   4154    1.0\n",
      "fish_num_sunny[13]      1.69    0.02    1.31    0.0     2.0    5.0   3656    1.0\n",
      "fish_num_sunny[14]       0.4    0.01    0.64    0.0     0.0    2.0   3934    1.0\n",
      "fish_num_sunny[15]       0.7    0.01    0.84    0.0     0.0    3.0   3928    1.0\n",
      "fish_num_sunny[16]      2.12    0.02    1.47    0.0     2.0    5.0   3828    1.0\n",
      "fish_num_sunny[17]      2.89    0.03    1.78    0.0     3.0    7.0   3973    1.0\n",
      "fish_num_sunny[18]      0.47    0.01     0.7    0.0     0.0    2.0   3482    1.0\n",
      "fish_num_sunny[19]      0.78    0.02    0.88    0.0     1.0    3.0   3458    1.0\n",
      "fish_num_sunny[20]       0.3  8.6e-3    0.56    0.0     0.0    2.0   4129    1.0\n",
      "fish_num_sunny[21]      1.34    0.02    1.17    0.0     1.0    4.0   4011    1.0\n",
      "fish_num_sunny[22]      0.67    0.01    0.82    0.0     0.0    3.0   3909    1.0\n",
      "fish_num_sunny[23]      2.07    0.02    1.47    0.0     2.0    5.0   3887    1.0\n",
      "fish_num_sunny[24]      0.38    0.01    0.61    0.0     0.0    2.0   3537    1.0\n",
      "fish_num_sunny[25]      0.62    0.01    0.79    0.0     0.0    2.0   3810    1.0\n",
      "fish_num_sunny[26]      0.87    0.01    0.94    0.0     1.0    3.0   3965    1.0\n",
      "fish_num_sunny[27]      0.37  9.9e-3    0.61    0.0     0.0    2.0   3741    1.0\n",
      "fish_num_sunny[28]      0.59    0.01    0.77    0.0     0.0    2.0   3845    1.0\n",
      "fish_num_sunny[29]      2.78    0.03     1.7    0.0     3.0    7.0   4008    1.0\n",
      "fish_num_sunny[30]      0.35  9.8e-3     0.6    0.0     0.0    2.0   3777    1.0\n",
      "fish_num_sunny[31]      0.27  8.1e-3    0.52    0.0     0.0    2.0   4154    1.0\n",
      "fish_num_sunny[32]      0.37    0.01    0.62    0.0     0.0    2.0   3769    1.0\n",
      "fish_num_sunny[33]      1.89    0.02    1.42    0.0     2.0    5.0   4040    1.0\n",
      "fish_num_sunny[34]      2.21    0.02    1.51    0.0     2.0    6.0   4019    1.0\n",
      "fish_num_sunny[35]      0.91    0.02    0.96    0.0     1.0    3.0   4077    1.0\n",
      "fish_num_sunny[36]      1.18    0.02     1.1    0.0     1.0    4.0   4095    1.0\n",
      "fish_num_sunny[37]      2.06    0.02    1.47    0.0     2.0    5.0   3687    1.0\n",
      "fish_num_sunny[38]      0.52    0.01    0.73    0.0     0.0    2.0   3764    1.0\n",
      "fish_num_sunny[39]      1.32    0.02    1.17    0.0     1.0    4.0   4060    1.0\n",
      "fish_num_sunny[40]      0.38    0.01    0.64    0.0     0.0    2.0   3592    1.0\n",
      "fish_num_sunny[41]      2.85    0.03    1.77    0.0     3.0    7.0   3651    1.0\n",
      "fish_num_sunny[42]      0.51    0.01    0.73    0.0     0.0    2.0   4058    1.0\n",
      "fish_num_sunny[43]      0.35  9.7e-3     0.6    0.0     0.0    2.0   3876    1.0\n",
      "fish_num_sunny[44]      0.39    0.01    0.63    0.0     0.0    2.0   3951    1.0\n",
      "fish_num_sunny[45]      2.65    0.03     1.7    0.0     2.0    7.0   3703    1.0\n",
      "fish_num_sunny[46]      1.85    0.02     1.4    0.0     2.0    5.0   3831    1.0\n",
      "fish_num_sunny[47]      2.88    0.03    1.79    0.0     3.0    7.0   3740    1.0\n",
      "fish_num_sunny[48]      0.61    0.01     0.8    0.0     0.0    3.0   3883    1.0\n",
      "fish_num_sunny[49]       0.9    0.02    0.98    0.0     1.0    3.0   3690    1.0\n",
      "fish_num_sunny[50]      1.89    0.02    1.42    0.0     2.0    5.0   3763    1.0\n",
      "fish_num_sunny[51]      0.25  7.9e-3     0.5    0.0     0.0    2.0   3987    1.0\n",
      "fish_num_sunny[52]      0.27  8.4e-3    0.52    0.0     0.0    2.0   3795    1.0\n",
      "fish_num_sunny[53]      1.39    0.02     1.2    0.0     1.0    4.0   3711    1.0\n",
      "fish_num_sunny[54]      2.59    0.03    1.62    0.0     2.0    6.0   3680    1.0\n",
      "fish_num_sunny[55]      0.54    0.01    0.75    0.0     0.0    2.0   4189    1.0\n",
      "fish_num_sunny[56]      1.92    0.02    1.41    0.0     2.0    5.0   3918    1.0\n",
      "fish_num_sunny[57]       1.8    0.02    1.37    0.0     2.0    5.0   3933    1.0\n",
      "fish_num_sunny[58]      2.99    0.03    1.81    0.0     3.0    7.0   3924    1.0\n",
      "fish_num_sunny[59]      1.18    0.02    1.08    0.0     1.0    4.0   3532    1.0\n",
      "fish_num_sunny[60]      1.48    0.02    1.26    0.0     1.0    4.0   4068    1.0\n",
      "fish_num_sunny[61]      1.76    0.02    1.33    0.0     2.0    5.0   4082    1.0\n",
      "fish_num_sunny[62]      2.31    0.02    1.56    0.0     2.0    6.0   3930    1.0\n",
      "fish_num_sunny[63]      1.17    0.02    1.11    0.0     1.0    4.0   3659    1.0\n",
      "fish_num_sunny[64]      0.47    0.01    0.68    0.0     0.0    2.0   3624    1.0\n",
      "fish_num_sunny[65]      2.18    0.02    1.49    0.0     2.0    6.0   3893    1.0\n",
      "fish_num_sunny[66]      0.75    0.01    0.86    0.0     1.0    3.0   3790    1.0\n",
      "fish_num_sunny[67]      0.66    0.01    0.83    0.0     0.0    3.0   3948    1.0\n",
      "fish_num_sunny[68]      0.82    0.01     0.9    0.0     1.0    3.0   3927    1.0\n",
      "fish_num_sunny[69]      0.44    0.01    0.67    0.0     0.0    2.0   3834    1.0\n",
      "fish_num_sunny[70]      0.31  9.0e-3    0.56    0.0     0.0    2.0   3812    1.0\n",
      "fish_num_sunny[71]      0.53    0.01    0.75    0.0     0.0    2.0   3929    1.0\n",
      "fish_num_sunny[72]      0.57    0.01    0.77    0.0     0.0    2.0   4273    1.0\n",
      "fish_num_sunny[73]      0.29  9.1e-3    0.53    0.0     0.0    2.0   3446    1.0\n",
      "fish_num_sunny[74]      0.43    0.01    0.65    0.0     0.0    2.0   3815    1.0\n",
      "fish_num_sunny[75]       0.4    0.01    0.65    0.0     0.0    2.0   3880    1.0\n",
      "fish_num_sunny[76]      1.68    0.02    1.31    0.0     1.0    5.0   3713    1.0\n",
      "fish_num_sunny[77]      0.51    0.01    0.72    0.0     0.0    2.0   3517    1.0\n",
      "fish_num_sunny[78]      2.21    0.03    1.53    0.0     2.0    6.0   3550    1.0\n",
      "fish_num_sunny[79]      0.71    0.01    0.85    0.0     1.0    3.0   3803    1.0\n",
      "fish_num_sunny[80]      1.03    0.02    1.02    0.0     1.0    3.0   3971    1.0\n",
      "fish_num_sunny[81]      0.63    0.01    0.81    0.0     0.0    3.0   3895    1.0\n",
      "fish_num_sunny[82]      1.35    0.02    1.18    0.0     1.0    4.0   3978    1.0\n",
      "fish_num_sunny[83]      0.28  8.3e-3    0.53    0.0     0.0    2.0   4006    1.0\n",
      "fish_num_sunny[84]      0.69    0.01    0.83    0.0     1.0    3.0   3752    1.0\n",
      "fish_num_sunny[85]      0.41    0.01    0.65    0.0     0.0    2.0   3972    1.0\n",
      "fish_num_sunny[86]      2.11    0.02    1.49    0.0     2.0    5.0   3839    1.0\n",
      "fish_num_sunny[87]      2.84    0.03    1.76    0.0     3.0    7.0   3382    1.0\n",
      "fish_num_sunny[88]      0.56    0.01    0.76    0.0     0.0    2.0   3704    1.0\n",
      "fish_num_sunny[89]      1.58    0.02    1.26    0.0     1.0    4.0   3967    1.0\n",
      "fish_num_sunny[90]      0.62    0.01     0.8    0.0     0.0    2.0   3653    1.0\n",
      "fish_num_sunny[91]      2.86    0.03    1.78    0.0     3.0    7.0   3679    1.0\n",
      "fish_num_sunny[92]      0.69    0.01    0.85    0.0     0.0    3.0   3865    1.0\n",
      "fish_num_sunny[93]      0.64    0.01    0.81    0.0     0.0    3.0   4054    1.0\n",
      "fish_num_sunny[94]      1.04    0.02    1.03    0.0     1.0    3.0   3913    1.0\n",
      "fish_num_sunny[95]      0.78    0.01    0.88    0.0     1.0    3.0   3670    1.0\n",
      "fish_num_sunny[96]      0.42    0.01    0.65    0.0     0.0    2.0   3934    1.0\n",
      "fish_num_sunny[97]      0.74    0.01    0.86    0.0     1.0    3.0   3495    1.0\n",
      "fish_num_sunny[98]      0.32  8.8e-3    0.57    0.0     0.0    2.0   4147    1.0\n",
      "fish_num_sunny[99]      0.32  8.9e-3    0.57    0.0     0.0    2.0   4026    1.0\n",
      "fish_num_sunny[100]     0.76    0.01    0.89    0.0     1.0    3.0   3772    1.0\n",
      "fish_num_cloudy[1]      0.72    0.01    0.85    0.0     1.0    3.0   3855    1.0\n",
      "fish_num_cloudy[2]      2.63    0.03    1.67    0.0     2.0    6.0   4008    1.0\n",
      "fish_num_cloudy[3]      1.88    0.02    1.39    0.0     2.0    5.0   3323    1.0\n",
      "fish_num_cloudy[4]       0.7    0.01    0.86    0.0     0.0    3.0   4027    1.0\n",
      "fish_num_cloudy[5]      4.72    0.04    2.23    1.0     5.0    9.0   3899    1.0\n",
      "fish_num_cloudy[6]      4.76    0.04    2.27    1.0     5.0   10.0   3750    1.0\n",
      "fish_num_cloudy[7]      0.62    0.01     0.8    0.0     0.0    2.0   3815    1.0\n",
      "fish_num_cloudy[8]      3.63    0.03    1.92    0.0     3.0    8.0   3548    1.0\n",
      "fish_num_cloudy[9]      1.47    0.02    1.22    0.0     1.0    4.0   3338    1.0\n",
      "fish_num_cloudy[10]     1.76    0.02    1.35    0.0     2.0    5.0   3700    1.0\n",
      "fish_num_cloudy[11]     1.81    0.02    1.36    0.0     2.0    5.0   4007    1.0\n",
      "fish_num_cloudy[12]     0.86    0.02    0.95    0.0     1.0    3.0   3872    1.0\n",
      "fish_num_cloudy[13]     2.99    0.03    1.78    0.0     3.0    7.0   3603    1.0\n",
      "fish_num_cloudy[14]     0.72    0.01    0.87    0.0     1.0    3.0   4016    1.0\n",
      "fish_num_cloudy[15]     1.26    0.02    1.12    0.0     1.0    4.0   3968    1.0\n",
      "fish_num_cloudy[16]      3.8    0.03    1.96    1.0     4.0    8.0   4034    1.0\n",
      "fish_num_cloudy[17]     5.13    0.04    2.35    1.0     5.0   10.0   3899    1.0\n",
      "fish_num_cloudy[18]     0.79    0.01    0.91    0.0     1.0    3.0   3872    1.0\n",
      "fish_num_cloudy[19]     1.37    0.02    1.19    0.0     1.0    4.0   3929    1.0\n",
      "fish_num_cloudy[20]     0.55    0.01    0.77    0.0     0.0    2.0   3818    1.0\n",
      "fish_num_cloudy[21]     2.36    0.02    1.56    0.0     2.0    6.0   3997    1.0\n",
      "fish_num_cloudy[22]     1.19    0.02     1.1    0.0     1.0    4.0   3860    1.0\n",
      "fish_num_cloudy[23]     3.63    0.03    1.94    0.0     3.0    8.0   4031    1.0\n",
      "fish_num_cloudy[24]     0.69    0.01    0.85    0.0     0.0    3.0   3813    1.0\n",
      "fish_num_cloudy[25]     1.12    0.02    1.07    0.0     1.0    4.0   3851    1.0\n",
      "fish_num_cloudy[26]     1.54    0.02    1.26    0.0     1.0    4.0   3661    1.0\n",
      "fish_num_cloudy[27]     0.67    0.01    0.84    0.0     0.0    3.0   3662    1.0\n",
      "fish_num_cloudy[28]     1.09    0.02    1.06    0.0     1.0    4.0   3551    1.0\n",
      "fish_num_cloudy[29]     4.98    0.04    2.28    1.0     5.0   10.0   4184    1.0\n",
      "fish_num_cloudy[30]     0.63    0.01    0.79    0.0     0.0    3.0   3849    1.0\n",
      "fish_num_cloudy[31]     0.47    0.01    0.69    0.0     0.0    2.0   3874    1.0\n",
      "fish_num_cloudy[32]     0.71    0.01    0.85    0.0     1.0    3.0   4026    1.0\n",
      "fish_num_cloudy[33]     3.36    0.03    1.86    0.0     3.0    7.0   3936    1.0\n",
      "fish_num_cloudy[34]     3.93    0.03    2.05    1.0     4.0    8.0   3779    1.0\n",
      "fish_num_cloudy[35]     1.64    0.02    1.31    0.0     1.0    5.0   3961    1.0\n",
      "fish_num_cloudy[36]     2.16    0.02    1.47    0.0     2.0    5.0   4001    1.0\n",
      "fish_num_cloudy[37]     3.65    0.03    1.99    0.0     3.0    8.0   3936    1.0\n",
      "fish_num_cloudy[38]     0.94    0.02    0.99    0.0     1.0    3.0   3827    1.0\n",
      "fish_num_cloudy[39]     2.34    0.02    1.54    0.0     2.0    6.0   4005    1.0\n",
      "fish_num_cloudy[40]     0.68    0.01    0.83    0.0     0.0    3.0   3300    1.0\n",
      "fish_num_cloudy[41]     5.24    0.04     2.4    1.0     5.0   10.0   3788    1.0\n",
      "fish_num_cloudy[42]     0.94    0.02    0.98    0.0     1.0    3.0   3726    1.0\n",
      "fish_num_cloudy[43]     0.61    0.01    0.79    0.0     0.0    3.0   4118    1.0\n",
      "fish_num_cloudy[44]      0.7    0.01    0.86    0.0     0.0    3.0   3586    1.0\n",
      "fish_num_cloudy[45]     4.76    0.04    2.27    1.0     5.0   10.0   3883    1.0\n",
      "fish_num_cloudy[46]     3.26    0.03    1.82    0.0     3.0    7.0   3786    1.0\n",
      "fish_num_cloudy[47]     5.11    0.04    2.37    1.0     5.0   10.0   4026    1.0\n",
      "fish_num_cloudy[48]     1.07    0.02    1.03    0.0     1.0    4.0   3549    1.0\n",
      "fish_num_cloudy[49]     1.62    0.02    1.28    0.0     1.0    4.0   3729    1.0\n",
      "fish_num_cloudy[50]     3.42    0.03    1.89    0.0     3.0    7.0   3693    1.0\n",
      "fish_num_cloudy[51]     0.46    0.01    0.69    0.0     0.0    2.0   3431    1.0\n",
      "fish_num_cloudy[52]     0.48    0.01     0.7    0.0     0.0    2.0   3950    1.0\n",
      "fish_num_cloudy[53]     2.52    0.03    1.63    0.0     2.0    6.0   3773    1.0\n",
      "fish_num_cloudy[54]     4.59    0.04    2.21    1.0     4.0    9.0   3892    1.0\n",
      "fish_num_cloudy[55]     0.92    0.02    0.97    0.0     1.0    3.0   3788    1.0\n",
      "fish_num_cloudy[56]     3.39    0.03    1.85    0.0     3.0    7.0   4269    1.0\n",
      "fish_num_cloudy[57]     3.23    0.03    1.81    0.0     3.0    7.0   4012    1.0\n",
      "fish_num_cloudy[58]     5.36    0.04    2.41    1.0     5.0   10.0   3732    1.0\n",
      "fish_num_cloudy[59]     2.11    0.02    1.48    0.0     2.0    5.0   3862    1.0\n",
      "fish_num_cloudy[60]     2.67    0.03    1.67    0.0     2.0    6.0   3694    1.0\n",
      "fish_num_cloudy[61]     3.08    0.03    1.79    0.0     3.0    7.0   4163    1.0\n",
      "fish_num_cloudy[62]     4.13    0.03    2.11    1.0     4.0    9.0   3830    1.0\n",
      "fish_num_cloudy[63]     2.14    0.02    1.47    0.0     2.0    5.0   4005    1.0\n",
      "fish_num_cloudy[64]     0.88    0.02    0.94    0.0     1.0    3.0   3505    1.0\n",
      "fish_num_cloudy[65]      3.8    0.03    1.96    1.0     4.0    8.0   4126    1.0\n",
      "fish_num_cloudy[66]     1.31    0.02    1.14    0.0     1.0    4.0   3835    1.0\n",
      "fish_num_cloudy[67]     1.16    0.02    1.08    0.0     1.0    4.0   3511    1.0\n",
      "fish_num_cloudy[68]     1.43    0.02    1.21    0.0     1.0    4.0   3846    1.0\n",
      "fish_num_cloudy[69]      0.8    0.01    0.91    0.0     1.0    3.0   4142    1.0\n",
      "fish_num_cloudy[70]     0.55    0.01    0.76    0.0     0.0    2.0   3646    1.0\n",
      "fish_num_cloudy[71]      0.9    0.02    0.96    0.0     1.0    3.0   3838    1.0\n",
      "fish_num_cloudy[72]     0.99    0.02    1.01    0.0     1.0    3.0   3712    1.0\n",
      "fish_num_cloudy[73]     0.52    0.01    0.74    0.0     0.0    2.0   3962    1.0\n",
      "fish_num_cloudy[74]     0.73    0.01    0.87    0.0     1.0    3.0   3908    1.0\n",
      "fish_num_cloudy[75]     0.73    0.01    0.88    0.0     1.0    3.0   3848    1.0\n",
      "fish_num_cloudy[76]     2.99    0.03    1.73    0.0     3.0    7.0   3786    1.0\n",
      "fish_num_cloudy[77]     0.95    0.02    0.98    0.0     1.0    3.0   3974    1.0\n",
      "fish_num_cloudy[78]     3.96    0.03    2.04    1.0     4.0    8.0   3796    1.0\n",
      "fish_num_cloudy[79]     1.26    0.02    1.12    0.0     1.0    4.0   3902    1.0\n",
      "fish_num_cloudy[80]     1.87    0.02    1.36    0.0     2.0    5.0   3845    1.0\n",
      "fish_num_cloudy[81]      1.1    0.02    1.07    0.0     1.0    4.0   3930    1.0\n",
      "fish_num_cloudy[82]     2.37    0.02    1.56    0.0     2.0    6.0   4023    1.0\n",
      "fish_num_cloudy[83]      0.5    0.01    0.72    0.0     0.0    2.0   4077    1.0\n",
      "fish_num_cloudy[84]     1.23    0.02    1.12    0.0     1.0    4.0   3788    1.0\n",
      "fish_num_cloudy[85]     0.75    0.01    0.88    0.0     1.0    3.0   4162    1.0\n",
      "fish_num_cloudy[86]     3.78    0.03    1.99    0.0     4.0    8.0   3776    1.0\n",
      "fish_num_cloudy[87]     5.11    0.04    2.31    1.0     5.0   10.0   3992    1.0\n",
      "fish_num_cloudy[88]     1.03    0.02    1.03    0.0     1.0    3.0   3957    1.0\n",
      "fish_num_cloudy[89]     2.82    0.03    1.69    0.0     3.0    7.0   4030    1.0\n",
      "fish_num_cloudy[90]     1.06    0.02    1.05    0.0     1.0    4.0   3688    1.0\n",
      "fish_num_cloudy[91]     5.21    0.04    2.41    1.0     5.0   10.0   3840    1.0\n",
      "fish_num_cloudy[92]     1.22    0.02    1.12    0.0     1.0    4.0   3339    1.0\n",
      "fish_num_cloudy[93]     1.19    0.02    1.11    0.0     1.0    4.0   3930    1.0\n",
      "fish_num_cloudy[94]     1.82    0.02    1.35    0.0     2.0    5.0   3737    1.0\n",
      "fish_num_cloudy[95]     1.45    0.02    1.22    0.0     1.0    4.0   3954    1.0\n",
      "fish_num_cloudy[96]     0.76    0.01    0.88    0.0     1.0    3.0   3892    1.0\n",
      "fish_num_cloudy[97]     1.33    0.02    1.17    0.0     1.0    4.0   3709    1.0\n",
      "fish_num_cloudy[98]     0.58    0.01    0.76    0.0     0.0    2.0   3617    1.0\n",
      "fish_num_cloudy[99]     0.63    0.01    0.81    0.0     0.0    3.0   3526    1.0\n",
      "fish_num_cloudy[100]    1.36    0.02    1.18    0.0     1.0    4.0   3968    1.0\n",
      "lp__                  -37.77    0.03    1.25 -41.05  -37.43 -36.33   1329    1.0\n",
      "\n",
      "Samples were drawn using NUTS at Sun Aug 30 22:55:14 2020.\n",
      "For each parameter, n_eff is a crude measure of effective sample size,\n",
      "and Rhat is the potential scale reduction factor on split chains (at \n",
      "convergence, Rhat=1).\n"
     ]
    }
   ],
   "source": [
    "print(glm_pois_stan.stansummary(probs=[0.025, 0.5, 0.975]))"
   ]
  },
  {
   "cell_type": "markdown",
   "metadata": {},
   "source": [
    "# ポアソン回帰の回帰曲線\n",
    "\n",
    "## 95%ベイズ信頼区間付きのグラフ"
   ]
  },
  {
   "cell_type": "markdown",
   "metadata": {},
   "source": [
    "### MCMCサンプルの抽出"
   ]
  },
  {
   "cell_type": "code",
   "execution_count": 39,
   "metadata": {
    "ExecuteTime": {
     "end_time": "2020-08-30T14:15:45.441698Z",
     "start_time": "2020-08-30T14:15:45.418729Z"
    }
   },
   "outputs": [],
   "source": [
    "mcmc_sample = glm_pois_stan.extract()"
   ]
  },
  {
   "cell_type": "markdown",
   "metadata": {},
   "source": [
    "### 事後予測分布を天気別にデータフレームへまとめる"
   ]
  },
  {
   "cell_type": "code",
   "execution_count": 70,
   "metadata": {
    "ExecuteTime": {
     "end_time": "2020-08-31T09:48:20.296818Z",
     "start_time": "2020-08-31T09:48:20.223985Z"
    }
   },
   "outputs": [],
   "source": [
    "result_cloudy = pd.DataFrame(np.zeros([len(fish_num_climate), 3])) \n",
    "result_sunny = pd.DataFrame(np.zeros([len(fish_num_climate), 3])) \n",
    "\n",
    "# 2.5・50・97.5パーセンタイルの値をデータフレームに代入\n",
    "for i in range(len(fish_num_climate)):\n",
    "    result_cloudy.iloc[i,:] = np.percentile(mcmc_sample['lambda_cloudy'][:,i], q=[2.5, 50, 97.5])\n",
    "    result_sunny.iloc[i,:] = np.percentile(mcmc_sample['lambda_sunny'][:,i], q=[2.5, 50, 97.5])\n",
    "    \n",
    "# データフレームの列名を変更\n",
    "result_cloudy.columns = [\"2.5%\", \"50%\", \"97.5%\"]\n",
    "result_sunny.columns = [\"2.5%\", \"50%\", \"97.5%\"]\n",
    "\n",
    "# 温度情報をデータフレームに追加\n",
    "result_cloudy['temperature'] = fish_num_climate['temperature']\n",
    "result_sunny['temperature'] = fish_num_climate['temperature']\n",
    "\n",
    "# 温度情報で並び順をソート\n",
    "result_cloudy = result_cloudy.sort_values('temperature')\n",
    "result_sunny = result_sunny.sort_values('temperature')"
   ]
  },
  {
   "cell_type": "markdown",
   "metadata": {
    "ExecuteTime": {
     "end_time": "2020-08-31T09:36:22.464113Z",
     "start_time": "2020-08-31T09:36:22.450162Z"
    }
   },
   "source": [
    "### 回帰直線の描画"
   ]
  },
  {
   "cell_type": "code",
   "execution_count": 75,
   "metadata": {
    "ExecuteTime": {
     "end_time": "2020-08-31T12:33:41.864694Z",
     "start_time": "2020-08-31T12:33:41.664742Z"
    }
   },
   "outputs": [
    {
     "data": {
      "image/png": "[encoded data removed]",
      "text/plain": [
       "<Figure size 720x360 with 1 Axes>"
      ]
     },
     "metadata": {},
     "output_type": "display_data"
    }
   ],
   "source": [
    "# グラフ描画領域の作成\n",
    "plt.figure(figsize=(10, 5))\n",
    "\n",
    "# 散布図の描画\n",
    "sns.scatterplot(x='temperature',\n",
    "                y='fish_num',\n",
    "                data=fish_num_climate,\n",
    "                hue='weather',\n",
    "                hue_order=['cloudy', 'sunny'],\n",
    "                palette=['red', 'blue'])\n",
    "\n",
    "# 曇りの日のビールの売り上げの平均値を描画\n",
    "plt.plot(result_cloudy['temperature'],\n",
    "         np.exp(result_cloudy[\"50%\"]),\n",
    "         color='red')\n",
    "# 95%ベイズ信頼区間を描画\n",
    "plt.fill_between(x=result_cloudy['temperature'],\n",
    "                 y1=np.exp(result_cloudy[\"2.5%\"]),\n",
    "                 y2=np.exp(result_cloudy[\"97.5%\"]),\n",
    "                 color='red',\n",
    "                 alpha=0.3)\n",
    "\n",
    "# 晴れの日のビールの売り上げの平均値を描画\n",
    "plt.plot(result_sunny['temperature'],\n",
    "         np.exp(result_sunny[\"50%\"]),\n",
    "         color='blue')\n",
    "# 95%ベイズ信頼区間を描画\n",
    "plt.fill_between(x=result_sunny['temperature'],\n",
    "                 y1=np.exp(result_sunny[\"2.5%\"]),\n",
    "                 y2=np.exp(result_sunny[\"97.5%\"]),\n",
    "                 color='blue',\n",
    "                 alpha=0.3)\n",
    "\n",
    "# グラフタイトル追加\n",
    "plt.title('ポアソン回帰曲線：信用区間')\n",
    "\n",
    "# グラフの描画\n",
    "plt.show()"
   ]
  },
  {
   "cell_type": "markdown",
   "metadata": {},
   "source": [
    "## 99%ベイズ予測区間付きのグラフ"
   ]
  },
  {
   "cell_type": "markdown",
   "metadata": {},
   "source": [
    "### 事後予測分布を天気別にデータフレームへまとめる"
   ]
  },
  {
   "cell_type": "code",
   "execution_count": 76,
   "metadata": {
    "ExecuteTime": {
     "end_time": "2020-08-31T13:46:29.491492Z",
     "start_time": "2020-08-31T13:46:29.412494Z"
    }
   },
   "outputs": [],
   "source": [
    "result_cloudy = pd.DataFrame(np.zeros([len(fish_num_climate), 3])) \n",
    "result_sunny = pd.DataFrame(np.zeros([len(fish_num_climate), 3])) \n",
    "\n",
    "# 2.5・50・97.5パーセンタイルの値をデータフレームに代入\n",
    "for i in range(len(fish_num_climate)):\n",
    "    result_cloudy.iloc[i,:] = np.percentile(mcmc_sample['fish_num_cloudy'][:,i], q=[0.5, 50, 99.5])\n",
    "    result_sunny.iloc[i,:] = np.percentile(mcmc_sample['fish_num_sunny'][:,i], q=[0.5, 50, 99.5])\n",
    "    \n",
    "# データフレームの列名を変更\n",
    "result_cloudy.columns = [\"0.5%\", \"50%\", \"99.5%\"]\n",
    "result_sunny.columns = [\"0.5%\", \"50%\", \"99.5%\"]\n",
    "\n",
    "# 温度情報をデータフレームに追加\n",
    "result_cloudy['temperature'] = fish_num_climate['temperature']\n",
    "result_sunny['temperature'] = fish_num_climate['temperature']\n",
    "\n",
    "# 温度情報で並び順をソート\n",
    "result_cloudy = result_cloudy.sort_values('temperature')\n",
    "result_sunny = result_sunny.sort_values('temperature')"
   ]
  },
  {
   "cell_type": "markdown",
   "metadata": {
    "ExecuteTime": {
     "end_time": "2020-08-31T13:49:00.404180Z",
     "start_time": "2020-08-31T13:49:00.400214Z"
    }
   },
   "source": [
    "### 回帰直線の描画"
   ]
  },
  {
   "cell_type": "code",
   "execution_count": 81,
   "metadata": {
    "ExecuteTime": {
     "end_time": "2020-08-31T13:48:26.398017Z",
     "start_time": "2020-08-31T13:48:26.226477Z"
    }
   },
   "outputs": [
    {
     "data": {
      "image/png": "[encoded data removed]",
      "text/plain": [
       "<Figure size 720x360 with 1 Axes>"
      ]
     },
     "metadata": {},
     "output_type": "display_data"
    }
   ],
   "source": [
    "# グラフ描画領域の作成\n",
    "plt.figure(figsize=(10, 5))\n",
    "\n",
    "# 散布図の描画\n",
    "sns.scatterplot(x='temperature',\n",
    "                y='fish_num',\n",
    "                data=fish_num_climate,\n",
    "                hue='weather',\n",
    "                hue_order=['cloudy', 'sunny'],\n",
    "                palette=['red', 'blue'])\n",
    "\n",
    "# 曇りの日のビールの売り上げの平均値を描画\n",
    "plt.plot(result_cloudy['temperature'],\n",
    "         result_cloudy[\"50%\"],\n",
    "         color='red')\n",
    "# 95%ベイズ信頼区間を描画\n",
    "plt.fill_between(x=result_cloudy['temperature'],\n",
    "                 y1=result_cloudy[\"0.5%\"],\n",
    "                 y2=result_cloudy[\"99.5%\"],\n",
    "                 color='red',\n",
    "                 alpha=0.3)\n",
    "\n",
    "# 晴れの日のビールの売り上げの平均値を描画\n",
    "plt.plot(result_sunny['temperature'],\n",
    "         result_sunny[\"50%\"],\n",
    "         color='blue')\n",
    "# 95%ベイズ信頼区間を描画\n",
    "plt.fill_between(x=result_sunny['temperature'],\n",
    "                 y1=result_sunny[\"0.5%\"],\n",
    "                 y2=result_sunny[\"99.5%\"],\n",
    "                 color='blue',\n",
    "                 alpha=0.3)\n",
    "\n",
    "# グラフタイトル追加\n",
    "plt.title('ポアソン回帰曲線：予測区間')\n",
    "\n",
    "# グラフの描画\n",
    "plt.show()"
   ]
  },
  {
   "cell_type": "markdown",
   "metadata": {},
   "source": [
    "# 補足：デザイン行列を使ったモデルの推定"
   ]
  },
  {
   "cell_type": "markdown",
   "metadata": {},
   "source": [
    "## 参考：Stanに渡すデータ"
   ]
  },
  {
   "cell_type": "code",
   "execution_count": 83,
   "metadata": {
    "ExecuteTime": {
     "end_time": "2020-08-31T13:53:48.529742Z",
     "start_time": "2020-08-31T13:53:48.520766Z"
    }
   },
   "outputs": [
    {
     "data": {
      "text/plain": [
       "{'N': 100,\n",
       " 'K': 3,\n",
       " 'Y': 0     0\n",
       " 1     2\n",
       " 2     5\n",
       " 3     1\n",
       " 4     3\n",
       "      ..\n",
       " 95    0\n",
       " 96    0\n",
       " 97    0\n",
       " 98    0\n",
       " 99    0\n",
       " Name: fish_num, Length: 100, dtype: int64,\n",
       " 'X':     (Intercept)  weather_sunny  temperature\n",
       " 0             1              0          5.5\n",
       " 1             1              0         21.1\n",
       " 2             1              0         17.2\n",
       " 3             1              0          5.0\n",
       " 4             1              0         28.3\n",
       " ..          ...            ...          ...\n",
       " 95            1              1          5.9\n",
       " 96            1              1         12.8\n",
       " 97            1              1          2.8\n",
       " 98            1              1          3.5\n",
       " 99            1              1         13.2\n",
       " \n",
       " [100 rows x 3 columns]}"
      ]
     },
     "metadata": {},
     "output_type": "display_data"
    }
   ],
   "source": [
    "data_list_2 = dict(N=len(fish_num_climate),\n",
    "                   K=design_mat.shape[1],\n",
    "                   Y=fish_num_climate['fish_num'],\n",
    "                   X=design_mat)\n",
    "\n",
    "display(data_list_2)"
   ]
  },
  {
   "cell_type": "markdown",
   "metadata": {},
   "source": [
    "## 参考：MCMCの実行"
   ]
  },
  {
   "cell_type": "code",
   "execution_count": 84,
   "metadata": {
    "ExecuteTime": {
     "end_time": "2020-08-31T13:54:52.264310Z",
     "start_time": "2020-08-31T13:54:00.184045Z"
    }
   },
   "outputs": [
    {
     "name": "stderr",
     "output_type": "stream",
     "text": [
      "INFO:pystan:COMPILING THE C++ CODE FOR MODEL anon_model_8fb9bb9e4fdb448c421e95a5e990a395 NOW.\n"
     ]
    }
   ],
   "source": [
    "# stanコードの記述\n",
    "stan_code = '''\n",
    "data { \n",
    "  int N;                // サンプルサイズ\n",
    "  int K;                // デザイン行列の列数(説明変数の数＋１)\n",
    "  int Y[N];             // 応答変数(整数型)\n",
    "  matrix[N, K] X;       // デザイン行列 \n",
    "} \n",
    "\n",
    "parameters { \n",
    "  vector[K] b;          // 切片を含む係数ベクトル\n",
    "} \n",
    "\n",
    "model { \n",
    "  vector[N] lambda = X * b;\n",
    "  Y ~ poisson_log(lambda);\n",
    "} \n",
    "\n",
    "'''\n",
    "\n",
    "# モデルのコンパイル\n",
    "stan_model = pystan.StanModel(model_code=stan_code)\n",
    "\n",
    "# サンプリング\n",
    "glm_pois_stan_design_mat = stan_model.sampling(data=data_list_2, seed=1, n_jobs=1)"
   ]
  },
  {
   "cell_type": "markdown",
   "metadata": {},
   "source": [
    "## 参考：結果の表示"
   ]
  },
  {
   "cell_type": "code",
   "execution_count": 85,
   "metadata": {
    "ExecuteTime": {
     "end_time": "2020-08-31T13:54:54.607959Z",
     "start_time": "2020-08-31T13:54:54.583026Z"
    }
   },
   "outputs": [
    {
     "name": "stdout",
     "output_type": "stream",
     "text": [
      "Inference for Stan model: anon_model_8fb9bb9e4fdb448c421e95a5e990a395.\n",
      "4 chains, each with iter=2000; warmup=1000; thin=1; \n",
      "post-warmup draws per chain=1000, total post-warmup draws=4000.\n",
      "\n",
      "       mean se_mean     sd   2.5%    50%  97.5%  n_eff   Rhat\n",
      "b[1]  -0.81  6.4e-3   0.24   -1.3   -0.8  -0.36   1426    1.0\n",
      "b[2]  -0.59  3.5e-3   0.17  -0.93  -0.59  -0.27   2284    1.0\n",
      "b[3]   0.08  2.7e-4   0.01   0.06   0.08    0.1   1433    1.0\n",
      "lp__ -37.69    0.03   1.22 -40.94 -37.38 -36.31   1291    1.0\n",
      "\n",
      "Samples were drawn using NUTS at Mon Aug 31 22:54:52 2020.\n",
      "For each parameter, n_eff is a crude measure of effective sample size,\n",
      "and Rhat is the potential scale reduction factor on split chains (at \n",
      "convergence, Rhat=1).\n"
     ]
    }
   ],
   "source": [
    "print(glm_pois_stan_design_mat.stansummary(probs=[0.025, 0.5, 0.975]))"
   ]
  },
  {
   "cell_type": "code",
   "execution_count": null,
   "metadata": {},
   "outputs": [],
   "source": []
  },
  {
   "cell_type": "code",
   "execution_count": null,
   "metadata": {},
   "outputs": [],
   "source": []
  },
  {
   "cell_type": "code",
   "execution_count": null,
   "metadata": {},
   "outputs": [],
   "source": []
  }
 ],
 "metadata": {
  "kernelspec": {
   "display_name": "Python 3",
   "language": "python",
   "name": "python3"
  },
  "language_info": {
   "codemirror_mode": {
    "name": "ipython",
    "version": 3
   },
   "file_extension": ".py",
   "mimetype": "text/x-python",
   "name": "python",
   "nbconvert_exporter": "python",
   "pygments_lexer": "ipython3",
   "version": "3.7.6"
  },
  "toc": {
   "base_numbering": 1,
   "nav_menu": {},
   "number_sections": true,
   "sideBar": true,
   "skip_h1_title": false,
   "title_cell": "Table of Contents",
   "title_sidebar": "Contents",
   "toc_cell": false,
   "toc_position": {},
   "toc_section_display": true,
   "toc_window_display": true
  },
  "varInspector": {
   "cols": {
    "lenName": 16,
    "lenType": 16,
    "lenVar": 40
   },
   "kernels_config": {
    "python": {
     "delete_cmd_postfix": "",
     "delete_cmd_prefix": "del ",
     "library": "var_list.py",
     "varRefreshCmd": "print(var_dic_list())"
    },
    "r": {
     "delete_cmd_postfix": ") ",
     "delete_cmd_prefix": "rm(",
     "library": "var_list.r",
     "varRefreshCmd": "cat(var_dic_list()) "
    }
   },
   "types_to_exclude": [
    "module",
    "function",
    "builtin_function_or_method",
    "instance",
    "_Feature"
   ],
   "window_display": false
  }
 },
 "nbformat": 4,
 "nbformat_minor": 4
}
