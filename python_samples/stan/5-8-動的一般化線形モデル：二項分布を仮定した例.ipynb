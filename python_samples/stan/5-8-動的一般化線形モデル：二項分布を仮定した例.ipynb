{
 "cells": [
  {
   "cell_type": "markdown",
   "metadata": {},
   "source": [
    "　「RとStanで始めるベイズ統計モデリングによるデータ分析入門」「実践編第5部第8章 動的一般化線形モデル：二項分布を仮定した例」を対象に，公開されているR，Stanのコードをpython，pystanのコードへと書き直した一例です。Stanの代わりにpystanを利用しています。\n",
    "\n",
    "　この章では，観測方程式に二項分布を用いた動的一般化線形モデル（DGLM)が解説されています。\n",
    "\n",
    "　本ページでは公開されていない書籍の内容については一切触れません。理論や詳しい説明は書籍を参照してください。\n",
    "\n",
    "　なお，こちらで紹介しているコードには誤りが含まれる可能性があります。内容やコードについてお気づきの点等ございましたら，ご指摘いただけると幸いです"
   ]
  },
  {
   "cell_type": "markdown",
   "metadata": {},
   "source": [
    "# 分析の準備\n",
    "## パッケージの読み込み"
   ]
  },
  {
   "cell_type": "code",
   "execution_count": 1,
   "metadata": {
    "ExecuteTime": {
     "end_time": "2020-09-13T05:27:32.240603Z",
     "start_time": "2020-09-13T05:27:30.742600Z"
    }
   },
   "outputs": [],
   "source": [
    "import arviz\n",
    "import pystan\n",
    "import numpy as np\n",
    "import pandas as pd\n",
    "\n",
    "%matplotlib inline\n",
    "import matplotlib.pyplot as plt\n",
    "plt.style.use('ggplot')\n",
    "plt.rcParams['font.family'] = 'Meiryo'\n",
    "import seaborn as sns\n",
    "\n",
    "# 自作のplotSSM関数を読み込み\n",
    "from plotSSM import plotSSM"
   ]
  },
  {
   "cell_type": "markdown",
   "metadata": {},
   "source": [
    "## データの読み込み\n",
    "　こちらで読み込んでいる「boat.csv」は，R上で読み込んだ「boat」データセットを「write.csv(boat, 'boat.csv')」によってcsvファイルに出力したものを利用しています。"
   ]
  },
  {
   "cell_type": "code",
   "execution_count": 34,
   "metadata": {
    "ExecuteTime": {
     "end_time": "2020-09-13T05:46:27.899473Z",
     "start_time": "2020-09-13T05:46:27.883515Z"
    }
   },
   "outputs": [
    {
     "data": {
      "text/html": [
       "<div>\n",
       "<style scoped>\n",
       "    .dataframe tbody tr th:only-of-type {\n",
       "        vertical-align: middle;\n",
       "    }\n",
       "\n",
       "    .dataframe tbody tr th {\n",
       "        vertical-align: top;\n",
       "    }\n",
       "\n",
       "    .dataframe thead th {\n",
       "        text-align: right;\n",
       "    }\n",
       "</style>\n",
       "<table border=\"1\" class=\"dataframe\">\n",
       "  <thead>\n",
       "    <tr style=\"text-align: right;\">\n",
       "      <th></th>\n",
       "      <th>victory or defeat</th>\n",
       "    </tr>\n",
       "  </thead>\n",
       "  <tbody>\n",
       "    <tr>\n",
       "      <th>1</th>\n",
       "      <td>0.0</td>\n",
       "    </tr>\n",
       "    <tr>\n",
       "      <th>2</th>\n",
       "      <td>NaN</td>\n",
       "    </tr>\n",
       "    <tr>\n",
       "      <th>3</th>\n",
       "      <td>NaN</td>\n",
       "    </tr>\n",
       "    <tr>\n",
       "      <th>4</th>\n",
       "      <td>NaN</td>\n",
       "    </tr>\n",
       "    <tr>\n",
       "      <th>5</th>\n",
       "      <td>NaN</td>\n",
       "    </tr>\n",
       "    <tr>\n",
       "      <th>...</th>\n",
       "      <td>...</td>\n",
       "    </tr>\n",
       "    <tr>\n",
       "      <th>179</th>\n",
       "      <td>1.0</td>\n",
       "    </tr>\n",
       "    <tr>\n",
       "      <th>180</th>\n",
       "      <td>0.0</td>\n",
       "    </tr>\n",
       "    <tr>\n",
       "      <th>181</th>\n",
       "      <td>0.0</td>\n",
       "    </tr>\n",
       "    <tr>\n",
       "      <th>182</th>\n",
       "      <td>1.0</td>\n",
       "    </tr>\n",
       "    <tr>\n",
       "      <th>183</th>\n",
       "      <td>0.0</td>\n",
       "    </tr>\n",
       "  </tbody>\n",
       "</table>\n",
       "<p>183 rows × 1 columns</p>\n",
       "</div>"
      ],
      "text/plain": [
       "     victory or defeat\n",
       "1                  0.0\n",
       "2                  NaN\n",
       "3                  NaN\n",
       "4                  NaN\n",
       "5                  NaN\n",
       "..                 ...\n",
       "179                1.0\n",
       "180                0.0\n",
       "181                0.0\n",
       "182                1.0\n",
       "183                0.0\n",
       "\n",
       "[183 rows x 1 columns]"
      ]
     },
     "metadata": {},
     "output_type": "display_data"
    }
   ],
   "source": [
    "boat = pd.read_csv('boat.csv',\n",
    "                   header=0,                   # 最初の行をheader指定\n",
    "                   index_col=0,                # 最小の列をindex指定\n",
    "                   names=['victory or defeat'])# 列名変更\n",
    "display(boat)"
   ]
  },
  {
   "cell_type": "markdown",
   "metadata": {},
   "source": [
    "# 二項分布を仮定したDGLMの推定\n",
    "## 参考"
   ]
  },
  {
   "cell_type": "code",
   "execution_count": 35,
   "metadata": {
    "ExecuteTime": {
     "end_time": "2020-09-13T05:46:38.969069Z",
     "start_time": "2020-09-13T05:46:38.963084Z"
    }
   },
   "outputs": [
    {
     "name": "stdout",
     "output_type": "stream",
     "text": [
      "1       True\n",
      "2      False\n",
      "3      False\n",
      "4      False\n",
      "5      False\n",
      "       ...  \n",
      "179     True\n",
      "180     True\n",
      "181     True\n",
      "182     True\n",
      "183     True\n",
      "Name: victory or defeat, Length: 183, dtype: bool\n"
     ]
    }
   ],
   "source": [
    "print(np.logical_not(boat['victory or defeat'].isnull()))  # データがあればTrue"
   ]
  },
  {
   "cell_type": "code",
   "execution_count": 77,
   "metadata": {
    "ExecuteTime": {
     "end_time": "2020-09-13T06:31:00.176653Z",
     "start_time": "2020-09-13T06:31:00.170702Z"
    }
   },
   "outputs": [
    {
     "name": "stdout",
     "output_type": "stream",
     "text": [
      "Int64Index([  1,   8,  11,  12,  13,  14,  17,  18,  21,  24,\n",
      "            ...\n",
      "            174, 175, 176, 177, 178, 179, 180, 181, 182, 183],\n",
      "           dtype='int64', length=155)\n"
     ]
    }
   ],
   "source": [
    "ind = boat[np.logical_not(boat['victory or defeat'].isnull())].index\n",
    "print(ind) # データがある時点一覧"
   ]
  },
  {
   "cell_type": "markdown",
   "metadata": {},
   "source": [
    "## NAを除く"
   ]
  },
  {
   "cell_type": "code",
   "execution_count": 42,
   "metadata": {
    "ExecuteTime": {
     "end_time": "2020-09-13T05:48:01.784037Z",
     "start_time": "2020-09-13T05:48:01.779026Z"
    }
   },
   "outputs": [],
   "source": [
    "boat_omit_NA = boat.dropna(axis=0)"
   ]
  },
  {
   "cell_type": "markdown",
   "metadata": {
    "ExecuteTime": {
     "end_time": "2020-09-13T05:47:56.896165Z",
     "start_time": "2020-09-13T05:47:56.884197Z"
    }
   },
   "source": [
    "## データの準備"
   ]
  },
  {
   "cell_type": "code",
   "execution_count": 75,
   "metadata": {
    "ExecuteTime": {
     "end_time": "2020-09-13T06:28:26.886109Z",
     "start_time": "2020-09-13T06:28:26.882118Z"
    }
   },
   "outputs": [],
   "source": [
    "data_list = dict(T=len(boat),\n",
    "                 len_obs=len(boat_omit_NA),\n",
    "                 y=boat_omit_NA['victory or defeat'].astype(int), # int型へ変換\n",
    "                 obs_no=ind\n",
    "                 )"
   ]
  },
  {
   "cell_type": "markdown",
   "metadata": {},
   "source": [
    "## モデルの推定"
   ]
  },
  {
   "cell_type": "code",
   "execution_count": 76,
   "metadata": {
    "ExecuteTime": {
     "end_time": "2020-09-13T06:30:57.536379Z",
     "start_time": "2020-09-13T06:28:29.600530Z"
    }
   },
   "outputs": [
    {
     "name": "stderr",
     "output_type": "stream",
     "text": [
      "INFO:pystan:COMPILING THE C++ CODE FOR MODEL anon_model_7ddd0d92330219129ee77bde56cd3307 NOW.\n"
     ]
    }
   ],
   "source": [
    "# stanコードの記述（5-8-1-dglm-binom.stan）\n",
    "stan_code = '''\n",
    "data {\n",
    "  int T;               // データ取得期間の長さ\n",
    "  int len_obs;         // 観測値が得られた個数\n",
    "  int y[len_obs];      // 観測値\n",
    "  int obs_no[len_obs]; // 観測値が得られた時点\n",
    "}\n",
    "\n",
    "parameters {\n",
    "  vector[T] mu;       // 状態の推定値\n",
    "  real<lower=0> s_w;  // 過程誤差の標準偏差\n",
    "}\n",
    "\n",
    "model {\n",
    "  // 弱情報事前分布\n",
    "  s_w ~ student_t(3, 0, 10);\n",
    "  \n",
    "  // 状態方程式に従い、状態が遷移する\n",
    "  for(i in 2:T) {\n",
    "    mu[i] ~ normal(mu[i-1], s_w);\n",
    "  }\n",
    "  \n",
    "  // 観測方程式に従い、観測値が得られる\n",
    "  // ただし、「観測値が得られた時点」でのみ実行する\n",
    "  for(i in 1:len_obs) {\n",
    "    y[i] ~ bernoulli_logit(mu[obs_no[i]]);\n",
    "  }\n",
    "}\n",
    "\n",
    "generated quantities{\n",
    "  vector[T] probs;       // 推定された勝率\n",
    "  \n",
    "  probs = inv_logit(mu);\n",
    "}\n",
    "\n",
    "'''\n",
    "\n",
    "# モデルのコンパイル\n",
    "stan_model = pystan.StanModel(model_code=stan_code)\n",
    "\n",
    "# サンプリング\n",
    "dglm_binom = stan_model.sampling(data=data_list,\n",
    "                                 seed=1,\n",
    "                                 iter=30000,\n",
    "                                 warmup=10000,\n",
    "                                 thin=20,\n",
    "                                 n_jobs=1)"
   ]
  },
  {
   "cell_type": "markdown",
   "metadata": {},
   "source": [
    "## 推定されたパラメタ"
   ]
  },
  {
   "cell_type": "code",
   "execution_count": 78,
   "metadata": {
    "ExecuteTime": {
     "end_time": "2020-09-13T06:34:00.739061Z",
     "start_time": "2020-09-13T06:34:00.722106Z"
    }
   },
   "outputs": [
    {
     "name": "stdout",
     "output_type": "stream",
     "text": [
      "Inference for Stan model: anon_model_7ddd0d92330219129ee77bde56cd3307.\n",
      "4 chains, each with iter=30000; warmup=10000; thin=20; \n",
      "post-warmup draws per chain=1000, total post-warmup draws=4000.\n",
      "\n",
      "       mean se_mean     sd   2.5%    50%  97.5%  n_eff   Rhat\n",
      "s_w    0.74    0.02   0.39   0.21   0.68   1.71    582   1.01\n",
      "lp__ -96.76    3.76  86.34 -252.7 -104.4  88.46    527   1.01\n",
      "\n",
      "Samples were drawn using NUTS at Sun Sep 13 15:30:56 2020.\n",
      "For each parameter, n_eff is a crude measure of effective sample size,\n",
      "and Rhat is the potential scale reduction factor on split chains (at \n",
      "convergence, Rhat=1).\n"
     ]
    }
   ],
   "source": [
    "print(dglm_binom.stansummary(pars=[\"s_w\", \"lp__\"], probs=[0.025, 0.5, 0.975]))"
   ]
  },
  {
   "cell_type": "markdown",
   "metadata": {},
   "source": [
    "## 参考：収束の確認"
   ]
  },
  {
   "cell_type": "code",
   "execution_count": 79,
   "metadata": {
    "ExecuteTime": {
     "end_time": "2020-09-13T06:34:11.059309Z",
     "start_time": "2020-09-13T06:34:03.398454Z"
    }
   },
   "outputs": [
    {
     "data": {
      "image/png": "[encoded data removed]",
      "text/plain": [
       "<Figure size 360x720 with 1 Axes>"
      ]
     },
     "metadata": {},
     "output_type": "display_data"
    }
   ],
   "source": [
    "# 収束確認用のRhatのプロット関数\n",
    "def mcmc_rhat(dataframe, column='Rhat', figsize=(5, 10)):\n",
    "    plt.figure(figsize=figsize)\n",
    "    plt.hlines(y=dataframe[column].sort_values().index,\n",
    "               xmin=1,\n",
    "               xmax=dataframe[column].sort_values(),\n",
    "               color='b',\n",
    "               alpha=0.5)\n",
    "    plt.vlines(x=1.05, ymin=0, ymax=len(dataframe[column]), linestyles='--')\n",
    "    plt.plot(dataframe[column].sort_values().values,\n",
    "             dataframe[column].sort_values().index,\n",
    "             marker='.',\n",
    "             linestyle='None',\n",
    "             color='b',\n",
    "             alpha=0.5)\n",
    "    plt.yticks(color='None')\n",
    "    plt.tick_params(length=0)\n",
    "    plt.xlabel(column)\n",
    "    plt.show()\n",
    "\n",
    "\n",
    "# 各推定結果のデータフレームを作成\n",
    "summary = pd.DataFrame(dglm_binom.summary()['summary'],\n",
    "                       columns=dglm_binom.summary()['summary_colnames'],\n",
    "                       index=dglm_binom.summary()['summary_rownames'])\n",
    "\n",
    "# プロット\n",
    "mcmc_rhat(summary)"
   ]
  },
  {
   "cell_type": "code",
   "execution_count": 80,
   "metadata": {
    "ExecuteTime": {
     "end_time": "2020-09-13T06:34:15.477123Z",
     "start_time": "2020-09-13T06:34:14.514687Z"
    }
   },
   "outputs": [
    {
     "name": "stdout",
     "output_type": "stream",
     "text": [
      "hmc_diagnostics of local_level:\n",
      " {'n_eff': True, 'Rhat': True, 'divergence': True, 'treedepth': True, 'energy': True}\n"
     ]
    }
   ],
   "source": [
    "print('hmc_diagnostics:\\n',\n",
    "      pystan.diagnostics.check_hmc_diagnostics(dglm_binom))"
   ]
  },
  {
   "cell_type": "markdown",
   "metadata": {},
   "source": [
    "## 参考:トレースプロット\n",
    " 'lp__'（log posterior）のトレースプロットは図示できないため除いています。"
   ]
  },
  {
   "cell_type": "code",
   "execution_count": 84,
   "metadata": {
    "ExecuteTime": {
     "end_time": "2020-09-13T06:34:40.635068Z",
     "start_time": "2020-09-13T06:34:40.293949Z"
    }
   },
   "outputs": [
    {
     "data": {
      "image/png": "[encoded data removed]",
      "text/plain": [
       "<Figure size 864x144 with 2 Axes>"
      ]
     },
     "metadata": {},
     "output_type": "display_data"
    }
   ],
   "source": [
    "arviz.plot_trace(dglm_binom, var_names=[\"s_w\"], legend=True);"
   ]
  },
  {
   "cell_type": "markdown",
   "metadata": {},
   "source": [
    "## 参考：推定結果一覧"
   ]
  },
  {
   "cell_type": "code",
   "execution_count": 83,
   "metadata": {
    "ExecuteTime": {
     "end_time": "2020-09-13T06:34:37.519394Z",
     "start_time": "2020-09-13T06:34:36.133091Z"
    }
   },
   "outputs": [
    {
     "name": "stdout",
     "output_type": "stream",
     "text": [
      "Inference for Stan model: anon_model_7ddd0d92330219129ee77bde56cd3307.\n",
      "4 chains, each with iter=30000; warmup=10000; thin=20; \n",
      "post-warmup draws per chain=1000, total post-warmup draws=4000.\n",
      "\n",
      "             mean se_mean     sd   2.5%    50%  97.5%  n_eff   Rhat\n",
      "mu[1]        -0.4    0.04   1.95  -4.85   -0.2   2.91   2139    1.0\n",
      "mu[2]       -0.17    0.03   1.91  -4.45  -0.03   3.17   3020    1.0\n",
      "mu[3]        0.08    0.03   1.83  -3.78   0.21   3.41   3737    1.0\n",
      "mu[4]        0.32    0.03   1.79  -3.49    0.4   3.71   4119    1.0\n",
      "mu[5]        0.59    0.03    1.7  -2.79   0.61   4.02   4164    1.0\n",
      "mu[6]        0.83    0.03   1.63  -2.35    0.8   4.25   4043    1.0\n",
      "mu[7]        1.05    0.02   1.54  -1.78   0.97   4.39   3806    1.0\n",
      "mu[8]        1.29    0.03   1.47  -1.17   1.13   4.67   2601    1.0\n",
      "mu[9]        1.35    0.03   1.46  -1.14   1.23   4.78   2406    1.0\n",
      "mu[10]       1.42    0.03   1.42  -0.95   1.28   4.65   2004    1.0\n",
      "mu[11]        1.5    0.03   1.32  -0.67   1.34   4.46   1746    1.0\n",
      "mu[12]       1.48    0.03   1.28  -0.62   1.33   4.49   1775    1.0\n",
      "mu[13]       1.29    0.02   1.18  -0.68   1.17   3.89   2422    1.0\n",
      "mu[14]       0.96    0.02   1.14  -1.16    0.9   3.36   3796    1.0\n",
      "mu[15]       1.09    0.02   1.26  -1.24    1.0   3.75   3583    1.0\n",
      "mu[16]       1.22    0.03   1.33  -1.11   1.08   4.24   2644    1.0\n",
      "mu[17]       1.34    0.03   1.35  -0.83   1.18   4.54   2218    1.0\n",
      "mu[18]       1.33    0.03   1.36  -0.77   1.17   4.51   1839    1.0\n",
      "mu[19]       1.18    0.03   1.39  -1.02   0.98   4.49   2130    1.0\n",
      "mu[20]        1.0    0.03   1.35  -1.23   0.85    4.1   2349    1.0\n",
      "mu[21]       0.84    0.02   1.28  -1.32   0.71   3.73   2673    1.0\n",
      "mu[22]       0.46    0.02   1.25  -1.94    0.4   3.06   3817    1.0\n",
      "mu[23]       0.07    0.02   1.23  -2.43   0.11   2.46   3763    1.0\n",
      "mu[24]      -0.32    0.02    1.2  -2.99  -0.21   1.76   2627    1.0\n",
      "mu[25]      -0.38    0.02   1.21  -2.99  -0.28   1.76   2679    1.0\n",
      "mu[26]      -0.48    0.02   1.13   -3.0  -0.37   1.48   2447    1.0\n",
      "mu[27]      -0.33    0.02   1.08  -2.59  -0.27   1.73   3583    1.0\n",
      "mu[28]      -0.19    0.02   0.99  -2.08  -0.21   1.85   3733    1.0\n",
      "mu[29]       -0.4    0.02   0.93  -2.36  -0.36   1.35   3619    1.0\n",
      "mu[30]      -0.32    0.01   0.93  -2.14  -0.34   1.58   3839    1.0\n",
      "mu[31]      -0.61    0.02   0.94  -2.66  -0.59   1.17   3822    1.0\n",
      "mu[32]      -0.68    0.02   0.95  -2.58  -0.64   1.21   3776    1.0\n",
      "mu[33]      -1.15    0.02   1.07  -3.59  -1.03   0.63   2154    1.0\n",
      "mu[34]      -1.47    0.03    1.2  -4.36   -1.3    0.4   1676    1.0\n",
      "mu[35]      -1.65    0.03   1.28  -4.77  -1.45   0.24   1432    1.0\n",
      "mu[36]      -1.75    0.04   1.33  -5.01  -1.53   0.21   1307    1.0\n",
      "mu[37]      -1.77    0.04   1.39  -5.14  -1.54   0.19   1329    1.0\n",
      "mu[38]      -1.66    0.04   1.32  -5.04  -1.46   0.27   1298    1.0\n",
      "mu[39]      -1.45    0.03   1.22  -4.36  -1.27   0.39   1419    1.0\n",
      "mu[40]      -1.12    0.03   1.11  -3.73  -0.98   0.61   1816    1.0\n",
      "mu[41]      -0.63    0.02   0.96  -2.71  -0.56   1.06   2983    1.0\n",
      "mu[42]       0.09    0.02   0.98  -1.71   0.03   2.25   2740    1.0\n",
      "mu[43]       0.52    0.03   1.08  -1.23   0.38   2.94   1858    1.0\n",
      "mu[44]       0.71    0.03   1.14  -1.05   0.55    3.4   1476    1.0\n",
      "mu[45]       0.73    0.03   1.11  -1.08   0.58   3.32   1483    1.0\n",
      "mu[46]       0.58    0.02   1.03  -1.12   0.45    3.0   1963    1.0\n",
      "mu[47]       0.21    0.02   0.95  -1.59   0.16   2.28   3833    1.0\n",
      "mu[48]       0.22    0.02   0.98  -1.56   0.15   2.39   2824    1.0\n",
      "mu[49]      -0.06    0.02   1.03  -2.13  -0.09   2.05   3707    1.0\n",
      "mu[50]      -0.34    0.02   0.96  -2.37  -0.31   1.49   3544    1.0\n",
      "mu[51]      -0.32    0.02   0.94  -2.26   -0.3    1.5   3795    1.0\n",
      "mu[52]      -0.72    0.02   1.01  -2.96  -0.62    1.0   1973    1.0\n",
      "mu[53]      -0.87    0.03   1.04  -3.23  -0.73   0.81   1602    1.0\n",
      "mu[54]      -0.86    0.03   1.07  -3.28  -0.73   0.87   1759    1.0\n",
      "mu[55]      -0.62    0.02   0.96  -2.67  -0.55   1.05   2525    1.0\n",
      "mu[56]      -0.19    0.01    0.9   -2.0   -0.2   1.59   4005    1.0\n",
      "mu[57]      -0.11    0.02    0.9  -1.92  -0.14   1.78   3527    1.0\n",
      "mu[58]       0.28    0.02    1.0  -1.44   0.17   2.52   1881    1.0\n",
      "mu[59]        0.4    0.03   1.06  -1.32   0.26   2.93   1546    1.0\n",
      "mu[60]       0.31    0.03   1.06  -1.44   0.17   2.86   1737    1.0\n",
      "mu[61]      -0.03    0.02   0.96  -1.77   -0.1   2.12   2706    1.0\n",
      "mu[62]      -0.71    0.02   0.96  -2.86  -0.64   1.03   3270    1.0\n",
      "mu[63]      -1.16    0.03   1.12  -3.82   -1.0   0.62   1801    1.0\n",
      "mu[64]      -1.44    0.03   1.21  -4.26  -1.27   0.44   1326    1.0\n",
      "mu[65]       -1.6    0.04   1.29  -4.65   -1.4   0.31   1297    1.0\n",
      "mu[66]      -1.67    0.04   1.31  -4.91  -1.47   0.25   1209    1.0\n",
      "mu[67]      -1.61    0.04   1.29  -4.63  -1.39   0.29   1256    1.0\n",
      "mu[68]      -1.47    0.03   1.24  -4.36  -1.28   0.44   1317    1.0\n",
      "mu[69]      -1.17    0.03   1.12  -3.73  -1.04   0.61   1743    1.0\n",
      "mu[70]      -0.73    0.02   1.01  -3.02  -0.66   1.01   3157    1.0\n",
      "mu[71]      -0.08    0.02   0.94  -1.95  -0.11   1.89   3694    1.0\n",
      "mu[72]        0.2    0.02   0.96  -1.53   0.13   2.27   2970    1.0\n",
      "mu[73]       0.21    0.02   0.94  -1.51   0.16   2.17   3661    1.0\n",
      "mu[74]        0.6    0.02   1.03  -1.17   0.49   2.93   2155    1.0\n",
      "mu[75]       0.78    0.03   1.06  -0.94   0.66   3.28   1784    1.0\n",
      "mu[76]       0.72    0.02   1.01  -0.96    0.6   3.02   2038    1.0\n",
      "mu[77]       0.46    0.02   0.93   -1.3   0.41   2.47   3563    1.0\n",
      "mu[78]       0.62    0.02   0.98  -1.09   0.55   2.84   2455    1.0\n",
      "mu[79]       0.56    0.02   0.97  -1.22   0.51   2.65   2607    1.0\n",
      "mu[80]       0.28    0.01   0.92   -1.5   0.25   2.23   3941    1.0\n",
      "mu[81]      -0.31    0.02    1.0  -2.54  -0.24   1.47   2303    1.0\n",
      "mu[82]      -0.63    0.03   1.12  -3.15  -0.48   1.18   1430    1.0\n",
      "mu[83]      -0.74    0.03   1.18  -3.46  -0.58   1.11   1214   1.01\n",
      "mu[84]      -0.65    0.03   1.16  -3.37  -0.53   1.25   1391    1.0\n",
      "mu[85]      -0.34    0.03   1.11  -2.84  -0.24   1.57   1878    1.0\n",
      "mu[86]        0.2    0.02   1.07  -1.97   0.24   2.29   3727    1.0\n",
      "mu[87]       0.44    0.02   1.23  -2.04   0.43   2.98   3779    1.0\n",
      "mu[88]       0.67    0.02   1.36  -2.02   0.62   3.67   4030    1.0\n",
      "mu[89]       0.87    0.02   1.37  -1.74   0.79   3.94   3748    1.0\n",
      "mu[90]       1.11    0.03   1.38  -1.31   1.01   4.24   2635    1.0\n",
      "mu[91]       1.34    0.03   1.35  -0.94    1.2   4.53   2551    1.0\n",
      "mu[92]       1.57    0.03   1.27  -0.47    1.4   4.57   1951    1.0\n",
      "mu[93]        1.7    0.03   1.24  -0.24   1.54    4.7   1678    1.0\n",
      "mu[94]       1.67    0.02   1.17  -0.28   1.56   4.34   2429    1.0\n",
      "mu[95]       1.53    0.02   1.14   -0.5   1.44   4.06   3859    1.0\n",
      "mu[96]       1.92    0.02   1.21  -0.05   1.78   4.74   2325    1.0\n",
      "mu[97]       2.23    0.03   1.32   0.27   2.01   5.49   1700    1.0\n",
      "mu[98]       2.45    0.04   1.38   0.36   2.24   5.74   1524    1.0\n",
      "mu[99]        2.6    0.04   1.48   0.45   2.35   6.14   1459    1.0\n",
      "mu[100]      2.69    0.04   1.51   0.52   2.42   6.34   1455    1.0\n",
      "mu[101]      2.73    0.04   1.54   0.51   2.46   6.47   1357   1.01\n",
      "mu[102]      2.71    0.04   1.51   0.51   2.46   6.46   1343   1.01\n",
      "mu[103]      2.65    0.04   1.51   0.49   2.39   6.37   1362    1.0\n",
      "mu[104]      2.56    0.04   1.46   0.48   2.31   6.26   1378    1.0\n",
      "mu[105]      2.39    0.03   1.38   0.38   2.19   5.75   1604    1.0\n",
      "mu[106]      2.16    0.03   1.26   0.26   1.97   5.28   1740    1.0\n",
      "mu[107]      1.85    0.02   1.15   0.03   1.72   4.53   2249    1.0\n",
      "mu[108]      1.41    0.02   1.05  -0.49   1.35   3.75   3718    1.0\n",
      "mu[109]      0.84    0.02   1.06  -1.46   0.88   2.76   2691    1.0\n",
      "mu[110]       0.7    0.02   1.08  -1.62   0.77   2.69   2241    1.0\n",
      "mu[111]      0.92    0.02   1.11  -1.29   0.91   3.13   3513    1.0\n",
      "mu[112]      0.91    0.02   1.27  -1.72   0.93   3.38   3851    1.0\n",
      "mu[113]      0.87    0.02   1.37  -2.08   0.88   3.51   3640    1.0\n",
      "mu[114]      0.85    0.02    1.4   -2.1   0.87   3.59   3489    1.0\n",
      "mu[115]      0.82    0.02   1.42  -2.13   0.84   3.61   3829    1.0\n",
      "mu[116]      0.78    0.02   1.35  -2.16   0.82   3.42   4038    1.0\n",
      "mu[117]      0.75    0.02   1.26  -1.88    0.8   3.11   3550    1.0\n",
      "mu[118]      0.73    0.02   1.12  -1.58   0.77   2.93   3072    1.0\n",
      "mu[119]      1.15    0.02   1.05   -0.8   1.08   3.46   3489    1.0\n",
      "mu[120]      1.36    0.02   1.06  -0.49   1.26   3.71   2795    1.0\n",
      "mu[121]      1.42    0.02   1.09  -0.39   1.32   3.94   2248    1.0\n",
      "mu[122]      1.36    0.02   1.05  -0.45   1.27   3.79   2810    1.0\n",
      "mu[123]      1.19    0.02   0.99  -0.59   1.14   3.36   3752    1.0\n",
      "mu[124]      0.81    0.02   0.95  -1.09   0.81    2.7   3975    1.0\n",
      "mu[125]      0.88    0.01   0.92  -0.89   0.86   2.83   4238    1.0\n",
      "mu[126]      0.75    0.02   0.93  -1.17   0.76   2.61   3682    1.0\n",
      "mu[127]      1.04    0.02   0.96  -0.71   0.98   3.14   2956    1.0\n",
      "mu[128]      1.13    0.02   1.01   -0.6   1.04   3.39   2401    1.0\n",
      "mu[129]      1.06    0.02   1.01  -0.64   0.96    3.4   2447    1.0\n",
      "mu[130]      0.81    0.02   0.94  -0.97   0.76    2.8   3348    1.0\n",
      "mu[131]      0.34    0.02   0.92  -1.67   0.39   2.05   2891    1.0\n",
      "mu[132]      0.22    0.02   0.91   -1.7   0.25   1.93   3059    1.0\n",
      "mu[133]      0.46    0.02   0.92  -1.29   0.42    2.4   3339    1.0\n",
      "mu[134]      0.42    0.02   0.91  -1.33   0.39    2.4   3589    1.0\n",
      "mu[135]       0.1    0.02   0.93  -1.84   0.11   1.83   3266    1.0\n",
      "mu[136]      0.13    0.02   0.91  -1.79   0.16   1.87   3678    1.0\n",
      "mu[137]     -0.19    0.02   0.98  -2.38  -0.09   1.52   2429    1.0\n",
      "mu[138]     -0.22    0.02   1.01  -2.57  -0.14   1.47   2125    1.0\n",
      "mu[139]      0.01    0.02   0.94  -2.01   0.05   1.76   3125    1.0\n",
      "mu[140]      0.56    0.02   0.97  -1.14   0.49   2.77   3154    1.0\n",
      "mu[141]      0.87    0.03    1.1  -0.85   0.75   3.33   1782    1.0\n",
      "mu[142]       1.0    0.03   1.17  -0.74   0.83   3.72   1447    1.0\n",
      "mu[143]      0.99    0.03   1.17  -0.79   0.82   3.77   1328    1.0\n",
      "mu[144]      0.83    0.03   1.15  -0.95   0.66   3.54   1455    1.0\n",
      "mu[145]      0.48    0.02   1.03  -1.21   0.36   2.89   2125    1.0\n",
      "mu[146]     -0.12    0.02   0.94  -1.97  -0.14   1.83   3695    1.0\n",
      "mu[147]     -0.36    0.02   0.94  -2.15  -0.35   1.59   3340    1.0\n",
      "mu[148]     -0.98    0.02   1.05  -3.41  -0.88   0.77   2128    1.0\n",
      "mu[149]     -1.44    0.03   1.19  -4.17  -1.25   0.37   1425    1.0\n",
      "mu[150]     -1.75    0.04   1.31  -4.81  -1.53   0.16   1249   1.01\n",
      "mu[151]     -1.98    0.04   1.38  -5.37  -1.75 3.2e-3   1186   1.01\n",
      "mu[152]     -2.12    0.04   1.42  -5.56  -1.87  -0.07   1090   1.01\n",
      "mu[153]     -2.19    0.04   1.43  -5.71  -1.95  -0.11   1140   1.01\n",
      "mu[154]     -2.18    0.04   1.41  -5.54  -1.95  -0.15   1117   1.01\n",
      "mu[155]     -2.12    0.04   1.38  -5.59  -1.91  -0.07   1190   1.01\n",
      "mu[156]     -1.95    0.03   1.29   -4.9  -1.77  -0.04   1434    1.0\n",
      "mu[157]     -1.72    0.03   1.17  -4.45  -1.59   0.19   1940    1.0\n",
      "mu[158]     -1.35    0.02   1.06  -3.64  -1.27   0.55   3009    1.0\n",
      "mu[159]     -1.55    0.03   1.11  -4.15  -1.41   0.24   1868    1.0\n",
      "mu[160]      -1.6    0.03   1.18  -4.32  -1.43   0.24   1604    1.0\n",
      "mu[161]     -1.52    0.03   1.16  -4.19  -1.37   0.33   1408    1.0\n",
      "mu[162]     -1.33    0.03   1.12  -3.89  -1.17   0.48   1546    1.0\n",
      "mu[163]     -1.01    0.02   1.05  -3.49   -0.9   0.75   2306    1.0\n",
      "mu[164]      -0.5    0.02   0.96   -2.5  -0.48   1.33   3763    1.0\n",
      "mu[165]      0.26    0.02   1.01  -1.47   0.16   2.53   2325    1.0\n",
      "mu[166]      0.74    0.03   1.15   -1.0   0.58   3.41   1460    1.0\n",
      "mu[167]      1.03    0.04   1.25  -0.81   0.83   3.96   1239    1.0\n",
      "mu[168]      1.16    0.04   1.29  -0.69   0.95   4.23   1221    1.0\n",
      "mu[169]      1.15    0.04   1.27  -0.69   0.94   4.15   1277    1.0\n",
      "mu[170]      1.01    0.03    1.2  -0.81   0.83    3.8   1415    1.0\n",
      "mu[171]       0.7    0.02   1.05  -1.03   0.58   3.13   1827    1.0\n",
      "mu[172]      0.22    0.01   0.93  -1.58   0.18   2.13   3822    1.0\n",
      "mu[173]      0.09    0.02   0.93  -1.68   0.05   2.05   3688    1.0\n",
      "mu[174]     -0.32    0.01   0.91  -2.29  -0.27   1.43   3705    1.0\n",
      "mu[175]     -0.48    0.02   0.94  -2.53  -0.42   1.21   3284    1.0\n",
      "mu[176]     -0.36    0.01    0.9  -2.27  -0.35   1.37   3909    1.0\n",
      "mu[177]     -0.65    0.02   0.95  -2.75  -0.59   1.08   3478    1.0\n",
      "mu[178]     -0.71    0.02   0.95  -2.83  -0.65   1.05   3598    1.0\n",
      "mu[179]     -0.53    0.02   0.96   -2.5  -0.52   1.31   3854    1.0\n",
      "mu[180]     -0.78    0.02   1.02  -2.99  -0.71   1.07   3652    1.0\n",
      "mu[181]      -0.8    0.02   1.04  -3.11  -0.73   1.07   3162    1.0\n",
      "mu[182]     -0.59    0.02   1.09  -2.86  -0.55   1.52   3809    1.0\n",
      "mu[183]     -0.81    0.02   1.24  -3.62  -0.74    1.5   3460    1.0\n",
      "s_w          0.74    0.02   0.39   0.21   0.68   1.71    582   1.01\n",
      "probs[1]     0.45  6.3e-3   0.29 7.8e-3   0.45   0.95   2150    1.0\n",
      "probs[2]     0.49  5.2e-3   0.29   0.01   0.49   0.96   3046    1.0\n",
      "probs[3]     0.52  4.8e-3   0.29   0.02   0.55   0.97   3594    1.0\n",
      "probs[4]     0.56  4.5e-3   0.28   0.03    0.6   0.98   3898    1.0\n",
      "probs[5]      0.6  4.3e-3   0.27   0.06   0.65   0.98   3993    1.0\n",
      "probs[6]     0.64  4.1e-3   0.26   0.09   0.69   0.99   4010    1.0\n",
      "probs[7]     0.68  3.8e-3   0.24   0.14   0.72   0.99   4011    1.0\n",
      "probs[8]     0.72  3.7e-3   0.21   0.24   0.76   0.99   3306    1.0\n",
      "probs[9]     0.73  3.7e-3   0.21   0.24   0.77   0.99   3065    1.0\n",
      "probs[10]    0.74  3.6e-3    0.2   0.28   0.78   0.99   2925    1.0\n",
      "probs[11]    0.76  3.7e-3   0.18   0.34   0.79   0.99   2311    1.0\n",
      "probs[12]    0.76  3.6e-3   0.17   0.35   0.79   0.99   2295    1.0\n",
      "probs[13]    0.73  3.4e-3   0.18   0.34   0.76   0.98   2767    1.0\n",
      "probs[14]    0.68  3.1e-3    0.2   0.24   0.71   0.97   3891    1.0\n",
      "probs[15]     0.7  3.2e-3    0.2   0.22   0.73   0.98   3934    1.0\n",
      "probs[16]    0.71  3.4e-3    0.2   0.25   0.75   0.99   3388    1.0\n",
      "probs[17]    0.73  3.7e-3   0.19    0.3   0.76   0.99   2657    1.0\n",
      "probs[18]    0.73  3.9e-3   0.19   0.32   0.76   0.99   2320    1.0\n",
      "probs[19]     0.7  3.9e-3    0.2   0.26   0.73   0.99   2747    1.0\n",
      "probs[20]    0.68  3.7e-3   0.21   0.23    0.7   0.98   3178    1.0\n",
      "probs[21]    0.65  3.6e-3   0.21   0.21   0.67   0.98   3327    1.0\n",
      "probs[22]    0.59  3.6e-3   0.22   0.13    0.6   0.96   3860    1.0\n",
      "probs[23]    0.52  3.7e-3   0.23   0.08   0.53   0.92   3791    1.0\n",
      "probs[24]    0.45  4.1e-3   0.22   0.05   0.45   0.85   2857    1.0\n",
      "probs[25]    0.43  4.0e-3   0.22   0.05   0.43   0.85   3079    1.0\n",
      "probs[26]    0.41  4.0e-3   0.21   0.05   0.41   0.81   2669    1.0\n",
      "probs[27]    0.44  3.4e-3   0.21   0.07   0.43   0.85   3672    1.0\n",
      "probs[28]    0.46  3.2e-3    0.2   0.11   0.45   0.86   3870    1.0\n",
      "probs[29]    0.42  3.1e-3   0.19   0.09   0.41   0.79   3762    1.0\n",
      "probs[30]    0.43  3.1e-3   0.19   0.11   0.41   0.83   3885    1.0\n",
      "probs[31]    0.37  2.9e-3   0.18   0.07   0.36   0.76   3879    1.0\n",
      "probs[32]    0.36  2.9e-3   0.18   0.07   0.34   0.77   3849    1.0\n",
      "probs[33]    0.28  3.3e-3   0.17   0.03   0.26   0.65   2570    1.0\n",
      "probs[34]    0.24  3.6e-3   0.16   0.01   0.21    0.6   1937    1.0\n",
      "probs[35]    0.22  3.7e-3   0.15 8.4e-3   0.19   0.56   1675    1.0\n",
      "probs[36]    0.21  3.8e-3   0.15 6.6e-3   0.18   0.55   1574    1.0\n",
      "probs[37]    0.21  3.9e-3   0.15 5.8e-3   0.18   0.55   1510    1.0\n",
      "probs[38]    0.22  4.1e-3   0.15 6.4e-3   0.19   0.57   1446    1.0\n",
      "probs[39]    0.24  4.0e-3   0.16   0.01   0.22    0.6   1674    1.0\n",
      "probs[40]    0.29  3.7e-3   0.17   0.02   0.27   0.65   2167    1.0\n",
      "probs[41]    0.37  3.2e-3   0.18   0.06   0.36   0.74   3267    1.0\n",
      "probs[42]    0.51  3.8e-3    0.2   0.15   0.51    0.9   2728    1.0\n",
      "probs[43]     0.6  4.5e-3    0.2   0.23   0.59   0.95   1959    1.0\n",
      "probs[44]    0.63  4.8e-3    0.2   0.26   0.63   0.97   1654    1.0\n",
      "probs[45]    0.64  4.8e-3   0.19   0.25   0.64   0.96   1648    1.0\n",
      "probs[46]    0.61  4.1e-3   0.19   0.25   0.61   0.95   2200    1.0\n",
      "probs[47]    0.54  3.1e-3   0.19   0.17   0.54   0.91   3806    1.0\n",
      "probs[48]    0.54  3.6e-3    0.2   0.17   0.54   0.92   2986    1.0\n",
      "probs[49]    0.49  3.4e-3   0.21   0.11   0.48   0.89   3627    1.0\n",
      "probs[50]    0.43  3.2e-3   0.19   0.09   0.42   0.82   3632    1.0\n",
      "probs[51]    0.43  3.1e-3   0.19   0.09   0.43   0.82   3789    1.0\n",
      "probs[52]    0.36  3.7e-3   0.18   0.05   0.35   0.73   2427    1.0\n",
      "probs[53]    0.33  4.2e-3   0.18   0.04   0.32   0.69   1796    1.0\n",
      "probs[54]    0.34  3.9e-3   0.18   0.04   0.32    0.7   2099    1.0\n",
      "probs[55]    0.38  3.3e-3   0.18   0.06   0.37   0.74   2947    1.0\n",
      "probs[56]    0.46  3.0e-3   0.19   0.12   0.45   0.83   4038    1.0\n",
      "probs[57]    0.48  3.2e-3   0.19   0.13   0.47   0.86   3489    1.0\n",
      "probs[58]    0.55  4.4e-3    0.2   0.19   0.54   0.93   2002    1.0\n",
      "probs[59]    0.57  4.8e-3    0.2   0.21   0.56   0.95   1677    1.0\n",
      "probs[60]    0.55  4.7e-3    0.2   0.19   0.54   0.95   1874    1.0\n",
      "probs[61]    0.49  3.7e-3    0.2   0.15   0.48   0.89   2832    1.0\n",
      "probs[62]    0.36  3.0e-3   0.18   0.05   0.35   0.74   3630    1.0\n",
      "probs[63]    0.28  3.8e-3   0.17   0.02   0.27   0.65   2034    1.0\n",
      "probs[64]    0.24  4.2e-3   0.16   0.01   0.22   0.61   1514    1.0\n",
      "probs[65]    0.22  4.2e-3   0.16 9.4e-3    0.2   0.58   1421    1.0\n",
      "probs[66]    0.22  4.4e-3   0.15 7.3e-3   0.19   0.56   1225    1.0\n",
      "probs[67]    0.22  4.3e-3   0.16 9.7e-3    0.2   0.57   1297    1.0\n",
      "probs[68]    0.24  4.5e-3   0.16   0.01   0.22   0.61   1306    1.0\n",
      "probs[69]    0.28  3.9e-3   0.17   0.02   0.26   0.65   1885    1.0\n",
      "probs[70]    0.35  3.1e-3   0.18   0.05   0.34   0.73   3525    1.0\n",
      "probs[71]    0.48  3.1e-3   0.19   0.13   0.47   0.87   3770    1.0\n",
      "probs[72]    0.54  3.4e-3   0.19   0.18   0.53   0.91   3175    1.0\n",
      "probs[73]    0.54  3.1e-3   0.19   0.18   0.54    0.9   3840    1.0\n",
      "probs[74]    0.62  3.8e-3   0.19   0.24   0.62   0.95   2506    1.0\n",
      "probs[75]    0.65  4.1e-3   0.18   0.28   0.66   0.96   2013    1.0\n",
      "probs[76]    0.64  3.8e-3   0.18   0.28   0.64   0.95   2268    1.0\n",
      "probs[77]    0.59  3.0e-3   0.19   0.21    0.6   0.92   3749    1.0\n",
      "probs[78]    0.62  3.5e-3   0.18   0.25   0.63   0.94   2717    1.0\n",
      "probs[79]    0.61  3.4e-3   0.19   0.23   0.62   0.93   2972    1.0\n",
      "probs[80]    0.56  3.0e-3   0.19   0.18   0.56    0.9   3964    1.0\n",
      "probs[81]    0.44  3.9e-3    0.2   0.07   0.44   0.81   2526    1.0\n",
      "probs[82]    0.38  5.0e-3    0.2   0.04   0.38   0.76   1571    1.0\n",
      "probs[83]    0.36  5.6e-3    0.2   0.03   0.36   0.75   1302   1.01\n",
      "probs[84]    0.38  5.4e-3   0.21   0.03   0.37   0.78   1480    1.0\n",
      "probs[85]    0.44  4.8e-3   0.21   0.06   0.44   0.83   1927    1.0\n",
      "probs[86]    0.54  3.4e-3   0.21   0.12   0.56   0.91   3720    1.0\n",
      "probs[87]    0.59  3.6e-3   0.23   0.11   0.61   0.95   3815    1.0\n",
      "probs[88]    0.62  3.6e-3   0.23   0.12   0.65   0.98   3954    1.0\n",
      "probs[89]    0.66  3.6e-3   0.22   0.15   0.69   0.98   3793    1.0\n",
      "probs[90]     0.7  3.6e-3   0.21   0.21   0.73   0.99   3440    1.0\n",
      "probs[91]    0.73  3.1e-3   0.19   0.28   0.77   0.99   3742    1.0\n",
      "probs[92]    0.77  3.3e-3   0.17   0.39    0.8   0.99   2565    1.0\n",
      "probs[93]    0.79  3.1e-3   0.15   0.44   0.82   0.99   2377    1.0\n",
      "probs[94]    0.79  2.7e-3   0.15   0.43   0.83   0.99   3150    1.0\n",
      "probs[95]    0.78  2.6e-3   0.16   0.38   0.81   0.98   3958    1.0\n",
      "probs[96]    0.82  2.4e-3   0.13   0.49   0.86   0.99   3079    1.0\n",
      "probs[97]    0.85  2.6e-3   0.12   0.57   0.88    1.0   2135    1.0\n",
      "probs[98]    0.87  2.6e-3   0.11   0.59    0.9    1.0   1844    1.0\n",
      "probs[99]    0.88  2.5e-3   0.11   0.61   0.91    1.0   1876    1.0\n",
      "probs[100]   0.89  2.4e-3    0.1   0.63   0.92    1.0   1851    1.0\n",
      "probs[101]   0.89  2.4e-3    0.1   0.63   0.92    1.0   1819    1.0\n",
      "probs[102]   0.89  2.4e-3    0.1   0.63   0.92    1.0   1873    1.0\n",
      "probs[103]   0.89  2.4e-3    0.1   0.62   0.92    1.0   1897    1.0\n",
      "probs[104]   0.88  2.5e-3   0.11   0.62   0.91    1.0   1804    1.0\n",
      "probs[105]   0.87  2.4e-3   0.11   0.59    0.9    1.0   2294    1.0\n",
      "probs[106]   0.85  2.4e-3   0.12   0.56   0.88   0.99   2461    1.0\n",
      "probs[107]   0.82  2.3e-3   0.13   0.51   0.85   0.99   3191    1.0\n",
      "probs[108]   0.76  2.5e-3   0.16   0.38   0.79   0.98   3845    1.0\n",
      "probs[109]   0.67  4.0e-3    0.2   0.19   0.71   0.94   2470    1.0\n",
      "probs[110]   0.64  4.5e-3   0.21   0.17   0.68   0.94   2107    1.0\n",
      "probs[111]   0.68  3.5e-3    0.2   0.22   0.71   0.96   3196    1.0\n",
      "probs[112]   0.67  3.7e-3   0.22   0.15   0.72   0.97   3467    1.0\n",
      "probs[113]   0.66  3.9e-3   0.23   0.11   0.71   0.97   3435    1.0\n",
      "probs[114]   0.66  4.2e-3   0.23   0.11    0.7   0.97   3056    1.0\n",
      "probs[115]   0.65  4.0e-3   0.23   0.11    0.7   0.97   3393    1.0\n",
      "probs[116]   0.65  3.9e-3   0.23    0.1   0.69   0.97   3457    1.0\n",
      "probs[117]   0.65  3.9e-3   0.22   0.13   0.69   0.96   3230    1.0\n",
      "probs[118]   0.65  4.0e-3   0.21   0.17   0.68   0.95   2629    1.0\n",
      "probs[119]   0.72  2.8e-3   0.17   0.31   0.75   0.97   3808    1.0\n",
      "probs[120]   0.75  2.8e-3   0.16   0.38   0.78   0.98   3159    1.0\n",
      "probs[121]   0.76  2.9e-3   0.15    0.4   0.79   0.98   2882    1.0\n",
      "probs[122]   0.75  2.6e-3   0.16   0.39   0.78   0.98   3492    1.0\n",
      "probs[123]   0.73  2.5e-3   0.16   0.36   0.76   0.97   3939    1.0\n",
      "probs[124]   0.67  2.9e-3   0.18   0.25   0.69   0.94   3856    1.0\n",
      "probs[125]   0.68  2.6e-3   0.17   0.29    0.7   0.94   4205    1.0\n",
      "probs[126]   0.66  3.0e-3   0.18   0.24   0.68   0.93   3606    1.0\n",
      "probs[127]    0.7  2.9e-3   0.17   0.33   0.73   0.96   3270    1.0\n",
      "probs[128]   0.72  3.0e-3   0.16   0.35   0.74   0.97   2868    1.0\n",
      "probs[129]   0.71  3.0e-3   0.17   0.35   0.72   0.97   2988    1.0\n",
      "probs[130]   0.67  2.8e-3   0.17   0.27   0.68   0.94   3759    1.0\n",
      "probs[131]   0.57  3.5e-3   0.19   0.16    0.6   0.89   2954    1.0\n",
      "probs[132]   0.55  3.4e-3   0.19   0.16   0.56   0.87   3015    1.0\n",
      "probs[133]    0.6  3.1e-3   0.18   0.22    0.6   0.92   3536    1.0\n",
      "probs[134]   0.59  3.0e-3   0.18   0.21    0.6   0.92   3676    1.0\n",
      "probs[135]   0.52  3.3e-3   0.19   0.14   0.53   0.86   3323    1.0\n",
      "probs[136]   0.53  3.1e-3   0.19   0.14   0.54   0.87   3711    1.0\n",
      "probs[137]   0.47  3.9e-3    0.2   0.08   0.48   0.82   2604    1.0\n",
      "probs[138]   0.46  4.2e-3    0.2   0.07   0.47   0.81   2248    1.0\n",
      "probs[139]   0.51  3.3e-3   0.19   0.12   0.51   0.85   3416    1.0\n",
      "probs[140]   0.61  3.2e-3   0.18   0.24   0.62   0.94   3436    1.0\n",
      "probs[141]   0.67  4.0e-3   0.18    0.3   0.68   0.97   2069    1.0\n",
      "probs[142]   0.68  4.5e-3   0.18   0.32    0.7   0.98   1587    1.0\n",
      "probs[143]   0.68  4.9e-3   0.19   0.31   0.69   0.98   1462    1.0\n",
      "probs[144]   0.65  4.7e-3   0.19   0.28   0.66   0.97   1658    1.0\n",
      "probs[145]   0.59  4.0e-3   0.19   0.23   0.59   0.95   2397    1.0\n",
      "probs[146]   0.47  3.1e-3   0.19   0.12   0.47   0.86   3907    1.0\n",
      "probs[147]   0.42  3.2e-3   0.19    0.1   0.41   0.83   3414    1.0\n",
      "probs[148]   0.31  3.4e-3   0.17   0.03   0.29   0.68   2560    1.0\n",
      "probs[149]   0.24  3.7e-3   0.16   0.02   0.22   0.59   1851    1.0\n",
      "probs[150]    0.2  3.7e-3   0.15 8.1e-3   0.18   0.54   1538    1.0\n",
      "probs[151]   0.18  3.7e-3   0.14 4.6e-3   0.15    0.5   1381   1.01\n",
      "probs[152]   0.16  3.7e-3   0.13 3.8e-3   0.13   0.48   1300   1.01\n",
      "probs[153]   0.16  3.7e-3   0.13 3.3e-3   0.13   0.47   1250   1.01\n",
      "probs[154]   0.16  3.6e-3   0.13 3.9e-3   0.12   0.46   1270   1.01\n",
      "probs[155]   0.16  3.6e-3   0.13 3.7e-3   0.13   0.48   1371   1.01\n",
      "probs[156]   0.18  3.4e-3   0.14 7.4e-3   0.14   0.49   1571   1.01\n",
      "probs[157]    0.2  3.1e-3   0.14   0.01   0.17   0.55   2120    1.0\n",
      "probs[158]   0.25  2.8e-3   0.16   0.03   0.22   0.63   3283    1.0\n",
      "probs[159]   0.22  3.1e-3   0.15   0.02    0.2   0.56   2214    1.0\n",
      "probs[160]   0.22  3.3e-3   0.15   0.01   0.19   0.56   2037    1.0\n",
      "probs[161]   0.23  3.7e-3   0.15   0.01    0.2   0.58   1766    1.0\n",
      "probs[162]   0.26  3.7e-3   0.16   0.02   0.24   0.62   1867    1.0\n",
      "probs[163]   0.31  3.2e-3   0.17   0.03   0.29   0.68   2823    1.0\n",
      "probs[164]    0.4  3.0e-3   0.19   0.08   0.38   0.79   3833    1.0\n",
      "probs[165]   0.55  4.0e-3    0.2   0.19   0.54   0.93   2404    1.0\n",
      "probs[166]   0.64  5.0e-3   0.19   0.27   0.64   0.97   1499    1.0\n",
      "probs[167]   0.68  5.4e-3   0.19   0.31    0.7   0.98   1225    1.0\n",
      "probs[168]   0.71  5.4e-3   0.18   0.34   0.72   0.99   1182    1.0\n",
      "probs[169]    0.7  5.2e-3   0.18   0.33   0.72   0.98   1262    1.0\n",
      "probs[170]   0.68  4.9e-3   0.19   0.31    0.7   0.98   1419    1.0\n",
      "probs[171]   0.63  4.3e-3   0.19   0.26   0.64   0.96   1959    1.0\n",
      "probs[172]   0.54  3.0e-3   0.19   0.17   0.55   0.89   3833    1.0\n",
      "probs[173]   0.52  3.1e-3   0.19   0.16   0.51   0.89   3897    1.0\n",
      "probs[174]   0.43  3.0e-3   0.19   0.09   0.43   0.81   3864    1.0\n",
      "probs[175]    0.4  3.0e-3   0.19   0.07    0.4   0.77   3881    1.0\n",
      "probs[176]   0.42  3.0e-3   0.18   0.09   0.41    0.8   3909    1.0\n",
      "probs[177]   0.37  3.0e-3   0.18   0.06   0.36   0.75   3723    1.0\n",
      "probs[178]   0.36  2.9e-3   0.18   0.06   0.34   0.74   3857    1.0\n",
      "probs[179]   0.39  3.0e-3   0.19   0.08   0.37   0.79   3874    1.0\n",
      "probs[180]   0.35  3.0e-3   0.19   0.05   0.33   0.74   3827    1.0\n",
      "probs[181]   0.34  3.2e-3   0.19   0.04   0.32   0.74   3472    1.0\n",
      "probs[182]   0.38  3.3e-3   0.21   0.05   0.37   0.82   3808    1.0\n",
      "probs[183]   0.35  3.4e-3   0.21   0.03   0.32   0.82   3910    1.0\n",
      "lp__       -96.76    3.76  86.34 -252.7 -104.4  88.46    527   1.01\n",
      "\n",
      "Samples were drawn using NUTS at Sun Sep 13 15:30:56 2020.\n",
      "For each parameter, n_eff is a crude measure of effective sample size,\n",
      "and Rhat is the potential scale reduction factor on split chains (at \n",
      "convergence, Rhat=1).\n"
     ]
    }
   ],
   "source": [
    "print(dglm_binom.stansummary(probs=[0.025, 0.5, 0.975]))"
   ]
  },
  {
   "cell_type": "markdown",
   "metadata": {},
   "source": [
    "# 推定された状態の図示\n",
    "## 時間ラベルの作成"
   ]
  },
  {
   "cell_type": "code",
   "execution_count": 98,
   "metadata": {
    "ExecuteTime": {
     "end_time": "2020-09-13T06:45:57.737348Z",
     "start_time": "2020-09-13T06:45:57.729367Z"
    }
   },
   "outputs": [
    {
     "name": "stdout",
     "output_type": "stream",
     "text": [
      "DatetimeIndex(['1829-01-01', '1830-01-01', '1831-01-01'], dtype='datetime64[ns]', freq='12MS')\n"
     ]
    }
   ],
   "source": [
    "years = pd.date_range('1829-01-01', periods=len(boat), freq='12MS')\n",
    "print(years[:3])"
   ]
  },
  {
   "cell_type": "markdown",
   "metadata": {
    "ExecuteTime": {
     "end_time": "2020-09-13T06:43:59.503828Z",
     "start_time": "2020-09-13T06:43:59.497845Z"
    }
   },
   "source": [
    "## MCMCサンプルの取得"
   ]
  },
  {
   "cell_type": "code",
   "execution_count": 99,
   "metadata": {
    "ExecuteTime": {
     "end_time": "2020-09-13T06:46:58.022771Z",
     "start_time": "2020-09-13T06:46:58.000830Z"
    }
   },
   "outputs": [],
   "source": [
    "mcmc_sample = dglm_binom.extract()"
   ]
  },
  {
   "cell_type": "markdown",
   "metadata": {},
   "source": [
    "## ケンブリッジ大学の勝率の推移のグラフ"
   ]
  },
  {
   "cell_type": "code",
   "execution_count": 103,
   "metadata": {
    "ExecuteTime": {
     "end_time": "2020-09-13T06:48:46.588811Z",
     "start_time": "2020-09-13T06:48:46.402282Z"
    }
   },
   "outputs": [
    {
     "data": {
      "image/png": "[encoded data removed]",
      "text/plain": [
       "<Figure size 720x360 with 1 Axes>"
      ]
     },
     "metadata": {},
     "output_type": "display_data"
    }
   ],
   "source": [
    "fig, ax = plt.subplots(1, 1, figsize=(10, 5))\n",
    "\n",
    "p = plotSSM(mcmc_sample=mcmc_sample,\n",
    "                time_vec=years,\n",
    "                obs_vec=boat_omit_NA['victory or defeat'].astype(int),\n",
    "                state_name='probs',\n",
    "                graph_title='ケンブリッジ大学の勝率の推移',\n",
    "                y_label='勝率',\n",
    "                axes=ax)\n",
    "\n",
    "plt.show()"
   ]
  },
  {
   "cell_type": "markdown",
   "metadata": {},
   "source": [
    "## ケンブリッジ大学の平均勝率"
   ]
  },
  {
   "cell_type": "code",
   "execution_count": 104,
   "metadata": {
    "ExecuteTime": {
     "end_time": "2020-09-13T06:49:24.718232Z",
     "start_time": "2020-09-13T06:49:24.713244Z"
    }
   },
   "outputs": [
    {
     "data": {
      "text/plain": [
       "0.5161290322580645"
      ]
     },
     "execution_count": 104,
     "metadata": {},
     "output_type": "execute_result"
    }
   ],
   "source": [
    "boat_omit_NA['victory or defeat'].mean()"
   ]
  },
  {
   "cell_type": "code",
   "execution_count": null,
   "metadata": {},
   "outputs": [],
   "source": []
  }
 ],
 "metadata": {
  "kernelspec": {
   "display_name": "Python 3",
   "language": "python",
   "name": "python3"
  },
  "language_info": {
   "codemirror_mode": {
    "name": "ipython",
    "version": 3
   },
   "file_extension": ".py",
   "mimetype": "text/x-python",
   "name": "python",
   "nbconvert_exporter": "python",
   "pygments_lexer": "ipython3",
   "version": "3.7.6"
  },
  "toc": {
   "base_numbering": 1,
   "nav_menu": {},
   "number_sections": true,
   "sideBar": true,
   "skip_h1_title": false,
   "title_cell": "Table of Contents",
   "title_sidebar": "Contents",
   "toc_cell": false,
   "toc_position": {},
   "toc_section_display": true,
   "toc_window_display": false
  },
  "varInspector": {
   "cols": {
    "lenName": 16,
    "lenType": 16,
    "lenVar": 40
   },
   "kernels_config": {
    "python": {
     "delete_cmd_postfix": "",
     "delete_cmd_prefix": "del ",
     "library": "var_list.py",
     "varRefreshCmd": "print(var_dic_list())"
    },
    "r": {
     "delete_cmd_postfix": ") ",
     "delete_cmd_prefix": "rm(",
     "library": "var_list.r",
     "varRefreshCmd": "cat(var_dic_list()) "
    }
   },
   "types_to_exclude": [
    "module",
    "function",
    "builtin_function_or_method",
    "instance",
    "_Feature"
   ],
   "window_display": false
  }
 },
 "nbformat": 4,
 "nbformat_minor": 4
}
