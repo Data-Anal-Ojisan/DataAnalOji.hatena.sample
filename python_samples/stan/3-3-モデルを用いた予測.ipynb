{
 "cells": [
  {
   "cell_type": "markdown",
   "metadata": {
    "ExecuteTime": {
     "end_time": "2020-07-13T13:42:54.599589Z",
     "start_time": "2020-07-13T13:42:54.594602Z"
    }
   },
   "source": [
    "「RとStanで始めるベイズ統計モデリングによるデータ分析入門 実践編第3章」を対象に，公開されているR，Stanのコードをpython，pystanのコードへと書き直した一例です。\n",
    "\n",
    "本ページでは公開されていない書籍の内容については一切触れません。理論や詳しい説明は書籍を参照してください。\n",
    "\n",
    "なお，こちらで紹介しているコードには誤りが含まれる可能性があります。内容やコードについてお気づきの点等ございましたら，ご指摘いただけると幸いです。"
   ]
  },
  {
   "cell_type": "markdown",
   "metadata": {},
   "source": [
    "# 分析の準備\n",
    "\n",
    "## パッケージの読み込み"
   ]
  },
  {
   "cell_type": "code",
   "execution_count": 5,
   "metadata": {
    "ExecuteTime": {
     "end_time": "2020-07-13T13:47:32.338249Z",
     "start_time": "2020-07-13T13:47:32.332265Z"
    }
   },
   "outputs": [],
   "source": [
    "import arviz\n",
    "import pystan\n",
    "import numpy as np\n",
    "import pandas as pd\n",
    "\n",
    "%matplotlib inline\n",
    "import matplotlib.pyplot as plt\n",
    "plt.style.use('ggplot')\n",
    "plt.rcParams['font.family'] = 'Meiryo'"
   ]
  },
  {
   "cell_type": "markdown",
   "metadata": {},
   "source": [
    "## 分析対象のデータ"
   ]
  },
  {
   "cell_type": "code",
   "execution_count": 3,
   "metadata": {
    "ExecuteTime": {
     "end_time": "2020-07-13T13:44:59.914727Z",
     "start_time": "2020-07-13T13:44:59.908718Z"
    }
   },
   "outputs": [],
   "source": [
    "file_beer_sales_2 = pd.read_csv('3-2-1-beer-sales-2.csv')"
   ]
  },
  {
   "cell_type": "markdown",
   "metadata": {},
   "source": [
    "## サンプルサイズ"
   ]
  },
  {
   "cell_type": "code",
   "execution_count": 4,
   "metadata": {
    "ExecuteTime": {
     "end_time": "2020-07-13T13:45:13.704734Z",
     "start_time": "2020-07-13T13:45:13.701740Z"
    }
   },
   "outputs": [],
   "source": [
    "sample_size = len(file_beer_sales_2)"
   ]
  },
  {
   "cell_type": "markdown",
   "metadata": {},
   "source": [
    "# 予測のためのデータの整理"
   ]
  },
  {
   "cell_type": "markdown",
   "metadata": {},
   "source": [
    "## 気温を11度から30度まで変化させて、その時の売り上げを予測する"
   ]
  },
  {
   "cell_type": "code",
   "execution_count": 9,
   "metadata": {
    "ExecuteTime": {
     "end_time": "2020-07-13T13:49:14.505440Z",
     "start_time": "2020-07-13T13:49:14.500482Z"
    }
   },
   "outputs": [
    {
     "name": "stdout",
     "output_type": "stream",
     "text": [
      "[11. 12. 13. 14. 15. 16. 17. 18. 19. 20. 21. 22. 23. 24. 25. 26. 27. 28.\n",
      " 29. 30.]\n"
     ]
    }
   ],
   "source": [
    "temperature_pred = np.linspace(start=11, stop=30, num=20)\n",
    "print(temperature_pred)"
   ]
  },
  {
   "cell_type": "markdown",
   "metadata": {},
   "source": [
    "## dictにまとめる\n",
    "\n",
    "rstanでは入力データをlist形式にまとめたのに対し，pystanでは入力データをdictionary形式にまとめる。"
   ]
  },
  {
   "cell_type": "code",
   "execution_count": 11,
   "metadata": {
    "ExecuteTime": {
     "end_time": "2020-07-13T13:51:27.521419Z",
     "start_time": "2020-07-13T13:51:27.517403Z"
    }
   },
   "outputs": [],
   "source": [
    "data_list_pred = dict(N=sample_size,\n",
    "                      sales=file_beer_sales_2['sales'],\n",
    "                      temperature=file_beer_sales_2['temperature'],\n",
    "                      N_pred=len(temperature_pred),\n",
    "                      temperature_pred=temperature_pred)"
   ]
  },
  {
   "cell_type": "markdown",
   "metadata": {
    "ExecuteTime": {
     "end_time": "2020-07-13T13:51:30.907886Z",
     "start_time": "2020-07-13T13:51:30.900905Z"
    }
   },
   "source": [
    "# MCMCの実行"
   ]
  },
  {
   "cell_type": "markdown",
   "metadata": {},
   "source": [
    "## MCMCの実行"
   ]
  },
  {
   "cell_type": "code",
   "execution_count": 13,
   "metadata": {
    "ExecuteTime": {
     "end_time": "2020-07-13T13:53:37.293819Z",
     "start_time": "2020-07-13T13:52:56.195740Z"
    }
   },
   "outputs": [
    {
     "name": "stderr",
     "output_type": "stream",
     "text": [
      "WARNING:pystan:DeprecationWarning: pystan.stan was deprecated in version 2.17 and will be removed in version 3.0. Compile and use a Stan program in separate steps.\n",
      "INFO:pystan:COMPILING THE C++ CODE FOR MODEL anon_model_b9ba45baf41873b2dc42b9a64b7e03ff NOW.\n"
     ]
    }
   ],
   "source": [
    "mcmc_result_pred = pystan.stan(file='3-3-1-simple-lm-pred.stan',\n",
    "                               data=data_list_pred,\n",
    "                               seed=1)"
   ]
  },
  {
   "cell_type": "markdown",
   "metadata": {},
   "source": [
    "## 結果の表示"
   ]
  },
  {
   "cell_type": "code",
   "execution_count": 14,
   "metadata": {
    "ExecuteTime": {
     "end_time": "2020-07-13T13:53:38.034228Z",
     "start_time": "2020-07-13T13:53:37.823640Z"
    }
   },
   "outputs": [
    {
     "name": "stdout",
     "output_type": "stream",
     "text": [
      "Inference for Stan model: anon_model_b9ba45baf41873b2dc42b9a64b7e03ff.\n",
      "4 chains, each with iter=2000; warmup=1000; thin=1; \n",
      "post-warmup draws per chain=1000, total post-warmup draws=4000.\n",
      "\n",
      "                 mean se_mean     sd   2.5%    50%  97.5%  n_eff   Rhat\n",
      "Intercept       20.85    0.16   5.94    8.8   20.9  32.12   1431    1.0\n",
      "beta             2.48  7.8e-3   0.29   1.92   2.47   3.07   1395    1.0\n",
      "sigma           17.08    0.03   1.22  14.94  17.01  19.66   1995    1.0\n",
      "mu_pred[1]      48.09    0.07   3.03  42.09  48.15  53.77   1668    1.0\n",
      "mu_pred[2]      50.57    0.07   2.79  45.02  50.65  55.81   1744    1.0\n",
      "mu_pred[3]      53.05    0.06   2.57  47.98  53.11  57.93   1849    1.0\n",
      "mu_pred[4]      55.52    0.05   2.36  50.87  55.58  60.04   1999    1.0\n",
      "mu_pred[5]       58.0    0.05   2.17  53.76  58.04  62.18   2209    1.0\n",
      "mu_pred[6]      60.48    0.04    2.0  56.61  60.51  64.35   2496    1.0\n",
      "mu_pred[7]      62.96    0.03   1.87  59.32  62.97  66.58   2910    1.0\n",
      "mu_pred[8]      65.43    0.03   1.77  62.01  65.45  68.91   3467    1.0\n",
      "mu_pred[9]      67.91    0.03   1.72  64.57  67.93  71.26   4078    1.0\n",
      "mu_pred[10]     70.39    0.03   1.71  67.03  70.39   73.7   4344    1.0\n",
      "mu_pred[11]     72.86    0.03   1.76  69.38  72.87  76.23   4309    1.0\n",
      "mu_pred[12]     75.34    0.03   1.84  71.61  75.34  78.84   3955    1.0\n",
      "mu_pred[13]     77.82    0.03   1.97  73.96  77.83  81.53   3309    1.0\n",
      "mu_pred[14]      80.3    0.04   2.13  76.14  80.31  84.36   2793    1.0\n",
      "mu_pred[15]     82.77    0.05   2.32  78.23  82.78  87.21   2434    1.0\n",
      "mu_pred[16]     85.25    0.05   2.52  80.26  85.26  90.11   2194    1.0\n",
      "mu_pred[17]     87.73    0.06   2.74  82.32  87.75   93.0   2031    1.0\n",
      "mu_pred[18]      90.2    0.07   2.97  84.33  90.22  95.98   1912    1.0\n",
      "mu_pred[19]     92.68    0.08   3.22  86.36   92.7  98.97   1824    1.0\n",
      "mu_pred[20]     95.16    0.08   3.46  88.39  95.16 101.94   1756    1.0\n",
      "sales_pred[1]   48.69    0.27   17.2  14.83  48.56  83.47   3979    1.0\n",
      "sales_pred[2]   50.69    0.27  16.98   16.7  50.69  84.54   4012    1.0\n",
      "sales_pred[3]   53.38    0.28  17.22  19.23  53.73  86.85   3780    1.0\n",
      "sales_pred[4]   55.68    0.28  17.19   22.9   55.3  89.17   3869    1.0\n",
      "sales_pred[5]   58.81    0.28  17.38  24.76  58.95   91.7   3960    1.0\n",
      "sales_pred[6]   60.19    0.29  17.06  26.22  60.13  94.16   3569    1.0\n",
      "sales_pred[7]   63.11    0.29  17.28  29.33  63.29  96.12   3667    1.0\n",
      "sales_pred[8]   65.19    0.28  17.41  30.81  65.17  99.03   3830    1.0\n",
      "sales_pred[9]   68.24    0.29  17.39  34.04  68.62 103.56   3708    1.0\n",
      "sales_pred[10]  70.54    0.27  17.02  37.18   70.4 103.92   3998    1.0\n",
      "sales_pred[11]  72.45    0.27  17.12  38.49  72.42 105.49   4017    1.0\n",
      "sales_pred[12]   75.4    0.29  17.05   42.4  75.09 108.89   3547    1.0\n",
      "sales_pred[13]  77.53    0.27  17.26  42.95  77.49 112.06   4177    1.0\n",
      "sales_pred[14]  80.48    0.27  17.23  47.36  80.61 113.69   4028    1.0\n",
      "sales_pred[15]  82.39    0.27  17.21  49.56  81.77 116.55   3921    1.0\n",
      "sales_pred[16]  85.29    0.28  17.34   51.3  85.41 120.09   3896    1.0\n",
      "sales_pred[17]  87.84    0.28  17.24  54.03  87.65 121.29   3866    1.0\n",
      "sales_pred[18]  90.36    0.27   17.3  57.11  90.12 124.67   4000    1.0\n",
      "sales_pred[19]  92.62    0.28  17.52  58.95  92.53 127.65   3903    1.0\n",
      "sales_pred[20]  95.19    0.29  17.46  60.65  95.29  129.4   3602    1.0\n",
      "lp__           -330.1    0.03   1.22 -333.4 -329.8 -328.7   1356    1.0\n",
      "\n",
      "Samples were drawn using NUTS at Mon Jul 13 22:53:37 2020.\n",
      "For each parameter, n_eff is a crude measure of effective sample size,\n",
      "and Rhat is the potential scale reduction factor on split chains (at \n",
      "convergence, Rhat=1).\n"
     ]
    }
   ],
   "source": [
    "print(mcmc_result_pred.stansummary(probs=[0.025, 0.5, 0.975]))"
   ]
  },
  {
   "cell_type": "markdown",
   "metadata": {},
   "source": [
    "# 予測分布の図示"
   ]
  },
  {
   "cell_type": "code",
   "execution_count": null,
   "metadata": {},
   "outputs": [],
   "source": []
  }
 ],
 "metadata": {
  "kernelspec": {
   "display_name": "Python 3",
   "language": "python",
   "name": "python3"
  },
  "language_info": {
   "codemirror_mode": {
    "name": "ipython",
    "version": 3
   },
   "file_extension": ".py",
   "mimetype": "text/x-python",
   "name": "python",
   "nbconvert_exporter": "python",
   "pygments_lexer": "ipython3",
   "version": "3.7.6"
  },
  "toc": {
   "base_numbering": 1,
   "nav_menu": {},
   "number_sections": true,
   "sideBar": true,
   "skip_h1_title": false,
   "title_cell": "Table of Contents",
   "title_sidebar": "Contents",
   "toc_cell": false,
   "toc_position": {},
   "toc_section_display": true,
   "toc_window_display": false
  },
  "varInspector": {
   "cols": {
    "lenName": 16,
    "lenType": 16,
    "lenVar": 40
   },
   "kernels_config": {
    "python": {
     "delete_cmd_postfix": "",
     "delete_cmd_prefix": "del ",
     "library": "var_list.py",
     "varRefreshCmd": "print(var_dic_list())"
    },
    "r": {
     "delete_cmd_postfix": ") ",
     "delete_cmd_prefix": "rm(",
     "library": "var_list.r",
     "varRefreshCmd": "cat(var_dic_list()) "
    }
   },
   "types_to_exclude": [
    "module",
    "function",
    "builtin_function_or_method",
    "instance",
    "_Feature"
   ],
   "window_display": true
  }
 },
 "nbformat": 4,
 "nbformat_minor": 4
}
