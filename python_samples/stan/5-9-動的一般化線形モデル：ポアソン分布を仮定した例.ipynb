{
 "cells": [
  {
   "cell_type": "markdown",
   "metadata": {},
   "source": [
    "　「RとStanで始めるベイズ統計モデリングによるデータ分析入門」「実践編第5部第9章 動的一般化線形モデル：ポアソン分布を仮定した例」を対象に，公開されているR，Stanのコードをpython，pystanのコードへと書き直した一例です。Stanの代わりにpystanを利用しています。\n",
    "\n",
    "　この章では，ポアソン分布を仮定したDGLMの実装例が紹介されています。\n",
    "\n",
    "　本ページでは公開されていない書籍の内容については一切触れません。理論や詳しい説明は書籍を参照してください。\n",
    "\n",
    "　なお，こちらで紹介しているコードには誤りが含まれる可能性があります。内容やコードについてお気づきの点等ございましたら，ご指摘いただけると幸いです"
   ]
  },
  {
   "cell_type": "markdown",
   "metadata": {},
   "source": [
    "# 分析の準備\n",
    "## パッケージの読み込み"
   ]
  },
  {
   "cell_type": "code",
   "execution_count": 1,
   "metadata": {
    "ExecuteTime": {
     "end_time": "2020-09-13T06:52:05.783785Z",
     "start_time": "2020-09-13T06:52:04.300602Z"
    }
   },
   "outputs": [],
   "source": [
    "import arviz\n",
    "import pystan\n",
    "import numpy as np\n",
    "import pandas as pd\n",
    "\n",
    "%matplotlib inline\n",
    "import matplotlib.pyplot as plt\n",
    "plt.style.use('ggplot')\n",
    "plt.rcParams['font.family'] = 'Meiryo'\n",
    "import seaborn as sns\n",
    "\n",
    "# 自作のplotSSM関数を読み込み\n",
    "from plotSSM import plotSSM"
   ]
  },
  {
   "cell_type": "markdown",
   "metadata": {},
   "source": [
    "## データの読み込み"
   ]
  },
  {
   "cell_type": "code",
   "execution_count": 2,
   "metadata": {
    "ExecuteTime": {
     "end_time": "2020-09-13T06:53:19.197095Z",
     "start_time": "2020-09-13T06:53:19.177147Z"
    }
   },
   "outputs": [
    {
     "data": {
      "text/html": [
       "<div>\n",
       "<style scoped>\n",
       "    .dataframe tbody tr th:only-of-type {\n",
       "        vertical-align: middle;\n",
       "    }\n",
       "\n",
       "    .dataframe tbody tr th {\n",
       "        vertical-align: top;\n",
       "    }\n",
       "\n",
       "    .dataframe thead th {\n",
       "        text-align: right;\n",
       "    }\n",
       "</style>\n",
       "<table border=\"1\" class=\"dataframe\">\n",
       "  <thead>\n",
       "    <tr style=\"text-align: right;\">\n",
       "      <th></th>\n",
       "      <th>date</th>\n",
       "      <th>fish_num</th>\n",
       "      <th>temperature</th>\n",
       "    </tr>\n",
       "  </thead>\n",
       "  <tbody>\n",
       "    <tr>\n",
       "      <th>0</th>\n",
       "      <td>2010-01-01</td>\n",
       "      <td>2</td>\n",
       "      <td>1.8</td>\n",
       "    </tr>\n",
       "    <tr>\n",
       "      <th>1</th>\n",
       "      <td>2010-01-02</td>\n",
       "      <td>1</td>\n",
       "      <td>7.0</td>\n",
       "    </tr>\n",
       "    <tr>\n",
       "      <th>2</th>\n",
       "      <td>2010-01-03</td>\n",
       "      <td>2</td>\n",
       "      <td>5.7</td>\n",
       "    </tr>\n",
       "  </tbody>\n",
       "</table>\n",
       "</div>"
      ],
      "text/plain": [
       "        date  fish_num  temperature\n",
       "0 2010-01-01         2          1.8\n",
       "1 2010-01-02         1          7.0\n",
       "2 2010-01-03         2          5.7"
      ]
     },
     "execution_count": 2,
     "metadata": {},
     "output_type": "execute_result"
    }
   ],
   "source": [
    "fish_ts = pd.read_csv('5-9-1-fish-num-ts.csv')\n",
    "fish_ts['date'] = pd.to_datetime(fish_ts['date'])\n",
    "fish_ts.head(n=3)"
   ]
  },
  {
   "cell_type": "markdown",
   "metadata": {},
   "source": [
    "## 図示"
   ]
  },
  {
   "cell_type": "code",
   "execution_count": 4,
   "metadata": {
    "ExecuteTime": {
     "end_time": "2020-09-13T06:54:09.466042Z",
     "start_time": "2020-09-13T06:54:09.337875Z"
    }
   },
   "outputs": [
    {
     "data": {
      "image/png": "[encoded data removed]",
      "text/plain": [
       "<Figure size 720x360 with 1 Axes>"
      ]
     },
     "metadata": {},
     "output_type": "display_data"
    }
   ],
   "source": [
    "plt.figure(figsize=(10,5))\n",
    "plt.plot(fish_ts['fish_num'], color='black')\n",
    "plt.show()"
   ]
  },
  {
   "cell_type": "markdown",
   "metadata": {},
   "source": [
    "# モデルの推定\n",
    "## データの準備"
   ]
  },
  {
   "cell_type": "code",
   "execution_count": 5,
   "metadata": {
    "ExecuteTime": {
     "end_time": "2020-09-13T06:55:36.206103Z",
     "start_time": "2020-09-13T06:55:36.202114Z"
    }
   },
   "outputs": [],
   "source": [
    "data_list = dict(y=fish_ts['fish_num'],\n",
    "                 ex=fish_ts['temperature'],\n",
    "                 T=len(fish_ts))"
   ]
  },
  {
   "cell_type": "markdown",
   "metadata": {},
   "source": [
    "## モデルの推定"
   ]
  },
  {
   "cell_type": "code",
   "execution_count": null,
   "metadata": {
    "ExecuteTime": {
     "start_time": "2020-09-13T06:57:51.401Z"
    }
   },
   "outputs": [
    {
     "name": "stderr",
     "output_type": "stream",
     "text": [
      "INFO:pystan:COMPILING THE C++ CODE FOR MODEL anon_model_3e7f96660af24f75fe7e27f7ed8f7131 NOW.\n"
     ]
    }
   ],
   "source": [
    "# stanコードの記述（5-8-1-dglm-binom.stan）\n",
    "stan_code = '''\n",
    "data {\n",
    "  int T;        // データ取得期間の長さ\n",
    "  vector[T] ex; // 説明変数\n",
    "  int y[T];     // 観測値\n",
    "}\n",
    "\n",
    "parameters {\n",
    "  vector[T] mu;       // 水準+ドリフト成分の推定値\n",
    "  vector[T] r;        // ランダム効果\n",
    "  real b;             // 係数の推定値\n",
    "  real<lower=0> s_z;  // ドリフト成分の変動の大きさを表す標準偏差\n",
    "  real<lower=0> s_r;  // ランダム効果の標準偏差\n",
    "}\n",
    "\n",
    "transformed parameters {\n",
    "  vector[T] lambda;   // 観測値の期待値のlogをとった値\n",
    "  \n",
    "  for(i in 1:T) {\n",
    "    lambda[i] = mu[i] + b * ex[i] + r[i];\n",
    "  }\n",
    "\n",
    "}\n",
    "\n",
    "model {\n",
    "  // 時点ごとに加わるランダム効果\n",
    "  r ~ normal(0, s_r);\n",
    "  \n",
    "  // 状態方程式に従い、状態が遷移する\n",
    "  for(i in 3:T) {\n",
    "    mu[i] ~ normal(2 * mu[i-1] - mu[i-2], s_z);\n",
    "  }\n",
    "  \n",
    "  // 観測方程式に従い、観測値が得られる\n",
    "  for(i in 1:T) {\n",
    "    y[i] ~ poisson_log(lambda[i]);\n",
    "  }\n",
    "\n",
    "}\n",
    "\n",
    "generated quantities {\n",
    "  // 状態推定値（EXP）\n",
    "  vector[T] lambda_exp;\n",
    "  // ランダム効果除外の状態推定値\n",
    "  vector[T] lambda_smooth;\n",
    "  // ランダム効果除外、説明変数固定の状態推定値\n",
    "  vector[T] lambda_smooth_fix; \n",
    "\n",
    "  lambda_exp = exp(lambda);\n",
    "  lambda_smooth = exp(mu + b * ex);\n",
    "  lambda_smooth_fix = exp(mu + b * mean(ex));\n",
    "}\n",
    "\n",
    "'''\n",
    "\n",
    "# モデルのコンパイル\n",
    "stan_model = pystan.StanModel(model_code=stan_code)\n",
    "\n",
    "# サンプリング\n",
    "dglm_poisson = stan_model.sampling(data=data_list,\n",
    "                                   seed=1,\n",
    "                                   iter=8000,\n",
    "                                   warmup=2000,\n",
    "                                   thin=6,\n",
    "                                   control={\n",
    "                                       'adapt_delta': 0.99,\n",
    "                                       'max_treedepth': 15\n",
    "                                   },\n",
    "                                   n_jobs=1)"
   ]
  },
  {
   "cell_type": "markdown",
   "metadata": {},
   "source": [
    "## 推定されたパラメタ"
   ]
  },
  {
   "cell_type": "code",
   "execution_count": null,
   "metadata": {
    "ExecuteTime": {
     "start_time": "2020-09-13T06:58:31.263Z"
    }
   },
   "outputs": [],
   "source": [
    "print(dglm_poisson.stansummary(pars=[\"s_z\", \"s_r\", \"b\", \"lp__\"], probs=[0.025, 0.5, 0.975]))"
   ]
  },
  {
   "cell_type": "markdown",
   "metadata": {},
   "source": [
    "## 参考：収束の確認"
   ]
  },
  {
   "cell_type": "code",
   "execution_count": null,
   "metadata": {
    "ExecuteTime": {
     "start_time": "2020-09-13T06:59:00.543Z"
    }
   },
   "outputs": [],
   "source": [
    "# 収束確認用のRhatのプロット関数\n",
    "def mcmc_rhat(dataframe, column='Rhat', figsize=(5, 10)):\n",
    "    plt.figure(figsize=figsize)\n",
    "    plt.hlines(y=dataframe[column].sort_values().index,\n",
    "               xmin=1,\n",
    "               xmax=dataframe[column].sort_values(),\n",
    "               color='b',\n",
    "               alpha=0.5)\n",
    "    plt.vlines(x=1.05, ymin=0, ymax=len(dataframe[column]), linestyles='--')\n",
    "    plt.plot(dataframe[column].sort_values().values,\n",
    "             dataframe[column].sort_values().index,\n",
    "             marker='.',\n",
    "             linestyle='None',\n",
    "             color='b',\n",
    "             alpha=0.5)\n",
    "    plt.yticks(color='None')\n",
    "    plt.tick_params(length=0)\n",
    "    plt.xlabel(column)\n",
    "    plt.show()\n",
    "\n",
    "\n",
    "# 各推定結果のデータフレームを作成\n",
    "summary = pd.DataFrame(dglm_poisson.summary()['summary'],\n",
    "                       columns=dglm_poisson.summary()['summary_colnames'],\n",
    "                       index=dglm_poisson.summary()['summary_rownames'])\n",
    "\n",
    "# プロット\n",
    "mcmc_rhat(summary)"
   ]
  },
  {
   "cell_type": "code",
   "execution_count": null,
   "metadata": {
    "ExecuteTime": {
     "start_time": "2020-09-13T06:59:21.119Z"
    }
   },
   "outputs": [],
   "source": [
    "print('hmc_diagnostics:\\n',\n",
    "      pystan.diagnostics.check_hmc_diagnostics(dglm_poisson))"
   ]
  },
  {
   "cell_type": "code",
   "execution_count": null,
   "metadata": {},
   "outputs": [],
   "source": []
  }
 ],
 "metadata": {
  "kernelspec": {
   "display_name": "Python 3",
   "language": "python",
   "name": "python3"
  },
  "language_info": {
   "codemirror_mode": {
    "name": "ipython",
    "version": 3
   },
   "file_extension": ".py",
   "mimetype": "text/x-python",
   "name": "python",
   "nbconvert_exporter": "python",
   "pygments_lexer": "ipython3",
   "version": "3.7.6"
  },
  "toc": {
   "base_numbering": 1,
   "nav_menu": {},
   "number_sections": true,
   "sideBar": true,
   "skip_h1_title": false,
   "title_cell": "Table of Contents",
   "title_sidebar": "Contents",
   "toc_cell": false,
   "toc_position": {},
   "toc_section_display": true,
   "toc_window_display": false
  },
  "varInspector": {
   "cols": {
    "lenName": 16,
    "lenType": 16,
    "lenVar": 40
   },
   "kernels_config": {
    "python": {
     "delete_cmd_postfix": "",
     "delete_cmd_prefix": "del ",
     "library": "var_list.py",
     "varRefreshCmd": "print(var_dic_list())"
    },
    "r": {
     "delete_cmd_postfix": ") ",
     "delete_cmd_prefix": "rm(",
     "library": "var_list.r",
     "varRefreshCmd": "cat(var_dic_list()) "
    }
   },
   "types_to_exclude": [
    "module",
    "function",
    "builtin_function_or_method",
    "instance",
    "_Feature"
   ],
   "window_display": false
  }
 },
 "nbformat": 4,
 "nbformat_minor": 4
}
