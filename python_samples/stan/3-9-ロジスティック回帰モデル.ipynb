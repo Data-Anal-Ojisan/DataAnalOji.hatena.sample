{
 "cells": [
  {
   "cell_type": "markdown",
   "metadata": {},
   "source": [
    "「RとStanで始めるベイズ統計モデリングによるデータ分析入門」「実践編第3部第9章 ポアソン回帰モデル」を対象に，公開されているR，Stanのコードをpython，pystanのコードへと書き直した一例です。Stanの代わりにpystanを利用しています。\n",
    "\n",
    "本ページでは公開されていない書籍の内容については一切触れません。理論や詳しい説明は書籍を参照してください。\n",
    "\n",
    "なお，こちらで紹介しているコードには誤りが含まれる可能性があります。内容やコードについてお気づきの点等ございましたら，ご指摘いただけると幸いです。"
   ]
  },
  {
   "cell_type": "markdown",
   "metadata": {},
   "source": [
    "# 分析の準備\n",
    "\n",
    "## パッケージの読み込み"
   ]
  },
  {
   "cell_type": "code",
   "execution_count": 1,
   "metadata": {
    "ExecuteTime": {
     "end_time": "2020-09-12T00:20:00.304847Z",
     "start_time": "2020-09-12T00:19:57.974157Z"
    }
   },
   "outputs": [],
   "source": [
    "import arviz\n",
    "import pystan\n",
    "import numpy as np\n",
    "import pandas as pd\n",
    "\n",
    "%matplotlib inline\n",
    "import matplotlib.pyplot as plt\n",
    "plt.style.use('ggplot')\n",
    "plt.rcParams['font.family'] = 'Meiryo'\n",
    "import seaborn as sns"
   ]
  },
  {
   "cell_type": "markdown",
   "metadata": {},
   "source": [
    "# データの読み込みと図示\n",
    "\n",
    "## 分析対象のデータ"
   ]
  },
  {
   "cell_type": "code",
   "execution_count": 2,
   "metadata": {
    "ExecuteTime": {
     "end_time": "2020-09-12T00:20:00.325780Z",
     "start_time": "2020-09-12T00:20:00.306802Z"
    }
   },
   "outputs": [
    {
     "data": {
      "text/html": [
       "<div>\n",
       "<style scoped>\n",
       "    .dataframe tbody tr th:only-of-type {\n",
       "        vertical-align: middle;\n",
       "    }\n",
       "\n",
       "    .dataframe tbody tr th {\n",
       "        vertical-align: top;\n",
       "    }\n",
       "\n",
       "    .dataframe thead th {\n",
       "        text-align: right;\n",
       "    }\n",
       "</style>\n",
       "<table border=\"1\" class=\"dataframe\">\n",
       "  <thead>\n",
       "    <tr style=\"text-align: right;\">\n",
       "      <th></th>\n",
       "      <th>germination</th>\n",
       "      <th>size</th>\n",
       "      <th>solar</th>\n",
       "      <th>nutrition</th>\n",
       "    </tr>\n",
       "  </thead>\n",
       "  <tbody>\n",
       "    <tr>\n",
       "      <th>0</th>\n",
       "      <td>0</td>\n",
       "      <td>10</td>\n",
       "      <td>shade</td>\n",
       "      <td>1</td>\n",
       "    </tr>\n",
       "    <tr>\n",
       "      <th>1</th>\n",
       "      <td>0</td>\n",
       "      <td>10</td>\n",
       "      <td>shade</td>\n",
       "      <td>1</td>\n",
       "    </tr>\n",
       "    <tr>\n",
       "      <th>2</th>\n",
       "      <td>0</td>\n",
       "      <td>10</td>\n",
       "      <td>shade</td>\n",
       "      <td>1</td>\n",
       "    </tr>\n",
       "  </tbody>\n",
       "</table>\n",
       "</div>"
      ],
      "text/plain": [
       "   germination  size  solar  nutrition\n",
       "0            0    10  shade          1\n",
       "1            0    10  shade          1\n",
       "2            0    10  shade          1"
      ]
     },
     "execution_count": 2,
     "metadata": {},
     "output_type": "execute_result"
    }
   ],
   "source": [
    "germination_dat = pd.read_csv('3-9-1-germination.csv')\n",
    "germination_dat.head(n=3)"
   ]
  },
  {
   "cell_type": "markdown",
   "metadata": {},
   "source": [
    "## データの要約"
   ]
  },
  {
   "cell_type": "code",
   "execution_count": 3,
   "metadata": {
    "ExecuteTime": {
     "end_time": "2020-09-12T00:20:00.345697Z",
     "start_time": "2020-09-12T00:20:00.326747Z"
    }
   },
   "outputs": [
    {
     "data": {
      "text/html": [
       "<div>\n",
       "<style scoped>\n",
       "    .dataframe tbody tr th:only-of-type {\n",
       "        vertical-align: middle;\n",
       "    }\n",
       "\n",
       "    .dataframe tbody tr th {\n",
       "        vertical-align: top;\n",
       "    }\n",
       "\n",
       "    .dataframe thead th {\n",
       "        text-align: right;\n",
       "    }\n",
       "</style>\n",
       "<table border=\"1\" class=\"dataframe\">\n",
       "  <thead>\n",
       "    <tr style=\"text-align: right;\">\n",
       "      <th></th>\n",
       "      <th>germination</th>\n",
       "      <th>size</th>\n",
       "      <th>solar</th>\n",
       "      <th>nutrition</th>\n",
       "    </tr>\n",
       "  </thead>\n",
       "  <tbody>\n",
       "    <tr>\n",
       "      <th>count</th>\n",
       "      <td>100.000000</td>\n",
       "      <td>100.0</td>\n",
       "      <td>100</td>\n",
       "      <td>100.000000</td>\n",
       "    </tr>\n",
       "    <tr>\n",
       "      <th>unique</th>\n",
       "      <td>NaN</td>\n",
       "      <td>NaN</td>\n",
       "      <td>2</td>\n",
       "      <td>NaN</td>\n",
       "    </tr>\n",
       "    <tr>\n",
       "      <th>top</th>\n",
       "      <td>NaN</td>\n",
       "      <td>NaN</td>\n",
       "      <td>shade</td>\n",
       "      <td>NaN</td>\n",
       "    </tr>\n",
       "    <tr>\n",
       "      <th>freq</th>\n",
       "      <td>NaN</td>\n",
       "      <td>NaN</td>\n",
       "      <td>50</td>\n",
       "      <td>NaN</td>\n",
       "    </tr>\n",
       "    <tr>\n",
       "      <th>mean</th>\n",
       "      <td>2.830000</td>\n",
       "      <td>10.0</td>\n",
       "      <td>NaN</td>\n",
       "      <td>5.500000</td>\n",
       "    </tr>\n",
       "    <tr>\n",
       "      <th>std</th>\n",
       "      <td>3.417291</td>\n",
       "      <td>0.0</td>\n",
       "      <td>NaN</td>\n",
       "      <td>2.886751</td>\n",
       "    </tr>\n",
       "    <tr>\n",
       "      <th>min</th>\n",
       "      <td>0.000000</td>\n",
       "      <td>10.0</td>\n",
       "      <td>NaN</td>\n",
       "      <td>1.000000</td>\n",
       "    </tr>\n",
       "    <tr>\n",
       "      <th>25%</th>\n",
       "      <td>0.000000</td>\n",
       "      <td>10.0</td>\n",
       "      <td>NaN</td>\n",
       "      <td>3.000000</td>\n",
       "    </tr>\n",
       "    <tr>\n",
       "      <th>50%</th>\n",
       "      <td>1.000000</td>\n",
       "      <td>10.0</td>\n",
       "      <td>NaN</td>\n",
       "      <td>5.500000</td>\n",
       "    </tr>\n",
       "    <tr>\n",
       "      <th>75%</th>\n",
       "      <td>4.000000</td>\n",
       "      <td>10.0</td>\n",
       "      <td>NaN</td>\n",
       "      <td>8.000000</td>\n",
       "    </tr>\n",
       "    <tr>\n",
       "      <th>max</th>\n",
       "      <td>10.000000</td>\n",
       "      <td>10.0</td>\n",
       "      <td>NaN</td>\n",
       "      <td>10.000000</td>\n",
       "    </tr>\n",
       "  </tbody>\n",
       "</table>\n",
       "</div>"
      ],
      "text/plain": [
       "        germination   size  solar   nutrition\n",
       "count    100.000000  100.0    100  100.000000\n",
       "unique          NaN    NaN      2         NaN\n",
       "top             NaN    NaN  shade         NaN\n",
       "freq            NaN    NaN     50         NaN\n",
       "mean       2.830000   10.0    NaN    5.500000\n",
       "std        3.417291    0.0    NaN    2.886751\n",
       "min        0.000000   10.0    NaN    1.000000\n",
       "25%        0.000000   10.0    NaN    3.000000\n",
       "50%        1.000000   10.0    NaN    5.500000\n",
       "75%        4.000000   10.0    NaN    8.000000\n",
       "max       10.000000   10.0    NaN   10.000000"
      ]
     },
     "execution_count": 3,
     "metadata": {},
     "output_type": "execute_result"
    }
   ],
   "source": [
    "germination_dat.describe(include='all')"
   ]
  },
  {
   "cell_type": "markdown",
   "metadata": {
    "ExecuteTime": {
     "end_time": "2020-08-30T23:27:03.278804Z",
     "start_time": "2020-08-30T23:27:03.275838Z"
    }
   },
   "source": [
    "## 図示"
   ]
  },
  {
   "cell_type": "code",
   "execution_count": 4,
   "metadata": {
    "ExecuteTime": {
     "end_time": "2020-09-12T00:20:00.529205Z",
     "start_time": "2020-09-12T00:20:00.347693Z"
    }
   },
   "outputs": [
    {
     "data": {
      "image/png": "[encoded data removed]",
      "text/plain": [
       "<Figure size 432x288 with 1 Axes>"
      ]
     },
     "metadata": {},
     "output_type": "display_data"
    }
   ],
   "source": [
    "plt.figure()\n",
    "sns.scatterplot(x='nutrition',\n",
    "                y='germination',\n",
    "                data=germination_dat,\n",
    "                hue='solar')\n",
    "plt.title('種子の発芽数と、日照の有無・栄養素の量の関係')\n",
    "plt.show()"
   ]
  },
  {
   "cell_type": "markdown",
   "metadata": {},
   "source": [
    "# ※省略：brmsによるロジスティック回帰モデルの推定"
   ]
  },
  {
   "cell_type": "markdown",
   "metadata": {},
   "source": [
    "# brmsを用いない実装の方法\n",
    "## 参考：ダミー変数の作成"
   ]
  },
  {
   "cell_type": "code",
   "execution_count": 5,
   "metadata": {
    "ExecuteTime": {
     "end_time": "2020-09-12T00:20:00.536194Z",
     "start_time": "2020-09-12T00:20:00.530206Z"
    }
   },
   "outputs": [],
   "source": [
    "solar_dummy = pd.get_dummies(germination_dat['solar'], drop_first=True)"
   ]
  },
  {
   "cell_type": "markdown",
   "metadata": {},
   "source": [
    "## 参考：データの作成"
   ]
  },
  {
   "cell_type": "code",
   "execution_count": 6,
   "metadata": {
    "ExecuteTime": {
     "end_time": "2020-09-12T00:20:00.562544Z",
     "start_time": "2020-09-12T00:20:00.539180Z"
    }
   },
   "outputs": [
    {
     "data": {
      "text/plain": [
       "{'N': 100,\n",
       " 'germination': 0      0\n",
       " 1      0\n",
       " 2      0\n",
       " 3      0\n",
       " 4      0\n",
       "       ..\n",
       " 95     9\n",
       " 96    10\n",
       " 97    10\n",
       " 98     9\n",
       " 99    10\n",
       " Name: germination, Length: 100, dtype: int64,\n",
       " 'binom_size': 0     10\n",
       " 1     10\n",
       " 2     10\n",
       " 3     10\n",
       " 4     10\n",
       "       ..\n",
       " 95    10\n",
       " 96    10\n",
       " 97    10\n",
       " 98    10\n",
       " 99    10\n",
       " Name: size, Length: 100, dtype: int64,\n",
       " 'solar': array([0, 0, 0, 0, 0, 0, 0, 0, 0, 0, 0, 0, 0, 0, 0, 0, 0, 0, 0, 0, 0, 0,\n",
       "        0, 0, 0, 0, 0, 0, 0, 0, 0, 0, 0, 0, 0, 0, 0, 0, 0, 0, 0, 0, 0, 0,\n",
       "        0, 0, 0, 0, 0, 0, 1, 1, 1, 1, 1, 1, 1, 1, 1, 1, 1, 1, 1, 1, 1, 1,\n",
       "        1, 1, 1, 1, 1, 1, 1, 1, 1, 1, 1, 1, 1, 1, 1, 1, 1, 1, 1, 1, 1, 1,\n",
       "        1, 1, 1, 1, 1, 1, 1, 1, 1, 1, 1, 1], dtype=uint8),\n",
       " 'nutrition': 0      1\n",
       " 1      1\n",
       " 2      1\n",
       " 3      1\n",
       " 4      1\n",
       "       ..\n",
       " 95    10\n",
       " 96    10\n",
       " 97    10\n",
       " 98    10\n",
       " 99    10\n",
       " Name: nutrition, Length: 100, dtype: int64}"
      ]
     },
     "execution_count": 6,
     "metadata": {},
     "output_type": "execute_result"
    }
   ],
   "source": [
    "data_list_1 = dict(N=len(germination_dat),\n",
    "                   germination=germination_dat['germination'],\n",
    "                   binom_size=germination_dat['size'],\n",
    "                   solar=solar_dummy.values.flatten(),\n",
    "                   nutrition=germination_dat['nutrition'])\n",
    "data_list_1"
   ]
  },
  {
   "cell_type": "markdown",
   "metadata": {},
   "source": [
    "## 参考：自分でStanコードを実装"
   ]
  },
  {
   "cell_type": "code",
   "execution_count": 45,
   "metadata": {
    "ExecuteTime": {
     "end_time": "2020-09-12T01:32:24.659270Z",
     "start_time": "2020-09-12T01:31:41.584994Z"
    }
   },
   "outputs": [
    {
     "name": "stderr",
     "output_type": "stream",
     "text": [
      "INFO:pystan:COMPILING THE C++ CODE FOR MODEL anon_model_55a63670f6935703a1b875fd847bcc56 NOW.\n"
     ]
    }
   ],
   "source": [
    "# stanコードの記述（3-9-1-glm-binom-1.stan）\n",
    "stan_code = '''\n",
    "data {\n",
    "  int N;                   // サンプルサイズ\n",
    "  int germination[N];      // 発芽数\n",
    "  int binom_size[N];       // 二項分布の試行回数\n",
    "  vector[N] solar;         // 1：日照あり\n",
    "  vector[N] nutrition;     // 栄養量\n",
    "}\n",
    "\n",
    "parameters {\n",
    "  real Intercept;          // 切片\n",
    "  real b_solar;            // 係数(日照の有無)\n",
    "  real b_nutrition;        // 係数(栄養量)\n",
    "}\n",
    "\n",
    "model {\n",
    "  vector[N] prob = Intercept + b_solar*solar + b_nutrition*nutrition;\n",
    "  germination ~ binomial_logit(binom_size, prob);\n",
    "}\n",
    "// 追加：事後予測分布の生成\n",
    "generated quantities {\n",
    "    vector[N] prob_solar;        // 日照がある場合の発芽確率\n",
    "    vector[N] prob_shade;        // 日照がない場合の発芽確率\n",
    "    vector[N] germination_solar; // 日照がある場合の発芽個数\n",
    "    vector[N] germination_shade; // 日照がない場合の発芽個数\n",
    "\n",
    "    for(i in 1:N){\n",
    "        prob_solar[i] = inv_logit(Intercept +  b_solar*1 + b_nutrition*nutrition[i]);\n",
    "        prob_shade[i] = inv_logit(Intercept +  b_solar*0 + b_nutrition*nutrition[i]);\n",
    "        germination_solar[i] = binomial_rng(binom_size[i], prob_solar[i]);\n",
    "        germination_shade[i] = binomial_rng(binom_size[i], prob_shade[i]);\n",
    "    }\n",
    "}\n",
    "\n",
    "'''\n",
    "\n",
    "# モデルのコンパイル\n",
    "stan_model = pystan.StanModel(model_code=stan_code)\n",
    "\n",
    "# サンプリング\n",
    "glm_binom_stan = stan_model.sampling(data=data_list_1, seed=1, n_jobs=1)"
   ]
  },
  {
   "cell_type": "markdown",
   "metadata": {},
   "source": [
    "## 参考：結果の表示"
   ]
  },
  {
   "cell_type": "code",
   "execution_count": 8,
   "metadata": {
    "ExecuteTime": {
     "end_time": "2020-09-12T00:20:56.625082Z",
     "start_time": "2020-09-12T00:20:56.605102Z"
    }
   },
   "outputs": [
    {
     "name": "stdout",
     "output_type": "stream",
     "text": [
      "Inference for Stan model: anon_model_6b1b7a54b53f661f21fcfacd0e907ae0.\n",
      "4 chains, each with iter=2000; warmup=1000; thin=1; \n",
      "post-warmup draws per chain=1000, total post-warmup draws=4000.\n",
      "\n",
      "              mean se_mean     sd   2.5%    50%  97.5%  n_eff   Rhat\n",
      "Intercept    -8.03    0.02   0.51  -9.09   -8.0  -7.07    701    1.0\n",
      "b_solar       4.05  9.9e-3   0.29    3.5   4.04   4.64    862    1.0\n",
      "b_nutrition   0.72  1.9e-3   0.05   0.62   0.72   0.83    814    1.0\n",
      "\n",
      "Samples were drawn using NUTS at Sat Sep 12 09:20:56 2020.\n",
      "For each parameter, n_eff is a crude measure of effective sample size,\n",
      "and Rhat is the potential scale reduction factor on split chains (at \n",
      "convergence, Rhat=1).\n"
     ]
    }
   ],
   "source": [
    "print(glm_binom_stan.stansummary(probs=[0.025, 0.5, 0.975],\n",
    "                                 pars=['Intercept','b_solar','b_nutrition']))"
   ]
  },
  {
   "cell_type": "markdown",
   "metadata": {},
   "source": [
    "# 推定されたモデルの解釈"
   ]
  },
  {
   "cell_type": "markdown",
   "metadata": {},
   "source": [
    "## 係数の解釈\n",
    "\n",
    "### 説明変数を作る"
   ]
  },
  {
   "cell_type": "code",
   "execution_count": 9,
   "metadata": {
    "ExecuteTime": {
     "end_time": "2020-09-12T00:20:56.631031Z",
     "start_time": "2020-09-12T00:20:56.626047Z"
    }
   },
   "outputs": [],
   "source": [
    "newdata_1 = np.matrix([[1, 0, 2],\n",
    "                       [1, 1, 2],\n",
    "                       [1, 1, 3]])"
   ]
  },
  {
   "cell_type": "markdown",
   "metadata": {},
   "source": [
    "### 補足：係数行列を作る"
   ]
  },
  {
   "cell_type": "code",
   "execution_count": 46,
   "metadata": {
    "ExecuteTime": {
     "end_time": "2020-09-12T01:32:57.206155Z",
     "start_time": "2020-09-12T01:32:57.183212Z"
    }
   },
   "outputs": [],
   "source": [
    "# MCMCサンプルの抽出\n",
    "mcmc_sample = glm_binom_stan.extract()\n",
    "\n",
    "# 係数行列を作る\n",
    "newdata_1_b = np.matrix([mcmc_sample['Intercept'],\n",
    "                         mcmc_sample['b_solar'],\n",
    "                         mcmc_sample['b_nutrition']])"
   ]
  },
  {
   "cell_type": "markdown",
   "metadata": {
    "ExecuteTime": {
     "end_time": "2020-09-07T12:22:28.819343Z",
     "start_time": "2020-09-07T12:22:28.797429Z"
    }
   },
   "source": [
    "## 発芽率を予測\n",
    "### 線形予測氏の予測値"
   ]
  },
  {
   "cell_type": "code",
   "execution_count": 11,
   "metadata": {
    "ExecuteTime": {
     "end_time": "2020-09-12T00:20:56.662946Z",
     "start_time": "2020-09-12T00:20:56.654968Z"
    }
   },
   "outputs": [],
   "source": [
    "linear_fit = (newdata_1* newdata_1_b).T.mean(axis=0)"
   ]
  },
  {
   "cell_type": "markdown",
   "metadata": {},
   "source": [
    "### ロジスティック関数を適用して、成功確率を計算"
   ]
  },
  {
   "cell_type": "code",
   "execution_count": 12,
   "metadata": {
    "ExecuteTime": {
     "end_time": "2020-09-12T00:20:56.673917Z",
     "start_time": "2020-09-12T00:20:56.664942Z"
    }
   },
   "outputs": [
    {
     "name": "stdout",
     "output_type": "stream",
     "text": [
      "[0.00137892 0.07311323 0.13954887]\n"
     ]
    }
   ],
   "source": [
    "fit = np.ravel(1 / (1 + np.exp(-linear_fit)))\n",
    "print(fit)"
   ]
  },
  {
   "cell_type": "markdown",
   "metadata": {},
   "source": [
    "## オッズを計算"
   ]
  },
  {
   "cell_type": "code",
   "execution_count": 13,
   "metadata": {
    "ExecuteTime": {
     "end_time": "2020-09-12T00:20:56.691869Z",
     "start_time": "2020-09-12T00:20:56.675912Z"
    }
   },
   "outputs": [],
   "source": [
    "odds_1 = fit[0] / (1 - fit[0])\n",
    "odds_2 = fit[1] / (1 - fit[1])\n",
    "odds_3 = fit[2] / (1 - fit[2])"
   ]
  },
  {
   "cell_type": "markdown",
   "metadata": {
    "ExecuteTime": {
     "end_time": "2020-09-07T13:02:02.087902Z",
     "start_time": "2020-09-07T13:02:02.082942Z"
    }
   },
   "source": [
    "## モデルの係数を取得"
   ]
  },
  {
   "cell_type": "code",
   "execution_count": 14,
   "metadata": {
    "ExecuteTime": {
     "end_time": "2020-09-12T00:20:56.703837Z",
     "start_time": "2020-09-12T00:20:56.693864Z"
    }
   },
   "outputs": [],
   "source": [
    "coef = dict(Intercept = mcmc_sample['Intercept'].mean(),\n",
    "            solarsunshine = mcmc_sample['b_solar'].mean(),\n",
    "            nutrition = mcmc_sample['b_nutrition'].mean())"
   ]
  },
  {
   "cell_type": "markdown",
   "metadata": {
    "ExecuteTime": {
     "end_time": "2020-09-07T13:21:13.110470Z",
     "start_time": "2020-09-07T13:21:13.104485Z"
    }
   },
   "source": [
    "## solarがshadeからsunshineに変わった時のオッズ比"
   ]
  },
  {
   "cell_type": "code",
   "execution_count": 15,
   "metadata": {
    "ExecuteTime": {
     "end_time": "2020-09-12T00:20:56.714807Z",
     "start_time": "2020-09-12T00:20:56.705831Z"
    }
   },
   "outputs": [
    {
     "name": "stdout",
     "output_type": "stream",
     "text": [
      "57.12545609689797\n",
      "57.125456096897906\n"
     ]
    }
   ],
   "source": [
    "print(odds_2 / odds_1)\n",
    "print(np.exp(coef['solarsunshine']))"
   ]
  },
  {
   "cell_type": "markdown",
   "metadata": {
    "ExecuteTime": {
     "end_time": "2020-09-07T13:24:14.150215Z",
     "start_time": "2020-09-07T13:24:14.144230Z"
    }
   },
   "source": [
    "## nutritionが1から2に変わった時のオッズ比"
   ]
  },
  {
   "cell_type": "code",
   "execution_count": 16,
   "metadata": {
    "ExecuteTime": {
     "end_time": "2020-09-12T00:20:56.730764Z",
     "start_time": "2020-09-12T00:20:56.716802Z"
    }
   },
   "outputs": [
    {
     "name": "stdout",
     "output_type": "stream",
     "text": [
      "2.056036551630591\n",
      "2.056036551630592\n"
     ]
    }
   ],
   "source": [
    "print(odds_3 / odds_2)\n",
    "print(np.exp(coef['nutrition']))"
   ]
  },
  {
   "cell_type": "markdown",
   "metadata": {},
   "source": [
    "## 95%ベイズ信用区間付きの回帰曲線"
   ]
  },
  {
   "cell_type": "code",
   "execution_count": 48,
   "metadata": {
    "ExecuteTime": {
     "end_time": "2020-09-12T01:33:09.389685Z",
     "start_time": "2020-09-12T01:33:09.315884Z"
    }
   },
   "outputs": [],
   "source": [
    "result_prob_solar = pd.DataFrame(np.zeros([len(germination_dat), 3])) \n",
    "result_prob_shade = pd.DataFrame(np.zeros([len(germination_dat), 3])) \n",
    "\n",
    "# 2.5・50・97.5パーセンタイルの値をデータフレームに代入\n",
    "for i in range(len(germination_dat)):\n",
    "    result_prob_solar.iloc[i,:] = np.percentile(mcmc_sample['prob_solar'][:,i], q=[2.5, 50, 97.5])\n",
    "    result_prob_shade.iloc[i,:] = np.percentile(mcmc_sample['prob_shade'][:,i], q=[2.5, 50, 97.5])\n",
    "    \n",
    "# データフレームの列名を変更\n",
    "result_prob_solar.columns = [\"2.5%\", \"50%\", \"97.5%\"]\n",
    "result_prob_shade.columns = [\"2.5%\", \"50%\", \"97.5%\"]\n",
    "\n",
    "# 温度情報をデータフレームに追加\n",
    "result_prob_solar['nutrition'] = germination_dat['nutrition']\n",
    "result_prob_shade['nutrition'] = germination_dat['nutrition']\n",
    "\n",
    "# 温度情報で並び順をソート\n",
    "result_prob_solar = result_prob_solar.sort_values('nutrition')\n",
    "result_prob_shade = result_prob_shade.sort_values('nutrition')"
   ]
  },
  {
   "cell_type": "code",
   "execution_count": 49,
   "metadata": {
    "ExecuteTime": {
     "end_time": "2020-09-12T01:33:15.383655Z",
     "start_time": "2020-09-12T01:33:15.214109Z"
    }
   },
   "outputs": [
    {
     "data": {
      "image/png": "[encoded data removed]",
      "text/plain": [
       "<Figure size 720x360 with 1 Axes>"
      ]
     },
     "metadata": {},
     "output_type": "display_data"
    }
   ],
   "source": [
    "binom_size = 10\n",
    "\n",
    "# グラフ描画領域の作成\n",
    "plt.figure(figsize=(10, 5))\n",
    "\n",
    "# 散布図の描画\n",
    "sns.scatterplot(x='nutrition',\n",
    "                y='germination',\n",
    "                data=germination_dat,\n",
    "                hue='solar')\n",
    "\n",
    "# 日照がない日の回帰曲線の描画\n",
    "plt.plot(result_prob_shade['nutrition'],\n",
    "         result_prob_shade[\"50%\"]*binom_size,\n",
    "         color='red')\n",
    "# 95%ベイズ信頼区間を描画\n",
    "plt.fill_between(x=result_prob_shade['nutrition'],\n",
    "                 y1=result_prob_shade[\"2.5%\"]*binom_size,\n",
    "                 y2=result_prob_shade[\"97.5%\"]*binom_size,\n",
    "                 color='red',\n",
    "                 alpha=0.3)\n",
    "\n",
    "# 日照がある日の回帰曲線の描画\n",
    "plt.plot(result_prob_solar['nutrition'],\n",
    "         result_prob_solar[\"50%\"]*binom_size,\n",
    "         color='blue')\n",
    "# 95%ベイズ信頼区間を描画\n",
    "plt.fill_between(x=result_prob_solar['nutrition'],\n",
    "                 y1=result_prob_solar[\"2.5%\"]*binom_size,\n",
    "                 y2=result_prob_solar[\"97.5%\"]*binom_size,\n",
    "                 color='blue',\n",
    "                 alpha=0.3)\n",
    "\n",
    "# グラフの描画\n",
    "plt.show()"
   ]
  },
  {
   "cell_type": "code",
   "execution_count": 50,
   "metadata": {
    "ExecuteTime": {
     "end_time": "2020-09-12T01:33:21.432489Z",
     "start_time": "2020-09-12T01:33:21.357690Z"
    }
   },
   "outputs": [],
   "source": [
    "result_prob_solar = pd.DataFrame(np.zeros([len(germination_dat), 3])) \n",
    "result_prob_shade = pd.DataFrame(np.zeros([len(germination_dat), 3])) \n",
    "\n",
    "# 2.5・50・97.5パーセンタイルの値をデータフレームに代入\n",
    "for i in range(len(germination_dat)):\n",
    "    result_prob_solar.iloc[i,:] = np.percentile(mcmc_sample['germination_solar'][:,i], q=[2.5, 50, 97.5])\n",
    "    result_prob_shade.iloc[i,:] = np.percentile(mcmc_sample['germination_shade'][:,i], q=[2.5, 50, 97.5])\n",
    "    \n",
    "# データフレームの列名を変更\n",
    "result_prob_solar.columns = [\"2.5%\", \"50%\", \"97.5%\"]\n",
    "result_prob_shade.columns = [\"2.5%\", \"50%\", \"97.5%\"]\n",
    "\n",
    "# 温度情報をデータフレームに追加\n",
    "result_prob_solar['nutrition'] = germination_dat['nutrition']\n",
    "result_prob_shade['nutrition'] = germination_dat['nutrition']\n",
    "\n",
    "# 温度情報で並び順をソート\n",
    "result_prob_solar = result_prob_solar.sort_values('nutrition')\n",
    "result_prob_shade = result_prob_shade.sort_values('nutrition')"
   ]
  },
  {
   "cell_type": "code",
   "execution_count": 51,
   "metadata": {
    "ExecuteTime": {
     "end_time": "2020-09-12T01:33:27.581050Z",
     "start_time": "2020-09-12T01:33:27.431479Z"
    }
   },
   "outputs": [
    {
     "data": {
      "image/png": "[encoded data removed]",
      "text/plain": [
       "<Figure size 720x360 with 1 Axes>"
      ]
     },
     "metadata": {},
     "output_type": "display_data"
    }
   ],
   "source": [
    "# グラフ描画領域の作成\n",
    "plt.figure(figsize=(10, 5))\n",
    "\n",
    "# 散布図の描画\n",
    "sns.scatterplot(x='nutrition',\n",
    "                y='germination',\n",
    "                data=germination_dat,\n",
    "                hue='solar')\n",
    "\n",
    "# 日照がない日の回帰曲線の描画\n",
    "plt.plot(result_prob_shade['nutrition'],\n",
    "         result_prob_shade[\"50%\"],\n",
    "         color='red')\n",
    "# 95%ベイズ信頼区間を描画\n",
    "plt.fill_between(x=result_prob_shade['nutrition'],\n",
    "                 y1=result_prob_shade[\"2.5%\"],\n",
    "                 y2=result_prob_shade[\"97.5%\"],\n",
    "                 color='red',\n",
    "                 alpha=0.3)\n",
    "\n",
    "# 日照がある日の回帰曲線の描画\n",
    "plt.plot(result_prob_solar['nutrition'],\n",
    "         result_prob_solar[\"50%\"],\n",
    "         color='blue')\n",
    "# 95%ベイズ信頼区間を描画\n",
    "plt.fill_between(x=result_prob_solar['nutrition'],\n",
    "                 y1=result_prob_solar[\"2.5%\"],\n",
    "                 y2=result_prob_solar[\"97.5%\"],\n",
    "                 color='blue',\n",
    "                 alpha=0.3)\n",
    "\n",
    "# グラフの描画\n",
    "plt.show()"
   ]
  },
  {
   "cell_type": "code",
   "execution_count": null,
   "metadata": {},
   "outputs": [],
   "source": []
  }
 ],
 "metadata": {
  "kernelspec": {
   "display_name": "Python 3",
   "language": "python",
   "name": "python3"
  },
  "language_info": {
   "codemirror_mode": {
    "name": "ipython",
    "version": 3
   },
   "file_extension": ".py",
   "mimetype": "text/x-python",
   "name": "python",
   "nbconvert_exporter": "python",
   "pygments_lexer": "ipython3",
   "version": "3.7.6"
  },
  "toc": {
   "base_numbering": 1,
   "nav_menu": {},
   "number_sections": true,
   "sideBar": true,
   "skip_h1_title": false,
   "title_cell": "Table of Contents",
   "title_sidebar": "Contents",
   "toc_cell": false,
   "toc_position": {},
   "toc_section_display": true,
   "toc_window_display": false
  },
  "varInspector": {
   "cols": {
    "lenName": 16,
    "lenType": 16,
    "lenVar": 40
   },
   "kernels_config": {
    "python": {
     "delete_cmd_postfix": "",
     "delete_cmd_prefix": "del ",
     "library": "var_list.py",
     "varRefreshCmd": "print(var_dic_list())"
    },
    "r": {
     "delete_cmd_postfix": ") ",
     "delete_cmd_prefix": "rm(",
     "library": "var_list.r",
     "varRefreshCmd": "cat(var_dic_list()) "
    }
   },
   "types_to_exclude": [
    "module",
    "function",
    "builtin_function_or_method",
    "instance",
    "_Feature"
   ],
   "window_display": false
  }
 },
 "nbformat": 4,
 "nbformat_minor": 4
}
