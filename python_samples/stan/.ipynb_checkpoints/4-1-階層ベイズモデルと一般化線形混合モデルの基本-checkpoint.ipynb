{
 "cells": [
  {
   "cell_type": "markdown",
   "metadata": {},
   "source": [
    "　「RとStanで始めるベイズ統計モデリングによるデータ分析入門」「実践編第4部第1章 階層ベイズモデルと一般化線形混合モデルの基本」を対象に，公開されているR，Stanのコードをpython，pystanのコードへと書き直した一例です。Stanの代わりにpystanを利用しています。\n",
    "\n",
    "　この章では，階層ベイズモデルの基本的な事柄が解説されています。また階層ベイズモデルの具体例として，一般化線形混合モデル（Generalized Linear Mixed Models GLMM）の推定が試みられています。\n",
    "\n",
    "　本ページでは公開されていない書籍の内容については一切触れません。理論や詳しい説明は書籍を参照してください。\n",
    "\n",
    "　なお，こちらで紹介しているコードには誤りが含まれる可能性があります。内容やコードについてお気づきの点等ございましたら，ご指摘いただけると幸いです"
   ]
  },
  {
   "cell_type": "markdown",
   "metadata": {},
   "source": [
    "# 分析の準備\n",
    "## パッケージの読み込み"
   ]
  },
  {
   "cell_type": "code",
   "execution_count": 1,
   "metadata": {
    "ExecuteTime": {
     "end_time": "2020-09-13T11:51:51.019254Z",
     "start_time": "2020-09-13T11:51:47.537314Z"
    }
   },
   "outputs": [],
   "source": [
    "import arviz\n",
    "import pystan\n",
    "import numpy as np\n",
    "import pandas as pd\n",
    "\n",
    "%matplotlib inline\n",
    "import matplotlib.pyplot as plt\n",
    "plt.style.use('ggplot')\n",
    "plt.rcParams['font.family'] = 'Meiryo'\n",
    "import seaborn as sns"
   ]
  },
  {
   "cell_type": "markdown",
   "metadata": {},
   "source": [
    "# データの読み込み\n",
    "## 分析対象のデータ"
   ]
  },
  {
   "cell_type": "code",
   "execution_count": 49,
   "metadata": {
    "ExecuteTime": {
     "end_time": "2020-09-13T13:24:18.328912Z",
     "start_time": "2020-09-13T13:24:18.321930Z"
    }
   },
   "outputs": [],
   "source": [
    "fish_num_climate_2 = pd.read_csv('4-1-1-fish-num-2.csv')\n",
    "fish_num_climate_2 = fish_num_climate_2.sort_values('temperature').reset_index(drop=True)"
   ]
  },
  {
   "cell_type": "markdown",
   "metadata": {
    "ExecuteTime": {
     "end_time": "2020-09-13T11:53:21.739049Z",
     "start_time": "2020-09-13T11:53:21.735032Z"
    }
   },
   "source": [
    "## id列を数値ではなくfactorとして扱う"
   ]
  },
  {
   "cell_type": "code",
   "execution_count": 50,
   "metadata": {
    "ExecuteTime": {
     "end_time": "2020-09-13T13:24:20.572860Z",
     "start_time": "2020-09-13T13:24:20.561862Z"
    }
   },
   "outputs": [
    {
     "data": {
      "text/html": [
       "<div>\n",
       "<style scoped>\n",
       "    .dataframe tbody tr th:only-of-type {\n",
       "        vertical-align: middle;\n",
       "    }\n",
       "\n",
       "    .dataframe tbody tr th {\n",
       "        vertical-align: top;\n",
       "    }\n",
       "\n",
       "    .dataframe thead th {\n",
       "        text-align: right;\n",
       "    }\n",
       "</style>\n",
       "<table border=\"1\" class=\"dataframe\">\n",
       "  <thead>\n",
       "    <tr style=\"text-align: right;\">\n",
       "      <th></th>\n",
       "      <th>fish_num</th>\n",
       "      <th>weather</th>\n",
       "      <th>temperature</th>\n",
       "      <th>id</th>\n",
       "    </tr>\n",
       "  </thead>\n",
       "  <tbody>\n",
       "    <tr>\n",
       "      <th>0</th>\n",
       "      <td>0</td>\n",
       "      <td>sunny</td>\n",
       "      <td>0.3</td>\n",
       "      <td>84</td>\n",
       "    </tr>\n",
       "    <tr>\n",
       "      <th>1</th>\n",
       "      <td>0</td>\n",
       "      <td>sunny</td>\n",
       "      <td>0.4</td>\n",
       "      <td>91</td>\n",
       "    </tr>\n",
       "    <tr>\n",
       "      <th>2</th>\n",
       "      <td>0</td>\n",
       "      <td>cloudy</td>\n",
       "      <td>0.5</td>\n",
       "      <td>22</td>\n",
       "    </tr>\n",
       "  </tbody>\n",
       "</table>\n",
       "</div>"
      ],
      "text/plain": [
       "   fish_num weather  temperature  id\n",
       "0         0   sunny          0.3  84\n",
       "1         0   sunny          0.4  91\n",
       "2         0  cloudy          0.5  22"
      ]
     },
     "execution_count": 50,
     "metadata": {},
     "output_type": "execute_result"
    }
   ],
   "source": [
    "fish_num_climate_2['id'] = fish_num_climate_2['id'].astype(object)\n",
    "fish_num_climate_2.head(n=3)"
   ]
  },
  {
   "cell_type": "code",
   "execution_count": 51,
   "metadata": {
    "ExecuteTime": {
     "end_time": "2020-09-13T13:24:22.591361Z",
     "start_time": "2020-09-13T13:24:22.586348Z"
    }
   },
   "outputs": [
    {
     "data": {
      "text/plain": [
       "fish_num         int64\n",
       "weather         object\n",
       "temperature    float64\n",
       "id              object\n",
       "dtype: object"
      ]
     },
     "execution_count": 51,
     "metadata": {},
     "output_type": "execute_result"
    }
   ],
   "source": [
    "fish_num_climate_2.dtypes"
   ]
  },
  {
   "cell_type": "markdown",
   "metadata": {},
   "source": [
    "# 通常のポアソン回帰モデルの当てはめ"
   ]
  },
  {
   "cell_type": "markdown",
   "metadata": {},
   "source": [
    "## 参考：デザイン行列の作成"
   ]
  },
  {
   "cell_type": "code",
   "execution_count": 52,
   "metadata": {
    "ExecuteTime": {
     "end_time": "2020-09-13T13:24:23.257255Z",
     "start_time": "2020-09-13T13:24:23.235314Z"
    }
   },
   "outputs": [
    {
     "data": {
      "text/html": [
       "<div>\n",
       "<style scoped>\n",
       "    .dataframe tbody tr th:only-of-type {\n",
       "        vertical-align: middle;\n",
       "    }\n",
       "\n",
       "    .dataframe tbody tr th {\n",
       "        vertical-align: top;\n",
       "    }\n",
       "\n",
       "    .dataframe thead th {\n",
       "        text-align: right;\n",
       "    }\n",
       "</style>\n",
       "<table border=\"1\" class=\"dataframe\">\n",
       "  <thead>\n",
       "    <tr style=\"text-align: right;\">\n",
       "      <th></th>\n",
       "      <th>(Intercept)</th>\n",
       "      <th>weather_sunny</th>\n",
       "      <th>temperature</th>\n",
       "    </tr>\n",
       "  </thead>\n",
       "  <tbody>\n",
       "    <tr>\n",
       "      <th>0</th>\n",
       "      <td>1</td>\n",
       "      <td>1</td>\n",
       "      <td>0.3</td>\n",
       "    </tr>\n",
       "    <tr>\n",
       "      <th>1</th>\n",
       "      <td>1</td>\n",
       "      <td>1</td>\n",
       "      <td>0.4</td>\n",
       "    </tr>\n",
       "    <tr>\n",
       "      <th>2</th>\n",
       "      <td>1</td>\n",
       "      <td>0</td>\n",
       "      <td>0.5</td>\n",
       "    </tr>\n",
       "    <tr>\n",
       "      <th>3</th>\n",
       "      <td>1</td>\n",
       "      <td>0</td>\n",
       "      <td>1.4</td>\n",
       "    </tr>\n",
       "    <tr>\n",
       "      <th>4</th>\n",
       "      <td>1</td>\n",
       "      <td>1</td>\n",
       "      <td>1.7</td>\n",
       "    </tr>\n",
       "    <tr>\n",
       "      <th>...</th>\n",
       "      <td>...</td>\n",
       "      <td>...</td>\n",
       "      <td>...</td>\n",
       "    </tr>\n",
       "    <tr>\n",
       "      <th>95</th>\n",
       "      <td>1</td>\n",
       "      <td>0</td>\n",
       "      <td>27.3</td>\n",
       "    </tr>\n",
       "    <tr>\n",
       "      <th>96</th>\n",
       "      <td>1</td>\n",
       "      <td>1</td>\n",
       "      <td>27.6</td>\n",
       "    </tr>\n",
       "    <tr>\n",
       "      <th>97</th>\n",
       "      <td>1</td>\n",
       "      <td>1</td>\n",
       "      <td>28.7</td>\n",
       "    </tr>\n",
       "    <tr>\n",
       "      <th>98</th>\n",
       "      <td>1</td>\n",
       "      <td>1</td>\n",
       "      <td>29.0</td>\n",
       "    </tr>\n",
       "    <tr>\n",
       "      <th>99</th>\n",
       "      <td>1</td>\n",
       "      <td>1</td>\n",
       "      <td>29.8</td>\n",
       "    </tr>\n",
       "  </tbody>\n",
       "</table>\n",
       "<p>100 rows × 3 columns</p>\n",
       "</div>"
      ],
      "text/plain": [
       "    (Intercept)  weather_sunny  temperature\n",
       "0             1              1          0.3\n",
       "1             1              1          0.4\n",
       "2             1              0          0.5\n",
       "3             1              0          1.4\n",
       "4             1              1          1.7\n",
       "..          ...            ...          ...\n",
       "95            1              0         27.3\n",
       "96            1              1         27.6\n",
       "97            1              1         28.7\n",
       "98            1              1         29.0\n",
       "99            1              1         29.8\n",
       "\n",
       "[100 rows x 3 columns]"
      ]
     },
     "metadata": {},
     "output_type": "display_data"
    }
   ],
   "source": [
    "# 応答変数の削除とダミー変数化処理\n",
    "design_mat = pd.get_dummies(fish_num_climate_2.drop(['fish_num'], axis=1),\n",
    "                            drop_first=True)\n",
    "\n",
    "# 列名を書籍準拠に\n",
    "design_mat = design_mat[['weather_sunny', 'temperature']]\n",
    "\n",
    "# (Intercept)列追加\n",
    "design_mat.insert(0, '(Intercept)', 1)\n",
    "\n",
    "display(design_mat)"
   ]
  },
  {
   "cell_type": "markdown",
   "metadata": {},
   "source": [
    "## 参考：データの作成"
   ]
  },
  {
   "cell_type": "code",
   "execution_count": 53,
   "metadata": {
    "ExecuteTime": {
     "end_time": "2020-09-13T13:24:25.709835Z",
     "start_time": "2020-09-13T13:24:25.705845Z"
    }
   },
   "outputs": [],
   "source": [
    "data_list = dict(N=len(fish_num_climate_2),\n",
    "                 fish_num=fish_num_climate_2['fish_num'],\n",
    "                 temp=fish_num_climate_2['temperature'],\n",
    "                 sunny=design_mat['weather_sunny'])"
   ]
  },
  {
   "cell_type": "markdown",
   "metadata": {},
   "source": [
    "## ポアソン回帰モデルを作る"
   ]
  },
  {
   "cell_type": "code",
   "execution_count": 64,
   "metadata": {
    "ExecuteTime": {
     "end_time": "2020-09-14T14:19:50.162951Z",
     "start_time": "2020-09-14T14:19:50.052247Z"
    }
   },
   "outputs": [
    {
     "ename": "ValueError",
     "evalue": "Failed to parse Stan model 'anon_model_6b4344472504b7fd6dfa1ce05b81426a'. Error message:\nPARSER FAILED TO PARSE INPUT COMPLETELY\nSTOPPED AT LINE 20: \ntransformed parameters {\n    vector[N] lambda_sunny;\n    vector[N] lambda_cloudy;\n    for(i in 1:N){\n        lambda_sunny[i] = Intercept/10 + temperature*temp[i]/10 + weathersunny*1;\n        lambda_cloudy[i] = Intercept/10 + temperature*temp[i]/10 + weathersunny*0;\n    }\n}\n\ngenerated quantities {\n    vector[N] fish_num_sunny;\n    vector[N] fish_num_cloudy;\n    \n    for(i in 1:N){\n        fish_num_sunny[i] = poisson_log_rng(lambda_sunny[i]);\n        fish_num_cloudy[i] = poisson_log_rng(lambda_cloudy[i]);\n    }\n}\n\n\n\n\n\n",
     "output_type": "error",
     "traceback": [
      "\u001b[1;31m---------------------------------------------------------------------------\u001b[0m",
      "\u001b[1;31mValueError\u001b[0m                                Traceback (most recent call last)",
      "\u001b[1;32m<ipython-input-64-891a83a4d1fc>\u001b[0m in \u001b[0;36m<module>\u001b[1;34m\u001b[0m\n\u001b[0;32m     41\u001b[0m \u001b[1;33m\u001b[0m\u001b[0m\n\u001b[0;32m     42\u001b[0m \u001b[1;31m# モデルのコンパイル\u001b[0m\u001b[1;33m\u001b[0m\u001b[1;33m\u001b[0m\u001b[1;33m\u001b[0m\u001b[0m\n\u001b[1;32m---> 43\u001b[1;33m \u001b[0mstan_model\u001b[0m \u001b[1;33m=\u001b[0m \u001b[0mpystan\u001b[0m\u001b[1;33m.\u001b[0m\u001b[0mStanModel\u001b[0m\u001b[1;33m(\u001b[0m\u001b[0mmodel_code\u001b[0m\u001b[1;33m=\u001b[0m\u001b[0mstan_code\u001b[0m\u001b[1;33m)\u001b[0m\u001b[1;33m\u001b[0m\u001b[1;33m\u001b[0m\u001b[0m\n\u001b[0m\u001b[0;32m     44\u001b[0m \u001b[1;33m\u001b[0m\u001b[0m\n\u001b[0;32m     45\u001b[0m \u001b[1;31m# サンプリング\u001b[0m\u001b[1;33m\u001b[0m\u001b[1;33m\u001b[0m\u001b[1;33m\u001b[0m\u001b[0m\n",
      "\u001b[1;32m~\\Anaconda3\\envs\\multi\\lib\\site-packages\\pystan\\model.py\u001b[0m in \u001b[0;36m__init__\u001b[1;34m(self, file, charset, model_name, model_code, stanc_ret, include_paths, boost_lib, eigen_lib, verbose, obfuscate_model_name, extra_compile_args, allow_undefined, include_dirs, includes)\u001b[0m\n\u001b[0;32m    235\u001b[0m                                          \u001b[0minclude_paths\u001b[0m\u001b[1;33m=\u001b[0m\u001b[0minclude_paths\u001b[0m\u001b[1;33m,\u001b[0m\u001b[1;33m\u001b[0m\u001b[1;33m\u001b[0m\u001b[0m\n\u001b[0;32m    236\u001b[0m                                          \u001b[0mobfuscate_model_name\u001b[0m\u001b[1;33m=\u001b[0m\u001b[0mobfuscate_model_name\u001b[0m\u001b[1;33m,\u001b[0m\u001b[1;33m\u001b[0m\u001b[1;33m\u001b[0m\u001b[0m\n\u001b[1;32m--> 237\u001b[1;33m                                          allow_undefined=allow_undefined)\n\u001b[0m\u001b[0;32m    238\u001b[0m \u001b[1;33m\u001b[0m\u001b[0m\n\u001b[0;32m    239\u001b[0m         \u001b[1;32mif\u001b[0m \u001b[1;32mnot\u001b[0m \u001b[0misinstance\u001b[0m\u001b[1;33m(\u001b[0m\u001b[0mstanc_ret\u001b[0m\u001b[1;33m,\u001b[0m \u001b[0mdict\u001b[0m\u001b[1;33m)\u001b[0m\u001b[1;33m:\u001b[0m\u001b[1;33m\u001b[0m\u001b[1;33m\u001b[0m\u001b[0m\n",
      "\u001b[1;32m~\\Anaconda3\\envs\\multi\\lib\\site-packages\\pystan\\api.py\u001b[0m in \u001b[0;36mstanc\u001b[1;34m(file, charset, model_code, model_name, include_paths, verbose, obfuscate_model_name, allow_undefined)\u001b[0m\n\u001b[0;32m    167\u001b[0m             \u001b[0mmsg\u001b[0m \u001b[1;33m=\u001b[0m \u001b[0mmsg\u001b[0m\u001b[1;33m.\u001b[0m\u001b[0mencode\u001b[0m\u001b[1;33m(\u001b[0m\u001b[1;34m'ascii'\u001b[0m\u001b[1;33m,\u001b[0m \u001b[1;34m'replace'\u001b[0m\u001b[1;33m)\u001b[0m\u001b[1;33m\u001b[0m\u001b[1;33m\u001b[0m\u001b[0m\n\u001b[0;32m    168\u001b[0m         \u001b[0merror_msg\u001b[0m \u001b[1;33m=\u001b[0m \u001b[1;34m\"Failed to parse Stan model '{}'. Error message:\\n{}\"\u001b[0m\u001b[1;33m.\u001b[0m\u001b[0mformat\u001b[0m\u001b[1;33m(\u001b[0m\u001b[0mmodel_name\u001b[0m\u001b[1;33m,\u001b[0m \u001b[0mmsg\u001b[0m\u001b[1;33m)\u001b[0m\u001b[1;33m\u001b[0m\u001b[1;33m\u001b[0m\u001b[0m\n\u001b[1;32m--> 169\u001b[1;33m         \u001b[1;32mraise\u001b[0m \u001b[0mValueError\u001b[0m\u001b[1;33m(\u001b[0m\u001b[0merror_msg\u001b[0m\u001b[1;33m)\u001b[0m\u001b[1;33m\u001b[0m\u001b[1;33m\u001b[0m\u001b[0m\n\u001b[0m\u001b[0;32m    170\u001b[0m     \u001b[1;32melif\u001b[0m \u001b[0mresult\u001b[0m\u001b[1;33m[\u001b[0m\u001b[1;34m'status'\u001b[0m\u001b[1;33m]\u001b[0m \u001b[1;33m==\u001b[0m \u001b[1;36m0\u001b[0m\u001b[1;33m:\u001b[0m  \u001b[1;31m# SUCCESS_RC is 0\u001b[0m\u001b[1;33m\u001b[0m\u001b[1;33m\u001b[0m\u001b[0m\n\u001b[0;32m    171\u001b[0m         \u001b[0mlogger\u001b[0m\u001b[1;33m.\u001b[0m\u001b[0mdebug\u001b[0m\u001b[1;33m(\u001b[0m\u001b[1;34m\"Successfully parsed Stan model '{}'.\"\u001b[0m\u001b[1;33m.\u001b[0m\u001b[0mformat\u001b[0m\u001b[1;33m(\u001b[0m\u001b[0mmodel_name\u001b[0m\u001b[1;33m)\u001b[0m\u001b[1;33m)\u001b[0m\u001b[1;33m\u001b[0m\u001b[1;33m\u001b[0m\u001b[0m\n",
      "\u001b[1;31mValueError\u001b[0m: Failed to parse Stan model 'anon_model_6b4344472504b7fd6dfa1ce05b81426a'. Error message:\nPARSER FAILED TO PARSE INPUT COMPLETELY\nSTOPPED AT LINE 20: \ntransformed parameters {\n    vector[N] lambda_sunny;\n    vector[N] lambda_cloudy;\n    for(i in 1:N){\n        lambda_sunny[i] = Intercept/10 + temperature*temp[i]/10 + weathersunny*1;\n        lambda_cloudy[i] = Intercept/10 + temperature*temp[i]/10 + weathersunny*0;\n    }\n}\n\ngenerated quantities {\n    vector[N] fish_num_sunny;\n    vector[N] fish_num_cloudy;\n    \n    for(i in 1:N){\n        fish_num_sunny[i] = poisson_log_rng(lambda_sunny[i]);\n        fish_num_cloudy[i] = poisson_log_rng(lambda_cloudy[i]);\n    }\n}\n\n\n\n\n\n"
     ]
    }
   ],
   "source": [
    "# stanコードの記述\n",
    "stan_code = '''\n",
    "data {\n",
    "  int N;                   // サンプルサイズ\n",
    "  int fish_num[N];         // 釣獲尾数\n",
    "  vector[N] temp;          // 気温データ\n",
    "  vector[N] sunny;         // 晴れダミー変数\n",
    "}\n",
    "\n",
    "parameters {\n",
    "  real Intercept;      // 切片\n",
    "  real temperature;         // 係数(気温)\n",
    "  real weathersunny;        // 係数(晴れの影響)\n",
    "}\n",
    "\n",
    "model {\n",
    "  vector[N] lambda = exp(Intercept + temperature*temp + weathersunny*sunny);\n",
    "  fish_num ~ poisson(lambda);\n",
    "}\n",
    "\n",
    "generated quantities {\n",
    "    vector[N] lambda_sunny;\n",
    "    vector[N] lambda_cloudy;\n",
    "    vector[N] fish_num_sunny;\n",
    "    vector[N] fish_num_cloudy;\n",
    "    \n",
    "    for(i in 1:N){\n",
    "        lambda_sunny[i] = Intercept/10 + temperature*temp[i]/10 + weathersunny*1;\n",
    "        lambda_cloudy[i] = Intercept/10 + temperature*temp[i]/10 + weathersunny*0;\n",
    "        fish_num_sunny[i] = poisson_log_lpmf(lambda_sunny[i]);\n",
    "        fish_num_cloudy[i] = poisson_log_lpmf(lambda_cloudy[i]);\n",
    "    }\n",
    "}\n",
    "\n",
    "'''\n",
    "\n",
    "# モデルのコンパイル\n",
    "stan_model = pystan.StanModel(model_code=stan_code)\n",
    "\n",
    "# サンプリング\n",
    "glm_pois_brms = stan_model.sampling(data=data_list, seed=10, n_jobs=1)"
   ]
  },
  {
   "cell_type": "markdown",
   "metadata": {},
   "source": [
    "## 参考：結果の表示"
   ]
  },
  {
   "cell_type": "code",
   "execution_count": 16,
   "metadata": {
    "ExecuteTime": {
     "end_time": "2020-09-13T12:05:42.326144Z",
     "start_time": "2020-09-13T12:05:42.304224Z"
    }
   },
   "outputs": [
    {
     "name": "stdout",
     "output_type": "stream",
     "text": [
      "Inference for Stan model: anon_model_10b93b39bc827a53de74eb5431c131b8.\n",
      "4 chains, each with iter=2000; warmup=1000; thin=1; \n",
      "post-warmup draws per chain=1000, total post-warmup draws=4000.\n",
      "\n",
      "            mean se_mean     sd    2.5%    50%  97.5%  n_eff   Rhat\n",
      "Intercept    0.3  3.7e-3   0.16 -8.9e-3    0.3    0.6   1775    1.0\n",
      "b_temp      0.06  1.8e-4 7.9e-3    0.05   0.06   0.08   1885    1.0\n",
      "b_sunny    -0.74  2.7e-3   0.13    -1.0  -0.74  -0.49   2377    1.0\n",
      "lp__       33.94    0.03   1.28   30.57  34.28  35.35   1405    1.0\n",
      "\n",
      "Samples were drawn using NUTS at Sun Sep 13 21:04:47 2020.\n",
      "For each parameter, n_eff is a crude measure of effective sample size,\n",
      "and Rhat is the potential scale reduction factor on split chains (at \n",
      "convergence, Rhat=1).\n"
     ]
    }
   ],
   "source": [
    "print(glm_pois_brms.stansummary(probs=[0.025, 0.5, 0.975]))"
   ]
  },
  {
   "cell_type": "markdown",
   "metadata": {
    "ExecuteTime": {
     "end_time": "2020-09-13T12:10:42.964364Z",
     "start_time": "2020-09-13T12:10:42.961351Z"
    }
   },
   "source": [
    "## 結果の図示"
   ]
  },
  {
   "cell_type": "code",
   "execution_count": 18,
   "metadata": {
    "ExecuteTime": {
     "end_time": "2020-09-13T12:06:51.971437Z",
     "start_time": "2020-09-13T12:06:51.967447Z"
    }
   },
   "outputs": [],
   "source": [
    "mcmc_sample = glm_pois_brms.extract()"
   ]
  },
  {
   "cell_type": "code",
   "execution_count": 20,
   "metadata": {
    "ExecuteTime": {
     "end_time": "2020-09-13T12:07:41.109361Z",
     "start_time": "2020-09-13T12:07:41.103375Z"
    }
   },
   "outputs": [
    {
     "data": {
      "text/plain": [
       "OrderedDict([('Intercept',\n",
       "              array([0.64283879, 0.50486541, 0.11216955, ..., 0.27917243, 0.3700465 ,\n",
       "                     0.2987611 ])),\n",
       "             ('b_temp',\n",
       "              array([0.0396495 , 0.05343667, 0.06961966, ..., 0.05974184, 0.04966696,\n",
       "                     0.05223113])),\n",
       "             ('b_sunny',\n",
       "              array([-0.80894853, -0.86805635, -0.72182174, ..., -0.70892262,\n",
       "                     -0.56269859, -0.50628397])),\n",
       "             ('lp__',\n",
       "              array([30.97087171, 34.15544169, 34.68382545, ..., 35.35062453,\n",
       "                     33.51720881, 33.19241604]))])"
      ]
     },
     "execution_count": 20,
     "metadata": {},
     "output_type": "execute_result"
    }
   ],
   "source": [
    "mcmc_sample"
   ]
  },
  {
   "cell_type": "code",
   "execution_count": 35,
   "metadata": {
    "ExecuteTime": {
     "end_time": "2020-09-13T12:24:03.151861Z",
     "start_time": "2020-09-13T12:24:03.144852Z"
    }
   },
   "outputs": [
    {
     "name": "stdout",
     "output_type": "stream",
     "text": [
      "Help on function sampling in module pystan.model:\n",
      "\n",
      "sampling(self, data=None, pars=None, chains=4, iter=2000, warmup=None, thin=1, seed=None, init='random', sample_file=None, diagnostic_file=None, verbose=False, algorithm=None, control=None, n_jobs=-1, **kwargs)\n",
      "    Draw samples from the model.\n",
      "    \n",
      "    Parameters\n",
      "    ----------\n",
      "    data : dict\n",
      "        A Python dictionary providing the data for the model. Variables\n",
      "        for Stan are stored in the dictionary as expected. Variable\n",
      "        names are the keys and the values are their associated values.\n",
      "        Stan only accepts certain kinds of values; see Notes.\n",
      "    \n",
      "    pars : list of string, optional\n",
      "        A list of strings indicating parameters of interest. By default\n",
      "        all parameters specified in the model will be stored.\n",
      "    \n",
      "    chains : int, optional\n",
      "        Positive integer specifying number of chains. 4 by default.\n",
      "    \n",
      "    iter : int, 2000 by default\n",
      "        Positive integer specifying how many iterations for each chain\n",
      "        including warmup.\n",
      "    \n",
      "    warmup : int, iter//2 by default\n",
      "        Positive integer specifying number of warmup (aka burn-in) iterations.\n",
      "        As `warmup` also specifies the number of iterations used for step-size\n",
      "        adaption, warmup samples should not be used for inference.\n",
      "        `warmup=0` forced if `algorithm=\"Fixed_param\"`.\n",
      "    \n",
      "    thin : int, 1 by default\n",
      "        Positive integer specifying the period for saving samples.\n",
      "    \n",
      "    seed : int or np.random.RandomState, optional\n",
      "        The seed, a positive integer for random number generation. Only\n",
      "        one seed is needed when multiple chains are used, as the other\n",
      "        chain's seeds are generated from the first chain's to prevent\n",
      "        dependency among random number streams. By default, seed is\n",
      "        ``random.randint(0, MAX_UINT)``.\n",
      "    \n",
      "    algorithm : {\"NUTS\", \"HMC\", \"Fixed_param\"}, optional\n",
      "        One of algorithms that are implemented in Stan such as the No-U-Turn\n",
      "        sampler (NUTS, Hoffman and Gelman 2011), static HMC, or ``Fixed_param``.\n",
      "        Default is NUTS.\n",
      "    \n",
      "    init : {0, '0', 'random', function returning dict, list of dict}, optional\n",
      "        Specifies how initial parameter values are chosen: 0 or '0'\n",
      "        initializes all to be zero on the unconstrained support; 'random'\n",
      "        generates random initial values; list of size equal to the number\n",
      "        of chains (`chains`), where the list contains a dict with initial\n",
      "        parameter values; function returning a dict with initial parameter\n",
      "        values. The function may take an optional argument `chain_id`.\n",
      "    \n",
      "    sample_file : string, optional\n",
      "        File name specifying where samples for *all* parameters and other\n",
      "        saved quantities will be written. If not provided, no samples\n",
      "        will be written. If the folder given is not writable, a temporary\n",
      "        directory will be used. When there are multiple chains, an underscore\n",
      "        and chain number are appended to the file name. By default do not\n",
      "        write samples to file.\n",
      "    \n",
      "    verbose : boolean, False by default\n",
      "        Indicates whether intermediate output should be piped to the\n",
      "        console. This output may be useful for debugging.\n",
      "    \n",
      "    control : dict, optional\n",
      "        A dictionary of parameters to control the sampler's behavior. Default\n",
      "        values are used if control is not specified.  The following are\n",
      "        adaptation parameters for sampling algorithms.\n",
      "    \n",
      "        These are parameters used in Stan with similar names:\n",
      "    \n",
      "        - `adapt_engaged` : bool, default True\n",
      "        - `adapt_gamma` : float, positive, default 0.05\n",
      "        - `adapt_delta` : float, between 0 and 1, default 0.8\n",
      "        - `adapt_kappa` : float, between default 0.75\n",
      "        - `adapt_t0`    : float, positive, default 10\n",
      "    \n",
      "        In addition, the algorithm HMC (called 'static HMC' in Stan) and NUTS\n",
      "        share the following parameters:\n",
      "    \n",
      "        - `stepsize`: float or list of floats, positive\n",
      "        - `stepsize_jitter`: float, between 0 and 1\n",
      "        - `metric` : str, {\"unit_e\", \"diag_e\", \"dense_e\"}\n",
      "        - `inv_metric` : np.ndarray or str\n",
      "    \n",
      "        In addition, depending on which algorithm is used, different parameters\n",
      "        can be set as in Stan for sampling. For the algorithm HMC we can set\n",
      "    \n",
      "        - `int_time`: float, positive\n",
      "    \n",
      "        For algorithm NUTS, we can set\n",
      "    \n",
      "        - `max_treedepth` : int, positive\n",
      "    \n",
      "    n_jobs : int, optional\n",
      "        Sample in parallel. If -1 all CPUs are used. If 1, no parallel\n",
      "        computing code is used at all, which is useful for debugging.\n",
      "    \n",
      "    Returns\n",
      "    -------\n",
      "    fit : StanFit4Model\n",
      "        Instance containing the fitted results.\n",
      "    \n",
      "    Other parameters\n",
      "    ----------------\n",
      "    \n",
      "    chain_id : int or iterable of int, optional\n",
      "        `chain_id` can be a vector to specify the chain_id for all chains or\n",
      "        an integer. For the former case, they should be unique. For the latter,\n",
      "        the sequence of integers starting from the given `chain_id` are used\n",
      "        for all chains.\n",
      "    \n",
      "    init_r : float, optional\n",
      "        `init_r` is only valid if `init` == \"random\". In this case, the initial\n",
      "        values are simulated from [-`init_r`, `init_r`] rather than using the\n",
      "        default interval (see the manual of Stan).\n",
      "    \n",
      "    test_grad: bool, optional\n",
      "        If `test_grad` is ``True``, Stan will not do any sampling. Instead,\n",
      "        the gradient calculation is tested and printed out and the fitted\n",
      "        StanFit4Model object is in test gradient mode.  By default, it is\n",
      "        ``False``.\n",
      "    \n",
      "    append_samples`: bool, optional\n",
      "    \n",
      "    refresh`: int, optional\n",
      "        Argument `refresh` can be used to control how to indicate the progress\n",
      "        during sampling (i.e. show the progress every \\code{refresh} iterations).\n",
      "        By default, `refresh` is `max(iter/10, 1)`.\n",
      "    \n",
      "    check_hmc_diagnostics : bool, optional\n",
      "        After sampling run `pystan.diagnostics.check_hmc_diagnostics` function.\n",
      "        Default is `True`. Checks for n_eff and rhat skipped if the flat\n",
      "        parameter count is higher than 1000, unless user explicitly defines\n",
      "        ``check_hmc_diagnostics=True``.\n",
      "    \n",
      "    \n",
      "    Examples\n",
      "    --------\n",
      "    >>> from pystan import StanModel\n",
      "    >>> m = StanModel(model_code='parameters {real y;} model {y ~ normal(0,1);}')\n",
      "    >>> m.sampling(iter=100)\n",
      "\n"
     ]
    }
   ],
   "source": [
    "help(pystan.StanModel.sampling)"
   ]
  },
  {
   "cell_type": "code",
   "execution_count": 61,
   "metadata": {
    "ExecuteTime": {
     "end_time": "2020-09-14T14:08:17.955187Z",
     "start_time": "2020-09-14T14:08:17.950194Z"
    }
   },
   "outputs": [
    {
     "data": {
      "text/plain": [
       "1079754999.464535"
      ]
     },
     "execution_count": 61,
     "metadata": {},
     "output_type": "execute_result"
    }
   ],
   "source": [
    "np.exp(20.8)"
   ]
  },
  {
   "cell_type": "code",
   "execution_count": null,
   "metadata": {},
   "outputs": [],
   "source": []
  }
 ],
 "metadata": {
  "kernelspec": {
   "display_name": "Python 3",
   "language": "python",
   "name": "python3"
  },
  "language_info": {
   "codemirror_mode": {
    "name": "ipython",
    "version": 3
   },
   "file_extension": ".py",
   "mimetype": "text/x-python",
   "name": "python",
   "nbconvert_exporter": "python",
   "pygments_lexer": "ipython3",
   "version": "3.7.6"
  },
  "toc": {
   "base_numbering": 1,
   "nav_menu": {},
   "number_sections": true,
   "sideBar": true,
   "skip_h1_title": false,
   "title_cell": "Table of Contents",
   "title_sidebar": "Contents",
   "toc_cell": false,
   "toc_position": {},
   "toc_section_display": true,
   "toc_window_display": false
  },
  "varInspector": {
   "cols": {
    "lenName": 16,
    "lenType": 16,
    "lenVar": 40
   },
   "kernels_config": {
    "python": {
     "delete_cmd_postfix": "",
     "delete_cmd_prefix": "del ",
     "library": "var_list.py",
     "varRefreshCmd": "print(var_dic_list())"
    },
    "r": {
     "delete_cmd_postfix": ") ",
     "delete_cmd_prefix": "rm(",
     "library": "var_list.r",
     "varRefreshCmd": "cat(var_dic_list()) "
    }
   },
   "types_to_exclude": [
    "module",
    "function",
    "builtin_function_or_method",
    "instance",
    "_Feature"
   ],
   "window_display": false
  }
 },
 "nbformat": 4,
 "nbformat_minor": 4
}
