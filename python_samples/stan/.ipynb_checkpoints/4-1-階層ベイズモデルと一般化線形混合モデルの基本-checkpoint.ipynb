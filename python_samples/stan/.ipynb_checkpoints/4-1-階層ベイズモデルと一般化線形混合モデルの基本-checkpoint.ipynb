{
 "cells": [
  {
   "cell_type": "markdown",
   "metadata": {},
   "source": [
    "　「RとStanで始めるベイズ統計モデリングによるデータ分析入門」「実践編第4部第1章 階層ベイズモデルと一般化線形混合モデルの基本」を対象に，公開されているR，Stanのコードをpython，pystanのコードへと書き直した一例です。Stanの代わりにpystanを利用しています。\n",
    "\n",
    "　この章では，階層ベイズモデルの基本的な事柄が解説されています。また階層ベイズモデルの具体例として，一般化線形混合モデル（Generalized Linear Mixed Models GLMM）の推定が試みられています。\n",
    "\n",
    "　本ページでは公開されていない書籍の内容については一切触れません。理論や詳しい説明は書籍を参照してください。\n",
    "\n",
    "　なお，こちらで紹介しているコードには誤りが含まれる可能性があります。内容やコードについてお気づきの点等ございましたら，ご指摘いただけると幸いです"
   ]
  },
  {
   "cell_type": "markdown",
   "metadata": {},
   "source": [
    "# 分析の準備\n",
    "## パッケージの読み込み"
   ]
  },
  {
   "cell_type": "code",
   "execution_count": 1,
   "metadata": {
    "ExecuteTime": {
     "end_time": "2020-09-13T11:51:51.019254Z",
     "start_time": "2020-09-13T11:51:47.537314Z"
    }
   },
   "outputs": [],
   "source": [
    "import arviz\n",
    "import pystan\n",
    "import numpy as np\n",
    "import pandas as pd\n",
    "\n",
    "%matplotlib inline\n",
    "import matplotlib.pyplot as plt\n",
    "plt.style.use('ggplot')\n",
    "plt.rcParams['font.family'] = 'Meiryo'\n",
    "import seaborn as sns"
   ]
  },
  {
   "cell_type": "markdown",
   "metadata": {},
   "source": [
    "# データの読み込み\n",
    "## 分析対象のデータ"
   ]
  },
  {
   "cell_type": "code",
   "execution_count": 152,
   "metadata": {
    "ExecuteTime": {
     "end_time": "2020-09-15T12:04:55.646692Z",
     "start_time": "2020-09-15T12:04:55.639710Z"
    }
   },
   "outputs": [],
   "source": [
    "fish_num_climate_2 = pd.read_csv('4-1-1-fish-num-2.csv')"
   ]
  },
  {
   "cell_type": "markdown",
   "metadata": {
    "ExecuteTime": {
     "end_time": "2020-09-13T11:53:21.739049Z",
     "start_time": "2020-09-13T11:53:21.735032Z"
    }
   },
   "source": [
    "## id列を数値ではなくfactorとして扱う"
   ]
  },
  {
   "cell_type": "code",
   "execution_count": 153,
   "metadata": {
    "ExecuteTime": {
     "end_time": "2020-09-15T12:04:57.270352Z",
     "start_time": "2020-09-15T12:04:57.259381Z"
    }
   },
   "outputs": [
    {
     "data": {
      "text/html": [
       "<div>\n",
       "<style scoped>\n",
       "    .dataframe tbody tr th:only-of-type {\n",
       "        vertical-align: middle;\n",
       "    }\n",
       "\n",
       "    .dataframe tbody tr th {\n",
       "        vertical-align: top;\n",
       "    }\n",
       "\n",
       "    .dataframe thead th {\n",
       "        text-align: right;\n",
       "    }\n",
       "</style>\n",
       "<table border=\"1\" class=\"dataframe\">\n",
       "  <thead>\n",
       "    <tr style=\"text-align: right;\">\n",
       "      <th></th>\n",
       "      <th>fish_num</th>\n",
       "      <th>weather</th>\n",
       "      <th>temperature</th>\n",
       "      <th>id</th>\n",
       "    </tr>\n",
       "  </thead>\n",
       "  <tbody>\n",
       "    <tr>\n",
       "      <th>0</th>\n",
       "      <td>0</td>\n",
       "      <td>cloudy</td>\n",
       "      <td>5.0</td>\n",
       "      <td>1</td>\n",
       "    </tr>\n",
       "    <tr>\n",
       "      <th>1</th>\n",
       "      <td>1</td>\n",
       "      <td>cloudy</td>\n",
       "      <td>24.2</td>\n",
       "      <td>2</td>\n",
       "    </tr>\n",
       "    <tr>\n",
       "      <th>2</th>\n",
       "      <td>6</td>\n",
       "      <td>cloudy</td>\n",
       "      <td>11.5</td>\n",
       "      <td>3</td>\n",
       "    </tr>\n",
       "  </tbody>\n",
       "</table>\n",
       "</div>"
      ],
      "text/plain": [
       "   fish_num weather  temperature id\n",
       "0         0  cloudy          5.0  1\n",
       "1         1  cloudy         24.2  2\n",
       "2         6  cloudy         11.5  3"
      ]
     },
     "execution_count": 153,
     "metadata": {},
     "output_type": "execute_result"
    }
   ],
   "source": [
    "fish_num_climate_2['id'] = fish_num_climate_2['id'].astype(object)\n",
    "fish_num_climate_2.head(n=3)"
   ]
  },
  {
   "cell_type": "markdown",
   "metadata": {},
   "source": [
    "# 通常のポアソン回帰モデルの当てはめ"
   ]
  },
  {
   "cell_type": "markdown",
   "metadata": {},
   "source": [
    "## 参考：デザイン行列の作成"
   ]
  },
  {
   "cell_type": "code",
   "execution_count": 155,
   "metadata": {
    "ExecuteTime": {
     "end_time": "2020-09-15T12:05:15.222737Z",
     "start_time": "2020-09-15T12:05:15.203788Z"
    }
   },
   "outputs": [
    {
     "data": {
      "text/html": [
       "<div>\n",
       "<style scoped>\n",
       "    .dataframe tbody tr th:only-of-type {\n",
       "        vertical-align: middle;\n",
       "    }\n",
       "\n",
       "    .dataframe tbody tr th {\n",
       "        vertical-align: top;\n",
       "    }\n",
       "\n",
       "    .dataframe thead th {\n",
       "        text-align: right;\n",
       "    }\n",
       "</style>\n",
       "<table border=\"1\" class=\"dataframe\">\n",
       "  <thead>\n",
       "    <tr style=\"text-align: right;\">\n",
       "      <th></th>\n",
       "      <th>(Intercept)</th>\n",
       "      <th>weather_sunny</th>\n",
       "      <th>temperature</th>\n",
       "    </tr>\n",
       "  </thead>\n",
       "  <tbody>\n",
       "    <tr>\n",
       "      <th>0</th>\n",
       "      <td>1</td>\n",
       "      <td>0</td>\n",
       "      <td>5.0</td>\n",
       "    </tr>\n",
       "    <tr>\n",
       "      <th>1</th>\n",
       "      <td>1</td>\n",
       "      <td>0</td>\n",
       "      <td>24.2</td>\n",
       "    </tr>\n",
       "    <tr>\n",
       "      <th>2</th>\n",
       "      <td>1</td>\n",
       "      <td>0</td>\n",
       "      <td>11.5</td>\n",
       "    </tr>\n",
       "    <tr>\n",
       "      <th>3</th>\n",
       "      <td>1</td>\n",
       "      <td>0</td>\n",
       "      <td>9.8</td>\n",
       "    </tr>\n",
       "    <tr>\n",
       "      <th>4</th>\n",
       "      <td>1</td>\n",
       "      <td>0</td>\n",
       "      <td>18.1</td>\n",
       "    </tr>\n",
       "    <tr>\n",
       "      <th>...</th>\n",
       "      <td>...</td>\n",
       "      <td>...</td>\n",
       "      <td>...</td>\n",
       "    </tr>\n",
       "    <tr>\n",
       "      <th>95</th>\n",
       "      <td>1</td>\n",
       "      <td>1</td>\n",
       "      <td>7.5</td>\n",
       "    </tr>\n",
       "    <tr>\n",
       "      <th>96</th>\n",
       "      <td>1</td>\n",
       "      <td>1</td>\n",
       "      <td>9.7</td>\n",
       "    </tr>\n",
       "    <tr>\n",
       "      <th>97</th>\n",
       "      <td>1</td>\n",
       "      <td>1</td>\n",
       "      <td>9.2</td>\n",
       "    </tr>\n",
       "    <tr>\n",
       "      <th>98</th>\n",
       "      <td>1</td>\n",
       "      <td>1</td>\n",
       "      <td>5.5</td>\n",
       "    </tr>\n",
       "    <tr>\n",
       "      <th>99</th>\n",
       "      <td>1</td>\n",
       "      <td>1</td>\n",
       "      <td>20.4</td>\n",
       "    </tr>\n",
       "  </tbody>\n",
       "</table>\n",
       "<p>100 rows × 3 columns</p>\n",
       "</div>"
      ],
      "text/plain": [
       "    (Intercept)  weather_sunny  temperature\n",
       "0             1              0          5.0\n",
       "1             1              0         24.2\n",
       "2             1              0         11.5\n",
       "3             1              0          9.8\n",
       "4             1              0         18.1\n",
       "..          ...            ...          ...\n",
       "95            1              1          7.5\n",
       "96            1              1          9.7\n",
       "97            1              1          9.2\n",
       "98            1              1          5.5\n",
       "99            1              1         20.4\n",
       "\n",
       "[100 rows x 3 columns]"
      ]
     },
     "metadata": {},
     "output_type": "display_data"
    }
   ],
   "source": [
    "# 応答変数の削除とダミー変数化処理\n",
    "design_mat = pd.get_dummies(fish_num_climate_2.drop(['fish_num'], axis=1),\n",
    "                            drop_first=True)\n",
    "\n",
    "# 列名を書籍準拠に\n",
    "design_mat = design_mat[['weather_sunny', 'temperature']]\n",
    "\n",
    "# (Intercept)列追加\n",
    "design_mat.insert(0, '(Intercept)', 1)\n",
    "\n",
    "display(design_mat)"
   ]
  },
  {
   "cell_type": "markdown",
   "metadata": {},
   "source": [
    "## 参考：データの作成"
   ]
  },
  {
   "cell_type": "code",
   "execution_count": 156,
   "metadata": {
    "ExecuteTime": {
     "end_time": "2020-09-15T12:05:16.796531Z",
     "start_time": "2020-09-15T12:05:16.791576Z"
    }
   },
   "outputs": [],
   "source": [
    "data_list = dict(N=len(fish_num_climate_2),\n",
    "                 fish_num=fish_num_climate_2['fish_num'],\n",
    "                 temp=fish_num_climate_2['temperature'],\n",
    "                 sunny=design_mat['weather_sunny'])"
   ]
  },
  {
   "cell_type": "markdown",
   "metadata": {},
   "source": [
    "## ポアソン回帰モデルを作る"
   ]
  },
  {
   "cell_type": "code",
   "execution_count": 157,
   "metadata": {
    "ExecuteTime": {
     "end_time": "2020-09-15T12:06:04.721405Z",
     "start_time": "2020-09-15T12:05:22.740489Z"
    }
   },
   "outputs": [
    {
     "name": "stderr",
     "output_type": "stream",
     "text": [
      "INFO:pystan:COMPILING THE C++ CODE FOR MODEL anon_model_6f00b22f8f1bacaae22a7ed5dc2e2b65 NOW.\n"
     ]
    }
   ],
   "source": [
    "# stanコードの記述\n",
    "stan_code = '''\n",
    "data {\n",
    "  int N;                   // サンプルサイズ\n",
    "  int fish_num[N];         // 釣獲尾数\n",
    "  vector[N] temp;          // 気温データ\n",
    "  vector[N] sunny;         // 晴れダミー変数\n",
    "}\n",
    "\n",
    "parameters {\n",
    "  real Intercept;      // 切片\n",
    "  real temperature;         // 係数(気温)\n",
    "  real weathersunny;        // 係数(晴れの影響)\n",
    "}\n",
    "\n",
    "model {\n",
    "  vector[N] lambda = exp(Intercept + temperature*temp + weathersunny*sunny);\n",
    "  fish_num ~ poisson(lambda);\n",
    "}\n",
    "\n",
    "generated quantities {\n",
    "    vector[N] lambda_sunny;\n",
    "    vector[N] lambda_cloudy;\n",
    "    \n",
    "    for(i in 1:N){\n",
    "        lambda_sunny[i] = exp(Intercept + temperature*temp[i] + weathersunny*1);\n",
    "        lambda_cloudy[i] = exp(Intercept + temperature*temp[i] + weathersunny*0);\n",
    "    }\n",
    "}\n",
    "\n",
    "'''\n",
    "\n",
    "# モデルのコンパイル\n",
    "stan_model = pystan.StanModel(model_code=stan_code)\n",
    "\n",
    "# サンプリング\n",
    "glm_pois_brms = stan_model.sampling(data=data_list, seed=1, n_jobs=1)"
   ]
  },
  {
   "cell_type": "markdown",
   "metadata": {},
   "source": [
    "## 参考：結果の表示"
   ]
  },
  {
   "cell_type": "code",
   "execution_count": 158,
   "metadata": {
    "ExecuteTime": {
     "end_time": "2020-09-15T12:34:13.606986Z",
     "start_time": "2020-09-15T12:34:13.581082Z"
    }
   },
   "outputs": [
    {
     "name": "stdout",
     "output_type": "stream",
     "text": [
      "Inference for Stan model: anon_model_6f00b22f8f1bacaae22a7ed5dc2e2b65.\n",
      "4 chains, each with iter=2000; warmup=1000; thin=1; \n",
      "post-warmup draws per chain=1000, total post-warmup draws=4000.\n",
      "\n",
      "               mean se_mean     sd    2.5%    50%  97.5%  n_eff   Rhat\n",
      "Intercept       0.3  4.0e-3   0.15 -6.5e-3    0.3   0.58   1474    1.0\n",
      "temperature    0.06  2.0e-4 7.7e-3    0.05   0.06   0.08   1483    1.0\n",
      "weathersunny  -0.73  2.8e-3   0.13    -1.0  -0.73  -0.47   2324    1.0\n",
      "lp__          33.94    0.03   1.25   30.66  34.26  35.36   1289    1.0\n",
      "\n",
      "Samples were drawn using NUTS at Tue Sep 15 21:06:04 2020.\n",
      "For each parameter, n_eff is a crude measure of effective sample size,\n",
      "and Rhat is the potential scale reduction factor on split chains (at \n",
      "convergence, Rhat=1).\n"
     ]
    }
   ],
   "source": [
    "print(glm_pois_brms.stansummary(pars=[\"Intercept\", \"temperature\", \"weathersunny\", \"lp__\"],\n",
    "                                probs=[0.025, 0.5, 0.975]))"
   ]
  },
  {
   "cell_type": "markdown",
   "metadata": {
    "ExecuteTime": {
     "end_time": "2020-09-13T12:10:42.964364Z",
     "start_time": "2020-09-13T12:10:42.961351Z"
    }
   },
   "source": [
    "## 結果の図示"
   ]
  },
  {
   "cell_type": "code",
   "execution_count": 159,
   "metadata": {
    "ExecuteTime": {
     "end_time": "2020-09-15T12:34:15.963303Z",
     "start_time": "2020-09-15T12:34:15.947346Z"
    }
   },
   "outputs": [],
   "source": [
    "mcmc_sample = glm_pois_brms.extract()"
   ]
  },
  {
   "cell_type": "code",
   "execution_count": 160,
   "metadata": {
    "ExecuteTime": {
     "end_time": "2020-09-15T12:34:23.495245Z",
     "start_time": "2020-09-15T12:34:16.860919Z"
    }
   },
   "outputs": [],
   "source": [
    "result  = poisson.pmf(15,mcmc_sample['lambda_cloudy'])\n",
    "# 空のデータフレームを作成\n",
    "result_prob_solar = pd.DataFrame(np.zeros([len(fish_num_climate_2), 3])) \n",
    "result_prob_shade = pd.DataFrame(np.zeros([len(fish_num_climate_2), 3])) \n",
    "\n",
    "# 2.5・50・97.5パーセンタイルの値をデータフレームに代入\n",
    "for i in range(len(fish_num_climate_2)):\n",
    "    result_prob_solar.iloc[i,:] = np.percentile(poisson.rvs(mcmc_sample['lambda_cloudy'], size= (4000, 100))[:,i], q=[2.5, 50, 97.5])\n",
    "    result_prob_shade.iloc[i,:] = np.percentile(poisson.rvs(mcmc_sample['lambda_sunny'], size= (4000, 100))[:,i], q=[2.5, 50, 97.5])\n",
    "    \n",
    "# データフレームの列名を変更\n",
    "result_prob_solar.columns = [\"2.5%\", \"50%\", \"97.5%\"]\n",
    "result_prob_shade.columns = [\"2.5%\", \"50%\", \"97.5%\"]\n",
    "\n",
    "# 栄養素情報をデータフレームに追加\n",
    "result_prob_solar['temperature'] = fish_num_climate_2['temperature']\n",
    "result_prob_shade['temperature'] = fish_num_climate_2['temperature']\n",
    "\n",
    "# 栄養素情報で並び順をソート\n",
    "result_prob_solar = result_prob_solar.sort_values('temperature')\n",
    "result_prob_shade = result_prob_shade.sort_values('temperature')"
   ]
  },
  {
   "cell_type": "code",
   "execution_count": 164,
   "metadata": {
    "ExecuteTime": {
     "end_time": "2020-09-15T14:19:06.095982Z",
     "start_time": "2020-09-15T14:19:05.920476Z"
    }
   },
   "outputs": [
    {
     "data": {
      "image/png": "[encoded data removed]",
      "text/plain": [
       "<Figure size 720x360 with 1 Axes>"
      ]
     },
     "metadata": {},
     "output_type": "display_data"
    }
   ],
   "source": [
    "# 種子個数\n",
    "binom_size = 10\n",
    "\n",
    "# グラフ描画領域の作成\n",
    "plt.figure(figsize=(10, 5))\n",
    "\n",
    "# 散布図の描画\n",
    "sns.scatterplot(x='temperature',\n",
    "                y='fish_num',\n",
    "                data=fish_num_climate_2,\n",
    "                hue='weather')\n",
    "\n",
    "# 日照がない日の回帰曲線の描画\n",
    "plt.plot(result_prob_shade['temperature'],\n",
    "         result_prob_shade[\"50%\"],\n",
    "         color='red')\n",
    "# 95%ベイズ信頼区間を描画\n",
    "plt.fill_between(x=result_prob_shade['temperature'],\n",
    "                 y1=result_prob_shade[\"2.5%\"],\n",
    "                 y2=result_prob_shade[\"97.5%\"],\n",
    "                 color='red',\n",
    "                 alpha=0.3)\n",
    "\n",
    "# 日照がある日の回帰曲線の描画\n",
    "plt.plot(result_prob_solar['temperature'],\n",
    "         result_prob_solar[\"50%\"],\n",
    "         color='blue')\n",
    "# 95%ベイズ信頼区間を描画\n",
    "plt.fill_between(x=result_prob_solar['temperature'],\n",
    "                 y1=result_prob_solar[\"2.5%\"],\n",
    "                 y2=result_prob_solar[\"97.5%\"],\n",
    "                 color='blue',\n",
    "                 alpha=0.3)\n",
    "\n",
    "plt.legend(bbox_to_anchor=(1.05, 1), loc='upper left')\n",
    "\n",
    "# グラフの描画\n",
    "plt.show()"
   ]
  },
  {
   "cell_type": "code",
   "execution_count": 133,
   "metadata": {
    "ExecuteTime": {
     "end_time": "2020-09-15T11:27:33.768248Z",
     "start_time": "2020-09-15T11:27:33.762288Z"
    }
   },
   "outputs": [
    {
     "data": {
      "text/plain": [
       "array([1.37724647, 1.38548661, 1.39377692, 1.47069938, 1.49728915,\n",
       "       1.5990415 , 1.5990415 , 1.62799442, 1.62799442, 1.64759217,\n",
       "       1.68751094, 1.69764351, 1.70783798, 1.81327354, 1.81327354,\n",
       "       1.82417494, 1.83514303, 1.84617822, 1.87969059, 1.94858432,\n",
       "       1.96031394, 1.98398915, 1.98398915, 2.02004866, 2.0322161 ,\n",
       "       2.04445811, 2.0691677 , 2.11950236, 2.15806948, 2.18417683,\n",
       "       2.18417683, 2.23735969, 2.23735969, 2.23735969, 2.29186049,\n",
       "       2.33362094, 2.34771245, 2.37615573, 2.41947946, 2.43409858,\n",
       "       2.47849741, 2.6009656 , 2.64846298, 2.66449075, 2.68061721,\n",
       "       2.69684296, 2.88206033, 2.97047863, 3.06165756, 3.15568479,\n",
       "       3.29228086, 3.37302088, 3.41414328, 3.43489535, 3.54059649,\n",
       "       3.58379794, 3.64960771, 3.69416251, 3.71664697, 3.78493909,\n",
       "       3.83117494, 3.85450787, 3.99757292, 4.02193697, 4.02193697,\n",
       "       4.2223674 , 4.27404354, 4.40606633, 4.62598887, 4.82756684,\n",
       "       5.25794351, 5.32253498, 5.35513271, 5.35513271, 5.42093859,\n",
       "       5.45414931, 5.58907451, 5.623333  , 5.623333  , 5.65780505,\n",
       "       5.7625161 , 5.79785598, 5.83341626, 5.94143357, 6.08862811,\n",
       "       6.08862811, 6.20145325, 6.2395322 , 6.51282773, 6.55285167,\n",
       "       6.6336515 , 6.79830381, 6.88218227, 6.96711321, 7.05311005,\n",
       "       7.05311005, 7.18413367, 7.6860976 , 7.8290875 , 8.22376223])"
      ]
     },
     "execution_count": 133,
     "metadata": {},
     "output_type": "execute_result"
    }
   ],
   "source": [
    "mcmc_sample['lambda_cloudy'].mean(axis=0)"
   ]
  },
  {
   "cell_type": "code",
   "execution_count": null,
   "metadata": {},
   "outputs": [],
   "source": []
  }
 ],
 "metadata": {
  "kernelspec": {
   "display_name": "Python 3",
   "language": "python",
   "name": "python3"
  },
  "language_info": {
   "codemirror_mode": {
    "name": "ipython",
    "version": 3
   },
   "file_extension": ".py",
   "mimetype": "text/x-python",
   "name": "python",
   "nbconvert_exporter": "python",
   "pygments_lexer": "ipython3",
   "version": "3.7.6"
  },
  "toc": {
   "base_numbering": 1,
   "nav_menu": {},
   "number_sections": true,
   "sideBar": true,
   "skip_h1_title": false,
   "title_cell": "Table of Contents",
   "title_sidebar": "Contents",
   "toc_cell": false,
   "toc_position": {},
   "toc_section_display": true,
   "toc_window_display": false
  },
  "varInspector": {
   "cols": {
    "lenName": 16,
    "lenType": 16,
    "lenVar": 40
   },
   "kernels_config": {
    "python": {
     "delete_cmd_postfix": "",
     "delete_cmd_prefix": "del ",
     "library": "var_list.py",
     "varRefreshCmd": "print(var_dic_list())"
    },
    "r": {
     "delete_cmd_postfix": ") ",
     "delete_cmd_prefix": "rm(",
     "library": "var_list.r",
     "varRefreshCmd": "cat(var_dic_list()) "
    }
   },
   "types_to_exclude": [
    "module",
    "function",
    "builtin_function_or_method",
    "instance",
    "_Feature"
   ],
   "window_display": false
  }
 },
 "nbformat": 4,
 "nbformat_minor": 4
}
