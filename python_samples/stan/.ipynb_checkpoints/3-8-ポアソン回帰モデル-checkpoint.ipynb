{
 "cells": [
  {
   "cell_type": "markdown",
   "metadata": {},
   "source": [
    "「RとStanで始めるベイズ統計モデリングによるデータ分析入門 実践編第8章 ポアソン回帰モデル」を対象に，公開されているR，Stanのコードをpython，pystanのコードへと書き直した一例です。Stanの代わりにpystanを利用しています。\n",
    "\n",
    "本ページでは公開されていない書籍の内容については一切触れません。理論や詳しい説明は書籍を参照してください。\n",
    "\n",
    "なお，こちらで紹介しているコードには誤りが含まれる可能性があります。内容やコードについてお気づきの点等ございましたら，ご指摘いただけると幸いです。"
   ]
  },
  {
   "cell_type": "markdown",
   "metadata": {},
   "source": [
    "# 分析の準備\n",
    "\n",
    "## パッケージの読み込み"
   ]
  },
  {
   "cell_type": "code",
   "execution_count": 1,
   "metadata": {
    "ExecuteTime": {
     "end_time": "2020-09-01T10:30:00.333979Z",
     "start_time": "2020-09-01T10:29:58.414767Z"
    }
   },
   "outputs": [],
   "source": [
    "import pystan\n",
    "import numpy as np\n",
    "import pandas as pd\n",
    "\n",
    "%matplotlib inline\n",
    "import matplotlib.pyplot as plt\n",
    "plt.style.use('ggplot')\n",
    "plt.rcParams['font.family'] = 'Meiryo'\n",
    "import seaborn as sns"
   ]
  },
  {
   "cell_type": "markdown",
   "metadata": {},
   "source": [
    "# データの読み込みと図示\n",
    "\n",
    "## 分析対象のデータ"
   ]
  },
  {
   "cell_type": "code",
   "execution_count": 2,
   "metadata": {
    "ExecuteTime": {
     "end_time": "2020-09-01T10:30:00.354910Z",
     "start_time": "2020-09-01T10:30:00.335948Z"
    }
   },
   "outputs": [
    {
     "data": {
      "text/html": [
       "<div>\n",
       "<style scoped>\n",
       "    .dataframe tbody tr th:only-of-type {\n",
       "        vertical-align: middle;\n",
       "    }\n",
       "\n",
       "    .dataframe tbody tr th {\n",
       "        vertical-align: top;\n",
       "    }\n",
       "\n",
       "    .dataframe thead th {\n",
       "        text-align: right;\n",
       "    }\n",
       "</style>\n",
       "<table border=\"1\" class=\"dataframe\">\n",
       "  <thead>\n",
       "    <tr style=\"text-align: right;\">\n",
       "      <th></th>\n",
       "      <th>fish_num</th>\n",
       "      <th>weather</th>\n",
       "      <th>temperature</th>\n",
       "    </tr>\n",
       "  </thead>\n",
       "  <tbody>\n",
       "    <tr>\n",
       "      <th>0</th>\n",
       "      <td>0</td>\n",
       "      <td>cloudy</td>\n",
       "      <td>5.5</td>\n",
       "    </tr>\n",
       "    <tr>\n",
       "      <th>1</th>\n",
       "      <td>2</td>\n",
       "      <td>cloudy</td>\n",
       "      <td>21.1</td>\n",
       "    </tr>\n",
       "    <tr>\n",
       "      <th>2</th>\n",
       "      <td>5</td>\n",
       "      <td>cloudy</td>\n",
       "      <td>17.2</td>\n",
       "    </tr>\n",
       "  </tbody>\n",
       "</table>\n",
       "</div>"
      ],
      "text/plain": [
       "   fish_num weather  temperature\n",
       "0         0  cloudy          5.5\n",
       "1         2  cloudy         21.1\n",
       "2         5  cloudy         17.2"
      ]
     },
     "execution_count": 2,
     "metadata": {},
     "output_type": "execute_result"
    }
   ],
   "source": [
    "fish_num_climate = pd.read_csv('3-8-1-fish-num-1.csv')\n",
    "fish_num_climate.head(n=3)"
   ]
  },
  {
   "cell_type": "markdown",
   "metadata": {},
   "source": [
    "## データの要約"
   ]
  },
  {
   "cell_type": "code",
   "execution_count": 3,
   "metadata": {
    "ExecuteTime": {
     "end_time": "2020-09-01T10:30:00.373872Z",
     "start_time": "2020-09-01T10:30:00.356892Z"
    }
   },
   "outputs": [
    {
     "data": {
      "text/html": [
       "<div>\n",
       "<style scoped>\n",
       "    .dataframe tbody tr th:only-of-type {\n",
       "        vertical-align: middle;\n",
       "    }\n",
       "\n",
       "    .dataframe tbody tr th {\n",
       "        vertical-align: top;\n",
       "    }\n",
       "\n",
       "    .dataframe thead th {\n",
       "        text-align: right;\n",
       "    }\n",
       "</style>\n",
       "<table border=\"1\" class=\"dataframe\">\n",
       "  <thead>\n",
       "    <tr style=\"text-align: right;\">\n",
       "      <th></th>\n",
       "      <th>fish_num</th>\n",
       "      <th>weather</th>\n",
       "      <th>temperature</th>\n",
       "    </tr>\n",
       "  </thead>\n",
       "  <tbody>\n",
       "    <tr>\n",
       "      <th>count</th>\n",
       "      <td>100.000000</td>\n",
       "      <td>100</td>\n",
       "      <td>100.000000</td>\n",
       "    </tr>\n",
       "    <tr>\n",
       "      <th>unique</th>\n",
       "      <td>NaN</td>\n",
       "      <td>2</td>\n",
       "      <td>NaN</td>\n",
       "    </tr>\n",
       "    <tr>\n",
       "      <th>top</th>\n",
       "      <td>NaN</td>\n",
       "      <td>cloudy</td>\n",
       "      <td>NaN</td>\n",
       "    </tr>\n",
       "    <tr>\n",
       "      <th>freq</th>\n",
       "      <td>NaN</td>\n",
       "      <td>50</td>\n",
       "      <td>NaN</td>\n",
       "    </tr>\n",
       "    <tr>\n",
       "      <th>mean</th>\n",
       "      <td>1.600000</td>\n",
       "      <td>NaN</td>\n",
       "      <td>14.747000</td>\n",
       "    </tr>\n",
       "    <tr>\n",
       "      <th>std</th>\n",
       "      <td>1.933229</td>\n",
       "      <td>NaN</td>\n",
       "      <td>8.956826</td>\n",
       "    </tr>\n",
       "    <tr>\n",
       "      <th>min</th>\n",
       "      <td>0.000000</td>\n",
       "      <td>NaN</td>\n",
       "      <td>0.200000</td>\n",
       "    </tr>\n",
       "    <tr>\n",
       "      <th>25%</th>\n",
       "      <td>0.000000</td>\n",
       "      <td>NaN</td>\n",
       "      <td>6.750000</td>\n",
       "    </tr>\n",
       "    <tr>\n",
       "      <th>50%</th>\n",
       "      <td>1.000000</td>\n",
       "      <td>NaN</td>\n",
       "      <td>13.250000</td>\n",
       "    </tr>\n",
       "    <tr>\n",
       "      <th>75%</th>\n",
       "      <td>2.000000</td>\n",
       "      <td>NaN</td>\n",
       "      <td>23.225000</td>\n",
       "    </tr>\n",
       "    <tr>\n",
       "      <th>max</th>\n",
       "      <td>8.000000</td>\n",
       "      <td>NaN</td>\n",
       "      <td>29.700000</td>\n",
       "    </tr>\n",
       "  </tbody>\n",
       "</table>\n",
       "</div>"
      ],
      "text/plain": [
       "          fish_num weather  temperature\n",
       "count   100.000000     100   100.000000\n",
       "unique         NaN       2          NaN\n",
       "top            NaN  cloudy          NaN\n",
       "freq           NaN      50          NaN\n",
       "mean      1.600000     NaN    14.747000\n",
       "std       1.933229     NaN     8.956826\n",
       "min       0.000000     NaN     0.200000\n",
       "25%       0.000000     NaN     6.750000\n",
       "50%       1.000000     NaN    13.250000\n",
       "75%       2.000000     NaN    23.225000\n",
       "max       8.000000     NaN    29.700000"
      ]
     },
     "execution_count": 3,
     "metadata": {},
     "output_type": "execute_result"
    }
   ],
   "source": [
    "fish_num_climate.describe(include='all')"
   ]
  },
  {
   "cell_type": "markdown",
   "metadata": {},
   "source": [
    "## 図示"
   ]
  },
  {
   "cell_type": "code",
   "execution_count": 25,
   "metadata": {
    "ExecuteTime": {
     "end_time": "2020-09-02T09:29:35.502410Z",
     "start_time": "2020-09-02T09:29:35.328899Z"
    }
   },
   "outputs": [
    {
     "data": {
      "image/png": "[encoded data removed]",
      "text/plain": [
       "<Figure size 720x360 with 1 Axes>"
      ]
     },
     "metadata": {},
     "output_type": "display_data"
    }
   ],
   "source": [
    "# グラフ描画領域の作成\n",
    "plt.figure(figsize=(10, 5))\n",
    "# 散布図の描画\n",
    "sns.scatterplot(x='temperature', y='fish_num', data=fish_num_climate, hue='weather')\n",
    "# タイトルの変更\n",
    "plt.title('釣獲尾数と気温・天気の関係')\n",
    "# グラフの描画\n",
    "plt.show()"
   ]
  },
  {
   "cell_type": "markdown",
   "metadata": {},
   "source": [
    "# brmsによる分散分析モデルの推定\n",
    "\n",
    "pythonにbrmsの代用可能なパッケージが知っている範囲内で存在しないため，brmsを利用したコードは省略しています。\n",
    "\n",
    "# 補足：brmsを用いない実装の方法\n",
    "\n",
    "## 参考：デザイン行列の作成"
   ]
  },
  {
   "cell_type": "code",
   "execution_count": 5,
   "metadata": {
    "ExecuteTime": {
     "end_time": "2020-09-01T10:30:00.600241Z",
     "start_time": "2020-09-01T10:30:00.580309Z"
    }
   },
   "outputs": [
    {
     "data": {
      "text/html": [
       "<div>\n",
       "<style scoped>\n",
       "    .dataframe tbody tr th:only-of-type {\n",
       "        vertical-align: middle;\n",
       "    }\n",
       "\n",
       "    .dataframe tbody tr th {\n",
       "        vertical-align: top;\n",
       "    }\n",
       "\n",
       "    .dataframe thead th {\n",
       "        text-align: right;\n",
       "    }\n",
       "</style>\n",
       "<table border=\"1\" class=\"dataframe\">\n",
       "  <thead>\n",
       "    <tr style=\"text-align: right;\">\n",
       "      <th></th>\n",
       "      <th>(Intercept)</th>\n",
       "      <th>weather_sunny</th>\n",
       "      <th>temperature</th>\n",
       "    </tr>\n",
       "  </thead>\n",
       "  <tbody>\n",
       "    <tr>\n",
       "      <th>0</th>\n",
       "      <td>1</td>\n",
       "      <td>0</td>\n",
       "      <td>5.5</td>\n",
       "    </tr>\n",
       "    <tr>\n",
       "      <th>1</th>\n",
       "      <td>1</td>\n",
       "      <td>0</td>\n",
       "      <td>21.1</td>\n",
       "    </tr>\n",
       "    <tr>\n",
       "      <th>2</th>\n",
       "      <td>1</td>\n",
       "      <td>0</td>\n",
       "      <td>17.2</td>\n",
       "    </tr>\n",
       "    <tr>\n",
       "      <th>3</th>\n",
       "      <td>1</td>\n",
       "      <td>0</td>\n",
       "      <td>5.0</td>\n",
       "    </tr>\n",
       "    <tr>\n",
       "      <th>4</th>\n",
       "      <td>1</td>\n",
       "      <td>0</td>\n",
       "      <td>28.3</td>\n",
       "    </tr>\n",
       "    <tr>\n",
       "      <th>...</th>\n",
       "      <td>...</td>\n",
       "      <td>...</td>\n",
       "      <td>...</td>\n",
       "    </tr>\n",
       "    <tr>\n",
       "      <th>95</th>\n",
       "      <td>1</td>\n",
       "      <td>1</td>\n",
       "      <td>5.9</td>\n",
       "    </tr>\n",
       "    <tr>\n",
       "      <th>96</th>\n",
       "      <td>1</td>\n",
       "      <td>1</td>\n",
       "      <td>12.8</td>\n",
       "    </tr>\n",
       "    <tr>\n",
       "      <th>97</th>\n",
       "      <td>1</td>\n",
       "      <td>1</td>\n",
       "      <td>2.8</td>\n",
       "    </tr>\n",
       "    <tr>\n",
       "      <th>98</th>\n",
       "      <td>1</td>\n",
       "      <td>1</td>\n",
       "      <td>3.5</td>\n",
       "    </tr>\n",
       "    <tr>\n",
       "      <th>99</th>\n",
       "      <td>1</td>\n",
       "      <td>1</td>\n",
       "      <td>13.2</td>\n",
       "    </tr>\n",
       "  </tbody>\n",
       "</table>\n",
       "<p>100 rows × 3 columns</p>\n",
       "</div>"
      ],
      "text/plain": [
       "    (Intercept)  weather_sunny  temperature\n",
       "0             1              0          5.5\n",
       "1             1              0         21.1\n",
       "2             1              0         17.2\n",
       "3             1              0          5.0\n",
       "4             1              0         28.3\n",
       "..          ...            ...          ...\n",
       "95            1              1          5.9\n",
       "96            1              1         12.8\n",
       "97            1              1          2.8\n",
       "98            1              1          3.5\n",
       "99            1              1         13.2\n",
       "\n",
       "[100 rows x 3 columns]"
      ]
     },
     "metadata": {},
     "output_type": "display_data"
    }
   ],
   "source": [
    "# 応答変数の削除とダミー変数化処理\n",
    "design_mat = pd.get_dummies(fish_num_climate.drop(['fish_num'], axis=1),\n",
    "                   drop_first=True)\n",
    "\n",
    "# 列名を書籍準拠に\n",
    "design_mat = design_mat[['weather_sunny', 'temperature']]\n",
    "\n",
    "# (Intercept)列追加\n",
    "design_mat.insert(0, '(Intercept)', 1)\n",
    "\n",
    "display(design_mat)"
   ]
  },
  {
   "cell_type": "markdown",
   "metadata": {},
   "source": [
    "## 参考：データの作成"
   ]
  },
  {
   "cell_type": "code",
   "execution_count": 6,
   "metadata": {
    "ExecuteTime": {
     "end_time": "2020-09-01T10:30:00.613206Z",
     "start_time": "2020-09-01T10:30:00.602235Z"
    }
   },
   "outputs": [
    {
     "data": {
      "text/plain": [
       "{'N': 100,\n",
       " 'fish_num': 0     0\n",
       " 1     2\n",
       " 2     5\n",
       " 3     1\n",
       " 4     3\n",
       "      ..\n",
       " 95    0\n",
       " 96    0\n",
       " 97    0\n",
       " 98    0\n",
       " 99    0\n",
       " Name: fish_num, Length: 100, dtype: int64,\n",
       " 'temp': 0      5.5\n",
       " 1     21.1\n",
       " 2     17.2\n",
       " 3      5.0\n",
       " 4     28.3\n",
       "       ... \n",
       " 95     5.9\n",
       " 96    12.8\n",
       " 97     2.8\n",
       " 98     3.5\n",
       " 99    13.2\n",
       " Name: temperature, Length: 100, dtype: float64,\n",
       " 'sunny': 0     0\n",
       " 1     0\n",
       " 2     0\n",
       " 3     0\n",
       " 4     0\n",
       "      ..\n",
       " 95    1\n",
       " 96    1\n",
       " 97    1\n",
       " 98    1\n",
       " 99    1\n",
       " Name: weather_sunny, Length: 100, dtype: uint8}"
      ]
     },
     "metadata": {},
     "output_type": "display_data"
    }
   ],
   "source": [
    "data_list_1 = dict(N=len(fish_num_climate),\n",
    "                   fish_num=fish_num_climate['fish_num'],\n",
    "                   temp=fish_num_climate['temperature'],\n",
    "                   sunny=design_mat['weather_sunny'])\n",
    "\n",
    "display(data_list_1)"
   ]
  },
  {
   "cell_type": "markdown",
   "metadata": {},
   "source": [
    "## 参考：自分で変換処理を入れる"
   ]
  },
  {
   "cell_type": "code",
   "execution_count": 7,
   "metadata": {
    "ExecuteTime": {
     "end_time": "2020-09-01T10:30:40.382190Z",
     "start_time": "2020-09-01T10:30:00.615201Z"
    }
   },
   "outputs": [
    {
     "name": "stderr",
     "output_type": "stream",
     "text": [
      "INFO:pystan:COMPILING THE C++ CODE FOR MODEL anon_model_10b93b39bc827a53de74eb5431c131b8 NOW.\n"
     ]
    }
   ],
   "source": [
    "# stanコードの記述\n",
    "stan_code = '''\n",
    "data {\n",
    "  int N;                   // サンプルサイズ\n",
    "  int fish_num[N];         // 釣獲尾数\n",
    "  vector[N] temp;          // 気温データ\n",
    "  vector[N] sunny;         // 晴れダミー変数\n",
    "}\n",
    "\n",
    "parameters {\n",
    "  real Intercept;      // 切片\n",
    "  real b_temp;         // 係数(気温)\n",
    "  real b_sunny;        // 係数(晴れの影響)\n",
    "}\n",
    "\n",
    "model {\n",
    "  vector[N] lambda = exp(Intercept + b_temp*temp + b_sunny*sunny);\n",
    "  fish_num ~ poisson(lambda);\n",
    "}\n",
    "\n",
    "'''\n",
    "\n",
    "# モデルのコンパイル\n",
    "stan_model = pystan.StanModel(model_code=stan_code)\n",
    "\n",
    "# サンプリング\n",
    "glm_pois_stan_exp = stan_model.sampling(data=data_list_1, seed=2, n_jobs=1)"
   ]
  },
  {
   "cell_type": "markdown",
   "metadata": {},
   "source": [
    "## 結果の表示"
   ]
  },
  {
   "cell_type": "code",
   "execution_count": 8,
   "metadata": {
    "ExecuteTime": {
     "end_time": "2020-09-01T10:30:40.406076Z",
     "start_time": "2020-09-01T10:30:40.383110Z"
    }
   },
   "outputs": [
    {
     "name": "stdout",
     "output_type": "stream",
     "text": [
      "Inference for Stan model: anon_model_10b93b39bc827a53de74eb5431c131b8.\n",
      "4 chains, each with iter=2000; warmup=1000; thin=1; \n",
      "post-warmup draws per chain=1000, total post-warmup draws=4000.\n",
      "\n",
      "            mean se_mean     sd   2.5%    50%  97.5%  n_eff   Rhat\n",
      "Intercept  -0.79  6.0e-3   0.24   -1.3  -0.79  -0.35   1628    1.0\n",
      "b_temp      0.08  2.4e-4   0.01   0.06   0.08    0.1   1682    1.0\n",
      "b_sunny    -0.59  3.7e-3   0.17  -0.93  -0.59  -0.26   2089    1.0\n",
      "lp__      -37.73    0.03   1.22 -40.95 -37.41 -36.32   1412    1.0\n",
      "\n",
      "Samples were drawn using NUTS at Tue Sep  1 19:30:40 2020.\n",
      "For each parameter, n_eff is a crude measure of effective sample size,\n",
      "and Rhat is the potential scale reduction factor on split chains (at \n",
      "convergence, Rhat=1).\n"
     ]
    }
   ],
   "source": [
    "print(glm_pois_stan_exp.stansummary(probs=[0.025, 0.5, 0.975]))"
   ]
  },
  {
   "cell_type": "markdown",
   "metadata": {},
   "source": [
    "## 参考：poisson_log関数を使用"
   ]
  },
  {
   "cell_type": "code",
   "execution_count": 9,
   "metadata": {
    "ExecuteTime": {
     "end_time": "2020-09-01T10:31:20.988838Z",
     "start_time": "2020-09-01T10:30:40.407073Z"
    },
    "scrolled": true
   },
   "outputs": [
    {
     "name": "stderr",
     "output_type": "stream",
     "text": [
      "INFO:pystan:COMPILING THE C++ CODE FOR MODEL anon_model_6d78a2071bf51cbe1e42c5c01664ea40 NOW.\n"
     ]
    }
   ],
   "source": [
    "# stanコードの記述\n",
    "stan_code = '''\n",
    "data {\n",
    "  int N;                   // サンプルサイズ\n",
    "  int fish_num[N];         // 釣獲尾数\n",
    "  vector[N] temp;          // 気温データ\n",
    "  vector[N] sunny;         // 晴れダミー変数\n",
    "}\n",
    "\n",
    "parameters {\n",
    "  real Intercept;      // 切片\n",
    "  real b_temp;         // 係数(気温)\n",
    "  real b_sunny;        // 係数(晴れの影響)\n",
    "}\n",
    "\n",
    "model {\n",
    "  vector[N] lambda = Intercept + b_temp*temp + b_sunny*sunny;\n",
    "  fish_num ~ poisson_log(lambda);\n",
    "}\n",
    "\n",
    "generated quantities {\n",
    "    vector[N] lambda_sunny;\n",
    "    vector[N] lambda_cloudy;\n",
    "    vector[N] fish_num_sunny;\n",
    "    vector[N] fish_num_cloudy;\n",
    "    \n",
    "    for(i in 1:N){\n",
    "        lambda_sunny[i] = Intercept +  b_temp*temp[i] + b_sunny*1;\n",
    "        lambda_cloudy[i] = Intercept +  b_temp*temp[i] + b_sunny*0;\n",
    "        fish_num_sunny[i] = poisson_log_rng(lambda_sunny[i]);\n",
    "        fish_num_cloudy[i] = poisson_log_rng(lambda_cloudy[i]);\n",
    "    }\n",
    "}\n",
    "'''\n",
    "\n",
    "# モデルのコンパイル\n",
    "stan_model = pystan.StanModel(model_code=stan_code)\n",
    "\n",
    "# サンプリング\n",
    "glm_pois_stan = stan_model.sampling(data=data_list_1, n_jobs=1)"
   ]
  },
  {
   "cell_type": "markdown",
   "metadata": {},
   "source": [
    "## 参考：結果の表示"
   ]
  },
  {
   "cell_type": "code",
   "execution_count": 10,
   "metadata": {
    "ExecuteTime": {
     "end_time": "2020-09-01T10:31:22.494768Z",
     "start_time": "2020-09-01T10:31:20.989810Z"
    }
   },
   "outputs": [
    {
     "name": "stdout",
     "output_type": "stream",
     "text": [
      "Inference for Stan model: anon_model_6d78a2071bf51cbe1e42c5c01664ea40.\n",
      "4 chains, each with iter=2000; warmup=1000; thin=1; \n",
      "post-warmup draws per chain=1000, total post-warmup draws=4000.\n",
      "\n",
      "                        mean se_mean     sd    2.5%     50%   97.5%  n_eff   Rhat\n",
      "Intercept              -0.79  6.1e-3   0.24   -1.28   -0.79   -0.32   1553    1.0\n",
      "b_temp                  0.08  2.4e-4   0.01    0.06    0.08     0.1   1755    1.0\n",
      "b_sunny                -0.59  3.9e-3   0.17   -0.93   -0.59   -0.26   1939    1.0\n",
      "lambda_sunny[1]        -0.93  4.4e-3   0.21   -1.35   -0.92   -0.54   2248    1.0\n",
      "lambda_sunny[2]         0.36  2.7e-3   0.14    0.08    0.37    0.64   2677    1.0\n",
      "lambda_sunny[3]         0.04  2.8e-3   0.14   -0.25    0.05    0.33   2740    1.0\n",
      "lambda_sunny[4]        -0.97  4.5e-3   0.21    -1.4   -0.96   -0.58   2231    1.0\n",
      "lambda_sunny[5]         0.96  3.5e-3   0.16    0.64    0.96    1.28   2177    1.0\n",
      "lambda_sunny[6]         0.96  3.5e-3   0.16    0.64    0.96    1.28   2177    1.0\n",
      "lambda_sunny[7]        -1.06  4.7e-3   0.22   -1.51   -1.05   -0.65   2196    1.0\n",
      "lambda_sunny[8]         0.69  3.1e-3   0.15    0.39    0.69    0.98   2384    1.0\n",
      "lambda_sunny[9]        -0.22  3.0e-3   0.16   -0.54   -0.22    0.07   2634    1.0\n",
      "lambda_sunny[10]       -0.02  2.8e-3   0.15   -0.31   -0.01    0.27   2726    1.0\n",
      "lambda_sunny[11]     -8.3e-3  2.8e-3   0.15    -0.3 -5.4e-3    0.28   2729    1.0\n",
      "lambda_sunny[12]       -0.79  4.0e-3   0.19   -1.19   -0.78   -0.42   2312    1.0\n",
      "lambda_sunny[13]        0.51  2.8e-3   0.14    0.22    0.51    0.78   2549    1.0\n",
      "lambda_sunny[14]       -0.94  4.4e-3   0.21   -1.36   -0.93   -0.55   2245    1.0\n",
      "lambda_sunny[15]       -0.37  3.2e-3   0.16    -0.7   -0.37   -0.06   2546    1.0\n",
      "lambda_sunny[16]        0.74  3.1e-3   0.15    0.43    0.74    1.03   2342    1.0\n",
      "lambda_sunny[17]        1.04  3.7e-3   0.17    0.71    1.05    1.37   2127    1.0\n",
      "lambda_sunny[18]       -0.82  4.1e-3    0.2   -1.23   -0.81   -0.45   2296    1.0\n",
      "lambda_sunny[19]       -0.28  3.1e-3   0.16    -0.6   -0.28    0.02   2601    1.0\n",
      "lambda_sunny[20]        -1.2  5.0e-3   0.23   -1.67   -1.19   -0.76   2148    1.0\n",
      "lambda_sunny[21]        0.27  2.7e-3   0.14   -0.01    0.27    0.54   2726    1.0\n",
      "lambda_sunny[22]       -0.42  3.3e-3   0.17   -0.76   -0.42   -0.11   2516    1.0\n",
      "lambda_sunny[23]         0.7  3.1e-3   0.15     0.4     0.7    0.98   2377    1.0\n",
      "lambda_sunny[24]       -1.01  4.5e-3   0.21   -1.45    -1.0   -0.61   2215    1.0\n",
      "lambda_sunny[25]       -0.52  3.5e-3   0.17   -0.87   -0.52   -0.19   2456    1.0\n",
      "lambda_sunny[26]       -0.17  3.0e-3   0.15   -0.47   -0.16    0.13   2665    1.0\n",
      "lambda_sunny[27]       -1.01  4.5e-3   0.21   -1.45    -1.0   -0.61   2215    1.0\n",
      "lambda_sunny[28]        -0.5  3.5e-3   0.17   -0.85   -0.49   -0.17   2471    1.0\n",
      "lambda_sunny[29]        1.01  3.6e-3   0.17    0.68    1.01    1.33   2146    1.0\n",
      "lambda_sunny[30]       -1.05  4.6e-3   0.22    -1.5   -1.04   -0.64   2199    1.0\n",
      "lambda_sunny[31]       -1.36  5.4e-3   0.25   -1.86   -1.35   -0.88   2103    1.0\n",
      "lambda_sunny[32]       -0.98  4.5e-3   0.21   -1.41   -0.97   -0.58   2228    1.0\n",
      "lambda_sunny[33]        0.63  3.0e-3   0.15    0.34    0.63    0.91   2435    1.0\n",
      "lambda_sunny[34]        0.78  3.2e-3   0.15    0.47    0.78    1.07   2308    1.0\n",
      "lambda_sunny[35]       -0.11  2.9e-3   0.15   -0.41    -0.1    0.18   2692    1.0\n",
      "lambda_sunny[36]        0.17  2.7e-3   0.14   -0.11    0.18    0.45   2746    1.0\n",
      "lambda_sunny[37]        0.71  3.1e-3   0.15    0.41    0.71     1.0   2363    1.0\n",
      "lambda_sunny[38]       -0.68  3.8e-3   0.19   -1.06   -0.67   -0.32   2367    1.0\n",
      "lambda_sunny[39]        0.27  2.7e-3   0.14 -3.1e-3    0.28    0.55   2723    1.0\n",
      "lambda_sunny[40]       -1.01  4.5e-3   0.21   -1.45    -1.0   -0.61   2215    1.0\n",
      "lambda_sunny[41]        1.06  3.7e-3   0.17    0.72    1.06    1.39   2117    1.0\n",
      "lambda_sunny[42]       -0.65  3.7e-3   0.18   -1.02   -0.64    -0.3   2385    1.0\n",
      "lambda_sunny[43]       -1.09  4.7e-3   0.22   -1.54   -1.09   -0.68   2184    1.0\n",
      "lambda_sunny[44]       -0.98  4.5e-3   0.21   -1.41   -0.97   -0.58   2228    1.0\n",
      "lambda_sunny[45]        0.96  3.5e-3   0.16    0.64    0.96    1.28   2177    1.0\n",
      "lambda_sunny[46]        0.59  2.9e-3   0.15     0.3    0.59    0.87   2473    1.0\n",
      "lambda_sunny[47]        1.04  3.6e-3   0.17     0.7    1.04    1.36   2131    1.0\n",
      "lambda_sunny[48]       -0.51  3.5e-3   0.17   -0.87   -0.51   -0.18   2461    1.0\n",
      "lambda_sunny[49]       -0.13  2.9e-3   0.15   -0.43   -0.13    0.16   2681    1.0\n",
      "lambda_sunny[50]        0.63  3.0e-3   0.15    0.34    0.63    0.91   2435    1.0\n",
      "lambda_sunny[51]       -1.37  5.4e-3   0.25   -1.87   -1.36   -0.89   2101    1.0\n",
      "lambda_sunny[52]       -1.35  5.4e-3   0.25   -1.85   -1.34   -0.88   2105    1.0\n",
      "lambda_sunny[53]        0.31  2.7e-3   0.14    0.04    0.32    0.59   2707    1.0\n",
      "lambda_sunny[54]        0.93  3.4e-3   0.16    0.61    0.93    1.24   2199    1.0\n",
      "lambda_sunny[55]        -0.7  3.8e-3   0.19   -1.08   -0.69   -0.34   2358    1.0\n",
      "lambda_sunny[56]        0.64  3.0e-3   0.15    0.35    0.64    0.92   2427    1.0\n",
      "lambda_sunny[57]        0.57  2.9e-3   0.15    0.29    0.57    0.85   2488    1.0\n",
      "lambda_sunny[58]        1.08  3.7e-3   0.17    0.74    1.08    1.41   2108    1.0\n",
      "lambda_sunny[59]        0.14  2.7e-3   0.14   -0.14    0.14    0.42   2748    1.0\n",
      "lambda_sunny[60]        0.38  2.7e-3   0.14     0.1    0.38    0.66   2662    1.0\n",
      "lambda_sunny[61]        0.53  2.9e-3   0.14    0.25    0.53    0.81   2526    1.0\n",
      "lambda_sunny[62]        0.82  3.3e-3   0.16    0.51    0.82    1.12   2276    1.0\n",
      "lambda_sunny[63]        0.17  2.7e-3   0.14   -0.11    0.18    0.45   2746    1.0\n",
      "lambda_sunny[64]       -0.74  3.9e-3   0.19   -1.13   -0.73   -0.38   2337    1.0\n",
      "lambda_sunny[65]        0.75  3.2e-3   0.15    0.45    0.76    1.05   2328    1.0\n",
      "lambda_sunny[66]        -0.3  3.1e-3   0.16   -0.62   -0.29  6.5e-3   2591    1.0\n",
      "lambda_sunny[67]       -0.42  3.3e-3   0.17   -0.76   -0.42   -0.11   2516    1.0\n",
      "lambda_sunny[68]       -0.24  3.0e-3   0.16   -0.55   -0.24    0.06   2625    1.0\n",
      "lambda_sunny[69]       -0.84  4.1e-3    0.2   -1.24   -0.83   -0.46   2289    1.0\n",
      "lambda_sunny[70]       -1.22  5.0e-3   0.23   -1.69   -1.21   -0.77   2143    1.0\n",
      "lambda_sunny[71]        -0.7  3.8e-3   0.19   -1.08   -0.69   -0.34   2358    1.0\n",
      "lambda_sunny[72]       -0.61  3.7e-3   0.18   -0.98   -0.61   -0.27   2403    1.0\n",
      "lambda_sunny[73]       -1.28  5.2e-3   0.24   -1.77   -1.27   -0.82   2126    1.0\n",
      "lambda_sunny[74]       -0.93  4.4e-3   0.21   -1.35   -0.92   -0.54   2248    1.0\n",
      "lambda_sunny[75]       -0.93  4.4e-3   0.21   -1.35   -0.92   -0.54   2248    1.0\n",
      "lambda_sunny[76]         0.5  2.8e-3   0.14    0.21     0.5    0.77   2557    1.0\n",
      "lambda_sunny[77]       -0.67  3.8e-3   0.18   -1.05   -0.66   -0.32   2371    1.0\n",
      "lambda_sunny[78]        0.77  3.2e-3   0.15    0.46    0.77    1.07   2315    1.0\n",
      "lambda_sunny[79]       -0.38  3.3e-3   0.16   -0.71   -0.38   -0.07   2541    1.0\n",
      "lambda_sunny[80]        0.04  2.8e-3   0.14   -0.25    0.05    0.33   2740    1.0\n",
      "lambda_sunny[81]       -0.51  3.5e-3   0.17   -0.87   -0.51   -0.18   2461    1.0\n",
      "lambda_sunny[82]        0.29  2.7e-3   0.14    0.01    0.29    0.57   2717    1.0\n",
      "lambda_sunny[83]       -1.32  5.3e-3   0.24   -1.81   -1.31   -0.85   2114    1.0\n",
      "lambda_sunny[84]       -0.39  3.3e-3   0.16   -0.72   -0.38   -0.08   2536    1.0\n",
      "lambda_sunny[85]       -0.89  4.3e-3    0.2    -1.3   -0.88    -0.5   2266    1.0\n",
      "lambda_sunny[86]        0.75  3.1e-3   0.15    0.44    0.75    1.04   2335    1.0\n",
      "lambda_sunny[87]        1.03  3.6e-3   0.17    0.69    1.03    1.35   2136    1.0\n",
      "lambda_sunny[88]       -0.58  3.6e-3   0.18   -0.94   -0.57   -0.24   2422    1.0\n",
      "lambda_sunny[89]        0.44  2.8e-3   0.14    0.16    0.44    0.72   2610    1.0\n",
      "lambda_sunny[90]       -0.54  3.5e-3   0.17   -0.89   -0.53   -0.21   2446    1.0\n",
      "lambda_sunny[91]        1.04  3.7e-3   0.17    0.71    1.05    1.37   2127    1.0\n",
      "lambda_sunny[92]        -0.4  3.3e-3   0.17   -0.73   -0.39   -0.08   2531    1.0\n",
      "lambda_sunny[93]       -0.44  3.4e-3   0.17   -0.78   -0.43   -0.12   2506    1.0\n",
      "lambda_sunny[94]      8.2e-3  2.8e-3   0.15   -0.28    0.01     0.3   2733    1.0\n",
      "lambda_sunny[95]       -0.23  3.0e-3   0.16   -0.54   -0.23    0.07   2630    1.0\n",
      "lambda_sunny[96]       -0.89  4.3e-3    0.2   -1.31   -0.89   -0.51   2262    1.0\n",
      "lambda_sunny[97]       -0.32  3.2e-3   0.16   -0.65   -0.32   -0.02   2576    1.0\n",
      "lambda_sunny[98]       -1.15  4.9e-3   0.23   -1.61   -1.14   -0.72   2164    1.0\n",
      "lambda_sunny[99]       -1.09  4.7e-3   0.22   -1.54   -1.09   -0.68   2184    1.0\n",
      "lambda_sunny[100]      -0.29  3.1e-3   0.16   -0.61   -0.29    0.01   2596    1.0\n",
      "lambda_cloudy[1]       -0.34  4.9e-3   0.19   -0.72   -0.34    0.03   1557    1.0\n",
      "lambda_cloudy[2]        0.95  1.9e-3    0.1    0.75    0.95    1.14   2702    1.0\n",
      "lambda_cloudy[3]        0.63  2.4e-3   0.11    0.41    0.63    0.84   1995    1.0\n",
      "lambda_cloudy[4]       -0.38  5.0e-3    0.2   -0.78   -0.38  2.4e-4   1555    1.0\n",
      "lambda_cloudy[5]        1.55  2.1e-3   0.12    1.31    1.55    1.78   3405    1.0\n",
      "lambda_cloudy[6]        1.55  2.1e-3   0.12    1.31    1.55    1.78   3405    1.0\n",
      "lambda_cloudy[7]       -0.47  5.2e-3   0.21   -0.88   -0.47   -0.07   1553    1.0\n",
      "lambda_cloudy[8]        1.28  1.8e-3   0.11    1.06    1.28    1.48   3441    1.0\n",
      "lambda_cloudy[9]        0.37  3.0e-3   0.13    0.11    0.37    0.61   1729    1.0\n",
      "lambda_cloudy[10]       0.57  2.6e-3   0.11    0.34    0.58    0.79   1917    1.0\n",
      "lambda_cloudy[11]       0.58  2.5e-3   0.11    0.35    0.58     0.8   1928    1.0\n",
      "lambda_cloudy[12]       -0.2  4.5e-3   0.18   -0.55   -0.19    0.15   1566    1.0\n",
      "lambda_cloudy[13]        1.1  1.8e-3    0.1    0.89     1.1    1.28   3107    1.0\n",
      "lambda_cloudy[14]      -0.35  4.9e-3   0.19   -0.73   -0.34    0.03   1556    1.0\n",
      "lambda_cloudy[15]       0.22  3.4e-3   0.14   -0.06    0.22    0.48   1652    1.0\n",
      "lambda_cloudy[16]       1.33  1.8e-3   0.11    1.11    1.33    1.53   3480    1.0\n",
      "lambda_cloudy[17]       1.63  2.2e-3   0.13    1.38    1.64    1.87   3313    1.0\n",
      "lambda_cloudy[18]      -0.23  4.6e-3   0.18   -0.59   -0.23    0.12   1563    1.0\n",
      "lambda_cloudy[19]       0.31  3.2e-3   0.13    0.05    0.31    0.56   1694    1.0\n",
      "lambda_cloudy[20]      -0.61  5.6e-3   0.22   -1.06   -0.61   -0.18   1552    1.0\n",
      "lambda_cloudy[21]       0.85  2.0e-3    0.1    0.65    0.86    1.05   2435    1.0\n",
      "lambda_cloudy[22]       0.17  3.5e-3   0.14   -0.12    0.17    0.44   1634    1.0\n",
      "lambda_cloudy[23]       1.29  1.8e-3   0.11    1.07    1.29    1.49   3449    1.0\n",
      "lambda_cloudy[24]      -0.42  5.1e-3    0.2   -0.82   -0.42   -0.03   1554    1.0\n",
      "lambda_cloudy[25]       0.07  3.8e-3   0.15   -0.23    0.07    0.36   1606    1.0\n",
      "lambda_cloudy[26]       0.42  2.9e-3   0.12    0.18    0.43    0.66   1770    1.0\n",
      "lambda_cloudy[27]      -0.42  5.1e-3    0.2   -0.82   -0.42   -0.03   1554    1.0\n",
      "lambda_cloudy[28]       0.09  3.7e-3   0.15    -0.2    0.09    0.38   1612    1.0\n",
      "lambda_cloudy[29]        1.6  2.1e-3   0.12    1.35     1.6    1.84   3352    1.0\n",
      "lambda_cloudy[30]      -0.46  5.2e-3    0.2   -0.87   -0.46   -0.06   1553    1.0\n",
      "lambda_cloudy[31]      -0.77  6.1e-3   0.24   -1.25   -0.77    -0.3   1553    1.0\n",
      "lambda_cloudy[32]      -0.39  5.0e-3    0.2   -0.78   -0.38 -6.5e-3   1555    1.0\n",
      "lambda_cloudy[33]       1.22  1.8e-3    0.1    1.01    1.22    1.42   3366    1.0\n",
      "lambda_cloudy[34]       1.37  1.9e-3   0.11    1.15    1.37    1.57   3495    1.0\n",
      "lambda_cloudy[35]       0.48  2.8e-3   0.12    0.24    0.49    0.71   1819    1.0\n",
      "lambda_cloudy[36]       0.76  2.2e-3    0.1    0.56    0.76    0.96   2227    1.0\n",
      "lambda_cloudy[37]        1.3  1.8e-3   0.11    1.09     1.3     1.5   3464    1.0\n",
      "lambda_cloudy[38]      -0.09  4.2e-3   0.17   -0.42   -0.09    0.23   1577    1.0\n",
      "lambda_cloudy[39]       0.86  2.0e-3    0.1    0.66    0.86    1.06   2456    1.0\n",
      "lambda_cloudy[40]      -0.42  5.1e-3    0.2   -0.82   -0.42   -0.03   1554    1.0\n",
      "lambda_cloudy[41]       1.65  2.2e-3   0.13    1.39    1.65     1.9   3292    1.0\n",
      "lambda_cloudy[42]      -0.06  4.1e-3   0.16   -0.38   -0.05    0.26   1582    1.0\n",
      "lambda_cloudy[43]       -0.5  5.3e-3   0.21   -0.92    -0.5    -0.1   1552    1.0\n",
      "lambda_cloudy[44]      -0.39  5.0e-3    0.2   -0.78   -0.38 -6.5e-3   1555    1.0\n",
      "lambda_cloudy[45]       1.55  2.1e-3   0.12    1.31    1.55    1.78   3405    1.0\n",
      "lambda_cloudy[46]       1.18  1.8e-3    0.1    0.97    1.18    1.37   3293    1.0\n",
      "lambda_cloudy[47]       1.63  2.2e-3   0.13    1.37    1.63    1.86   3323    1.0\n",
      "lambda_cloudy[48]       0.08  3.8e-3   0.15   -0.22    0.08    0.37   1608    1.0\n",
      "lambda_cloudy[49]       0.46  2.8e-3   0.12    0.21    0.46    0.69   1797    1.0\n",
      "lambda_cloudy[50]       1.22  1.8e-3    0.1    1.01    1.22    1.42   3366    1.0\n",
      "lambda_cloudy[51]      -0.78  6.1e-3   0.24   -1.26   -0.77   -0.31   1553    1.0\n",
      "lambda_cloudy[52]      -0.76  6.0e-3   0.24   -1.24   -0.76   -0.29   1553    1.0\n",
      "lambda_cloudy[53]        0.9  2.0e-3    0.1     0.7    0.91     1.1   2564    1.0\n",
      "lambda_cloudy[54]       1.52  2.0e-3   0.12    1.28    1.52    1.74   3436    1.0\n",
      "lambda_cloudy[55]      -0.11  4.2e-3   0.17   -0.44    -0.1    0.22   1575    1.0\n",
      "lambda_cloudy[56]       1.23  1.8e-3    0.1    1.02    1.23    1.42   3378    1.0\n",
      "lambda_cloudy[57]       1.16  1.8e-3    0.1    0.96    1.16    1.35   3260    1.0\n",
      "lambda_cloudy[58]       1.67  2.3e-3   0.13    1.41    1.67    1.91   3271    1.0\n",
      "lambda_cloudy[59]       0.73  2.3e-3    0.1    0.52    0.73    0.93   2162    1.0\n",
      "lambda_cloudy[60]       0.97  1.9e-3    0.1    0.77    0.97    1.16   2750    1.0\n",
      "lambda_cloudy[61]       1.12  1.8e-3    0.1    0.92    1.12    1.31   3169    1.0\n",
      "lambda_cloudy[62]       1.41  1.9e-3   0.11    1.18    1.41    1.62   3494    1.0\n",
      "lambda_cloudy[63]       0.76  2.2e-3    0.1    0.56    0.76    0.96   2227    1.0\n",
      "lambda_cloudy[64]      -0.15  4.3e-3   0.17   -0.49   -0.15    0.19   1570    1.0\n",
      "lambda_cloudy[65]       1.34  1.8e-3   0.11    1.12    1.35    1.55   3488    1.0\n",
      "lambda_cloudy[66]       0.29  3.2e-3   0.13    0.03    0.29    0.54   1686    1.0\n",
      "lambda_cloudy[67]       0.17  3.5e-3   0.14   -0.12    0.17    0.44   1634    1.0\n",
      "lambda_cloudy[68]       0.35  3.1e-3   0.13    0.09    0.35    0.59   1718    1.0\n",
      "lambda_cloudy[69]      -0.25  4.6e-3   0.18   -0.61   -0.24    0.11   1562    1.0\n",
      "lambda_cloudy[70]      -0.63  5.7e-3   0.22   -1.08   -0.62   -0.19   1552    1.0\n",
      "lambda_cloudy[71]      -0.11  4.2e-3   0.17   -0.44    -0.1    0.22   1575    1.0\n",
      "lambda_cloudy[72]      -0.02  4.0e-3   0.16   -0.34   -0.02    0.29   1587    1.0\n",
      "lambda_cloudy[73]      -0.69  5.8e-3   0.23   -1.15   -0.68   -0.24   1552    1.0\n",
      "lambda_cloudy[74]      -0.34  4.9e-3   0.19   -0.72   -0.34    0.03   1557    1.0\n",
      "lambda_cloudy[75]      -0.34  4.9e-3   0.19   -0.72   -0.34    0.03   1557    1.0\n",
      "lambda_cloudy[76]       1.09  1.8e-3    0.1    0.89    1.09    1.27   3084    1.0\n",
      "lambda_cloudy[77]      -0.08  4.2e-3   0.17   -0.41   -0.08    0.24   1578    1.0\n",
      "lambda_cloudy[78]       1.36  1.8e-3   0.11    1.14    1.36    1.56   3493    1.0\n",
      "lambda_cloudy[79]       0.21  3.4e-3   0.14   -0.07    0.21    0.47   1649    1.0\n",
      "lambda_cloudy[80]       0.63  2.4e-3   0.11    0.41    0.63    0.84   1995    1.0\n",
      "lambda_cloudy[81]       0.08  3.8e-3   0.15   -0.22    0.08    0.37   1608    1.0\n",
      "lambda_cloudy[82]       0.88  2.0e-3    0.1    0.68    0.88    1.07   2499    1.0\n",
      "lambda_cloudy[83]      -0.73  5.9e-3   0.23    -1.2   -0.72   -0.27   1552    1.0\n",
      "lambda_cloudy[84]        0.2  3.4e-3   0.14   -0.08     0.2    0.47   1646    1.0\n",
      "lambda_cloudy[85]       -0.3  4.7e-3   0.19   -0.67   -0.29    0.07   1559    1.0\n",
      "lambda_cloudy[86]       1.34  1.8e-3   0.11    1.12    1.34    1.54   3484    1.0\n",
      "lambda_cloudy[87]       1.62  2.2e-3   0.13    1.37    1.62    1.86   3333    1.0\n",
      "lambda_cloudy[88]     9.9e-3  3.9e-3   0.16    -0.3    0.01    0.31   1593    1.0\n",
      "lambda_cloudy[89]       1.03  1.8e-3    0.1    0.83    1.03    1.22   2918    1.0\n",
      "lambda_cloudy[90]       0.05  3.8e-3   0.15   -0.25    0.05    0.35   1602    1.0\n",
      "lambda_cloudy[91]       1.63  2.2e-3   0.13    1.38    1.64    1.87   3313    1.0\n",
      "lambda_cloudy[92]       0.19  3.5e-3   0.14   -0.09    0.19    0.46   1643    1.0\n",
      "lambda_cloudy[93]       0.15  3.6e-3   0.14   -0.14    0.15    0.43   1629    1.0\n",
      "lambda_cloudy[94]        0.6  2.5e-3   0.11    0.37     0.6    0.81   1949    1.0\n",
      "lambda_cloudy[95]       0.36  3.1e-3   0.13     0.1    0.36     0.6   1723    1.0\n",
      "lambda_cloudy[96]       -0.3  4.8e-3   0.19   -0.68    -0.3    0.06   1558    1.0\n",
      "lambda_cloudy[97]       0.27  3.3e-3   0.13 -5.1e-3    0.27    0.52   1674    1.0\n",
      "lambda_cloudy[98]      -0.56  5.5e-3   0.22    -1.0   -0.56   -0.14   1552    1.0\n",
      "lambda_cloudy[99]       -0.5  5.3e-3   0.21   -0.92    -0.5    -0.1   1552    1.0\n",
      "lambda_cloudy[100]       0.3  3.2e-3   0.13    0.04     0.3    0.55   1690    1.0\n",
      "fish_num_sunny[1]       0.41    0.01   0.65     0.0     0.0     2.0   3641    1.0\n",
      "fish_num_sunny[2]       1.46    0.02   1.21     0.0     1.0     4.0   4111    1.0\n",
      "fish_num_sunny[3]       1.06    0.02   1.06     0.0     1.0     4.0   3808    1.0\n",
      "fish_num_sunny[4]       0.37    0.01   0.63     0.0     0.0     2.0   3847    1.0\n",
      "fish_num_sunny[5]       2.65    0.03    1.7     0.0     2.0     7.0   3560    1.0\n",
      "fish_num_sunny[6]        2.6    0.03   1.67     0.0     2.0     6.0   4092    1.0\n",
      "fish_num_sunny[7]       0.35  9.5e-3   0.59     0.0     0.0     2.0   3917    1.0\n",
      "fish_num_sunny[8]       2.02    0.02   1.42     0.0     2.0     5.0   4078    1.0\n",
      "fish_num_sunny[9]       0.81    0.01   0.92     0.0     1.0     3.0   3750    1.0\n",
      "fish_num_sunny[10]       1.0    0.02   1.03     0.0     1.0     3.0   3533    1.0\n",
      "fish_num_sunny[11]       1.0    0.02   1.01     0.0     1.0     3.0   3867    1.0\n",
      "fish_num_sunny[12]      0.48    0.01    0.7     0.0     0.0     2.0   4118    1.0\n",
      "fish_num_sunny[13]      1.66    0.02   1.31     0.0     1.0     5.0   3934    1.0\n",
      "fish_num_sunny[14]       0.4    0.01   0.63     0.0     0.0     2.0   3826    1.0\n",
      "fish_num_sunny[15]      0.69    0.01   0.83     0.0     0.0     3.0   3701    1.0\n",
      "fish_num_sunny[16]       2.1    0.02   1.51     0.0     2.0     6.0   3987    1.0\n",
      "fish_num_sunny[17]      2.86    0.03   1.79     0.0     3.0     7.0   3948    1.0\n",
      "fish_num_sunny[18]      0.45    0.01   0.68     0.0     0.0     2.0   3988    1.0\n",
      "fish_num_sunny[19]      0.78    0.01   0.88     0.0     1.0     3.0   3868    1.0\n",
      "fish_num_sunny[20]       0.3  9.0e-3   0.56     0.0     0.0     2.0   3909    1.0\n",
      "fish_num_sunny[21]      1.31    0.02   1.17     0.0     1.0     4.0   3953    1.0\n",
      "fish_num_sunny[22]      0.65    0.01   0.81     0.0     0.0     3.0   3942    1.0\n",
      "fish_num_sunny[23]      2.05    0.02   1.45     0.0     2.0     5.0   3906    1.0\n",
      "fish_num_sunny[24]      0.38  9.9e-3   0.61     0.0     0.0     2.0   3789    1.0\n",
      "fish_num_sunny[25]      0.59    0.01   0.77     0.0     0.0     2.0   4042    1.0\n",
      "fish_num_sunny[26]      0.84    0.02   0.92     0.0     1.0     3.0   3671    1.0\n",
      "fish_num_sunny[27]      0.37  9.9e-3   0.61     0.0     0.0     2.0   3804    1.0\n",
      "fish_num_sunny[28]      0.63    0.01    0.8     0.0     0.0     3.0   4039    1.0\n",
      "fish_num_sunny[29]      2.74    0.03   1.72     0.0     3.0     7.0   3838    1.0\n",
      "fish_num_sunny[30]      0.34  9.5e-3   0.59     0.0     0.0     2.0   3821    1.0\n",
      "fish_num_sunny[31]      0.27  8.2e-3   0.52     0.0     0.0     2.0   3977    1.0\n",
      "fish_num_sunny[32]      0.39  9.7e-3   0.62     0.0     0.0     2.0   4113    1.0\n",
      "fish_num_sunny[33]      1.87    0.02   1.39     0.0     2.0     5.0   3994    1.0\n",
      "fish_num_sunny[34]      2.21    0.03   1.55     0.0     2.0     6.0   3591    1.0\n",
      "fish_num_sunny[35]       0.9    0.02   0.97     0.0     1.0     3.0   3848    1.0\n",
      "fish_num_sunny[36]      1.18    0.02   1.09     0.0     1.0     4.0   3747    1.0\n",
      "fish_num_sunny[37]      2.01    0.02   1.46     0.0     2.0     5.0   4111    1.0\n",
      "fish_num_sunny[38]      0.52    0.01   0.74     0.0     0.0     2.0   3905    1.0\n",
      "fish_num_sunny[39]      1.32    0.02   1.16     0.0     1.0     4.0   3987    1.0\n",
      "fish_num_sunny[40]      0.36  9.7e-3   0.61     0.0     0.0     2.0   3946    1.0\n",
      "fish_num_sunny[41]      2.94    0.03   1.76     0.0     3.0     7.0   3387    1.0\n",
      "fish_num_sunny[42]      0.53    0.01   0.74     0.0     0.0     2.0   4125    1.0\n",
      "fish_num_sunny[43]      0.36  9.4e-3   0.59     0.0     0.0     2.0   3986    1.0\n",
      "fish_num_sunny[44]      0.38    0.01   0.62     0.0     0.0     2.0   3630    1.0\n",
      "fish_num_sunny[45]      2.63    0.03   1.67     0.0     2.0     6.0   3598    1.0\n",
      "fish_num_sunny[46]      1.78    0.02   1.39     0.0     2.0     5.0   3804    1.0\n",
      "fish_num_sunny[47]      2.81    0.03   1.76     0.0     3.0     7.0   3710    1.0\n",
      "fish_num_sunny[48]      0.61    0.01   0.79     0.0     0.0     3.0   3767    1.0\n",
      "fish_num_sunny[49]      0.92    0.02   0.98     0.0     1.0     3.0   3786    1.0\n",
      "fish_num_sunny[50]      1.92    0.02   1.41     0.0     2.0     5.0   3862    1.0\n",
      "fish_num_sunny[51]      0.27  8.4e-3   0.51     0.0     0.0     2.0   3674    1.0\n",
      "fish_num_sunny[52]      0.26  8.2e-3   0.52     0.0     0.0     2.0   3937    1.0\n",
      "fish_num_sunny[53]      1.39    0.02   1.17     0.0     1.0     4.0   3832    1.0\n",
      "fish_num_sunny[54]      2.55    0.03   1.67     0.0     2.0     6.0   3756    1.0\n",
      "fish_num_sunny[55]       0.5    0.01    0.7     0.0     0.0     2.0   3940    1.0\n",
      "fish_num_sunny[56]      1.93    0.02   1.42     0.0     2.0     5.0   3705    1.0\n",
      "fish_num_sunny[57]      1.78    0.02   1.36     0.0     2.0     5.0   3628    1.0\n",
      "fish_num_sunny[58]      2.95    0.03   1.77     0.0     3.0     7.0   3007    1.0\n",
      "fish_num_sunny[59]      1.16    0.02   1.08     0.0     1.0     4.0   3992    1.0\n",
      "fish_num_sunny[60]      1.45    0.02   1.22     0.0     1.0     4.0   4033    1.0\n",
      "fish_num_sunny[61]       1.7    0.02   1.33     0.0     1.0     5.0   4118    1.0\n",
      "fish_num_sunny[62]      2.28    0.02   1.55     0.0     2.0     6.0   3898    1.0\n",
      "fish_num_sunny[63]      1.19    0.02    1.1     0.0     1.0     4.0   3827    1.0\n",
      "fish_num_sunny[64]      0.49    0.01    0.7     0.0     0.0     2.0   3982    1.0\n",
      "fish_num_sunny[65]      2.11    0.02   1.49     0.0     2.0     5.0   3591    1.0\n",
      "fish_num_sunny[66]      0.74    0.01   0.87     0.0     1.0     3.0   3615    1.0\n",
      "fish_num_sunny[67]      0.67    0.01   0.81     0.0     0.0     3.0   4027    1.0\n",
      "fish_num_sunny[68]      0.79    0.01   0.89     0.0     1.0     3.0   3606    1.0\n",
      "fish_num_sunny[69]      0.46    0.01    0.7     0.0     0.0     2.0   3265    1.0\n",
      "fish_num_sunny[70]      0.31  9.4e-3   0.57     0.0     0.0     2.0   3643    1.0\n",
      "fish_num_sunny[71]       0.5    0.01    0.7     0.0     0.0     2.0   4214    1.0\n",
      "fish_num_sunny[72]      0.57    0.01   0.77     0.0     0.0     2.0   3900    1.0\n",
      "fish_num_sunny[73]      0.28  8.8e-3   0.55     0.0     0.0     2.0   3919    1.0\n",
      "fish_num_sunny[74]      0.41    0.01   0.65     0.0     0.0     2.0   3484    1.0\n",
      "fish_num_sunny[75]      0.41    0.01   0.65     0.0     0.0     2.0   3959    1.0\n",
      "fish_num_sunny[76]      1.65    0.02   1.31     0.0     1.0     5.0   3857    1.0\n",
      "fish_num_sunny[77]      0.52    0.01   0.72     0.0     0.0     2.0   3932    1.0\n",
      "fish_num_sunny[78]       2.2    0.03   1.51     0.0     2.0     6.0   3624    1.0\n",
      "fish_num_sunny[79]      0.68    0.01   0.83     0.0     0.0     3.0   3934    1.0\n",
      "fish_num_sunny[80]      1.05    0.02   1.04     0.0     1.0     3.0   3820    1.0\n",
      "fish_num_sunny[81]      0.62    0.01   0.79     0.0     0.0     3.0   3875    1.0\n",
      "fish_num_sunny[82]      1.33    0.02   1.16     0.0     1.0     4.0   3809    1.0\n",
      "fish_num_sunny[83]      0.27  8.4e-3   0.54     0.0     0.0     2.0   4043    1.0\n",
      "fish_num_sunny[84]      0.68    0.01   0.83     0.0     0.0     3.0   3667    1.0\n",
      "fish_num_sunny[85]      0.41    0.01   0.65     0.0     0.0     2.0   3862    1.0\n",
      "fish_num_sunny[86]      2.13    0.02   1.49     0.0     2.0     5.0   3905    1.0\n",
      "fish_num_sunny[87]      2.78    0.03   1.75     0.0     3.0     7.0   3854    1.0\n",
      "fish_num_sunny[88]      0.59    0.01   0.77     0.0     0.0     2.0   3487    1.0\n",
      "fish_num_sunny[89]      1.58    0.02   1.26     0.0     1.0     4.0   3950    1.0\n",
      "fish_num_sunny[90]      0.59    0.01   0.78     0.0     0.0     2.0   3491    1.0\n",
      "fish_num_sunny[91]      2.88    0.03   1.77     0.0     3.0     7.0   3745    1.0\n",
      "fish_num_sunny[92]      0.69    0.01   0.84     0.0     0.0     3.0   3912    1.0\n",
      "fish_num_sunny[93]      0.63    0.01   0.83     0.0     0.0     3.0   3593    1.0\n",
      "fish_num_sunny[94]      1.02    0.02   0.99     0.0     1.0     3.0   4085    1.0\n",
      "fish_num_sunny[95]      0.81    0.01   0.91     0.0     1.0     3.0   3962    1.0\n",
      "fish_num_sunny[96]      0.42    0.01   0.66     0.0     0.0     2.0   3935    1.0\n",
      "fish_num_sunny[97]      0.73    0.01   0.85     0.0     1.0     3.0   4027    1.0\n",
      "fish_num_sunny[98]      0.32  9.2e-3   0.56     0.0     0.0     2.0   3727    1.0\n",
      "fish_num_sunny[99]      0.36  9.8e-3   0.62     0.0     0.0     2.0   3947    1.0\n",
      "fish_num_sunny[100]     0.74    0.01   0.86     0.0     1.0     3.0   3788    1.0\n",
      "fish_num_cloudy[1]      0.73    0.01   0.86     0.0     1.0     3.0   4072    1.0\n",
      "fish_num_cloudy[2]      2.59    0.03   1.65     0.0     2.0     6.0   3735    1.0\n",
      "fish_num_cloudy[3]      1.94    0.02   1.41     0.0     2.0     5.0   3855    1.0\n",
      "fish_num_cloudy[4]      0.68    0.01   0.82     0.0     0.0     3.0   3866    1.0\n",
      "fish_num_cloudy[5]      4.75    0.04   2.27     1.0     5.0    10.0   3714    1.0\n",
      "fish_num_cloudy[6]      4.75    0.04   2.28     1.0     5.0    10.0   3901    1.0\n",
      "fish_num_cloudy[7]      0.63    0.01   0.82     0.0     0.0     3.0   3882    1.0\n",
      "fish_num_cloudy[8]      3.62    0.03   1.94     0.0     3.0     8.0   3875    1.0\n",
      "fish_num_cloudy[9]      1.43    0.02   1.22     0.0     1.0     4.0   4129    1.0\n",
      "fish_num_cloudy[10]     1.82    0.02   1.39     0.0     2.0     5.0   3750    1.0\n",
      "fish_num_cloudy[11]     1.81    0.02   1.37     0.0     2.0     5.0   3809    1.0\n",
      "fish_num_cloudy[12]     0.86    0.02   0.95     0.0     1.0     3.0   3404    1.0\n",
      "fish_num_cloudy[13]     3.03    0.03   1.77     0.0     3.0     7.0   3935    1.0\n",
      "fish_num_cloudy[14]     0.72    0.01   0.86     0.0     1.0     3.0   3690    1.0\n",
      "fish_num_cloudy[15]     1.24    0.02    1.1     0.0     1.0     4.0   3902    1.0\n",
      "fish_num_cloudy[16]     3.83    0.03   2.06     1.0     4.0     8.0   4100    1.0\n",
      "fish_num_cloudy[17]     5.14    0.04   2.33     1.0     5.0    10.0   3951    1.0\n",
      "fish_num_cloudy[18]      0.8    0.01    0.9     0.0     1.0     3.0   3820    1.0\n",
      "fish_num_cloudy[19]     1.37    0.02   1.18     0.0     1.0     4.0   3881    1.0\n",
      "fish_num_cloudy[20]     0.56    0.01   0.75     0.0     0.0     2.0   3643    1.0\n",
      "fish_num_cloudy[21]     2.33    0.03   1.55     0.0     2.0     6.0   3848    1.0\n",
      "fish_num_cloudy[22]      1.2    0.02   1.09     0.0     1.0     4.0   3565    1.0\n",
      "fish_num_cloudy[23]     3.68    0.03   1.89     1.0     3.0     8.0   3864    1.0\n",
      "fish_num_cloudy[24]     0.68    0.01   0.84     0.0     0.0     3.0   3454    1.0\n",
      "fish_num_cloudy[25]     1.08    0.02   1.02     0.0     1.0     3.0   3719    1.0\n",
      "fish_num_cloudy[26]     1.56    0.02   1.27     0.0     1.0    4.59   3751    1.0\n",
      "fish_num_cloudy[27]     0.68    0.01   0.82     0.0     0.0     3.0   3893    1.0\n",
      "fish_num_cloudy[28]     1.09    0.02   1.06     0.0     1.0     4.0   4077    1.0\n",
      "fish_num_cloudy[29]     5.02    0.04   2.29     1.0     5.0    10.0   4002    1.0\n",
      "fish_num_cloudy[30]     0.64    0.01   0.81     0.0     0.0     3.0   3446    1.0\n",
      "fish_num_cloudy[31]     0.47    0.01   0.67     0.0     0.0     2.0   3693    1.0\n",
      "fish_num_cloudy[32]      0.7    0.01   0.86     0.0     0.0     3.0   3979    1.0\n",
      "fish_num_cloudy[33]     3.41    0.03   1.92     0.0     3.0     8.0   3970    1.0\n",
      "fish_num_cloudy[34]     3.91    0.03   2.01     1.0     4.0     8.0   4134    1.0\n",
      "fish_num_cloudy[35]     1.66    0.02   1.28     0.0     1.0     5.0   3867    1.0\n",
      "fish_num_cloudy[36]     2.16    0.02   1.48     0.0     2.0     5.0   4076    1.0\n",
      "fish_num_cloudy[37]     3.69    0.03   1.96     0.0     4.0     8.0   4116    1.0\n",
      "fish_num_cloudy[38]     0.93    0.02   0.98     0.0     1.0     3.0   3943    1.0\n",
      "fish_num_cloudy[39]     2.37    0.03   1.55     0.0     2.0     6.0   3790    1.0\n",
      "fish_num_cloudy[40]     0.65    0.01   0.82     0.0     0.0     3.0   3820    1.0\n",
      "fish_num_cloudy[41]     5.29    0.04   2.35     1.0     5.0    10.0   3685    1.0\n",
      "fish_num_cloudy[42]     0.95    0.02    1.0     0.0     1.0     3.0   3907    1.0\n",
      "fish_num_cloudy[43]      0.6    0.01   0.77     0.0     0.0     2.0   3989    1.0\n",
      "fish_num_cloudy[44]      0.7    0.01   0.84     0.0     1.0     3.0   3647    1.0\n",
      "fish_num_cloudy[45]     4.75    0.04   2.23     1.0     5.0    10.0   3799    1.0\n",
      "fish_num_cloudy[46]      3.3    0.03   1.83     0.0     3.0     7.0   4035    1.0\n",
      "fish_num_cloudy[47]     5.16    0.04   2.36     1.0     5.0    10.0   3862    1.0\n",
      "fish_num_cloudy[48]     1.11    0.02   1.09     0.0     1.0     4.0   3921    1.0\n",
      "fish_num_cloudy[49]     1.59    0.02   1.29     0.0     1.0     5.0   3567    1.0\n",
      "fish_num_cloudy[50]     3.38    0.03   1.89     0.0     3.0     8.0   4078    1.0\n",
      "fish_num_cloudy[51]     0.46    0.01   0.68     0.0     0.0     2.0   3844    1.0\n",
      "fish_num_cloudy[52]     0.48    0.01   0.71     0.0     0.0     2.0   3792    1.0\n",
      "fish_num_cloudy[53]      2.5    0.03   1.61     0.0     2.0     6.0   3960    1.0\n",
      "fish_num_cloudy[54]     4.62    0.04    2.2     1.0     4.0     9.0   3939    1.0\n",
      "fish_num_cloudy[55]     0.92    0.02   0.98     0.0     1.0     3.0   3488    1.0\n",
      "fish_num_cloudy[56]     3.47    0.03   1.93     0.0     3.0     8.0   3851    1.0\n",
      "fish_num_cloudy[57]     3.21    0.03   1.83     0.0     3.0     7.0   3522    1.0\n",
      "fish_num_cloudy[58]     5.37    0.04   2.41     1.0     5.0    11.0   3929    1.0\n",
      "fish_num_cloudy[59]     2.03    0.02   1.44     0.0     2.0     5.0   3980    1.0\n",
      "fish_num_cloudy[60]     2.67    0.03   1.65     0.0     2.0     6.0   3670    1.0\n",
      "fish_num_cloudy[61]     3.05    0.03   1.76     0.0     3.0     7.0   3886    1.0\n",
      "fish_num_cloudy[62]     4.16    0.03   2.11     1.0     4.0     9.0   3946    1.0\n",
      "fish_num_cloudy[63]     2.14    0.02   1.48     0.0     2.0     5.0   3640    1.0\n",
      "fish_num_cloudy[64]     0.87    0.01   0.94     0.0     1.0     3.0   3956    1.0\n",
      "fish_num_cloudy[65]     3.85    0.03   2.01     1.0     4.0     8.0   3913    1.0\n",
      "fish_num_cloudy[66]     1.33    0.02   1.16     0.0     1.0     4.0   3950    1.0\n",
      "fish_num_cloudy[67]     1.23    0.02   1.13     0.0     1.0     4.0   3908    1.0\n",
      "fish_num_cloudy[68]     1.42    0.02   1.24     0.0     1.0     4.0   3954    1.0\n",
      "fish_num_cloudy[69]     0.77    0.01    0.9     0.0     1.0     3.0   3865    1.0\n",
      "fish_num_cloudy[70]     0.56    0.01   0.75     0.0     0.0     2.0   3575    1.0\n",
      "fish_num_cloudy[71]     0.89    0.02   0.94     0.0     1.0     3.0   3919    1.0\n",
      "fish_num_cloudy[72]     1.01    0.02   1.02     0.0     1.0     3.0   3934    1.0\n",
      "fish_num_cloudy[73]     0.51    0.01   0.72     0.0     0.0     2.0   3450    1.0\n",
      "fish_num_cloudy[74]     0.74    0.01   0.87     0.0     1.0     3.0   3496    1.0\n",
      "fish_num_cloudy[75]     0.72    0.01   0.88     0.0     1.0     3.0   3866    1.0\n",
      "fish_num_cloudy[76]     2.97    0.03   1.72     0.0     3.0     7.0   4127    1.0\n",
      "fish_num_cloudy[77]     0.91    0.02   0.96     0.0     1.0     3.0   3875    1.0\n",
      "fish_num_cloudy[78]     3.95    0.03   2.03     1.0     4.0     8.0   3950    1.0\n",
      "fish_num_cloudy[79]     1.27    0.02   1.13     0.0     1.0     4.0   3535    1.0\n",
      "fish_num_cloudy[80]     1.87    0.02   1.39     0.0     2.0     5.0   3418    1.0\n",
      "fish_num_cloudy[81]     1.09    0.02   1.05     0.0     1.0     4.0   3964    1.0\n",
      "fish_num_cloudy[82]     2.48    0.03   1.59     0.0     2.0     6.0   3944    1.0\n",
      "fish_num_cloudy[83]      0.5    0.01   0.72     0.0     0.0     2.0   4211    1.0\n",
      "fish_num_cloudy[84]     1.24    0.02   1.12     0.0     1.0     4.0   3928    1.0\n",
      "fish_num_cloudy[85]     0.75    0.01   0.88     0.0     1.0     3.0   3932    1.0\n",
      "fish_num_cloudy[86]      3.8    0.03   1.99     0.0     4.0     8.0   3977    1.0\n",
      "fish_num_cloudy[87]     5.06    0.04   2.29     1.0     5.0    10.0   3511    1.0\n",
      "fish_num_cloudy[88]     1.04    0.02   1.03     0.0     1.0     3.0   3796    1.0\n",
      "fish_num_cloudy[89]     2.86    0.03   1.73     0.0     3.0     7.0   3938    1.0\n",
      "fish_num_cloudy[90]     1.07    0.02   1.06     0.0     1.0     4.0   3744    1.0\n",
      "fish_num_cloudy[91]     5.19    0.04   2.36     1.0     5.0    10.0   3892    1.0\n",
      "fish_num_cloudy[92]     1.24    0.02   1.13     0.0     1.0     4.0   3433    1.0\n",
      "fish_num_cloudy[93]     1.17    0.02   1.11     0.0     1.0     4.0   3938    1.0\n",
      "fish_num_cloudy[94]     1.79    0.02   1.36     0.0     2.0     5.0   3862    1.0\n",
      "fish_num_cloudy[95]     1.42    0.02    1.2     0.0     1.0     4.0   3581    1.0\n",
      "fish_num_cloudy[96]     0.76    0.01   0.88     0.0     1.0     3.0   3985    1.0\n",
      "fish_num_cloudy[97]     1.34    0.02   1.16     0.0     1.0     4.0   3253    1.0\n",
      "fish_num_cloudy[98]     0.61    0.01   0.78     0.0     0.0     2.0   4045    1.0\n",
      "fish_num_cloudy[99]     0.63    0.01   0.79     0.0     0.0     3.0   3848    1.0\n",
      "fish_num_cloudy[100]    1.35    0.02   1.17     0.0     1.0     4.0   3936    1.0\n",
      "lp__                  -37.78    0.03   1.25  -40.99  -37.46  -36.31   1352    1.0\n",
      "\n",
      "Samples were drawn using NUTS at Tue Sep  1 19:31:19 2020.\n",
      "For each parameter, n_eff is a crude measure of effective sample size,\n",
      "and Rhat is the potential scale reduction factor on split chains (at \n",
      "convergence, Rhat=1).\n"
     ]
    }
   ],
   "source": [
    "print(glm_pois_stan.stansummary(probs=[0.025, 0.5, 0.975]))"
   ]
  },
  {
   "cell_type": "markdown",
   "metadata": {},
   "source": [
    "# ポアソン回帰の回帰曲線\n",
    "\n",
    "## 95%ベイズ信頼区間付きのグラフ"
   ]
  },
  {
   "cell_type": "markdown",
   "metadata": {},
   "source": [
    "### MCMCサンプルの抽出"
   ]
  },
  {
   "cell_type": "code",
   "execution_count": 11,
   "metadata": {
    "ExecuteTime": {
     "end_time": "2020-09-01T10:31:22.518704Z",
     "start_time": "2020-09-01T10:31:22.495767Z"
    }
   },
   "outputs": [],
   "source": [
    "mcmc_sample = glm_pois_stan.extract()"
   ]
  },
  {
   "cell_type": "markdown",
   "metadata": {},
   "source": [
    "### 事後予測分布を天気別にデータフレームへまとめる"
   ]
  },
  {
   "cell_type": "code",
   "execution_count": 19,
   "metadata": {
    "ExecuteTime": {
     "end_time": "2020-09-01T12:53:24.871341Z",
     "start_time": "2020-09-01T12:53:24.797535Z"
    }
   },
   "outputs": [],
   "source": [
    "result_lambda_cloudy = pd.DataFrame(np.zeros([len(fish_num_climate), 3])) \n",
    "result_lambda_sunny = pd.DataFrame(np.zeros([len(fish_num_climate), 3])) \n",
    "\n",
    "# 2.5・50・97.5パーセンタイルの値をデータフレームに代入\n",
    "for i in range(len(fish_num_climate)):\n",
    "    result_lambda_cloudy.iloc[i,:] = np.percentile(mcmc_sample['lambda_cloudy'][:,i], q=[2.5, 50, 97.5])\n",
    "    result_lambda_sunny.iloc[i,:] = np.percentile(mcmc_sample['lambda_sunny'][:,i], q=[2.5, 50, 97.5])\n",
    "    \n",
    "# データフレームの列名を変更\n",
    "result_lambda_cloudy.columns = [\"2.5%\", \"50%\", \"97.5%\"]\n",
    "result_lambda_sunny.columns = [\"2.5%\", \"50%\", \"97.5%\"]\n",
    "\n",
    "# 温度情報をデータフレームに追加\n",
    "result_lambda_cloudy['temperature'] = fish_num_climate['temperature']\n",
    "result_lambda_sunny['temperature'] = fish_num_climate['temperature']\n",
    "\n",
    "# 温度情報で並び順をソート\n",
    "result_lambda_cloudy = result_lambda_cloudy.sort_values('temperature')\n",
    "result_lambda_sunny = result_lambda_sunny.sort_values('temperature')"
   ]
  },
  {
   "cell_type": "markdown",
   "metadata": {
    "ExecuteTime": {
     "end_time": "2020-08-31T09:36:22.464113Z",
     "start_time": "2020-08-31T09:36:22.450162Z"
    }
   },
   "source": [
    "### 回帰直線の描画"
   ]
  },
  {
   "cell_type": "code",
   "execution_count": 20,
   "metadata": {
    "ExecuteTime": {
     "end_time": "2020-09-01T12:53:49.494253Z",
     "start_time": "2020-09-01T12:53:49.305724Z"
    }
   },
   "outputs": [
    {
     "data": {
      "image/png": "[encoded data removed]",
      "text/plain": [
       "<Figure size 720x360 with 1 Axes>"
      ]
     },
     "metadata": {},
     "output_type": "display_data"
    }
   ],
   "source": [
    "# グラフ描画領域の作成\n",
    "plt.figure(figsize=(10, 5))\n",
    "\n",
    "# 散布図の描画\n",
    "sns.scatterplot(x='temperature',\n",
    "                y='fish_num',\n",
    "                data=fish_num_climate,\n",
    "                hue='weather',\n",
    "                hue_order=['cloudy', 'sunny'],\n",
    "                palette=['red', 'blue'])\n",
    "\n",
    "# 曇りの日のビールの売り上げの平均値を描画\n",
    "plt.plot(result_lambda_cloudy['temperature'],\n",
    "         np.exp(result_lambda_cloudy[\"50%\"]),\n",
    "         color='red')\n",
    "# 95%ベイズ信頼区間を描画\n",
    "plt.fill_between(x=result_lambda_cloudy['temperature'],\n",
    "                 y1=np.exp(result_lambda_cloudy[\"2.5%\"]),\n",
    "                 y2=np.exp(result_lambda_cloudy[\"97.5%\"]),\n",
    "                 color='red',\n",
    "                 alpha=0.3)\n",
    "\n",
    "# 晴れの日のビールの売り上げの平均値を描画\n",
    "plt.plot(result_lambda_sunny['temperature'],\n",
    "         np.exp(result_lambda_sunny[\"50%\"]),\n",
    "         color='blue')\n",
    "# 95%ベイズ信頼区間を描画\n",
    "plt.fill_between(x=result_lambda_sunny['temperature'],\n",
    "                 y1=np.exp(result_lambda_sunny[\"2.5%\"]),\n",
    "                 y2=np.exp(result_lambda_sunny[\"97.5%\"]),\n",
    "                 color='blue',\n",
    "                 alpha=0.3)\n",
    "\n",
    "# グラフタイトル追加\n",
    "plt.title('ポアソン回帰曲線：信用区間')\n",
    "\n",
    "# グラフの描画\n",
    "plt.show()"
   ]
  },
  {
   "cell_type": "markdown",
   "metadata": {},
   "source": [
    "## 99%ベイズ予測区間付きのグラフ"
   ]
  },
  {
   "cell_type": "markdown",
   "metadata": {},
   "source": [
    "### 事後予測分布を天気別にデータフレームへまとめる"
   ]
  },
  {
   "cell_type": "code",
   "execution_count": 22,
   "metadata": {
    "ExecuteTime": {
     "end_time": "2020-09-01T12:54:46.297937Z",
     "start_time": "2020-09-01T12:54:46.225128Z"
    }
   },
   "outputs": [],
   "source": [
    "result_fish_num_cloudy = pd.DataFrame(np.zeros([len(fish_num_climate), 3])) \n",
    "result_fish_num_sunny = pd.DataFrame(np.zeros([len(fish_num_climate), 3])) \n",
    "\n",
    "# 0.5・50・99.5パーセンタイルの値をデータフレームに代入\n",
    "for i in range(len(fish_num_climate)):\n",
    "    result_fish_num_cloudy.iloc[i,:] = np.percentile(mcmc_sample['fish_num_cloudy'][:,i], q=[0.5, 50, 99.5])\n",
    "    result_fish_num_sunny.iloc[i,:] = np.percentile(mcmc_sample['fish_num_sunny'][:,i], q=[0.5, 50, 99.5])\n",
    "    \n",
    "# データフレームの列名を変更\n",
    "result_fish_num_cloudy.columns = [\"0.5%\", \"50%\", \"99.5%\"]\n",
    "result_fish_num_sunny.columns = [\"0.5%\", \"50%\", \"99.5%\"]\n",
    "\n",
    "# 温度情報をデータフレームに追加\n",
    "result_fish_num_cloudy['temperature'] = fish_num_climate['temperature']\n",
    "result_fish_num_sunny['temperature'] = fish_num_climate['temperature']\n",
    "\n",
    "# 温度情報で並び順をソート\n",
    "result_fish_num_cloudy = result_fish_num_cloudy.sort_values('temperature')\n",
    "result_fish_num_sunny = result_fish_num_sunny.sort_values('temperature')"
   ]
  },
  {
   "cell_type": "markdown",
   "metadata": {
    "ExecuteTime": {
     "end_time": "2020-08-31T13:49:00.404180Z",
     "start_time": "2020-08-31T13:49:00.400214Z"
    }
   },
   "source": [
    "### 回帰直線の描画"
   ]
  },
  {
   "cell_type": "code",
   "execution_count": 23,
   "metadata": {
    "ExecuteTime": {
     "end_time": "2020-09-01T12:54:52.867387Z",
     "start_time": "2020-09-01T12:54:52.678859Z"
    }
   },
   "outputs": [
    {
     "data": {
      "image/png": "[encoded data removed]",
      "text/plain": [
       "<Figure size 720x360 with 1 Axes>"
      ]
     },
     "metadata": {},
     "output_type": "display_data"
    }
   ],
   "source": [
    "# グラフ描画領域の作成\n",
    "plt.figure(figsize=(10, 5))\n",
    "\n",
    "# 散布図の描画\n",
    "sns.scatterplot(x='temperature',\n",
    "                y='fish_num',\n",
    "                data=fish_num_climate,\n",
    "                hue='weather',\n",
    "                hue_order=['cloudy', 'sunny'],\n",
    "                palette=['red', 'blue'])\n",
    "\n",
    "# 曇りの日のビールの売り上げの平均値を描画\n",
    "plt.plot(result_fish_num_cloudy['temperature'],\n",
    "         result_fish_num_cloudy[\"50%\"],\n",
    "         color='red')\n",
    "# 95%ベイズ信頼区間を描画\n",
    "plt.fill_between(x=result_fish_num_cloudy['temperature'],\n",
    "                 y1=result_fish_num_cloudy[\"0.5%\"],\n",
    "                 y2=result_fish_num_cloudy[\"99.5%\"],\n",
    "                 color='red',\n",
    "                 alpha=0.3)\n",
    "\n",
    "# 晴れの日のビールの売り上げの平均値を描画\n",
    "plt.plot(result_fish_num_sunny['temperature'],\n",
    "         result_fish_num_sunny[\"50%\"],\n",
    "         color='blue')\n",
    "# 95%ベイズ信頼区間を描画\n",
    "plt.fill_between(x=result_fish_num_sunny['temperature'],\n",
    "                 y1=result_fish_num_sunny[\"0.5%\"],\n",
    "                 y2=result_fish_num_sunny[\"99.5%\"],\n",
    "                 color='blue',\n",
    "                 alpha=0.3)\n",
    "\n",
    "# グラフタイトル追加\n",
    "plt.title('ポアソン回帰曲線：予測区間')\n",
    "\n",
    "# グラフの描画\n",
    "plt.show()"
   ]
  },
  {
   "cell_type": "markdown",
   "metadata": {},
   "source": [
    "# 補足：デザイン行列を使ったモデルの推定"
   ]
  },
  {
   "cell_type": "markdown",
   "metadata": {},
   "source": [
    "## 参考：Stanに渡すデータ"
   ]
  },
  {
   "cell_type": "code",
   "execution_count": 16,
   "metadata": {
    "ExecuteTime": {
     "end_time": "2020-09-01T10:31:23.055296Z",
     "start_time": "2020-09-01T10:31:23.043303Z"
    }
   },
   "outputs": [
    {
     "data": {
      "text/plain": [
       "{'N': 100,\n",
       " 'K': 3,\n",
       " 'Y': 0     0\n",
       " 1     2\n",
       " 2     5\n",
       " 3     1\n",
       " 4     3\n",
       "      ..\n",
       " 95    0\n",
       " 96    0\n",
       " 97    0\n",
       " 98    0\n",
       " 99    0\n",
       " Name: fish_num, Length: 100, dtype: int64,\n",
       " 'X':     (Intercept)  weather_sunny  temperature\n",
       " 0             1              0          5.5\n",
       " 1             1              0         21.1\n",
       " 2             1              0         17.2\n",
       " 3             1              0          5.0\n",
       " 4             1              0         28.3\n",
       " ..          ...            ...          ...\n",
       " 95            1              1          5.9\n",
       " 96            1              1         12.8\n",
       " 97            1              1          2.8\n",
       " 98            1              1          3.5\n",
       " 99            1              1         13.2\n",
       " \n",
       " [100 rows x 3 columns]}"
      ]
     },
     "metadata": {},
     "output_type": "display_data"
    }
   ],
   "source": [
    "data_list_2 = dict(N=len(fish_num_climate),\n",
    "                   K=design_mat.shape[1],\n",
    "                   Y=fish_num_climate['fish_num'],\n",
    "                   X=design_mat)\n",
    "\n",
    "display(data_list_2)"
   ]
  },
  {
   "cell_type": "markdown",
   "metadata": {},
   "source": [
    "## 参考：MCMCの実行"
   ]
  },
  {
   "cell_type": "code",
   "execution_count": 17,
   "metadata": {
    "ExecuteTime": {
     "end_time": "2020-09-01T10:32:01.531773Z",
     "start_time": "2020-09-01T10:31:23.056294Z"
    }
   },
   "outputs": [
    {
     "name": "stderr",
     "output_type": "stream",
     "text": [
      "INFO:pystan:COMPILING THE C++ CODE FOR MODEL anon_model_8fb9bb9e4fdb448c421e95a5e990a395 NOW.\n"
     ]
    }
   ],
   "source": [
    "# stanコードの記述\n",
    "stan_code = '''\n",
    "data { \n",
    "  int N;                // サンプルサイズ\n",
    "  int K;                // デザイン行列の列数(説明変数の数＋１)\n",
    "  int Y[N];             // 応答変数(整数型)\n",
    "  matrix[N, K] X;       // デザイン行列 \n",
    "} \n",
    "\n",
    "parameters { \n",
    "  vector[K] b;          // 切片を含む係数ベクトル\n",
    "} \n",
    "\n",
    "model { \n",
    "  vector[N] lambda = X * b;\n",
    "  Y ~ poisson_log(lambda);\n",
    "} \n",
    "\n",
    "'''\n",
    "\n",
    "# モデルのコンパイル\n",
    "stan_model = pystan.StanModel(model_code=stan_code)\n",
    "\n",
    "# サンプリング\n",
    "glm_pois_stan_design_mat = stan_model.sampling(data=data_list_2, seed=1, n_jobs=1)"
   ]
  },
  {
   "cell_type": "markdown",
   "metadata": {},
   "source": [
    "## 参考：結果の表示"
   ]
  },
  {
   "cell_type": "code",
   "execution_count": 18,
   "metadata": {
    "ExecuteTime": {
     "end_time": "2020-09-01T10:32:01.560711Z",
     "start_time": "2020-09-01T10:32:01.535763Z"
    }
   },
   "outputs": [
    {
     "name": "stdout",
     "output_type": "stream",
     "text": [
      "Inference for Stan model: anon_model_8fb9bb9e4fdb448c421e95a5e990a395.\n",
      "4 chains, each with iter=2000; warmup=1000; thin=1; \n",
      "post-warmup draws per chain=1000, total post-warmup draws=4000.\n",
      "\n",
      "       mean se_mean     sd   2.5%    50%  97.5%  n_eff   Rhat\n",
      "b[1]  -0.81  6.4e-3   0.24   -1.3   -0.8  -0.36   1426    1.0\n",
      "b[2]  -0.59  3.5e-3   0.17  -0.93  -0.59  -0.27   2284    1.0\n",
      "b[3]   0.08  2.7e-4   0.01   0.06   0.08    0.1   1433    1.0\n",
      "lp__ -37.69    0.03   1.22 -40.94 -37.38 -36.31   1291    1.0\n",
      "\n",
      "Samples were drawn using NUTS at Tue Sep  1 19:32:01 2020.\n",
      "For each parameter, n_eff is a crude measure of effective sample size,\n",
      "and Rhat is the potential scale reduction factor on split chains (at \n",
      "convergence, Rhat=1).\n"
     ]
    }
   ],
   "source": [
    "print(glm_pois_stan_design_mat.stansummary(probs=[0.025, 0.5, 0.975]))"
   ]
  },
  {
   "cell_type": "code",
   "execution_count": null,
   "metadata": {},
   "outputs": [],
   "source": []
  }
 ],
 "metadata": {
  "kernelspec": {
   "display_name": "Python 3",
   "language": "python",
   "name": "python3"
  },
  "language_info": {
   "codemirror_mode": {
    "name": "ipython",
    "version": 3
   },
   "file_extension": ".py",
   "mimetype": "text/x-python",
   "name": "python",
   "nbconvert_exporter": "python",
   "pygments_lexer": "ipython3",
   "version": "3.7.6"
  },
  "toc": {
   "base_numbering": 1,
   "nav_menu": {},
   "number_sections": true,
   "sideBar": true,
   "skip_h1_title": false,
   "title_cell": "Table of Contents",
   "title_sidebar": "Contents",
   "toc_cell": false,
   "toc_position": {},
   "toc_section_display": true,
   "toc_window_display": true
  },
  "varInspector": {
   "cols": {
    "lenName": 16,
    "lenType": 16,
    "lenVar": 40
   },
   "kernels_config": {
    "python": {
     "delete_cmd_postfix": "",
     "delete_cmd_prefix": "del ",
     "library": "var_list.py",
     "varRefreshCmd": "print(var_dic_list())"
    },
    "r": {
     "delete_cmd_postfix": ") ",
     "delete_cmd_prefix": "rm(",
     "library": "var_list.r",
     "varRefreshCmd": "cat(var_dic_list()) "
    }
   },
   "types_to_exclude": [
    "module",
    "function",
    "builtin_function_or_method",
    "instance",
    "_Feature"
   ],
   "window_display": false
  }
 },
 "nbformat": 4,
 "nbformat_minor": 4
}
