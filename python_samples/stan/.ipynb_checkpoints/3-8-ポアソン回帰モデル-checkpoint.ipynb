{
 "cells": [
  {
   "cell_type": "markdown",
   "metadata": {},
   "source": [
    "「RとStanで始めるベイズ統計モデリングによるデータ分析入門 実践編第8章 ポアソン回帰モデル」を対象に，公開されているR，Stanのコードをpython，pystanのコードへと書き直した一例です。Stanの代わりにpystanを利用しています。\n",
    "\n",
    "本ページでは公開されていない書籍の内容については一切触れません。理論や詳しい説明は書籍を参照してください。\n",
    "\n",
    "なお，こちらで紹介しているコードには誤りが含まれる可能性があります。内容やコードについてお気づきの点等ございましたら，ご指摘いただけると幸いです。"
   ]
  },
  {
   "cell_type": "markdown",
   "metadata": {},
   "source": [
    "# 分析の準備\n",
    "\n",
    "## パッケージの読み込み"
   ]
  },
  {
   "cell_type": "code",
   "execution_count": 1,
   "metadata": {
    "ExecuteTime": {
     "end_time": "2020-08-30T06:47:17.133957Z",
     "start_time": "2020-08-30T06:47:14.346325Z"
    }
   },
   "outputs": [],
   "source": [
    "import os\n",
    "import arviz\n",
    "import pystan\n",
    "import pickle\n",
    "import numpy as np\n",
    "import pandas as pd\n",
    "\n",
    "%matplotlib inline\n",
    "import matplotlib.pyplot as plt\n",
    "plt.style.use('ggplot')\n",
    "plt.rcParams['font.family'] = 'Meiryo'\n",
    "import seaborn as sns"
   ]
  },
  {
   "cell_type": "markdown",
   "metadata": {},
   "source": [
    "# データの読み込みと図示\n",
    "\n",
    "## 分析対象のデータ"
   ]
  },
  {
   "cell_type": "code",
   "execution_count": 2,
   "metadata": {
    "ExecuteTime": {
     "end_time": "2020-08-30T06:47:17.166850Z",
     "start_time": "2020-08-30T06:47:17.139922Z"
    }
   },
   "outputs": [
    {
     "data": {
      "text/html": [
       "<div>\n",
       "<style scoped>\n",
       "    .dataframe tbody tr th:only-of-type {\n",
       "        vertical-align: middle;\n",
       "    }\n",
       "\n",
       "    .dataframe tbody tr th {\n",
       "        vertical-align: top;\n",
       "    }\n",
       "\n",
       "    .dataframe thead th {\n",
       "        text-align: right;\n",
       "    }\n",
       "</style>\n",
       "<table border=\"1\" class=\"dataframe\">\n",
       "  <thead>\n",
       "    <tr style=\"text-align: right;\">\n",
       "      <th></th>\n",
       "      <th>fish_num</th>\n",
       "      <th>weather</th>\n",
       "      <th>temperature</th>\n",
       "    </tr>\n",
       "  </thead>\n",
       "  <tbody>\n",
       "    <tr>\n",
       "      <th>0</th>\n",
       "      <td>0</td>\n",
       "      <td>cloudy</td>\n",
       "      <td>5.5</td>\n",
       "    </tr>\n",
       "    <tr>\n",
       "      <th>1</th>\n",
       "      <td>2</td>\n",
       "      <td>cloudy</td>\n",
       "      <td>21.1</td>\n",
       "    </tr>\n",
       "    <tr>\n",
       "      <th>2</th>\n",
       "      <td>5</td>\n",
       "      <td>cloudy</td>\n",
       "      <td>17.2</td>\n",
       "    </tr>\n",
       "  </tbody>\n",
       "</table>\n",
       "</div>"
      ],
      "text/plain": [
       "   fish_num weather  temperature\n",
       "0         0  cloudy          5.5\n",
       "1         2  cloudy         21.1\n",
       "2         5  cloudy         17.2"
      ]
     },
     "execution_count": 2,
     "metadata": {},
     "output_type": "execute_result"
    }
   ],
   "source": [
    "fish_num_climate = pd.read_csv('3-8-1-fish-num-1.csv')\n",
    "fish_num_climate.head(n=3)"
   ]
  },
  {
   "cell_type": "markdown",
   "metadata": {},
   "source": [
    "## データの要約"
   ]
  },
  {
   "cell_type": "code",
   "execution_count": 3,
   "metadata": {
    "ExecuteTime": {
     "end_time": "2020-08-30T06:47:17.196796Z",
     "start_time": "2020-08-30T06:47:17.176824Z"
    }
   },
   "outputs": [
    {
     "data": {
      "text/html": [
       "<div>\n",
       "<style scoped>\n",
       "    .dataframe tbody tr th:only-of-type {\n",
       "        vertical-align: middle;\n",
       "    }\n",
       "\n",
       "    .dataframe tbody tr th {\n",
       "        vertical-align: top;\n",
       "    }\n",
       "\n",
       "    .dataframe thead th {\n",
       "        text-align: right;\n",
       "    }\n",
       "</style>\n",
       "<table border=\"1\" class=\"dataframe\">\n",
       "  <thead>\n",
       "    <tr style=\"text-align: right;\">\n",
       "      <th></th>\n",
       "      <th>fish_num</th>\n",
       "      <th>weather</th>\n",
       "      <th>temperature</th>\n",
       "    </tr>\n",
       "  </thead>\n",
       "  <tbody>\n",
       "    <tr>\n",
       "      <th>count</th>\n",
       "      <td>100.000000</td>\n",
       "      <td>100</td>\n",
       "      <td>100.000000</td>\n",
       "    </tr>\n",
       "    <tr>\n",
       "      <th>unique</th>\n",
       "      <td>NaN</td>\n",
       "      <td>2</td>\n",
       "      <td>NaN</td>\n",
       "    </tr>\n",
       "    <tr>\n",
       "      <th>top</th>\n",
       "      <td>NaN</td>\n",
       "      <td>cloudy</td>\n",
       "      <td>NaN</td>\n",
       "    </tr>\n",
       "    <tr>\n",
       "      <th>freq</th>\n",
       "      <td>NaN</td>\n",
       "      <td>50</td>\n",
       "      <td>NaN</td>\n",
       "    </tr>\n",
       "    <tr>\n",
       "      <th>mean</th>\n",
       "      <td>1.600000</td>\n",
       "      <td>NaN</td>\n",
       "      <td>14.747000</td>\n",
       "    </tr>\n",
       "    <tr>\n",
       "      <th>std</th>\n",
       "      <td>1.933229</td>\n",
       "      <td>NaN</td>\n",
       "      <td>8.956826</td>\n",
       "    </tr>\n",
       "    <tr>\n",
       "      <th>min</th>\n",
       "      <td>0.000000</td>\n",
       "      <td>NaN</td>\n",
       "      <td>0.200000</td>\n",
       "    </tr>\n",
       "    <tr>\n",
       "      <th>25%</th>\n",
       "      <td>0.000000</td>\n",
       "      <td>NaN</td>\n",
       "      <td>6.750000</td>\n",
       "    </tr>\n",
       "    <tr>\n",
       "      <th>50%</th>\n",
       "      <td>1.000000</td>\n",
       "      <td>NaN</td>\n",
       "      <td>13.250000</td>\n",
       "    </tr>\n",
       "    <tr>\n",
       "      <th>75%</th>\n",
       "      <td>2.000000</td>\n",
       "      <td>NaN</td>\n",
       "      <td>23.225000</td>\n",
       "    </tr>\n",
       "    <tr>\n",
       "      <th>max</th>\n",
       "      <td>8.000000</td>\n",
       "      <td>NaN</td>\n",
       "      <td>29.700000</td>\n",
       "    </tr>\n",
       "  </tbody>\n",
       "</table>\n",
       "</div>"
      ],
      "text/plain": [
       "          fish_num weather  temperature\n",
       "count   100.000000     100   100.000000\n",
       "unique         NaN       2          NaN\n",
       "top            NaN  cloudy          NaN\n",
       "freq           NaN      50          NaN\n",
       "mean      1.600000     NaN    14.747000\n",
       "std       1.933229     NaN     8.956826\n",
       "min       0.000000     NaN     0.200000\n",
       "25%       0.000000     NaN     6.750000\n",
       "50%       1.000000     NaN    13.250000\n",
       "75%       2.000000     NaN    23.225000\n",
       "max       8.000000     NaN    29.700000"
      ]
     },
     "execution_count": 3,
     "metadata": {},
     "output_type": "execute_result"
    }
   ],
   "source": [
    "fish_num_climate.describe(include='all')"
   ]
  },
  {
   "cell_type": "markdown",
   "metadata": {},
   "source": [
    "## 図示"
   ]
  },
  {
   "cell_type": "code",
   "execution_count": 4,
   "metadata": {
    "ExecuteTime": {
     "end_time": "2020-08-30T06:47:18.193902Z",
     "start_time": "2020-08-30T06:47:17.965763Z"
    }
   },
   "outputs": [
    {
     "data": {
      "image/png": "[encoded data removed]",
      "text/plain": [
       "<Figure size 432x288 with 1 Axes>"
      ]
     },
     "metadata": {},
     "output_type": "display_data"
    }
   ],
   "source": [
    "plt.figure()\n",
    "sns.scatterplot(x='temperature', y='fish_num', data=fish_num_climate, hue='weather')\n",
    "plt.title('釣獲尾数と気温・天気の関係')\n",
    "plt.show()"
   ]
  },
  {
   "cell_type": "markdown",
   "metadata": {},
   "source": [
    "# brmsによる分散分析モデルの推定\n",
    "\n",
    "pythonにbrmsの代用可能なパッケージが知っている範囲内で存在しないため，brmsを利用したコードは省略しています。\n",
    "\n",
    "# 補足：brmsを用いない実装の方法\n",
    "\n",
    "## 参考：デザイン行列の作成"
   ]
  },
  {
   "cell_type": "code",
   "execution_count": 8,
   "metadata": {
    "ExecuteTime": {
     "end_time": "2020-08-30T06:49:55.629663Z",
     "start_time": "2020-08-30T06:49:55.613681Z"
    }
   },
   "outputs": [
    {
     "data": {
      "text/html": [
       "<div>\n",
       "<style scoped>\n",
       "    .dataframe tbody tr th:only-of-type {\n",
       "        vertical-align: middle;\n",
       "    }\n",
       "\n",
       "    .dataframe tbody tr th {\n",
       "        vertical-align: top;\n",
       "    }\n",
       "\n",
       "    .dataframe thead th {\n",
       "        text-align: right;\n",
       "    }\n",
       "</style>\n",
       "<table border=\"1\" class=\"dataframe\">\n",
       "  <thead>\n",
       "    <tr style=\"text-align: right;\">\n",
       "      <th></th>\n",
       "      <th>(Intercept)</th>\n",
       "      <th>weather_sunny</th>\n",
       "      <th>temperature</th>\n",
       "    </tr>\n",
       "  </thead>\n",
       "  <tbody>\n",
       "    <tr>\n",
       "      <th>0</th>\n",
       "      <td>1</td>\n",
       "      <td>0</td>\n",
       "      <td>5.5</td>\n",
       "    </tr>\n",
       "    <tr>\n",
       "      <th>1</th>\n",
       "      <td>1</td>\n",
       "      <td>0</td>\n",
       "      <td>21.1</td>\n",
       "    </tr>\n",
       "    <tr>\n",
       "      <th>2</th>\n",
       "      <td>1</td>\n",
       "      <td>0</td>\n",
       "      <td>17.2</td>\n",
       "    </tr>\n",
       "    <tr>\n",
       "      <th>3</th>\n",
       "      <td>1</td>\n",
       "      <td>0</td>\n",
       "      <td>5.0</td>\n",
       "    </tr>\n",
       "    <tr>\n",
       "      <th>4</th>\n",
       "      <td>1</td>\n",
       "      <td>0</td>\n",
       "      <td>28.3</td>\n",
       "    </tr>\n",
       "    <tr>\n",
       "      <th>...</th>\n",
       "      <td>...</td>\n",
       "      <td>...</td>\n",
       "      <td>...</td>\n",
       "    </tr>\n",
       "    <tr>\n",
       "      <th>95</th>\n",
       "      <td>1</td>\n",
       "      <td>1</td>\n",
       "      <td>5.9</td>\n",
       "    </tr>\n",
       "    <tr>\n",
       "      <th>96</th>\n",
       "      <td>1</td>\n",
       "      <td>1</td>\n",
       "      <td>12.8</td>\n",
       "    </tr>\n",
       "    <tr>\n",
       "      <th>97</th>\n",
       "      <td>1</td>\n",
       "      <td>1</td>\n",
       "      <td>2.8</td>\n",
       "    </tr>\n",
       "    <tr>\n",
       "      <th>98</th>\n",
       "      <td>1</td>\n",
       "      <td>1</td>\n",
       "      <td>3.5</td>\n",
       "    </tr>\n",
       "    <tr>\n",
       "      <th>99</th>\n",
       "      <td>1</td>\n",
       "      <td>1</td>\n",
       "      <td>13.2</td>\n",
       "    </tr>\n",
       "  </tbody>\n",
       "</table>\n",
       "<p>100 rows × 3 columns</p>\n",
       "</div>"
      ],
      "text/plain": [
       "    (Intercept)  weather_sunny  temperature\n",
       "0             1              0          5.5\n",
       "1             1              0         21.1\n",
       "2             1              0         17.2\n",
       "3             1              0          5.0\n",
       "4             1              0         28.3\n",
       "..          ...            ...          ...\n",
       "95            1              1          5.9\n",
       "96            1              1         12.8\n",
       "97            1              1          2.8\n",
       "98            1              1          3.5\n",
       "99            1              1         13.2\n",
       "\n",
       "[100 rows x 3 columns]"
      ]
     },
     "metadata": {},
     "output_type": "display_data"
    }
   ],
   "source": [
    "# 応答変数の削除とダミー変数化処理\n",
    "design_mat = pd.get_dummies(fish_num_climate.drop(['fish_num'], axis=1),\n",
    "                   drop_first=True)\n",
    "\n",
    "# 列名を書籍準拠に\n",
    "design_mat = design_mat[['weather_sunny', 'temperature']]\n",
    "\n",
    "# (Intercept)列追加\n",
    "design_mat.insert(0, '(Intercept)', 1)\n",
    "\n",
    "display(design_mat)"
   ]
  },
  {
   "cell_type": "markdown",
   "metadata": {},
   "source": [
    "## 参考：データの作成"
   ]
  },
  {
   "cell_type": "code",
   "execution_count": 10,
   "metadata": {
    "ExecuteTime": {
     "end_time": "2020-08-30T06:50:29.517476Z",
     "start_time": "2020-08-30T06:50:29.509496Z"
    }
   },
   "outputs": [
    {
     "data": {
      "text/plain": [
       "{'N': 100,\n",
       " 'fish_num': 0     0\n",
       " 1     2\n",
       " 2     5\n",
       " 3     1\n",
       " 4     3\n",
       "      ..\n",
       " 95    0\n",
       " 96    0\n",
       " 97    0\n",
       " 98    0\n",
       " 99    0\n",
       " Name: fish_num, Length: 100, dtype: int64,\n",
       " 'temp': 0      5.5\n",
       " 1     21.1\n",
       " 2     17.2\n",
       " 3      5.0\n",
       " 4     28.3\n",
       "       ... \n",
       " 95     5.9\n",
       " 96    12.8\n",
       " 97     2.8\n",
       " 98     3.5\n",
       " 99    13.2\n",
       " Name: temperature, Length: 100, dtype: float64,\n",
       " 'sunny': 0     0\n",
       " 1     0\n",
       " 2     0\n",
       " 3     0\n",
       " 4     0\n",
       "      ..\n",
       " 95    1\n",
       " 96    1\n",
       " 97    1\n",
       " 98    1\n",
       " 99    1\n",
       " Name: weather_sunny, Length: 100, dtype: uint8}"
      ]
     },
     "metadata": {},
     "output_type": "display_data"
    }
   ],
   "source": [
    "data_list_1 = dict(N=len(fish_num_climate),\n",
    "                   fish_num=fish_num_climate['fish_num'],\n",
    "                   temp=fish_num_climate['temperature'],\n",
    "                   sunny=design_mat['weather_sunny'])\n",
    "\n",
    "display(data_list_1)"
   ]
  },
  {
   "cell_type": "markdown",
   "metadata": {},
   "source": [
    "## 参考：自分で変換処理を入れる"
   ]
  },
  {
   "cell_type": "code",
   "execution_count": 11,
   "metadata": {
    "ExecuteTime": {
     "end_time": "2020-08-30T06:53:26.350769Z",
     "start_time": "2020-08-30T06:52:31.661647Z"
    }
   },
   "outputs": [
    {
     "name": "stderr",
     "output_type": "stream",
     "text": [
      "INFO:pystan:COMPILING THE C++ CODE FOR MODEL anon_model_10b93b39bc827a53de74eb5431c131b8 NOW.\n"
     ]
    }
   ],
   "source": [
    "# stanコードの記述\n",
    "stan_code = '''\n",
    "data {\n",
    "  int N;                   // サンプルサイズ\n",
    "  int fish_num[N];         // 釣獲尾数\n",
    "  vector[N] temp;          // 気温データ\n",
    "  vector[N] sunny;         // 晴れダミー変数\n",
    "}\n",
    "\n",
    "parameters {\n",
    "  real Intercept;      // 切片\n",
    "  real b_temp;         // 係数(気温)\n",
    "  real b_sunny;        // 係数(晴れの影響)\n",
    "}\n",
    "\n",
    "model {\n",
    "  vector[N] lambda = exp(Intercept + b_temp*temp + b_sunny*sunny);\n",
    "  fish_num ~ poisson(lambda);\n",
    "}\n",
    "\n",
    "'''\n",
    "\n",
    "# モデルのコンパイル\n",
    "stan_model = pystan.StanModel(model_code=stan_code)\n",
    "\n",
    "# サンプリング\n",
    "glm_pois_stan_exp = stan_model.sampling(data=data_list_1, seed=2, n_jobs=1)"
   ]
  },
  {
   "cell_type": "markdown",
   "metadata": {},
   "source": [
    "## 結果の表示"
   ]
  },
  {
   "cell_type": "code",
   "execution_count": 12,
   "metadata": {
    "ExecuteTime": {
     "end_time": "2020-08-30T06:53:26.410657Z",
     "start_time": "2020-08-30T06:53:26.385697Z"
    }
   },
   "outputs": [
    {
     "name": "stdout",
     "output_type": "stream",
     "text": [
      "Inference for Stan model: anon_model_10b93b39bc827a53de74eb5431c131b8.\n",
      "4 chains, each with iter=2000; warmup=1000; thin=1; \n",
      "post-warmup draws per chain=1000, total post-warmup draws=4000.\n",
      "\n",
      "            mean se_mean     sd   2.5%    50%  97.5%  n_eff   Rhat\n",
      "Intercept  -0.79  6.0e-3   0.24   -1.3  -0.79  -0.35   1628    1.0\n",
      "b_temp      0.08  2.4e-4   0.01   0.06   0.08    0.1   1682    1.0\n",
      "b_sunny    -0.59  3.7e-3   0.17  -0.93  -0.59  -0.26   2089    1.0\n",
      "lp__      -37.73    0.03   1.22 -40.95 -37.41 -36.32   1412    1.0\n",
      "\n",
      "Samples were drawn using NUTS at Sun Aug 30 15:53:26 2020.\n",
      "For each parameter, n_eff is a crude measure of effective sample size,\n",
      "and Rhat is the potential scale reduction factor on split chains (at \n",
      "convergence, Rhat=1).\n"
     ]
    }
   ],
   "source": [
    "print(glm_pois_stan_exp.stansummary(probs=[0.025, 0.5, 0.975]))"
   ]
  },
  {
   "cell_type": "markdown",
   "metadata": {},
   "source": [
    "## 参考：poisson_log関数を使用"
   ]
  },
  {
   "cell_type": "code",
   "execution_count": 13,
   "metadata": {
    "ExecuteTime": {
     "end_time": "2020-08-30T06:56:28.974556Z",
     "start_time": "2020-08-30T06:55:50.039979Z"
    }
   },
   "outputs": [
    {
     "name": "stderr",
     "output_type": "stream",
     "text": [
      "INFO:pystan:COMPILING THE C++ CODE FOR MODEL anon_model_6d78a2071bf51cbe1e42c5c01664ea40 NOW.\n"
     ]
    },
    {
     "ename": "RuntimeError",
     "evalue": "Exception: poisson_log_rng: Log rate parameter is 39.0788, but must be less than 20.7944  (in 'unknown file name' at line 29)\n",
     "output_type": "error",
     "traceback": [
      "\u001b[1;31m---------------------------------------------------------------------------\u001b[0m",
      "\u001b[1;31mRuntimeError\u001b[0m                              Traceback (most recent call last)",
      "\u001b[1;32m<ipython-input-13-3c6f4f00ae5c>\u001b[0m in \u001b[0;36m<module>\u001b[1;34m\u001b[0m\n\u001b[0;32m     38\u001b[0m \u001b[1;33m\u001b[0m\u001b[0m\n\u001b[0;32m     39\u001b[0m \u001b[1;31m# サンプリング\u001b[0m\u001b[1;33m\u001b[0m\u001b[1;33m\u001b[0m\u001b[1;33m\u001b[0m\u001b[0m\n\u001b[1;32m---> 40\u001b[1;33m \u001b[0mglm_pois_stan\u001b[0m \u001b[1;33m=\u001b[0m \u001b[0mstan_model\u001b[0m\u001b[1;33m.\u001b[0m\u001b[0msampling\u001b[0m\u001b[1;33m(\u001b[0m\u001b[0mdata\u001b[0m\u001b[1;33m=\u001b[0m\u001b[0mdata_list_1\u001b[0m\u001b[1;33m,\u001b[0m \u001b[0mseed\u001b[0m\u001b[1;33m=\u001b[0m\u001b[1;36m2\u001b[0m\u001b[1;33m,\u001b[0m \u001b[0mn_jobs\u001b[0m\u001b[1;33m=\u001b[0m\u001b[1;36m1\u001b[0m\u001b[1;33m)\u001b[0m\u001b[1;33m\u001b[0m\u001b[1;33m\u001b[0m\u001b[0m\n\u001b[0m",
      "\u001b[1;32m~\\Anaconda3\\envs\\multi\\lib\\site-packages\\pystan\\model.py\u001b[0m in \u001b[0;36msampling\u001b[1;34m(self, data, pars, chains, iter, warmup, thin, seed, init, sample_file, diagnostic_file, verbose, algorithm, control, n_jobs, **kwargs)\u001b[0m\n\u001b[0;32m    811\u001b[0m         \u001b[0mcall_sampler_args\u001b[0m \u001b[1;33m=\u001b[0m \u001b[0mizip\u001b[0m\u001b[1;33m(\u001b[0m\u001b[0mitertools\u001b[0m\u001b[1;33m.\u001b[0m\u001b[0mrepeat\u001b[0m\u001b[1;33m(\u001b[0m\u001b[0mdata\u001b[0m\u001b[1;33m)\u001b[0m\u001b[1;33m,\u001b[0m \u001b[0margs_list\u001b[0m\u001b[1;33m,\u001b[0m \u001b[0mitertools\u001b[0m\u001b[1;33m.\u001b[0m\u001b[0mrepeat\u001b[0m\u001b[1;33m(\u001b[0m\u001b[0mpars\u001b[0m\u001b[1;33m)\u001b[0m\u001b[1;33m)\u001b[0m\u001b[1;33m\u001b[0m\u001b[1;33m\u001b[0m\u001b[0m\n\u001b[0;32m    812\u001b[0m         \u001b[0mcall_sampler_star\u001b[0m \u001b[1;33m=\u001b[0m \u001b[0mself\u001b[0m\u001b[1;33m.\u001b[0m\u001b[0mmodule\u001b[0m\u001b[1;33m.\u001b[0m\u001b[0m_call_sampler_star\u001b[0m\u001b[1;33m\u001b[0m\u001b[1;33m\u001b[0m\u001b[0m\n\u001b[1;32m--> 813\u001b[1;33m         \u001b[0mret_and_samples\u001b[0m \u001b[1;33m=\u001b[0m \u001b[0m_map_parallel\u001b[0m\u001b[1;33m(\u001b[0m\u001b[0mcall_sampler_star\u001b[0m\u001b[1;33m,\u001b[0m \u001b[0mcall_sampler_args\u001b[0m\u001b[1;33m,\u001b[0m \u001b[0mn_jobs\u001b[0m\u001b[1;33m)\u001b[0m\u001b[1;33m\u001b[0m\u001b[1;33m\u001b[0m\u001b[0m\n\u001b[0m\u001b[0;32m    814\u001b[0m         \u001b[0msamples\u001b[0m \u001b[1;33m=\u001b[0m \u001b[1;33m[\u001b[0m\u001b[0msmpl\u001b[0m \u001b[1;32mfor\u001b[0m \u001b[0m_\u001b[0m\u001b[1;33m,\u001b[0m \u001b[0msmpl\u001b[0m \u001b[1;32min\u001b[0m \u001b[0mret_and_samples\u001b[0m\u001b[1;33m]\u001b[0m\u001b[1;33m\u001b[0m\u001b[1;33m\u001b[0m\u001b[0m\n\u001b[0;32m    815\u001b[0m \u001b[1;33m\u001b[0m\u001b[0m\n",
      "\u001b[1;32m~\\Anaconda3\\envs\\multi\\lib\\site-packages\\pystan\\model.py\u001b[0m in \u001b[0;36m_map_parallel\u001b[1;34m(function, args, n_jobs)\u001b[0m\n\u001b[0;32m     88\u001b[0m             \u001b[0mpool\u001b[0m\u001b[1;33m.\u001b[0m\u001b[0mjoin\u001b[0m\u001b[1;33m(\u001b[0m\u001b[1;33m)\u001b[0m\u001b[1;33m\u001b[0m\u001b[1;33m\u001b[0m\u001b[0m\n\u001b[0;32m     89\u001b[0m     \u001b[1;32melse\u001b[0m\u001b[1;33m:\u001b[0m\u001b[1;33m\u001b[0m\u001b[1;33m\u001b[0m\u001b[0m\n\u001b[1;32m---> 90\u001b[1;33m         \u001b[0mmap_result\u001b[0m \u001b[1;33m=\u001b[0m \u001b[0mlist\u001b[0m\u001b[1;33m(\u001b[0m\u001b[0mmap\u001b[0m\u001b[1;33m(\u001b[0m\u001b[0mfunction\u001b[0m\u001b[1;33m,\u001b[0m \u001b[0margs\u001b[0m\u001b[1;33m)\u001b[0m\u001b[1;33m)\u001b[0m\u001b[1;33m\u001b[0m\u001b[1;33m\u001b[0m\u001b[0m\n\u001b[0m\u001b[0;32m     91\u001b[0m     \u001b[1;32mreturn\u001b[0m \u001b[0mmap_result\u001b[0m\u001b[1;33m\u001b[0m\u001b[1;33m\u001b[0m\u001b[0m\n\u001b[0;32m     92\u001b[0m \u001b[1;33m\u001b[0m\u001b[0m\n",
      "\u001b[1;32mstanfit4anon_model_6d78a2071bf51cbe1e42c5c01664ea40_8062720018182048600.pyx\u001b[0m in \u001b[0;36mstanfit4anon_model_6d78a2071bf51cbe1e42c5c01664ea40_8062720018182048600._call_sampler_star\u001b[1;34m()\u001b[0m\n",
      "\u001b[1;32mstanfit4anon_model_6d78a2071bf51cbe1e42c5c01664ea40_8062720018182048600.pyx\u001b[0m in \u001b[0;36mstanfit4anon_model_6d78a2071bf51cbe1e42c5c01664ea40_8062720018182048600._call_sampler\u001b[1;34m()\u001b[0m\n",
      "\u001b[1;31mRuntimeError\u001b[0m: Exception: poisson_log_rng: Log rate parameter is 39.0788, but must be less than 20.7944  (in 'unknown file name' at line 29)\n"
     ]
    }
   ],
   "source": [
    "# stanコードの記述\n",
    "stan_code = '''\n",
    "data {\n",
    "  int N;                   // サンプルサイズ\n",
    "  int fish_num[N];         // 釣獲尾数\n",
    "  vector[N] temp;          // 気温データ\n",
    "  vector[N] sunny;         // 晴れダミー変数\n",
    "}\n",
    "\n",
    "parameters {\n",
    "  real Intercept;      // 切片\n",
    "  real b_temp;         // 係数(気温)\n",
    "  real b_sunny;        // 係数(晴れの影響)\n",
    "}\n",
    "\n",
    "model {\n",
    "  vector[N] lambda = Intercept + b_temp*temp + b_sunny*sunny;\n",
    "  fish_num ~ poisson_log(lambda);\n",
    "}\n",
    "\n",
    "generated quantities {\n",
    "    vector[N] lambda_sunny;\n",
    "    vector[N] lambda_cloudy;\n",
    "    vector[N] fish_num_sunny;\n",
    "    vector[N] fish_num_cloudy;\n",
    "    \n",
    "    for(i in 1:N){\n",
    "        lambda_sunny[i] = Intercept +  b_temp*temp[i] + b_sunny*1;\n",
    "        lambda_cloudy[i] = Intercept +  b_temp*temp[i] + b_sunny*0;\n",
    "        fish_num_sunny[i] = poisson_log_rng(lambda_sunny[i]);\n",
    "        fish_num_cloudy[i] = poisson_log_rng(lambda_cloudy[i]);\n",
    "    }\n",
    "}\n",
    "'''\n",
    "\n",
    "# モデルのコンパイル\n",
    "stan_model = pystan.StanModel(model_code=stan_code)\n",
    "\n",
    "# サンプリング\n",
    "glm_pois_stan = stan_model.sampling(data=data_list_1, seed=2, n_jobs=1)"
   ]
  },
  {
   "cell_type": "markdown",
   "metadata": {},
   "source": [
    "## 参考：結果の表示"
   ]
  },
  {
   "cell_type": "code",
   "execution_count": null,
   "metadata": {
    "ExecuteTime": {
     "end_time": "2020-08-30T06:56:28.977529Z",
     "start_time": "2020-08-30T06:55:56.531Z"
    }
   },
   "outputs": [],
   "source": [
    "print(glm_pois_stan.stansummary(probs=[0.025, 0.5, 0.975]))"
   ]
  },
  {
   "cell_type": "code",
   "execution_count": null,
   "metadata": {},
   "outputs": [],
   "source": []
  },
  {
   "cell_type": "code",
   "execution_count": 14,
   "metadata": {
    "ExecuteTime": {
     "end_time": "2020-08-30T06:59:42.096929Z",
     "start_time": "2020-08-30T06:59:02.621645Z"
    }
   },
   "outputs": [
    {
     "name": "stderr",
     "output_type": "stream",
     "text": [
      "INFO:pystan:COMPILING THE C++ CODE FOR MODEL anon_model_d9c7a0c6958592662ed045a85b104473 NOW.\n"
     ]
    }
   ],
   "source": [
    "# stanコードの記述\n",
    "stan_code = '''\n",
    "data {\n",
    "  int N;                   // サンプルサイズ\n",
    "  int fish_num[N];         // 釣獲尾数\n",
    "  vector[N] temp;          // 気温データ\n",
    "  vector[N] sunny;         // 晴れダミー変数\n",
    "}\n",
    "\n",
    "parameters {\n",
    "  real Intercept;      // 切片\n",
    "  real b_temp;         // 係数(気温)\n",
    "  real b_sunny;        // 係数(晴れの影響)\n",
    "}\n",
    "\n",
    "model {\n",
    "  vector[N] lambda = Intercept + b_temp*temp + b_sunny*sunny;\n",
    "  fish_num ~ poisson_log(lambda);\n",
    "}\n",
    "\n",
    "generated quantities {\n",
    "    vector[N] lambda_sunny;\n",
    "    vector[N] lambda_cloudy;\n",
    "    \n",
    "    for(i in 1:N){\n",
    "        lambda_sunny[i] = Intercept +  b_temp*temp[i] + b_sunny*1;\n",
    "        lambda_cloudy[i] = Intercept +  b_temp*temp[i] + b_sunny*0;\n",
    "    }\n",
    "}\n",
    "\n",
    "'''\n",
    "\n",
    "# モデルのコンパイル\n",
    "stan_model = pystan.StanModel(model_code=stan_code)\n",
    "\n",
    "data_list_1 = dict(N=len(fish_num_climate),\n",
    "                   fish_num=fish_num_climate['fish_num'],\n",
    "                   temp=fish_num_climate['temperature'],\n",
    "                   sunny=design_mat['weather_sunny'])\n",
    "\n",
    "# サンプリング\n",
    "glm_pois_stan_exp = stan_model.sampling(data=data_list_1, seed=1, n_jobs=1)"
   ]
  },
  {
   "cell_type": "code",
   "execution_count": null,
   "metadata": {},
   "outputs": [],
   "source": []
  },
  {
   "cell_type": "code",
   "execution_count": 29,
   "metadata": {
    "ExecuteTime": {
     "end_time": "2020-07-18T05:16:48.160150Z",
     "start_time": "2020-07-18T05:16:46.499578Z"
    }
   },
   "outputs": [
    {
     "name": "stdout",
     "output_type": "stream",
     "text": [
      "Inference for Stan model: anon_model_a89f5c970af381714b5d2bc1507c0509.\n",
      "4 chains, each with iter=2000; warmup=1000; thin=1; \n",
      "post-warmup draws per chain=1000, total post-warmup draws=4000.\n",
      "\n",
      "                       mean se_mean     sd   2.5%     50%   97.5%  n_eff   Rhat\n",
      "Intercept             -0.79  5.8e-3   0.24  -1.26   -0.79   -0.34   1651    1.0\n",
      "b_temp                 0.08  2.4e-4 9.9e-3   0.06    0.08     0.1   1730    1.0\n",
      "b_sunny                -0.6  3.9e-3   0.17  -0.94   -0.59   -0.29   1819    1.0\n",
      "lambda_sunny[1]       -0.93  4.6e-3    0.2  -1.34   -0.93   -0.53   2021    1.0\n",
      "lambda_sunny[2]        0.36  3.0e-3   0.14   0.08    0.37    0.62   2165    1.0\n",
      "lambda_sunny[3]        0.04  2.9e-3   0.14  -0.26    0.04     0.3   2400    1.0\n",
      "lambda_sunny[4]       -0.98  4.6e-3   0.21  -1.39   -0.98   -0.57   2010    1.0\n",
      "lambda_sunny[5]        0.96  3.5e-3   0.16   0.63    0.96    1.26   2024    1.0\n",
      "lambda_sunny[6]        0.96  3.5e-3   0.16   0.63    0.96    1.26   2024    1.0\n",
      "lambda_sunny[7]       -1.07  4.9e-3   0.22   -1.5   -1.07   -0.65   1988    1.0\n",
      "lambda_sunny[8]        0.68  3.2e-3   0.15   0.38    0.69    0.96   2040    1.0\n",
      "lambda_sunny[9]       -0.23  3.2e-3   0.15  -0.54   -0.22    0.07   2290    1.0\n",
      "lambda_sunny[10]      -0.02  3.0e-3   0.15  -0.31   -0.02    0.25   2382    1.0\n",
      "lambda_sunny[11]      -0.01  3.0e-3   0.14  -0.31 -6.8e-3    0.26   2385    1.0\n",
      "lambda_sunny[12]      -0.79  4.2e-3   0.19  -1.18   -0.79   -0.42   2061    1.0\n",
      "lambda_sunny[13]        0.5  3.1e-3   0.14   0.21    0.51    0.77   2071    1.0\n",
      "lambda_sunny[14]      -0.94  4.6e-3   0.21  -1.35   -0.94   -0.54   2019    1.0\n",
      "lambda_sunny[15]      -0.38  3.4e-3   0.16   -0.7   -0.38   -0.06   2221    1.0\n",
      "lambda_sunny[16]       0.73  3.3e-3   0.15   0.43    0.74    1.01   2037    1.0\n",
      "lambda_sunny[17]       1.04  3.7e-3   0.16   0.71    1.05    1.35   2015    1.0\n",
      "lambda_sunny[18]      -0.83  4.3e-3    0.2  -1.22   -0.83   -0.44   2051    1.0\n",
      "lambda_sunny[19]      -0.29  3.3e-3   0.16   -0.6   -0.28    0.02   2263    1.0\n",
      "lambda_sunny[20]      -1.21  5.2e-3   0.23  -1.66   -1.21   -0.76   1959    1.0\n",
      "lambda_sunny[21]       0.26  2.9e-3   0.14  -0.02    0.27    0.52   2257    1.0\n",
      "lambda_sunny[22]      -0.43  3.5e-3   0.17  -0.76   -0.43   -0.11   2199    1.0\n",
      "lambda_sunny[23]       0.69  3.2e-3   0.15   0.39     0.7    0.97   2040    1.0\n",
      "lambda_sunny[24]      -1.02  4.7e-3   0.21  -1.44   -1.02   -0.61   2000    1.0\n",
      "lambda_sunny[25]      -0.53  3.7e-3   0.17  -0.87   -0.53   -0.19   2157    1.0\n",
      "lambda_sunny[26]      -0.17  3.1e-3   0.15  -0.47   -0.17    0.12   2317    1.0\n",
      "lambda_sunny[27]      -1.02  4.7e-3   0.21  -1.44   -1.02   -0.61   2000    1.0\n",
      "lambda_sunny[28]       -0.5  3.7e-3   0.17  -0.84    -0.5   -0.17   2167    1.0\n",
      "lambda_sunny[29]       1.01  3.6e-3   0.16   0.68    1.01    1.32   2021    1.0\n",
      "lambda_sunny[30]      -1.06  4.8e-3   0.22  -1.49   -1.06   -0.64   1990    1.0\n",
      "lambda_sunny[31]      -1.37  5.6e-3   0.25  -1.85   -1.37   -0.88   1932    1.0\n",
      "lambda_sunny[32]      -0.98  4.7e-3   0.21   -1.4   -0.98   -0.58   2008    1.0\n",
      "lambda_sunny[33]       0.63  3.2e-3   0.14   0.33    0.63     0.9   2044    1.0\n",
      "lambda_sunny[34]       0.78  3.3e-3   0.15   0.47    0.78    1.06   2034    1.0\n",
      "lambda_sunny[35]      -0.11  3.1e-3   0.15  -0.41   -0.11    0.17   2343    1.0\n",
      "lambda_sunny[36]       0.17  2.9e-3   0.14  -0.11    0.18    0.43   2340    1.0\n",
      "lambda_sunny[37]       0.71  3.3e-3   0.15   0.41    0.71    0.99   2038    1.0\n",
      "lambda_sunny[38]      -0.69  4.0e-3   0.18  -1.05   -0.68   -0.33   2097    1.0\n",
      "lambda_sunny[39]       0.27  2.9e-3   0.14  -0.01    0.27    0.53   2249    1.0\n",
      "lambda_sunny[40]      -1.02  4.7e-3   0.21  -1.44   -1.02   -0.61   2000    1.0\n",
      "lambda_sunny[41]       1.06  3.7e-3   0.16   0.72    1.06    1.37   2009    1.0\n",
      "lambda_sunny[42]      -0.65  4.0e-3   0.18  -1.01   -0.65    -0.3   2109    1.0\n",
      "lambda_sunny[43]       -1.1  4.9e-3   0.22  -1.53    -1.1   -0.67   1981    1.0\n",
      "lambda_sunny[44]      -0.98  4.7e-3   0.21   -1.4   -0.98   -0.58   2008    1.0\n",
      "lambda_sunny[45]       0.96  3.5e-3   0.16   0.63    0.96    1.26   2024    1.0\n",
      "lambda_sunny[46]       0.59  3.2e-3   0.14   0.29    0.59    0.85   2047    1.0\n",
      "lambda_sunny[47]       1.03  3.6e-3   0.16    0.7    1.04    1.34   2019    1.0\n",
      "lambda_sunny[48]      -0.52  3.7e-3   0.17  -0.86   -0.52   -0.18   2160    1.0\n",
      "lambda_sunny[49]      -0.14  3.1e-3   0.15  -0.44   -0.13    0.15   2332    1.0\n",
      "lambda_sunny[50]       0.63  3.2e-3   0.14   0.33    0.63     0.9   2044    1.0\n",
      "lambda_sunny[51]      -1.37  5.6e-3   0.25  -1.86   -1.38   -0.89   1930    1.0\n",
      "lambda_sunny[52]      -1.36  5.6e-3   0.24  -1.84   -1.36   -0.88   1933    1.0\n",
      "lambda_sunny[53]       0.31  3.0e-3   0.14   0.03    0.32    0.57   2211    1.0\n",
      "lambda_sunny[54]       0.93  3.5e-3   0.16    0.6    0.93    1.22   2025    1.0\n",
      "lambda_sunny[55]       -0.7  4.1e-3   0.19  -1.07    -0.7   -0.34   2091    1.0\n",
      "lambda_sunny[56]       0.63  3.2e-3   0.14   0.34    0.64    0.91   2043    1.0\n",
      "lambda_sunny[57]       0.57  3.1e-3   0.14   0.28    0.57    0.84   2048    1.0\n",
      "lambda_sunny[58]       1.07  3.7e-3   0.17   0.74    1.08    1.39   2002    1.0\n",
      "lambda_sunny[59]       0.14  2.9e-3   0.14  -0.15    0.14     0.4   2370    1.0\n",
      "lambda_sunny[60]       0.38  3.0e-3   0.14    0.1    0.38    0.64   2151    1.0\n",
      "lambda_sunny[61]       0.53  3.1e-3   0.14   0.24    0.53    0.79   2057    1.0\n",
      "lambda_sunny[62]       0.82  3.4e-3   0.15   0.51    0.82     1.1   2032    1.0\n",
      "lambda_sunny[63]       0.17  2.9e-3   0.14  -0.11    0.18    0.43   2340    1.0\n",
      "lambda_sunny[64]      -0.74  4.1e-3   0.19  -1.12   -0.74   -0.37   2077    1.0\n",
      "lambda_sunny[65]       0.75  3.3e-3   0.15   0.44    0.76    1.03   2036    1.0\n",
      "lambda_sunny[66]       -0.3  3.3e-3   0.16  -0.62    -0.3  3.0e-3   2255    1.0\n",
      "lambda_sunny[67]      -0.43  3.5e-3   0.17  -0.76   -0.43   -0.11   2199    1.0\n",
      "lambda_sunny[68]      -0.25  3.2e-3   0.15  -0.55   -0.24    0.05   2282    1.0\n",
      "lambda_sunny[69]      -0.84  4.4e-3    0.2  -1.24   -0.84   -0.46   2046    1.0\n",
      "lambda_sunny[70]      -1.23  5.2e-3   0.23  -1.68   -1.23   -0.77   1956    1.0\n",
      "lambda_sunny[71]       -0.7  4.1e-3   0.19  -1.07    -0.7   -0.34   2091    1.0\n",
      "lambda_sunny[72]      -0.62  3.9e-3   0.18  -0.97   -0.62   -0.27   2121    1.0\n",
      "lambda_sunny[73]      -1.28  5.4e-3   0.24  -1.75   -1.29   -0.82   1945    1.0\n",
      "lambda_sunny[74]      -0.93  4.6e-3    0.2  -1.34   -0.93   -0.53   2021    1.0\n",
      "lambda_sunny[75]      -0.93  4.6e-3    0.2  -1.34   -0.93   -0.53   2021    1.0\n",
      "lambda_sunny[76]       0.49  3.1e-3   0.14   0.21     0.5    0.76   2075    1.0\n",
      "lambda_sunny[77]      -0.68  4.0e-3   0.18  -1.04   -0.68   -0.32   2100    1.0\n",
      "lambda_sunny[78]       0.77  3.3e-3   0.15   0.46    0.77    1.05   2035    1.0\n",
      "lambda_sunny[79]      -0.39  3.5e-3   0.16  -0.71   -0.38   -0.07   2217    1.0\n",
      "lambda_sunny[80]       0.04  2.9e-3   0.14  -0.26    0.04     0.3   2400    1.0\n",
      "lambda_sunny[81]      -0.52  3.7e-3   0.17  -0.86   -0.52   -0.18   2160    1.0\n",
      "lambda_sunny[82]       0.29  2.9e-3   0.14 5.4e-3    0.29    0.55   2234    1.0\n",
      "lambda_sunny[83]      -1.32  5.5e-3   0.24   -1.8   -1.33   -0.85   1938    1.0\n",
      "lambda_sunny[84]      -0.39  3.5e-3   0.16  -0.72   -0.39   -0.08   2213    1.0\n",
      "lambda_sunny[85]      -0.89  4.5e-3    0.2  -1.29   -0.89    -0.5   2032    1.0\n",
      "lambda_sunny[86]       0.74  3.3e-3   0.15   0.44    0.75    1.02   2036    1.0\n",
      "lambda_sunny[87]       1.03  3.6e-3   0.16   0.69    1.03    1.33   2020    1.0\n",
      "lambda_sunny[88]      -0.59  3.8e-3   0.18  -0.94   -0.58   -0.24   2133    1.0\n",
      "lambda_sunny[89]       0.44  3.1e-3   0.14   0.15    0.44     0.7   2106    1.0\n",
      "lambda_sunny[90]      -0.54  3.7e-3   0.17  -0.89   -0.54   -0.21   2150    1.0\n",
      "lambda_sunny[91]       1.04  3.7e-3   0.16   0.71    1.05    1.35   2015    1.0\n",
      "lambda_sunny[92]       -0.4  3.5e-3   0.16  -0.73    -0.4   -0.08   2210    1.0\n",
      "lambda_sunny[93]      -0.44  3.6e-3   0.17  -0.78   -0.44   -0.12   2191    1.0\n",
      "lambda_sunny[94]     3.8e-3  3.0e-3   0.14  -0.29    0.01    0.27   2392    1.0\n",
      "lambda_sunny[95]      -0.24  3.2e-3   0.15  -0.54   -0.23    0.06   2286    1.0\n",
      "lambda_sunny[96]       -0.9  4.5e-3    0.2   -1.3    -0.9   -0.51   2030    1.0\n",
      "lambda_sunny[97]      -0.33  3.4e-3   0.16  -0.64   -0.33   -0.02   2243    1.0\n",
      "lambda_sunny[98]      -1.16  5.1e-3   0.23  -1.61   -1.16   -0.72   1969    1.0\n",
      "lambda_sunny[99]       -1.1  4.9e-3   0.22  -1.53    -1.1   -0.67   1981    1.0\n",
      "lambda_sunny[100]      -0.3  3.3e-3   0.16  -0.61   -0.29  9.7e-3   2259    1.0\n",
      "lambda_cloudy[1]      -0.34  4.5e-3   0.19  -0.71   -0.34    0.03   1692    1.0\n",
      "lambda_cloudy[2]       0.96  1.7e-3    0.1   0.76    0.96    1.15   3261    1.0\n",
      "lambda_cloudy[3]       0.63  2.1e-3   0.11   0.43    0.64    0.84   2475    1.0\n",
      "lambda_cloudy[4]      -0.38  4.7e-3   0.19  -0.76   -0.38 -4.2e-3   1686    1.0\n",
      "lambda_cloudy[5]       1.55  2.0e-3   0.12   1.32    1.56    1.78   3382    1.0\n",
      "lambda_cloudy[6]       1.55  2.0e-3   0.12   1.32    1.56    1.78   3382    1.0\n",
      "lambda_cloudy[7]      -0.47  4.9e-3    0.2  -0.87   -0.47   -0.08   1675    1.0\n",
      "lambda_cloudy[8]       1.28  1.7e-3    0.1   1.07    1.28    1.48   3697    1.0\n",
      "lambda_cloudy[9]       0.37  2.7e-3   0.12   0.12    0.37    0.61   2030    1.0\n",
      "lambda_cloudy[10]      0.58  2.3e-3   0.11   0.36    0.58    0.79   2349    1.0\n",
      "lambda_cloudy[11]      0.58  2.2e-3   0.11   0.37    0.59    0.79   2366    1.0\n",
      "lambda_cloudy[12]      -0.2  4.2e-3   0.17  -0.54    -0.2    0.14   1719    1.0\n",
      "lambda_cloudy[13]       1.1  1.6e-3    0.1    0.9     1.1    1.29   3570    1.0\n",
      "lambda_cloudy[14]     -0.35  4.6e-3   0.19  -0.72   -0.35    0.02   1691    1.0\n",
      "lambda_cloudy[15]      0.22  3.1e-3   0.13  -0.05    0.22    0.48   1890    1.0\n",
      "lambda_cloudy[16]      1.33  1.7e-3   0.11   1.12    1.33    1.54   3672    1.0\n",
      "lambda_cloudy[17]      1.64  2.2e-3   0.12   1.39    1.64    1.88   3249    1.0\n",
      "lambda_cloudy[18]     -0.23  4.3e-3   0.18  -0.58   -0.23    0.11   1712    1.0\n",
      "lambda_cloudy[19]      0.31  2.9e-3   0.13   0.06    0.31    0.56   1968    1.0\n",
      "lambda_cloudy[20]     -0.61  5.3e-3   0.22  -1.04   -0.61   -0.19   1662    1.0\n",
      "lambda_cloudy[21]      0.86  1.8e-3    0.1   0.66    0.86    1.05   2998    1.0\n",
      "lambda_cloudy[22]      0.17  3.2e-3   0.14  -0.11    0.17    0.44   1857    1.0\n",
      "lambda_cloudy[23]      1.29  1.7e-3    0.1   1.08    1.29    1.49   3694    1.0\n",
      "lambda_cloudy[24]     -0.42  4.8e-3    0.2  -0.81   -0.42   -0.04   1681    1.0\n",
      "lambda_cloudy[25]      0.07  3.5e-3   0.15  -0.22    0.07    0.35   1805    1.0\n",
      "lambda_cloudy[26]      0.43  2.6e-3   0.12   0.19    0.43    0.66   2101    1.0\n",
      "lambda_cloudy[27]     -0.42  4.8e-3    0.2  -0.81   -0.42   -0.04   1681    1.0\n",
      "lambda_cloudy[28]      0.09  3.4e-3   0.15  -0.19     0.1    0.38   1817    1.0\n",
      "lambda_cloudy[29]       1.6  2.1e-3   0.12   1.36    1.61    1.84   3302    1.0\n",
      "lambda_cloudy[30]     -0.46  4.9e-3    0.2  -0.86   -0.46   -0.07   1676    1.0\n",
      "lambda_cloudy[31]     -0.77  5.7e-3   0.23  -1.23   -0.77   -0.32   1652    1.0\n",
      "lambda_cloudy[32]     -0.39  4.7e-3   0.19  -0.77   -0.39   -0.01   1685    1.0\n",
      "lambda_cloudy[33]      1.22  1.7e-3    0.1   1.02    1.22    1.42   3695    1.0\n",
      "lambda_cloudy[34]      1.37  1.8e-3   0.11   1.16    1.37    1.58   3637    1.0\n",
      "lambda_cloudy[35]      0.48  2.5e-3   0.12   0.26    0.49    0.71   2186    1.0\n",
      "lambda_cloudy[36]      0.77  1.9e-3    0.1   0.57    0.77    0.96   2766    1.0\n",
      "lambda_cloudy[37]      1.31  1.7e-3    0.1    1.1    1.31    1.51   3687    1.0\n",
      "lambda_cloudy[38]     -0.09  3.9e-3   0.16  -0.41   -0.09    0.23   1747    1.0\n",
      "lambda_cloudy[39]      0.87  1.8e-3    0.1   0.67    0.87    1.06   3020    1.0\n",
      "lambda_cloudy[40]     -0.42  4.8e-3    0.2  -0.81   -0.42   -0.04   1681    1.0\n",
      "lambda_cloudy[41]      1.65  2.2e-3   0.13    1.4    1.66     1.9   3222    1.0\n",
      "lambda_cloudy[42]     -0.06  3.8e-3   0.16  -0.37   -0.05    0.25   1757    1.0\n",
      "lambda_cloudy[43]      -0.5  5.0e-3    0.2  -0.91    -0.5    -0.1   1671    1.0\n",
      "lambda_cloudy[44]     -0.39  4.7e-3   0.19  -0.77   -0.39   -0.01   1685    1.0\n",
      "lambda_cloudy[45]      1.55  2.0e-3   0.12   1.32    1.56    1.78   3382    1.0\n",
      "lambda_cloudy[46]      1.18  1.7e-3    0.1   0.98    1.18    1.38   3672    1.0\n",
      "lambda_cloudy[47]      1.63  2.2e-3   0.12   1.38    1.63    1.87   3262    1.0\n",
      "lambda_cloudy[48]      0.08  3.5e-3   0.15  -0.21    0.08    0.36   1809    1.0\n",
      "lambda_cloudy[49]      0.46  2.5e-3   0.12   0.23    0.46    0.68   2148    1.0\n",
      "lambda_cloudy[50]      1.22  1.7e-3    0.1   1.02    1.22    1.42   3695    1.0\n",
      "lambda_cloudy[51]     -0.78  5.7e-3   0.23  -1.24   -0.77   -0.32   1651    1.0\n",
      "lambda_cloudy[52]     -0.76  5.7e-3   0.23  -1.22   -0.76   -0.31   1652    1.0\n",
      "lambda_cloudy[53]      0.91  1.8e-3    0.1   0.71    0.91     1.1   3130    1.0\n",
      "lambda_cloudy[54]      1.52  2.0e-3   0.12   1.29    1.52    1.75   3435    1.0\n",
      "lambda_cloudy[55]     -0.11  3.9e-3   0.16  -0.43    -0.1    0.21   1742    1.0\n",
      "lambda_cloudy[56]      1.23  1.7e-3    0.1   1.03    1.23    1.43   3698    1.0\n",
      "lambda_cloudy[57]      1.16  1.6e-3    0.1   0.97    1.17    1.36   3658    1.0\n",
      "lambda_cloudy[58]      1.67  2.2e-3   0.13   1.42    1.67    1.91   3196    1.0\n",
      "lambda_cloudy[59]      0.73  2.0e-3    0.1   0.53    0.73    0.93   2687    1.0\n",
      "lambda_cloudy[60]      0.97  1.7e-3    0.1   0.78    0.97    1.17   3303    1.0\n",
      "lambda_cloudy[61]      1.12  1.6e-3    0.1   0.93    1.12    1.32   3608    1.0\n",
      "lambda_cloudy[62]      1.41  1.8e-3   0.11   1.19    1.42    1.63   3590    1.0\n",
      "lambda_cloudy[63]      0.77  1.9e-3    0.1   0.57    0.77    0.96   2766    1.0\n",
      "lambda_cloudy[64]     -0.15  4.0e-3   0.17  -0.48   -0.14    0.18   1731    1.0\n",
      "lambda_cloudy[65]      1.35  1.8e-3   0.11   1.13    1.35    1.55   3660    1.0\n",
      "lambda_cloudy[66]      0.29  2.9e-3   0.13   0.04    0.29    0.54   1953    1.0\n",
      "lambda_cloudy[67]      0.17  3.2e-3   0.14  -0.11    0.17    0.44   1857    1.0\n",
      "lambda_cloudy[68]      0.35  2.8e-3   0.12   0.11    0.35    0.59   2011    1.0\n",
      "lambda_cloudy[69]     -0.25  4.3e-3   0.18   -0.6   -0.25     0.1   1708    1.0\n",
      "lambda_cloudy[70]     -0.63  5.3e-3   0.22  -1.06   -0.63    -0.2   1660    1.0\n",
      "lambda_cloudy[71]     -0.11  3.9e-3   0.16  -0.43    -0.1    0.21   1742    1.0\n",
      "lambda_cloudy[72]     -0.02  3.7e-3   0.16  -0.33   -0.02    0.28   1768    1.0\n",
      "lambda_cloudy[73]     -0.69  5.5e-3   0.22  -1.13   -0.68   -0.25   1656    1.0\n",
      "lambda_cloudy[74]     -0.34  4.5e-3   0.19  -0.71   -0.34    0.03   1692    1.0\n",
      "lambda_cloudy[75]     -0.34  4.5e-3   0.19  -0.71   -0.34    0.03   1692    1.0\n",
      "lambda_cloudy[76]      1.09  1.6e-3    0.1    0.9    1.09    1.28   3556    1.0\n",
      "lambda_cloudy[77]     -0.08  3.9e-3   0.16   -0.4   -0.08    0.23   1749    1.0\n",
      "lambda_cloudy[78]      1.36  1.8e-3   0.11   1.15    1.37    1.57   3645    1.0\n",
      "lambda_cloudy[79]      0.21  3.1e-3   0.14  -0.05    0.21    0.47   1884    1.0\n",
      "lambda_cloudy[80]      0.63  2.1e-3   0.11   0.43    0.64    0.84   2475    1.0\n",
      "lambda_cloudy[81]      0.08  3.5e-3   0.15  -0.21    0.08    0.36   1809    1.0\n",
      "lambda_cloudy[82]      0.88  1.8e-3    0.1   0.69    0.88    1.08   3064    1.0\n",
      "lambda_cloudy[83]     -0.73  5.6e-3   0.23  -1.18   -0.73   -0.28   1654    1.0\n",
      "lambda_cloudy[84]       0.2  3.1e-3   0.14  -0.06     0.2    0.47   1878    1.0\n",
      "lambda_cloudy[85]      -0.3  4.4e-3   0.18  -0.66    -0.3    0.06   1699    1.0\n",
      "lambda_cloudy[86]      1.34  1.7e-3   0.11   1.13    1.34    1.55   3666    1.0\n",
      "lambda_cloudy[87]      1.62  2.1e-3   0.12   1.38    1.62    1.86   3275    1.0\n",
      "lambda_cloudy[88]      0.01  3.6e-3   0.15  -0.29    0.01    0.31   1781    1.0\n",
      "lambda_cloudy[89]      1.03  1.7e-3    0.1   0.84    1.03    1.22   3441    1.0\n",
      "lambda_cloudy[90]      0.05  3.5e-3   0.15  -0.24    0.06    0.34   1798    1.0\n",
      "lambda_cloudy[91]      1.64  2.2e-3   0.12   1.39    1.64    1.88   3249    1.0\n",
      "lambda_cloudy[92]      0.19  3.2e-3   0.14  -0.08     0.2    0.46   1872    1.0\n",
      "lambda_cloudy[93]      0.15  3.3e-3   0.14  -0.12    0.16    0.42   1847    1.0\n",
      "lambda_cloudy[94]       0.6  2.2e-3   0.11   0.39     0.6    0.81   2401    1.0\n",
      "lambda_cloudy[95]      0.36  2.8e-3   0.12   0.12    0.36     0.6   2020    1.0\n",
      "lambda_cloudy[96]     -0.31  4.5e-3   0.18  -0.67    -0.3    0.06   1698    1.0\n",
      "lambda_cloudy[97]      0.27  3.0e-3   0.13   0.01    0.27    0.52   1931    1.0\n",
      "lambda_cloudy[98]     -0.56  5.2e-3   0.21  -0.98   -0.56   -0.15   1666    1.0\n",
      "lambda_cloudy[99]      -0.5  5.0e-3    0.2  -0.91    -0.5    -0.1   1671    1.0\n",
      "lambda_cloudy[100]      0.3  2.9e-3   0.13   0.05     0.3    0.55   1961    1.0\n",
      "fish_num_sunny[1]      0.39  9.9e-3   0.63    0.0     0.0     2.0   3986    1.0\n",
      "fish_num_sunny[2]      1.43    0.02   1.23    0.0     1.0     4.0   4067    1.0\n",
      "fish_num_sunny[3]      1.08    0.02   1.03    0.0     1.0     3.0   3540    1.0\n",
      "fish_num_sunny[4]      0.38  9.7e-3   0.62    0.0     0.0     2.0   4126    1.0\n",
      "fish_num_sunny[5]      2.65    0.03   1.69    0.0     2.0     6.0   3737    1.0\n",
      "fish_num_sunny[6]      2.62    0.03   1.67    0.0     2.0     6.0   3914    1.0\n",
      "fish_num_sunny[7]      0.35  9.5e-3   0.59    0.0     0.0     2.0   3876    1.0\n",
      "fish_num_sunny[8]      1.99    0.02   1.44    0.0     2.0     5.0   3770    1.0\n",
      "fish_num_sunny[9]      0.81    0.02   0.89    0.0     1.0     3.0   3515    1.0\n",
      "fish_num_sunny[10]     0.99    0.02   0.99    0.0     1.0     3.0   3802    1.0\n",
      "fish_num_sunny[11]     0.99    0.02   0.99    0.0     1.0     3.0   3918    1.0\n",
      "fish_num_sunny[12]     0.48    0.01   0.69    0.0     0.0     2.0   3508    1.0\n",
      "fish_num_sunny[13]     1.66    0.02   1.28    0.0     1.0     5.0   4086    1.0\n",
      "fish_num_sunny[14]     0.41    0.01   0.65    0.0     0.0     2.0   3708    1.0\n",
      "fish_num_sunny[15]      0.7    0.01   0.85    0.0     0.0     3.0   4141    1.0\n",
      "fish_num_sunny[16]     2.13    0.02   1.51    0.0     2.0     6.0   4114    1.0\n",
      "fish_num_sunny[17]      2.9    0.03   1.79    0.0     3.0     7.0   3733    1.0\n",
      "fish_num_sunny[18]     0.44    0.01   0.67    0.0     0.0     2.0   3976    1.0\n",
      "fish_num_sunny[19]     0.79    0.01   0.89    0.0     1.0     3.0   3962    1.0\n",
      "fish_num_sunny[20]     0.33  9.8e-3   0.58    0.0     0.0     2.0   3525    1.0\n",
      "fish_num_sunny[21]     1.31    0.02   1.14    0.0     1.0     4.0   3381    1.0\n",
      "fish_num_sunny[22]     0.66    0.01   0.81    0.0     0.0     3.0   3781    1.0\n",
      "fish_num_sunny[23]     2.03    0.02   1.45    0.0     2.0     5.0   3987    1.0\n",
      "fish_num_sunny[24]     0.35  9.6e-3    0.6    0.0     0.0     2.0   3881    1.0\n",
      "fish_num_sunny[25]     0.61    0.01   0.79    0.0     0.0     3.0   3864    1.0\n",
      "fish_num_sunny[26]     0.85    0.01   0.93    0.0     1.0     3.0   3952    1.0\n",
      "fish_num_sunny[27]     0.35  9.7e-3   0.61    0.0     0.0     2.0   3929    1.0\n",
      "fish_num_sunny[28]     0.63    0.01    0.8    0.0     0.0     3.0   3877    1.0\n",
      "fish_num_sunny[29]     2.79    0.03   1.71    0.0     3.0     7.0   3650    1.0\n",
      "fish_num_sunny[30]     0.36  9.9e-3   0.61    0.0     0.0     2.0   3818    1.0\n",
      "fish_num_sunny[31]     0.27  8.3e-3   0.52    0.0     0.0     2.0   3934    1.0\n",
      "fish_num_sunny[32]     0.38  9.7e-3   0.63    0.0     0.0     2.0   4135    1.0\n",
      "fish_num_sunny[33]     1.85    0.02    1.4    0.0     2.0     5.0   3791    1.0\n",
      "fish_num_sunny[34]     2.16    0.02   1.48    0.0     2.0     6.0   3765    1.0\n",
      "fish_num_sunny[35]     0.89    0.02   0.95    0.0     1.0     3.0   3702    1.0\n",
      "fish_num_sunny[36]     1.22    0.02    1.1    0.0     1.0     4.0   3749    1.0\n",
      "fish_num_sunny[37]     2.05    0.02   1.47    0.0     2.0     5.0   3845    1.0\n",
      "fish_num_sunny[38]     0.53    0.01   0.74    0.0     0.0     2.0   3950    1.0\n",
      "fish_num_sunny[39]     1.32    0.02   1.16    0.0     1.0     4.0   4236    1.0\n",
      "fish_num_sunny[40]     0.36  9.4e-3    0.6    0.0     0.0     2.0   4100    1.0\n",
      "fish_num_sunny[41]     2.93    0.03   1.79    0.0     3.0     7.0   3453    1.0\n",
      "fish_num_sunny[42]     0.53    0.01   0.73    0.0     0.0     2.0   3628    1.0\n",
      "fish_num_sunny[43]     0.35  9.6e-3   0.59    0.0     0.0     2.0   3774    1.0\n",
      "fish_num_sunny[44]     0.38 10.0e-3   0.62    0.0     0.0     2.0   3921    1.0\n",
      "fish_num_sunny[45]     2.66    0.03   1.67    0.0     2.0     6.0   3774    1.0\n",
      "fish_num_sunny[46]     1.82    0.02   1.36    0.0     2.0     5.0   3876    1.0\n",
      "fish_num_sunny[47]     2.83    0.03   1.75    0.0     3.0     7.0   3242    1.0\n",
      "fish_num_sunny[48]     0.59    0.01   0.77    0.0     0.0     2.0   3775    1.0\n",
      "fish_num_sunny[49]     0.87    0.02   0.94    0.0     1.0     3.0   3649    1.0\n",
      "fish_num_sunny[50]     1.89    0.02   1.41    0.0     2.0     5.0   3328    1.0\n",
      "fish_num_sunny[51]     0.26  8.6e-3   0.52    0.0     0.0     2.0   3664    1.0\n",
      "fish_num_sunny[52]     0.27  8.6e-3   0.53    0.0     0.0     2.0   3766    1.0\n",
      "fish_num_sunny[53]     1.35    0.02   1.17    0.0     1.0     4.0   4176    1.0\n",
      "fish_num_sunny[54]     2.52    0.03   1.61    0.0     2.0     6.0   3576    1.0\n",
      "fish_num_sunny[55]     0.51    0.01   0.71    0.0     0.0     2.0   3845    1.0\n",
      "fish_num_sunny[56]     1.88    0.02   1.42    0.0     2.0     5.0   3719    1.0\n",
      "fish_num_sunny[57]     1.77    0.02   1.37    0.0     2.0     5.0   3690    1.0\n",
      "fish_num_sunny[58]     2.95    0.03    1.8    0.0     3.0     7.0   3705    1.0\n",
      "fish_num_sunny[59]     1.16    0.02   1.07    0.0     1.0     4.0   4164    1.0\n",
      "fish_num_sunny[60]     1.47    0.02   1.23    0.0     1.0     4.0   4067    1.0\n",
      "fish_num_sunny[61]     1.72    0.02   1.32    0.0     2.0     5.0   3946    1.0\n",
      "fish_num_sunny[62]      2.3    0.02   1.55    0.0     2.0     6.0   3919    1.0\n",
      "fish_num_sunny[63]      1.2    0.02   1.12    0.0     1.0     4.0   4113    1.0\n",
      "fish_num_sunny[64]     0.49    0.01   0.71    0.0     0.0     2.0   3874    1.0\n",
      "fish_num_sunny[65]     2.15    0.02   1.51    0.0     2.0     6.0   3836    1.0\n",
      "fish_num_sunny[66]     0.75    0.01   0.87    0.0     1.0     3.0   3959    1.0\n",
      "fish_num_sunny[67]     0.67    0.01   0.83    0.0     0.0     3.0   3786    1.0\n",
      "fish_num_sunny[68]      0.8    0.01   0.91    0.0     1.0     3.0   4125    1.0\n",
      "fish_num_sunny[69]     0.46    0.01   0.68    0.0     0.0     2.0   3820    1.0\n",
      "fish_num_sunny[70]     0.31  8.8e-3   0.56    0.0     0.0     2.0   4102    1.0\n",
      "fish_num_sunny[71]      0.5    0.01   0.72    0.0     0.0     2.0   4174    1.0\n",
      "fish_num_sunny[72]     0.57    0.01   0.78    0.0     0.0     2.0   3857    1.0\n",
      "fish_num_sunny[73]     0.28  8.6e-3   0.53    0.0     0.0     2.0   3862    1.0\n",
      "fish_num_sunny[74]      0.4    0.01   0.64    0.0     0.0     2.0   3522    1.0\n",
      "fish_num_sunny[75]      0.4    0.01   0.64    0.0     0.0     2.0   3826    1.0\n",
      "fish_num_sunny[76]     1.62    0.02   1.28    0.0     1.0     5.0   3737    1.0\n",
      "fish_num_sunny[77]     0.51    0.01   0.72    0.0     0.0     2.0   4036    1.0\n",
      "fish_num_sunny[78]     2.16    0.02   1.51    0.0     2.0     5.0   3971    1.0\n",
      "fish_num_sunny[79]     0.67    0.01   0.83    0.0     0.0     3.0   3954    1.0\n",
      "fish_num_sunny[80]     1.05    0.02   1.04    0.0     1.0     4.0   4061    1.0\n",
      "fish_num_sunny[81]     0.61    0.01   0.79    0.0     0.0     3.0   3778    1.0\n",
      "fish_num_sunny[82]     1.36    0.02    1.2    0.0     1.0     4.0   3638    1.0\n",
      "fish_num_sunny[83]     0.26  8.2e-3   0.51    0.0     0.0     2.0   3939    1.0\n",
      "fish_num_sunny[84]     0.66    0.01   0.83    0.0     0.0     3.0   4063    1.0\n",
      "fish_num_sunny[85]     0.42    0.01   0.66    0.0     0.0     2.0   3943    1.0\n",
      "fish_num_sunny[86]     2.13    0.02   1.51    0.0     2.0     5.0   4039    1.0\n",
      "fish_num_sunny[87]      2.8    0.03   1.71    0.0     3.0     7.0   3790    1.0\n",
      "fish_num_sunny[88]     0.57    0.01   0.77    0.0     0.0     2.0   3742    1.0\n",
      "fish_num_sunny[89]     1.54    0.02   1.24    0.0     1.0     4.0   3924    1.0\n",
      "fish_num_sunny[90]     0.59    0.01   0.76    0.0     0.0     2.0   3867    1.0\n",
      "fish_num_sunny[91]      2.9    0.03   1.77    0.0     3.0     7.0   3792    1.0\n",
      "fish_num_sunny[92]     0.66    0.01   0.82    0.0     0.0     3.0   3952    1.0\n",
      "fish_num_sunny[93]     0.67    0.01   0.83    0.0     0.0     3.0   3952    1.0\n",
      "fish_num_sunny[94]      1.0    0.02   1.01    0.0     1.0     3.0   4097    1.0\n",
      "fish_num_sunny[95]      0.8    0.01   0.91    0.0     1.0     3.0   3797    1.0\n",
      "fish_num_sunny[96]      0.4    0.01   0.64    0.0     0.0     2.0   3920    1.0\n",
      "fish_num_sunny[97]      0.7    0.01   0.85    0.0     0.0     3.0   3913    1.0\n",
      "fish_num_sunny[98]     0.33 10.0e-3   0.58    0.0     0.0     2.0   3356    1.0\n",
      "fish_num_sunny[99]     0.35  9.7e-3    0.6    0.0     0.0     2.0   3782    1.0\n",
      "fish_num_sunny[100]    0.74    0.01   0.88    0.0     1.0     3.0   3857    1.0\n",
      "fish_num_cloudy[1]     0.71    0.01   0.84    0.0     1.0     3.0   3973    1.0\n",
      "fish_num_cloudy[2]     2.62    0.03   1.66    0.0     2.0     6.0   4134    1.0\n",
      "fish_num_cloudy[3]     1.86    0.02   1.39    0.0     2.0     5.0   4181    1.0\n",
      "fish_num_cloudy[4]     0.72    0.01   0.87    0.0     1.0     3.0   3623    1.0\n",
      "fish_num_cloudy[5]     4.82    0.04   2.26    1.0     5.0    10.0   3432    1.0\n",
      "fish_num_cloudy[6]     4.82    0.04   2.25    1.0     5.0    10.0   3944    1.0\n",
      "fish_num_cloudy[7]     0.64    0.01    0.8    0.0     0.0    2.59   3745    1.0\n",
      "fish_num_cloudy[8]     3.64    0.03   1.93    0.0     3.0     8.0   4017    1.0\n",
      "fish_num_cloudy[9]     1.44    0.02   1.22    0.0     1.0     4.0   3949    1.0\n",
      "fish_num_cloudy[10]    1.81    0.02   1.35    0.0     2.0     5.0   3815    1.0\n",
      "fish_num_cloudy[11]    1.78    0.02   1.33    0.0     2.0     5.0   3996    1.0\n",
      "fish_num_cloudy[12]    0.87    0.02   0.95    0.0     1.0     3.0   3674    1.0\n",
      "fish_num_cloudy[13]     3.0    0.03   1.74    0.0     3.0     7.0   4049    1.0\n",
      "fish_num_cloudy[14]    0.73    0.01   0.88    0.0     1.0     3.0   3963    1.0\n",
      "fish_num_cloudy[15]    1.27    0.02   1.14    0.0     1.0     4.0   3731    1.0\n",
      "fish_num_cloudy[16]    3.77    0.03   2.01    0.0     4.0     8.0   3798    1.0\n",
      "fish_num_cloudy[17]    5.15    0.04   2.37    1.0     5.0    10.0   3888    1.0\n",
      "fish_num_cloudy[18]    0.81    0.02   0.92    0.0     1.0     3.0   3094    1.0\n",
      "fish_num_cloudy[19]     1.4    0.02   1.23    0.0     1.0     4.0   3545    1.0\n",
      "fish_num_cloudy[20]    0.55    0.01   0.75    0.0     0.0     2.0   3790    1.0\n",
      "fish_num_cloudy[21]     2.4    0.03   1.58    0.0     2.0     6.0   3664    1.0\n",
      "fish_num_cloudy[22]    1.18    0.02    1.1    0.0     1.0     4.0   3839    1.0\n",
      "fish_num_cloudy[23]    3.61    0.03   1.93    0.0     3.0     8.0   4051    1.0\n",
      "fish_num_cloudy[24]    0.67    0.01   0.82    0.0     0.0     3.0   3789    1.0\n",
      "fish_num_cloudy[25]    1.07    0.02   1.04    0.0     1.0     3.0   3905    1.0\n",
      "fish_num_cloudy[26]    1.57    0.02   1.26    0.0     1.0     4.0   3834    1.0\n",
      "fish_num_cloudy[27]    0.68    0.01   0.82    0.0     0.0     3.0   3789    1.0\n",
      "fish_num_cloudy[28]    1.09    0.02   1.04    0.0     1.0    3.59   3746    1.0\n",
      "fish_num_cloudy[29]    5.07    0.04   2.29    1.0     5.0    10.0   4095    1.0\n",
      "fish_num_cloudy[30]    0.65    0.01   0.82    0.0     0.0     3.0   3733    1.0\n",
      "fish_num_cloudy[31]    0.48    0.01   0.71    0.0     0.0     2.0   4057    1.0\n",
      "fish_num_cloudy[32]    0.71    0.01   0.84    0.0     1.0     3.0   3947    1.0\n",
      "fish_num_cloudy[33]    3.41    0.03    1.9    0.0     3.0     8.0   3860    1.0\n",
      "fish_num_cloudy[34]    3.98    0.03   2.03    1.0     4.0     8.0   3718    1.0\n",
      "fish_num_cloudy[35]    1.65    0.02   1.31    0.0     1.0     5.0   4112    1.0\n",
      "fish_num_cloudy[36]    2.15    0.02   1.49    0.0     2.0     6.0   4044    1.0\n",
      "fish_num_cloudy[37]    3.72    0.03   1.99    0.0     4.0     8.0   3837    1.0\n",
      "fish_num_cloudy[38]    0.93    0.02   0.96    0.0     1.0     3.0   3658    1.0\n",
      "fish_num_cloudy[39]    2.37    0.03   1.55    0.0     2.0     6.0   3669    1.0\n",
      "fish_num_cloudy[40]    0.66    0.01   0.83    0.0     0.0     3.0   4126    1.0\n",
      "fish_num_cloudy[41]     5.3    0.04   2.37    1.0     5.0    10.0   3757    1.0\n",
      "fish_num_cloudy[42]    0.98    0.02   0.99    0.0     1.0     3.0   4068    1.0\n",
      "fish_num_cloudy[43]    0.63    0.01    0.8    0.0     0.0     3.0   3778    1.0\n",
      "fish_num_cloudy[44]     0.7    0.01   0.85    0.0     0.0     3.0   3768    1.0\n",
      "fish_num_cloudy[45]    4.78    0.04   2.28    1.0     5.0    10.0   3689    1.0\n",
      "fish_num_cloudy[46]    3.27    0.03   1.84    0.0     3.0     7.0   3932    1.0\n",
      "fish_num_cloudy[47]    5.16    0.04   2.35    1.0     5.0    10.0   4149    1.0\n",
      "fish_num_cloudy[48]    1.11    0.02   1.07    0.0     1.0     4.0   3584    1.0\n",
      "fish_num_cloudy[49]     1.6    0.02   1.29    0.0     1.0     4.0   3800    1.0\n",
      "fish_num_cloudy[50]    3.41    0.03   1.83    0.0     3.0     7.0   3600    1.0\n",
      "fish_num_cloudy[51]    0.47    0.01   0.68    0.0     0.0     2.0   4049    1.0\n",
      "fish_num_cloudy[52]    0.47    0.01   0.69    0.0     0.0     2.0   3991    1.0\n",
      "fish_num_cloudy[53]    2.53    0.03   1.64    0.0     2.0     6.0   3817    1.0\n",
      "fish_num_cloudy[54]    4.63    0.04   2.19    1.0     4.0     9.0   3777    1.0\n",
      "fish_num_cloudy[55]    0.91    0.02   0.96    0.0     1.0     3.0   3504    1.0\n",
      "fish_num_cloudy[56]    3.45    0.03   1.87    0.0     3.0     8.0   3916    1.0\n",
      "fish_num_cloudy[57]    3.21    0.03    1.8    0.0     3.0     7.0   3591    1.0\n",
      "fish_num_cloudy[58]    5.43    0.04   2.43    1.0     5.0    11.0   4077    1.0\n",
      "fish_num_cloudy[59]    2.04    0.02   1.46    0.0     2.0     5.0   3738    1.0\n",
      "fish_num_cloudy[60]    2.65    0.03   1.66    0.0     2.0     6.0   4047    1.0\n",
      "fish_num_cloudy[61]    3.07    0.03   1.78    0.0     3.0     7.0   4129    1.0\n",
      "fish_num_cloudy[62]     4.1    0.03   2.08    1.0     4.0     9.0   3910    1.0\n",
      "fish_num_cloudy[63]    2.21    0.03   1.53    0.0     2.0     6.0   3689    1.0\n",
      "fish_num_cloudy[64]    0.85    0.02   0.93    0.0     1.0     3.0   3627    1.0\n",
      "fish_num_cloudy[65]    3.84    0.03   2.01    0.0     4.0     8.0   4026    1.0\n",
      "fish_num_cloudy[66]    1.36    0.02   1.17    0.0     1.0     4.0   4082    1.0\n",
      "fish_num_cloudy[67]    1.19    0.02   1.11    0.0     1.0     4.0   3803    1.0\n",
      "fish_num_cloudy[68]    1.43    0.02   1.23    0.0     1.0     4.0   4169    1.0\n",
      "fish_num_cloudy[69]    0.78    0.01   0.88    0.0     1.0     3.0   3746    1.0\n",
      "fish_num_cloudy[70]    0.54    0.01   0.74    0.0     0.0     2.0   3703    1.0\n",
      "fish_num_cloudy[71]    0.92    0.02   0.97    0.0     1.0     3.0   4085    1.0\n",
      "fish_num_cloudy[72]    0.99    0.02   1.01    0.0     1.0     3.0   3685    1.0\n",
      "fish_num_cloudy[73]    0.51    0.01   0.72    0.0     0.0     2.0   3904    1.0\n",
      "fish_num_cloudy[74]    0.74    0.01   0.87    0.0     1.0     3.0   4010    1.0\n",
      "fish_num_cloudy[75]    0.74    0.01    0.9    0.0     1.0     3.0   3993    1.0\n",
      "fish_num_cloudy[76]    2.96    0.03   1.77    0.0     3.0     7.0   3892    1.0\n",
      "fish_num_cloudy[77]    0.95    0.02   0.99    0.0     1.0     3.0   3953    1.0\n",
      "fish_num_cloudy[78]    3.92    0.03   2.02    1.0     4.0     8.0   3846    1.0\n",
      "fish_num_cloudy[79]    1.24    0.02   1.14    0.0     1.0     4.0   4067    1.0\n",
      "fish_num_cloudy[80]    1.91    0.02   1.41    0.0     2.0     5.0   4209    1.0\n",
      "fish_num_cloudy[81]    1.11    0.02   1.08    0.0     1.0     4.0   3809    1.0\n",
      "fish_num_cloudy[82]    2.42    0.03   1.58    0.0     2.0     6.0   3766    1.0\n",
      "fish_num_cloudy[83]     0.5    0.01   0.72    0.0     0.0     2.0   3846    1.0\n",
      "fish_num_cloudy[84]    1.21    0.02   1.09    0.0     1.0     4.0   3415    1.0\n",
      "fish_num_cloudy[85]    0.77    0.01   0.88    0.0     1.0     3.0   3875    1.0\n",
      "fish_num_cloudy[86]    3.84    0.03   1.99   0.41     4.0     8.0   3829    1.0\n",
      "fish_num_cloudy[87]    5.02    0.04   2.28    1.0     5.0    10.0   3834    1.0\n",
      "fish_num_cloudy[88]    1.02    0.02   1.02    0.0     1.0     3.0   3982    1.0\n",
      "fish_num_cloudy[89]    2.84    0.03   1.71    0.0     3.0     7.0   4087    1.0\n",
      "fish_num_cloudy[90]    1.06    0.02   1.05    0.0     1.0    3.59   3702    1.0\n",
      "fish_num_cloudy[91]     5.2    0.04   2.34    1.0     5.0    10.0   3858    1.0\n",
      "fish_num_cloudy[92]    1.25    0.02   1.16    0.0     1.0     4.0   3952    1.0\n",
      "fish_num_cloudy[93]    1.18    0.02   1.08    0.0     1.0     4.0   3813    1.0\n",
      "fish_num_cloudy[94]    1.85    0.02   1.36    0.0     2.0     5.0   4138    1.0\n",
      "fish_num_cloudy[95]    1.46    0.02   1.23    0.0     1.0     4.0   3815    1.0\n",
      "fish_num_cloudy[96]    0.75    0.01   0.88    0.0     1.0     3.0   3842    1.0\n",
      "fish_num_cloudy[97]    1.33    0.02   1.15    0.0     1.0     4.0   3908    1.0\n",
      "fish_num_cloudy[98]    0.59    0.01   0.77    0.0     0.0     2.0   4000    1.0\n",
      "fish_num_cloudy[99]    0.61    0.01   0.79    0.0     0.0     2.0   3981    1.0\n",
      "fish_num_cloudy[100]   1.35    0.02   1.21    0.0     1.0     4.0   3968    1.0\n",
      "lp__                 -37.72    0.03    1.2 -40.86  -37.42  -36.32   1312    1.0\n",
      "\n",
      "Samples were drawn using NUTS at Sat Jul 18 14:16:41 2020.\n",
      "For each parameter, n_eff is a crude measure of effective sample size,\n",
      "and Rhat is the potential scale reduction factor on split chains (at \n",
      "convergence, Rhat=1).\n"
     ]
    }
   ],
   "source": [
    "print(glm_pois_stan_exp.stansummary(probs=[0.025, 0.5, 0.975]))"
   ]
  },
  {
   "cell_type": "markdown",
   "metadata": {},
   "source": [
    "# 補足：デザイン行列を使ったモデルの推定"
   ]
  },
  {
   "cell_type": "markdown",
   "metadata": {},
   "source": [
    "## 参考：Stanに渡すデータ"
   ]
  },
  {
   "cell_type": "code",
   "execution_count": null,
   "metadata": {
    "ExecuteTime": {
     "end_time": "2020-07-17T08:39:03.945106Z",
     "start_time": "2020-07-17T08:38:45.969Z"
    }
   },
   "outputs": [],
   "source": [
    "data_list_2 = dict(N=len(fish_num_climate),\n",
    "                   K=design_mat.shape[1],\n",
    "                   Y=fish_num_climate['fish_num'],\n",
    "                   X=design_mat)\n",
    "\n",
    "display(data_list_2)"
   ]
  },
  {
   "cell_type": "code",
   "execution_count": null,
   "metadata": {},
   "outputs": [],
   "source": [
    "## 参考：MCMCの実行"
   ]
  },
  {
   "cell_type": "code",
   "execution_count": null,
   "metadata": {},
   "outputs": [],
   "source": [
    "# stanコードの記述\n",
    "stan_code = '''\n",
    "data { \n",
    "  int N;                // サンプルサイズ\n",
    "  int K;                // デザイン行列の列数(説明変数の数＋１)\n",
    "  int Y[N];             // 応答変数(整数型)\n",
    "  matrix[N, K] X;       // デザイン行列 \n",
    "} \n",
    "\n",
    "parameters { \n",
    "  vector[K] b;          // 切片を含む係数ベクトル\n",
    "} \n",
    "\n",
    "model { \n",
    "  vector[N] lambda = X * b;\n",
    "  Y ~ poisson_log(lambda);\n",
    "} \n",
    "\n",
    "'''\n",
    "\n",
    "# モデルのコンパイル\n",
    "stan_model = pystan.StanModel(model_code=stan_code)\n",
    "\n",
    "# サンプリング\n",
    "glm_pois_stan_design_mat = stan_model.sampling(data=data_list_2, seed=1, n_jobs=1)"
   ]
  },
  {
   "cell_type": "code",
   "execution_count": null,
   "metadata": {},
   "outputs": [],
   "source": [
    "## 参考：結果の表示"
   ]
  },
  {
   "cell_type": "code",
   "execution_count": null,
   "metadata": {},
   "outputs": [],
   "source": [
    "print(glm_pois_stan_design_mat.stansummary(probs=[0.025, 0.5, 0.975]))"
   ]
  },
  {
   "cell_type": "code",
   "execution_count": null,
   "metadata": {},
   "outputs": [],
   "source": []
  },
  {
   "cell_type": "code",
   "execution_count": null,
   "metadata": {},
   "outputs": [],
   "source": []
  },
  {
   "cell_type": "code",
   "execution_count": null,
   "metadata": {},
   "outputs": [],
   "source": []
  }
 ],
 "metadata": {
  "kernelspec": {
   "display_name": "Python 3",
   "language": "python",
   "name": "python3"
  },
  "language_info": {
   "codemirror_mode": {
    "name": "ipython",
    "version": 3
   },
   "file_extension": ".py",
   "mimetype": "text/x-python",
   "name": "python",
   "nbconvert_exporter": "python",
   "pygments_lexer": "ipython3",
   "version": "3.7.6"
  },
  "toc": {
   "base_numbering": 1,
   "nav_menu": {},
   "number_sections": true,
   "sideBar": true,
   "skip_h1_title": false,
   "title_cell": "Table of Contents",
   "title_sidebar": "Contents",
   "toc_cell": false,
   "toc_position": {},
   "toc_section_display": true,
   "toc_window_display": false
  },
  "varInspector": {
   "cols": {
    "lenName": 16,
    "lenType": 16,
    "lenVar": 40
   },
   "kernels_config": {
    "python": {
     "delete_cmd_postfix": "",
     "delete_cmd_prefix": "del ",
     "library": "var_list.py",
     "varRefreshCmd": "print(var_dic_list())"
    },
    "r": {
     "delete_cmd_postfix": ") ",
     "delete_cmd_prefix": "rm(",
     "library": "var_list.r",
     "varRefreshCmd": "cat(var_dic_list()) "
    }
   },
   "types_to_exclude": [
    "module",
    "function",
    "builtin_function_or_method",
    "instance",
    "_Feature"
   ],
   "window_display": false
  }
 },
 "nbformat": 4,
 "nbformat_minor": 4
}
