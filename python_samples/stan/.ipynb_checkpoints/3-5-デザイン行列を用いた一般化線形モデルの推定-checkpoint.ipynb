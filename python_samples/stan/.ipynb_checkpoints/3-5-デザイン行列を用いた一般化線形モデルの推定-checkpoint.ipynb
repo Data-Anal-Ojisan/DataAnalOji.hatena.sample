{
 "cells": [
  {
   "cell_type": "markdown",
   "metadata": {},
   "source": [
    "「RとStanで始めるベイズ統計モデリングによるデータ分析入門 第3部第4章 デザイン行列を用いた一般化線形モデルの推定」を対象に，公開されているR，Stanのコードをpython，pystanのコードへと書き直した一例です。Stanの代わりにpystanを，bayesplotの代わりにarvizパッケージを利用しています。\n",
    "\n",
    "本ページでは公開されていない書籍の内容については一切触れません。理論や詳しい説明は書籍を参照してください。\n",
    "\n",
    "なお，こちらで紹介しているコードには誤りが含まれる可能性があります。内容やコードについてお気づきの点等ございましたら，ご指摘いただけると幸いです。"
   ]
  },
  {
   "cell_type": "markdown",
   "metadata": {},
   "source": [
    "# 分析の準備\n",
    "\n",
    "## パッケージの読み込み"
   ]
  },
  {
   "cell_type": "code",
   "execution_count": 1,
   "metadata": {
    "ExecuteTime": {
     "end_time": "2020-07-15T13:36:26.709771Z",
     "start_time": "2020-07-15T13:36:24.727638Z"
    }
   },
   "outputs": [],
   "source": [
    "import arviz\n",
    "import pystan\n",
    "import numpy as np\n",
    "import pandas as pd\n",
    "\n",
    "%matplotlib inline\n",
    "import matplotlib.pyplot as plt\n",
    "plt.style.use('ggplot')\n",
    "plt.rcParams['font.family'] = 'Meiryo'\n",
    "import seaborn as sns"
   ]
  },
  {
   "cell_type": "markdown",
   "metadata": {},
   "source": [
    "## 分析対象のデータ"
   ]
  },
  {
   "cell_type": "code",
   "execution_count": 2,
   "metadata": {
    "ExecuteTime": {
     "end_time": "2020-07-15T13:37:10.359089Z",
     "start_time": "2020-07-15T13:37:10.348118Z"
    }
   },
   "outputs": [],
   "source": [
    "# csvの読み込み（dataframe型）\n",
    "file_beer_sales_2 = pd.read_csv('3-2-1-beer-sales-2.csv')"
   ]
  },
  {
   "cell_type": "markdown",
   "metadata": {},
   "source": [
    "## サンプルサイズ"
   ]
  },
  {
   "cell_type": "code",
   "execution_count": 3,
   "metadata": {
    "ExecuteTime": {
     "end_time": "2020-07-15T13:37:27.425083Z",
     "start_time": "2020-07-15T13:37:27.420096Z"
    }
   },
   "outputs": [],
   "source": [
    "# len()でデータフレームの行数を取得\n",
    "sample_size = len(file_beer_sales_2)"
   ]
  },
  {
   "cell_type": "markdown",
   "metadata": {},
   "source": [
    "# pandas.dataframe.insert()用いたデザイン行列の作成\n",
    "\n",
    "## デザイン行列の作成"
   ]
  },
  {
   "cell_type": "code",
   "execution_count": 27,
   "metadata": {
    "ExecuteTime": {
     "end_time": "2020-07-15T13:52:09.481167Z",
     "start_time": "2020-07-15T13:52:09.477150Z"
    }
   },
   "outputs": [],
   "source": [
    "# 応答変数をデータフレームからdrop\n",
    "X = file_beer_sales_2.drop(['sales'], axis=1)\n",
    "# 先頭列に値が1の(Intercept)を追加\n",
    "X.insert(0, '(Intercept)', 1)"
   ]
  },
  {
   "cell_type": "markdown",
   "metadata": {},
   "source": [
    "## pandas.dataframe.insert()つかったデザイン行列"
   ]
  },
  {
   "cell_type": "code",
   "execution_count": 26,
   "metadata": {
    "ExecuteTime": {
     "end_time": "2020-07-15T13:52:07.755544Z",
     "start_time": "2020-07-15T13:52:07.748535Z"
    }
   },
   "outputs": [
    {
     "data": {
      "text/html": [
       "<div>\n",
       "<style scoped>\n",
       "    .dataframe tbody tr th:only-of-type {\n",
       "        vertical-align: middle;\n",
       "    }\n",
       "\n",
       "    .dataframe tbody tr th {\n",
       "        vertical-align: top;\n",
       "    }\n",
       "\n",
       "    .dataframe thead th {\n",
       "        text-align: right;\n",
       "    }\n",
       "</style>\n",
       "<table border=\"1\" class=\"dataframe\">\n",
       "  <thead>\n",
       "    <tr style=\"text-align: right;\">\n",
       "      <th></th>\n",
       "      <th>(Intercept)</th>\n",
       "      <th>temperature</th>\n",
       "    </tr>\n",
       "  </thead>\n",
       "  <tbody>\n",
       "    <tr>\n",
       "      <th>0</th>\n",
       "      <td>1</td>\n",
       "      <td>13.7</td>\n",
       "    </tr>\n",
       "    <tr>\n",
       "      <th>1</th>\n",
       "      <td>1</td>\n",
       "      <td>24.0</td>\n",
       "    </tr>\n",
       "    <tr>\n",
       "      <th>2</th>\n",
       "      <td>1</td>\n",
       "      <td>21.5</td>\n",
       "    </tr>\n",
       "    <tr>\n",
       "      <th>3</th>\n",
       "      <td>1</td>\n",
       "      <td>13.4</td>\n",
       "    </tr>\n",
       "    <tr>\n",
       "      <th>4</th>\n",
       "      <td>1</td>\n",
       "      <td>28.9</td>\n",
       "    </tr>\n",
       "  </tbody>\n",
       "</table>\n",
       "</div>"
      ],
      "text/plain": [
       "   (Intercept)  temperature\n",
       "0            1         13.7\n",
       "1            1         24.0\n",
       "2            1         21.5\n",
       "3            1         13.4\n",
       "4            1         28.9"
      ]
     },
     "execution_count": 26,
     "metadata": {},
     "output_type": "execute_result"
    }
   ],
   "source": [
    "# 最初の5行を表示\n",
    "X.head(n=5)"
   ]
  },
  {
   "cell_type": "markdown",
   "metadata": {
    "ExecuteTime": {
     "end_time": "2020-07-15T13:50:56.951431Z",
     "start_time": "2020-07-15T13:50:56.948424Z"
    }
   },
   "source": [
    "# MCMCの実行\n",
    "\n",
    "## サンプルサイズ"
   ]
  },
  {
   "cell_type": "code",
   "execution_count": 28,
   "metadata": {
    "ExecuteTime": {
     "end_time": "2020-07-15T13:52:41.199502Z",
     "start_time": "2020-07-15T13:52:41.196539Z"
    }
   },
   "outputs": [],
   "source": [
    "N = len(file_beer_sales_2)"
   ]
  },
  {
   "cell_type": "markdown",
   "metadata": {
    "ExecuteTime": {
     "end_time": "2020-07-15T13:43:58.691805Z",
     "start_time": "2020-07-15T13:43:58.684809Z"
    }
   },
   "source": [
    "## デザイン行列の列数（説明変数の数＋１）"
   ]
  },
  {
   "cell_type": "code",
   "execution_count": 31,
   "metadata": {
    "ExecuteTime": {
     "end_time": "2020-07-15T13:54:14.279671Z",
     "start_time": "2020-07-15T13:54:14.275682Z"
    }
   },
   "outputs": [],
   "source": [
    "K = 2    # もしくは K = X.shape[1]"
   ]
  },
  {
   "cell_type": "markdown",
   "metadata": {
    "ExecuteTime": {
     "end_time": "2020-07-15T13:53:47.247815Z",
     "start_time": "2020-07-15T13:53:47.242827Z"
    }
   },
   "source": [
    "## 応答変数"
   ]
  },
  {
   "cell_type": "code",
   "execution_count": 32,
   "metadata": {
    "ExecuteTime": {
     "end_time": "2020-07-15T13:54:37.832340Z",
     "start_time": "2020-07-15T13:54:37.828359Z"
    }
   },
   "outputs": [],
   "source": [
    "Y = file_beer_sales_2['sales']"
   ]
  },
  {
   "cell_type": "markdown",
   "metadata": {},
   "source": [
    "## dictにまとめる\n",
    "\n",
    "rstanでは入力データをlist形式にまとめたのに対し，pystanでは入力データをdictionary形式にまとめる。"
   ]
  },
  {
   "cell_type": "code",
   "execution_count": 33,
   "metadata": {
    "ExecuteTime": {
     "end_time": "2020-07-15T13:56:04.113845Z",
     "start_time": "2020-07-15T13:56:04.109855Z"
    }
   },
   "outputs": [],
   "source": [
    "data_list_design = dict(N=N, K=K, Y=Y, X=X)"
   ]
  },
  {
   "cell_type": "markdown",
   "metadata": {},
   "source": [
    "## MCMCの実行"
   ]
  },
  {
   "cell_type": "code",
   "execution_count": 35,
   "metadata": {
    "ExecuteTime": {
     "end_time": "2020-07-15T13:58:42.784684Z",
     "start_time": "2020-07-15T13:58:00.404899Z"
    }
   },
   "outputs": [
    {
     "name": "stderr",
     "output_type": "stream",
     "text": [
      "INFO:pystan:COMPILING THE C++ CODE FOR MODEL anon_model_40bea9213a37e125c59d5a21d95a3a94 NOW.\n"
     ]
    }
   ],
   "source": [
    "# stanコードの記述\n",
    "stan_code = '''\n",
    "data { \n",
    "  int N;                // サンプルサイズ\n",
    "  int K;                // デザイン行列の列数(説明変数の数＋１)\n",
    "  vector[N] Y;          // 応答変数 \n",
    "  matrix[N, K] X;       // デザイン行列 \n",
    "} \n",
    "\n",
    "parameters { \n",
    "  vector[K] b;          // 切片を含む係数ベクトル\n",
    "  real<lower=0> sigma;  // データのばらつきを表す標準偏差\n",
    "} \n",
    "\n",
    "model { \n",
    "  vector[N] mu = X * b;\n",
    "  Y ~ normal(mu, sigma);\n",
    "} \n",
    "\n",
    "\n",
    "'''\n",
    "\n",
    "# モデルのコンパイル\n",
    "stan_model = pystan.StanModel(model_code=stan_code)\n",
    "\n",
    "# サンプリング\n",
    "mcmc_result_design = stan_model.sampling(data=data_list_design,\n",
    "                                       seed=1,\n",
    "                                       n_jobs=-1)"
   ]
  },
  {
   "cell_type": "markdown",
   "metadata": {},
   "source": [
    "## 結果の表示"
   ]
  },
  {
   "cell_type": "code",
   "execution_count": 36,
   "metadata": {
    "ExecuteTime": {
     "end_time": "2020-07-15T13:58:44.903493Z",
     "start_time": "2020-07-15T13:58:44.876567Z"
    }
   },
   "outputs": [
    {
     "name": "stdout",
     "output_type": "stream",
     "text": [
      "Inference for Stan model: anon_model_40bea9213a37e125c59d5a21d95a3a94.\n",
      "4 chains, each with iter=2000; warmup=1000; thin=1; \n",
      "post-warmup draws per chain=1000, total post-warmup draws=4000.\n",
      "\n",
      "        mean se_mean     sd   2.5%    50%  97.5%  n_eff   Rhat\n",
      "b[1]    21.1    0.16   5.98   9.22  21.03  32.89   1426    1.0\n",
      "b[2]    2.46  7.6e-3   0.29   1.89   2.47   3.04   1438    1.0\n",
      "sigma  17.07    0.03   1.23  14.85   17.0   19.6   2089    1.0\n",
      "lp__  -330.1    0.03   1.24 -333.3 -329.8 -328.7   1519    1.0\n",
      "\n",
      "Samples were drawn using NUTS at Wed Jul 15 22:58:42 2020.\n",
      "For each parameter, n_eff is a crude measure of effective sample size,\n",
      "and Rhat is the potential scale reduction factor on split chains (at \n",
      "convergence, Rhat=1).\n"
     ]
    }
   ],
   "source": [
    "print(mcmc_result_design.stansummary(probs=[0.025, 0.5, 0.975]))"
   ]
  },
  {
   "cell_type": "code",
   "execution_count": null,
   "metadata": {},
   "outputs": [],
   "source": []
  }
 ],
 "metadata": {
  "kernelspec": {
   "display_name": "Python 3",
   "language": "python",
   "name": "python3"
  },
  "language_info": {
   "codemirror_mode": {
    "name": "ipython",
    "version": 3
   },
   "file_extension": ".py",
   "mimetype": "text/x-python",
   "name": "python",
   "nbconvert_exporter": "python",
   "pygments_lexer": "ipython3",
   "version": "3.7.6"
  },
  "toc": {
   "base_numbering": 1,
   "nav_menu": {},
   "number_sections": true,
   "sideBar": true,
   "skip_h1_title": false,
   "title_cell": "Table of Contents",
   "title_sidebar": "Contents",
   "toc_cell": false,
   "toc_position": {},
   "toc_section_display": true,
   "toc_window_display": false
  },
  "varInspector": {
   "cols": {
    "lenName": 16,
    "lenType": 16,
    "lenVar": 40
   },
   "kernels_config": {
    "python": {
     "delete_cmd_postfix": "",
     "delete_cmd_prefix": "del ",
     "library": "var_list.py",
     "varRefreshCmd": "print(var_dic_list())"
    },
    "r": {
     "delete_cmd_postfix": ") ",
     "delete_cmd_prefix": "rm(",
     "library": "var_list.r",
     "varRefreshCmd": "cat(var_dic_list()) "
    }
   },
   "types_to_exclude": [
    "module",
    "function",
    "builtin_function_or_method",
    "instance",
    "_Feature"
   ],
   "window_display": false
  }
 },
 "nbformat": 4,
 "nbformat_minor": 4
}
