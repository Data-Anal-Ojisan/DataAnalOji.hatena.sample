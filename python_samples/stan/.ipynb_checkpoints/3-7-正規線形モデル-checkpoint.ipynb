{
 "cells": [
  {
   "cell_type": "markdown",
   "metadata": {},
   "source": [
    "「RとStanで始めるベイズ統計モデリングによるデータ分析入門 実践編第7章 正規線形モデル」を対象に，公開されているR，Stanのコードをpython，pystanのコードへと書き直した一例です。Stanの代わりにpystanを利用しています。\n",
    "\n",
    "本ページでは公開されていない書籍の内容については一切触れません。理論や詳しい説明は書籍を参照してください。\n",
    "\n",
    "なお，こちらで紹介しているコードには誤りが含まれる可能性があります。内容やコードについてお気づきの点等ございましたら，ご指摘いただけると幸いです。"
   ]
  },
  {
   "cell_type": "markdown",
   "metadata": {
    "ExecuteTime": {
     "end_time": "2020-07-20T13:41:40.420991Z",
     "start_time": "2020-07-20T13:41:40.417001Z"
    }
   },
   "source": [
    "# 分析の準備\n",
    "\n",
    "## パッケージの読み込み"
   ]
  },
  {
   "cell_type": "code",
   "execution_count": 2,
   "metadata": {
    "ExecuteTime": {
     "end_time": "2020-07-20T13:41:54.192972Z",
     "start_time": "2020-07-20T13:41:52.455852Z"
    }
   },
   "outputs": [],
   "source": [
    "import pystan\n",
    "import numpy as np\n",
    "import pandas as pd\n",
    "\n",
    "%matplotlib inline\n",
    "import matplotlib.pyplot as plt\n",
    "plt.style.use('ggplot')\n",
    "plt.rcParams['font.family'] = 'Meiryo'\n",
    "import seaborn as sns"
   ]
  },
  {
   "cell_type": "markdown",
   "metadata": {},
   "source": [
    "# データの読み込みと図示\n",
    "\n",
    "## 分析対象のデータ"
   ]
  },
  {
   "cell_type": "code",
   "execution_count": 4,
   "metadata": {
    "ExecuteTime": {
     "end_time": "2020-07-20T13:43:00.606475Z",
     "start_time": "2020-07-20T13:43:00.592485Z"
    }
   },
   "outputs": [
    {
     "data": {
      "text/html": [
       "<div>\n",
       "<style scoped>\n",
       "    .dataframe tbody tr th:only-of-type {\n",
       "        vertical-align: middle;\n",
       "    }\n",
       "\n",
       "    .dataframe tbody tr th {\n",
       "        vertical-align: top;\n",
       "    }\n",
       "\n",
       "    .dataframe thead th {\n",
       "        text-align: right;\n",
       "    }\n",
       "</style>\n",
       "<table border=\"1\" class=\"dataframe\">\n",
       "  <thead>\n",
       "    <tr style=\"text-align: right;\">\n",
       "      <th></th>\n",
       "      <th>sales</th>\n",
       "      <th>weather</th>\n",
       "      <th>temperature</th>\n",
       "    </tr>\n",
       "  </thead>\n",
       "  <tbody>\n",
       "    <tr>\n",
       "      <th>0</th>\n",
       "      <td>40.643344</td>\n",
       "      <td>cloudy</td>\n",
       "      <td>13.7</td>\n",
       "    </tr>\n",
       "    <tr>\n",
       "      <th>1</th>\n",
       "      <td>99.552683</td>\n",
       "      <td>cloudy</td>\n",
       "      <td>24.0</td>\n",
       "    </tr>\n",
       "    <tr>\n",
       "      <th>2</th>\n",
       "      <td>85.326847</td>\n",
       "      <td>cloudy</td>\n",
       "      <td>21.5</td>\n",
       "    </tr>\n",
       "  </tbody>\n",
       "</table>\n",
       "</div>"
      ],
      "text/plain": [
       "       sales weather  temperature\n",
       "0  40.643344  cloudy         13.7\n",
       "1  99.552683  cloudy         24.0\n",
       "2  85.326847  cloudy         21.5"
      ]
     },
     "execution_count": 4,
     "metadata": {},
     "output_type": "execute_result"
    }
   ],
   "source": [
    "sales_climate = pd.read_csv('3-7-1-beer-sales-4.csv')\n",
    "sales_climate.head(n=3)"
   ]
  },
  {
   "cell_type": "markdown",
   "metadata": {},
   "source": [
    "## データの要約"
   ]
  },
  {
   "cell_type": "code",
   "execution_count": 5,
   "metadata": {
    "ExecuteTime": {
     "end_time": "2020-07-20T13:43:16.911119Z",
     "start_time": "2020-07-20T13:43:16.895136Z"
    }
   },
   "outputs": [
    {
     "data": {
      "text/html": [
       "<div>\n",
       "<style scoped>\n",
       "    .dataframe tbody tr th:only-of-type {\n",
       "        vertical-align: middle;\n",
       "    }\n",
       "\n",
       "    .dataframe tbody tr th {\n",
       "        vertical-align: top;\n",
       "    }\n",
       "\n",
       "    .dataframe thead th {\n",
       "        text-align: right;\n",
       "    }\n",
       "</style>\n",
       "<table border=\"1\" class=\"dataframe\">\n",
       "  <thead>\n",
       "    <tr style=\"text-align: right;\">\n",
       "      <th></th>\n",
       "      <th>sales</th>\n",
       "      <th>weather</th>\n",
       "      <th>temperature</th>\n",
       "    </tr>\n",
       "  </thead>\n",
       "  <tbody>\n",
       "    <tr>\n",
       "      <th>count</th>\n",
       "      <td>150.000000</td>\n",
       "      <td>150</td>\n",
       "      <td>150.000000</td>\n",
       "    </tr>\n",
       "    <tr>\n",
       "      <th>unique</th>\n",
       "      <td>NaN</td>\n",
       "      <td>3</td>\n",
       "      <td>NaN</td>\n",
       "    </tr>\n",
       "    <tr>\n",
       "      <th>top</th>\n",
       "      <td>NaN</td>\n",
       "      <td>cloudy</td>\n",
       "      <td>NaN</td>\n",
       "    </tr>\n",
       "    <tr>\n",
       "      <th>freq</th>\n",
       "      <td>NaN</td>\n",
       "      <td>50</td>\n",
       "      <td>NaN</td>\n",
       "    </tr>\n",
       "    <tr>\n",
       "      <th>mean</th>\n",
       "      <td>79.583818</td>\n",
       "      <td>NaN</td>\n",
       "      <td>19.914667</td>\n",
       "    </tr>\n",
       "    <tr>\n",
       "      <th>std</th>\n",
       "      <td>25.889507</td>\n",
       "      <td>NaN</td>\n",
       "      <td>5.908853</td>\n",
       "    </tr>\n",
       "    <tr>\n",
       "      <th>min</th>\n",
       "      <td>26.059938</td>\n",
       "      <td>NaN</td>\n",
       "      <td>10.100000</td>\n",
       "    </tr>\n",
       "    <tr>\n",
       "      <th>25%</th>\n",
       "      <td>61.192714</td>\n",
       "      <td>NaN</td>\n",
       "      <td>14.825000</td>\n",
       "    </tr>\n",
       "    <tr>\n",
       "      <th>50%</th>\n",
       "      <td>80.551565</td>\n",
       "      <td>NaN</td>\n",
       "      <td>19.000000</td>\n",
       "    </tr>\n",
       "    <tr>\n",
       "      <th>75%</th>\n",
       "      <td>96.109083</td>\n",
       "      <td>NaN</td>\n",
       "      <td>25.350000</td>\n",
       "    </tr>\n",
       "    <tr>\n",
       "      <th>max</th>\n",
       "      <td>137.566016</td>\n",
       "      <td>NaN</td>\n",
       "      <td>29.800000</td>\n",
       "    </tr>\n",
       "  </tbody>\n",
       "</table>\n",
       "</div>"
      ],
      "text/plain": [
       "             sales weather  temperature\n",
       "count   150.000000     150   150.000000\n",
       "unique         NaN       3          NaN\n",
       "top            NaN  cloudy          NaN\n",
       "freq           NaN      50          NaN\n",
       "mean     79.583818     NaN    19.914667\n",
       "std      25.889507     NaN     5.908853\n",
       "min      26.059938     NaN    10.100000\n",
       "25%      61.192714     NaN    14.825000\n",
       "50%      80.551565     NaN    19.000000\n",
       "75%      96.109083     NaN    25.350000\n",
       "max     137.566016     NaN    29.800000"
      ]
     },
     "execution_count": 5,
     "metadata": {},
     "output_type": "execute_result"
    }
   ],
   "source": [
    "sales_climate.describe(include='all')"
   ]
  },
  {
   "cell_type": "markdown",
   "metadata": {},
   "source": [
    "## 図示"
   ]
  },
  {
   "cell_type": "code",
   "execution_count": 6,
   "metadata": {
    "ExecuteTime": {
     "end_time": "2020-07-20T13:43:30.197165Z",
     "start_time": "2020-07-20T13:43:30.015616Z"
    }
   },
   "outputs": [
    {
     "data": {
      "image/png": "[encoded data removed]",
      "text/plain": [
       "<Figure size 720x360 with 1 Axes>"
      ]
     },
     "metadata": {},
     "output_type": "display_data"
    }
   ],
   "source": [
    "plt.figure(figsize=(10,5))\n",
    "sns.scatterplot(x='temperature', y='sales', data=sales_climate, hue='weather')\n",
    "plt.title('ビールの売り上げと気温・天気の関係')\n",
    "plt.show()"
   ]
  },
  {
   "cell_type": "markdown",
   "metadata": {},
   "source": [
    "# brmsによる分散分析モデルの推定\n",
    "\n",
    "pythonにbrmsの代用可能なパッケージが知っている範囲内で存在しないため，brmsを利用したコードは省略しています。\n",
    "\n",
    "# 補足：正規線形モデルのデザイン行列\n",
    "\n",
    "## デザイン行列の作成"
   ]
  },
  {
   "cell_type": "code",
   "execution_count": 7,
   "metadata": {
    "ExecuteTime": {
     "end_time": "2020-07-20T13:44:41.022912Z",
     "start_time": "2020-07-20T13:44:41.007951Z"
    }
   },
   "outputs": [
    {
     "data": {
      "text/html": [
       "<div>\n",
       "<style scoped>\n",
       "    .dataframe tbody tr th:only-of-type {\n",
       "        vertical-align: middle;\n",
       "    }\n",
       "\n",
       "    .dataframe tbody tr th {\n",
       "        vertical-align: top;\n",
       "    }\n",
       "\n",
       "    .dataframe thead th {\n",
       "        text-align: right;\n",
       "    }\n",
       "</style>\n",
       "<table border=\"1\" class=\"dataframe\">\n",
       "  <thead>\n",
       "    <tr style=\"text-align: right;\">\n",
       "      <th></th>\n",
       "      <th>(Intercept)</th>\n",
       "      <th>weather_rainy</th>\n",
       "      <th>weather_sunny</th>\n",
       "      <th>temperature</th>\n",
       "    </tr>\n",
       "  </thead>\n",
       "  <tbody>\n",
       "    <tr>\n",
       "      <th>0</th>\n",
       "      <td>1</td>\n",
       "      <td>0</td>\n",
       "      <td>0</td>\n",
       "      <td>13.7</td>\n",
       "    </tr>\n",
       "    <tr>\n",
       "      <th>1</th>\n",
       "      <td>1</td>\n",
       "      <td>0</td>\n",
       "      <td>0</td>\n",
       "      <td>24.0</td>\n",
       "    </tr>\n",
       "    <tr>\n",
       "      <th>2</th>\n",
       "      <td>1</td>\n",
       "      <td>0</td>\n",
       "      <td>0</td>\n",
       "      <td>21.5</td>\n",
       "    </tr>\n",
       "  </tbody>\n",
       "</table>\n",
       "</div>"
      ],
      "text/plain": [
       "   (Intercept)  weather_rainy  weather_sunny  temperature\n",
       "0            1              0              0         13.7\n",
       "1            1              0              0         24.0\n",
       "2            1              0              0         21.5"
      ]
     },
     "execution_count": 7,
     "metadata": {},
     "output_type": "execute_result"
    }
   ],
   "source": [
    "design_mat = pd.get_dummies(sales_climate.drop('sales',axis=1), drop_first=True)         # ダミー変数処理\n",
    "design_mat.insert(0, '(Intercept)', 1)                                                    # (Intercept)列追加\n",
    "design_mat = design_mat[['(Intercept)', 'weather_rainy', 'weather_sunny', 'temperature']] # 列名並び替え\n",
    "design_mat.head(n=3)"
   ]
  },
  {
   "cell_type": "markdown",
   "metadata": {},
   "source": [
    "## dictにまとめる"
   ]
  },
  {
   "cell_type": "code",
   "execution_count": 15,
   "metadata": {
    "ExecuteTime": {
     "end_time": "2020-07-20T13:46:58.261314Z",
     "start_time": "2020-07-20T13:46:58.256359Z"
    }
   },
   "outputs": [],
   "source": [
    "data_list_design = dict(N=len(design_mat),\n",
    "                        K=design_mat.shape[1],\n",
    "                        Y=sales_climate['sales'],\n",
    "                        X=design_mat,\n",
    "                        N_temperature = len(np.arange(10,31,1)),\n",
    "                        temperature = np.arange(10,31,1))"
   ]
  },
  {
   "cell_type": "markdown",
   "metadata": {},
   "source": [
    "## MCMCの実行"
   ]
  },
  {
   "cell_type": "code",
   "execution_count": 18,
   "metadata": {
    "ExecuteTime": {
     "end_time": "2020-07-20T13:50:53.657431Z",
     "start_time": "2020-07-20T13:50:17.153726Z"
    }
   },
   "outputs": [
    {
     "name": "stderr",
     "output_type": "stream",
     "text": [
      "INFO:pystan:COMPILING THE C++ CODE FOR MODEL anon_model_ce7d90323518c5b80d3068d70dcf7538 NOW.\n"
     ]
    }
   ],
   "source": [
    "# stanコードの記述\n",
    "stan_code = '''\n",
    "data { \n",
    "  int N;                // サンプルサイズ\n",
    "  int K;                // デザイン行列の列数(説明変数の数＋１)\n",
    "  vector[N] Y;          // 応答変数 \n",
    "  matrix[N, K] X;       // デザイン行列 \n",
    "  int N_temperature;\n",
    "  vector[N_temperature] temperature;\n",
    "   \n",
    "} \n",
    "\n",
    "parameters { \n",
    "  vector[K] b;          // 切片を含む係数ベクトル\n",
    "  real<lower=0> sigma;  // データのばらつきを表す標準偏差\n",
    "} \n",
    "\n",
    "model { \n",
    "  vector[N] mu = X * b;\n",
    "  Y ~ normal(mu, sigma);\n",
    "} \n",
    "\n",
    "generated quantities {\n",
    "    vector[N_temperature] mu_pred_cloudy;\n",
    "    vector[N_temperature] mu_pred_rainy;\n",
    "    vector[N_temperature] mu_pred_sunny;\n",
    "    for(i in 1:N_temperature){\n",
    "        mu_pred_cloudy[i] = (b[1] + b[2]*0 + b[3]*0 + b[4]*temperature[i]);\n",
    "        mu_pred_rainy[i] =  (b[1] + b[2]*1 + b[3]*0 + b[4]*temperature[i]);\n",
    "        mu_pred_sunny[i] =  (b[1] + b[2]*0 + b[3]*1 + b[4]*temperature[i]);\n",
    "    }\n",
    "}\n",
    "\n",
    "'''\n",
    "\n",
    "# モデルのコンパイル\n",
    "stan_model = pystan.StanModel(model_code=stan_code)\n",
    "\n",
    "# サンプリング\n",
    "lm = stan_model.sampling(data=data_list_design, seed=1, n_jobs=1)"
   ]
  },
  {
   "cell_type": "code",
   "execution_count": 17,
   "metadata": {
    "ExecuteTime": {
     "end_time": "2020-07-20T13:48:12.834824Z",
     "start_time": "2020-07-20T13:48:12.697164Z"
    }
   },
   "outputs": [
    {
     "data": {
      "text/plain": [
       "Inference for Stan model: anon_model_ea88d7c407bfa6324f8d1cb849b219ac.\n",
       "4 chains, each with iter=2000; warmup=1000; thin=1; \n",
       "post-warmup draws per chain=1000, total post-warmup draws=4000.\n",
       "\n",
       "                    mean se_mean     sd   2.5%    25%    50%    75%  97.5%  n_eff   Rhat\n",
       "b[1]               20.32    0.12    5.1  10.46  16.97   20.2   23.7  30.69   1788    1.0\n",
       "b[2]               -3.55    0.07   3.21  -9.85  -5.74  -3.49  -1.42   2.58   2258    1.0\n",
       "b[3]               29.39    0.07    3.2  23.28  27.25  29.34  31.49  35.88   2257    1.0\n",
       "b[4]                2.54  4.9e-3   0.22   2.09    2.4   2.54   2.69   2.98   2024    1.0\n",
       "sigma              16.04    0.02   0.93  14.32  15.39  16.01  16.62  17.97   3069    1.0\n",
       "mu_pred_sunny[1]   75.16    0.06    3.1  69.11   73.1  75.06  77.22  81.34   2983    1.0\n",
       "mu_pred_sunny[2]    77.7    0.05   2.95  71.88  75.75  77.62  79.68  83.51   3098    1.0\n",
       "mu_pred_sunny[3]   80.25    0.05   2.81  74.69  78.38  80.19  82.15  85.79   3227    1.0\n",
       "mu_pred_sunny[4]   82.79    0.05   2.69  77.48  81.03  82.72   84.6  88.04   3369    1.0\n",
       "mu_pred_sunny[5]   85.33    0.04   2.57  80.27  83.63  85.27  87.05  90.46   3520    1.0\n",
       "mu_pred_sunny[6]   87.88    0.04   2.47  83.04  86.23  87.85  89.54  92.79   3671    1.0\n",
       "mu_pred_sunny[7]   90.42    0.04   2.39  85.79  88.83  90.41  92.05  95.12   3807    1.0\n",
       "mu_pred_sunny[8]   92.97    0.04   2.32  88.46  91.41  92.94  94.53  97.56   3908    1.0\n",
       "mu_pred_sunny[9]   95.51    0.04   2.28  91.13  93.99  95.51  97.05 100.02   3954    1.0\n",
       "mu_pred_sunny[10]  98.06    0.04   2.25  93.72  96.55  98.06  99.54 102.51   3929    1.0\n",
       "mu_pred_sunny[11]  100.6    0.04   2.25  96.19  99.08 100.61 102.07 105.06   3814    1.0\n",
       "mu_pred_sunny[12] 103.14    0.04   2.27  98.67 101.62 103.19 104.62 107.62   3601    1.0\n",
       "mu_pred_sunny[13] 105.69    0.04   2.31 101.16 104.15 105.73  107.2 110.18   3375    1.0\n",
       "mu_pred_sunny[14] 108.23    0.04   2.37 103.61 106.65 108.25 109.77 112.87   3158    1.0\n",
       "mu_pred_sunny[15] 110.78    0.04   2.44 106.03 109.14  110.8 112.36 115.55   2963    1.0\n",
       "mu_pred_sunny[16] 113.32    0.05   2.54 108.26 111.62 113.34 114.97 118.34   2794    1.0\n",
       "mu_pred_sunny[17] 115.87    0.05   2.65 110.61 114.09 115.89 117.61 121.09   2653    1.0\n",
       "mu_pred_sunny[18] 118.41    0.06   2.78 112.89 116.53 118.43 120.23 123.92   2536    1.0\n",
       "mu_pred_sunny[19] 120.96    0.06   2.91 115.26  119.0 120.98  122.9 126.77   2441    1.0\n",
       "mu_pred_sunny[20]  123.5    0.06   3.06 117.54 121.45 123.52 125.54 129.62   2363    1.0\n",
       "mu_pred_sunny[21] 126.04    0.07   3.21 119.75 123.88 126.07  128.2 132.47   2299    1.0\n",
       "lp__              -487.9    0.04   1.58 -491.8 -488.7 -487.5 -486.7 -485.8   1957    1.0\n",
       "\n",
       "Samples were drawn using NUTS at Mon Jul 20 22:48:04 2020.\n",
       "For each parameter, n_eff is a crude measure of effective sample size,\n",
       "and Rhat is the potential scale reduction factor on split chains (at \n",
       "convergence, Rhat=1)."
      ]
     },
     "execution_count": 17,
     "metadata": {},
     "output_type": "execute_result"
    }
   ],
   "source": [
    "lm"
   ]
  },
  {
   "cell_type": "code",
   "execution_count": null,
   "metadata": {},
   "outputs": [],
   "source": []
  }
 ],
 "metadata": {
  "kernelspec": {
   "display_name": "Python 3",
   "language": "python",
   "name": "python3"
  },
  "language_info": {
   "codemirror_mode": {
    "name": "ipython",
    "version": 3
   },
   "file_extension": ".py",
   "mimetype": "text/x-python",
   "name": "python",
   "nbconvert_exporter": "python",
   "pygments_lexer": "ipython3",
   "version": "3.7.6"
  },
  "toc": {
   "base_numbering": 1,
   "nav_menu": {},
   "number_sections": true,
   "sideBar": true,
   "skip_h1_title": false,
   "title_cell": "Table of Contents",
   "title_sidebar": "Contents",
   "toc_cell": false,
   "toc_position": {},
   "toc_section_display": true,
   "toc_window_display": false
  },
  "varInspector": {
   "cols": {
    "lenName": 16,
    "lenType": 16,
    "lenVar": 40
   },
   "kernels_config": {
    "python": {
     "delete_cmd_postfix": "",
     "delete_cmd_prefix": "del ",
     "library": "var_list.py",
     "varRefreshCmd": "print(var_dic_list())"
    },
    "r": {
     "delete_cmd_postfix": ") ",
     "delete_cmd_prefix": "rm(",
     "library": "var_list.r",
     "varRefreshCmd": "cat(var_dic_list()) "
    }
   },
   "types_to_exclude": [
    "module",
    "function",
    "builtin_function_or_method",
    "instance",
    "_Feature"
   ],
   "window_display": false
  }
 },
 "nbformat": 4,
 "nbformat_minor": 4
}
