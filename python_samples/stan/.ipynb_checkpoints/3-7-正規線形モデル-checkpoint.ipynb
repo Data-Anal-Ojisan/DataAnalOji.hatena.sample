{
 "cells": [
  {
   "cell_type": "markdown",
   "metadata": {},
   "source": [
    "「RとStanで始めるベイズ統計モデリングによるデータ分析入門 実践編第7章 正規線形モデル」を対象に，公開されているR，Stanのコードをpython，pystanのコードへと書き直した一例です。Stanの代わりにpystanを利用しています。\n",
    "\n",
    "本ページでは公開されていない書籍の内容については一切触れません。理論や詳しい説明は書籍を参照してください。\n",
    "\n",
    "なお，こちらで紹介しているコードには誤りが含まれる可能性があります。内容やコードについてお気づきの点等ございましたら，ご指摘いただけると幸いです。"
   ]
  },
  {
   "cell_type": "markdown",
   "metadata": {
    "ExecuteTime": {
     "end_time": "2020-07-20T13:41:40.420991Z",
     "start_time": "2020-07-20T13:41:40.417001Z"
    }
   },
   "source": [
    "# 分析の準備\n",
    "\n",
    "## パッケージの読み込み"
   ]
  },
  {
   "cell_type": "code",
   "execution_count": 3,
   "metadata": {
    "ExecuteTime": {
     "end_time": "2020-07-28T13:52:57.939070Z",
     "start_time": "2020-07-28T13:52:57.933088Z"
    }
   },
   "outputs": [],
   "source": [
    "import pystan\n",
    "import numpy as np\n",
    "import pandas as pd\n",
    "\n",
    "%matplotlib inline\n",
    "import matplotlib.pyplot as plt\n",
    "plt.style.use('ggplot')\n",
    "plt.rcParams['font.family'] = 'Meiryo'\n",
    "import seaborn as sns"
   ]
  },
  {
   "cell_type": "markdown",
   "metadata": {},
   "source": [
    "# データの読み込みと図示\n",
    "\n",
    "## 分析対象のデータ"
   ]
  },
  {
   "cell_type": "code",
   "execution_count": 4,
   "metadata": {
    "ExecuteTime": {
     "end_time": "2020-07-28T13:52:58.343201Z",
     "start_time": "2020-07-28T13:52:58.325251Z"
    }
   },
   "outputs": [
    {
     "data": {
      "text/html": [
       "<div>\n",
       "<style scoped>\n",
       "    .dataframe tbody tr th:only-of-type {\n",
       "        vertical-align: middle;\n",
       "    }\n",
       "\n",
       "    .dataframe tbody tr th {\n",
       "        vertical-align: top;\n",
       "    }\n",
       "\n",
       "    .dataframe thead th {\n",
       "        text-align: right;\n",
       "    }\n",
       "</style>\n",
       "<table border=\"1\" class=\"dataframe\">\n",
       "  <thead>\n",
       "    <tr style=\"text-align: right;\">\n",
       "      <th></th>\n",
       "      <th>sales</th>\n",
       "      <th>weather</th>\n",
       "      <th>temperature</th>\n",
       "    </tr>\n",
       "  </thead>\n",
       "  <tbody>\n",
       "    <tr>\n",
       "      <th>0</th>\n",
       "      <td>40.643344</td>\n",
       "      <td>cloudy</td>\n",
       "      <td>13.7</td>\n",
       "    </tr>\n",
       "    <tr>\n",
       "      <th>1</th>\n",
       "      <td>99.552683</td>\n",
       "      <td>cloudy</td>\n",
       "      <td>24.0</td>\n",
       "    </tr>\n",
       "    <tr>\n",
       "      <th>2</th>\n",
       "      <td>85.326847</td>\n",
       "      <td>cloudy</td>\n",
       "      <td>21.5</td>\n",
       "    </tr>\n",
       "  </tbody>\n",
       "</table>\n",
       "</div>"
      ],
      "text/plain": [
       "       sales weather  temperature\n",
       "0  40.643344  cloudy         13.7\n",
       "1  99.552683  cloudy         24.0\n",
       "2  85.326847  cloudy         21.5"
      ]
     },
     "execution_count": 4,
     "metadata": {},
     "output_type": "execute_result"
    }
   ],
   "source": [
    "sales_climate = pd.read_csv('3-7-1-beer-sales-4.csv')\n",
    "sales_climate.head(n=3)"
   ]
  },
  {
   "cell_type": "markdown",
   "metadata": {},
   "source": [
    "## データの要約"
   ]
  },
  {
   "cell_type": "code",
   "execution_count": 5,
   "metadata": {
    "ExecuteTime": {
     "end_time": "2020-07-28T13:52:58.684842Z",
     "start_time": "2020-07-28T13:52:58.668908Z"
    }
   },
   "outputs": [
    {
     "data": {
      "text/html": [
       "<div>\n",
       "<style scoped>\n",
       "    .dataframe tbody tr th:only-of-type {\n",
       "        vertical-align: middle;\n",
       "    }\n",
       "\n",
       "    .dataframe tbody tr th {\n",
       "        vertical-align: top;\n",
       "    }\n",
       "\n",
       "    .dataframe thead th {\n",
       "        text-align: right;\n",
       "    }\n",
       "</style>\n",
       "<table border=\"1\" class=\"dataframe\">\n",
       "  <thead>\n",
       "    <tr style=\"text-align: right;\">\n",
       "      <th></th>\n",
       "      <th>sales</th>\n",
       "      <th>weather</th>\n",
       "      <th>temperature</th>\n",
       "    </tr>\n",
       "  </thead>\n",
       "  <tbody>\n",
       "    <tr>\n",
       "      <th>count</th>\n",
       "      <td>150.000000</td>\n",
       "      <td>150</td>\n",
       "      <td>150.000000</td>\n",
       "    </tr>\n",
       "    <tr>\n",
       "      <th>unique</th>\n",
       "      <td>NaN</td>\n",
       "      <td>3</td>\n",
       "      <td>NaN</td>\n",
       "    </tr>\n",
       "    <tr>\n",
       "      <th>top</th>\n",
       "      <td>NaN</td>\n",
       "      <td>cloudy</td>\n",
       "      <td>NaN</td>\n",
       "    </tr>\n",
       "    <tr>\n",
       "      <th>freq</th>\n",
       "      <td>NaN</td>\n",
       "      <td>50</td>\n",
       "      <td>NaN</td>\n",
       "    </tr>\n",
       "    <tr>\n",
       "      <th>mean</th>\n",
       "      <td>79.583818</td>\n",
       "      <td>NaN</td>\n",
       "      <td>19.914667</td>\n",
       "    </tr>\n",
       "    <tr>\n",
       "      <th>std</th>\n",
       "      <td>25.889507</td>\n",
       "      <td>NaN</td>\n",
       "      <td>5.908853</td>\n",
       "    </tr>\n",
       "    <tr>\n",
       "      <th>min</th>\n",
       "      <td>26.059938</td>\n",
       "      <td>NaN</td>\n",
       "      <td>10.100000</td>\n",
       "    </tr>\n",
       "    <tr>\n",
       "      <th>25%</th>\n",
       "      <td>61.192714</td>\n",
       "      <td>NaN</td>\n",
       "      <td>14.825000</td>\n",
       "    </tr>\n",
       "    <tr>\n",
       "      <th>50%</th>\n",
       "      <td>80.551565</td>\n",
       "      <td>NaN</td>\n",
       "      <td>19.000000</td>\n",
       "    </tr>\n",
       "    <tr>\n",
       "      <th>75%</th>\n",
       "      <td>96.109083</td>\n",
       "      <td>NaN</td>\n",
       "      <td>25.350000</td>\n",
       "    </tr>\n",
       "    <tr>\n",
       "      <th>max</th>\n",
       "      <td>137.566016</td>\n",
       "      <td>NaN</td>\n",
       "      <td>29.800000</td>\n",
       "    </tr>\n",
       "  </tbody>\n",
       "</table>\n",
       "</div>"
      ],
      "text/plain": [
       "             sales weather  temperature\n",
       "count   150.000000     150   150.000000\n",
       "unique         NaN       3          NaN\n",
       "top            NaN  cloudy          NaN\n",
       "freq           NaN      50          NaN\n",
       "mean     79.583818     NaN    19.914667\n",
       "std      25.889507     NaN     5.908853\n",
       "min      26.059938     NaN    10.100000\n",
       "25%      61.192714     NaN    14.825000\n",
       "50%      80.551565     NaN    19.000000\n",
       "75%      96.109083     NaN    25.350000\n",
       "max     137.566016     NaN    29.800000"
      ]
     },
     "execution_count": 5,
     "metadata": {},
     "output_type": "execute_result"
    }
   ],
   "source": [
    "sales_climate.describe(include='all')"
   ]
  },
  {
   "cell_type": "markdown",
   "metadata": {},
   "source": [
    "## 図示"
   ]
  },
  {
   "cell_type": "code",
   "execution_count": 6,
   "metadata": {
    "ExecuteTime": {
     "end_time": "2020-07-28T13:52:59.182041Z",
     "start_time": "2020-07-28T13:52:58.995482Z"
    }
   },
   "outputs": [
    {
     "data": {
      "image/png": "[encoded data removed]",
      "text/plain": [
       "<Figure size 720x360 with 1 Axes>"
      ]
     },
     "metadata": {},
     "output_type": "display_data"
    }
   ],
   "source": [
    "plt.figure(figsize=(10, 5))\n",
    "sns.scatterplot(x='temperature',\n",
    "                y='sales',\n",
    "                data=sales_climate,\n",
    "                hue='weather',\n",
    "                hue_order=['cloudy', 'rainy', 'sunny'],\n",
    "                palette=['red', 'green', 'blue'])\n",
    "plt.title('ビールの売り上げと気温・天気の関係')\n",
    "plt.show()"
   ]
  },
  {
   "cell_type": "markdown",
   "metadata": {},
   "source": [
    "# brmsによる分散分析モデルの推定\n",
    "\n",
    "pythonにbrmsの代用可能なパッケージが知っている範囲内で存在しないため，brmsを利用したコードは省略しています。\n",
    "\n",
    "# 補足：正規線形モデルのデザイン行列\n",
    "\n",
    "## デザイン行列の作成"
   ]
  },
  {
   "cell_type": "code",
   "execution_count": 7,
   "metadata": {
    "ExecuteTime": {
     "end_time": "2020-07-28T13:52:59.388256Z",
     "start_time": "2020-07-28T13:52:59.372308Z"
    }
   },
   "outputs": [
    {
     "data": {
      "text/html": [
       "<div>\n",
       "<style scoped>\n",
       "    .dataframe tbody tr th:only-of-type {\n",
       "        vertical-align: middle;\n",
       "    }\n",
       "\n",
       "    .dataframe tbody tr th {\n",
       "        vertical-align: top;\n",
       "    }\n",
       "\n",
       "    .dataframe thead th {\n",
       "        text-align: right;\n",
       "    }\n",
       "</style>\n",
       "<table border=\"1\" class=\"dataframe\">\n",
       "  <thead>\n",
       "    <tr style=\"text-align: right;\">\n",
       "      <th></th>\n",
       "      <th>(Intercept)</th>\n",
       "      <th>weather_rainy</th>\n",
       "      <th>weather_sunny</th>\n",
       "      <th>temperature</th>\n",
       "    </tr>\n",
       "  </thead>\n",
       "  <tbody>\n",
       "    <tr>\n",
       "      <th>0</th>\n",
       "      <td>1</td>\n",
       "      <td>0</td>\n",
       "      <td>0</td>\n",
       "      <td>13.7</td>\n",
       "    </tr>\n",
       "    <tr>\n",
       "      <th>1</th>\n",
       "      <td>1</td>\n",
       "      <td>0</td>\n",
       "      <td>0</td>\n",
       "      <td>24.0</td>\n",
       "    </tr>\n",
       "    <tr>\n",
       "      <th>2</th>\n",
       "      <td>1</td>\n",
       "      <td>0</td>\n",
       "      <td>0</td>\n",
       "      <td>21.5</td>\n",
       "    </tr>\n",
       "  </tbody>\n",
       "</table>\n",
       "</div>"
      ],
      "text/plain": [
       "   (Intercept)  weather_rainy  weather_sunny  temperature\n",
       "0            1              0              0         13.7\n",
       "1            1              0              0         24.0\n",
       "2            1              0              0         21.5"
      ]
     },
     "execution_count": 7,
     "metadata": {},
     "output_type": "execute_result"
    }
   ],
   "source": [
    "design_mat = pd.get_dummies(sales_climate.drop('sales',axis=1), drop_first=True)         # ダミー変数処理\n",
    "design_mat.insert(0, '(Intercept)', 1)                                                    # (Intercept)列追加\n",
    "design_mat = design_mat[['(Intercept)', 'weather_rainy', 'weather_sunny', 'temperature']] # 列名並び替え\n",
    "design_mat.head(n=3)"
   ]
  },
  {
   "cell_type": "markdown",
   "metadata": {},
   "source": [
    "# 補足：brmsを使わない正規線形モデルの推定\n",
    "## dictにまとめる"
   ]
  },
  {
   "cell_type": "code",
   "execution_count": 8,
   "metadata": {
    "ExecuteTime": {
     "end_time": "2020-07-28T13:52:59.808494Z",
     "start_time": "2020-07-28T13:52:59.804505Z"
    }
   },
   "outputs": [],
   "source": [
    "data_list_design = dict(N=len(design_mat),\n",
    "                        K=design_mat.shape[1],\n",
    "                        Y=sales_climate['sales'],\n",
    "                        X=design_mat)"
   ]
  },
  {
   "cell_type": "markdown",
   "metadata": {},
   "source": [
    "## MCMCの実行"
   ]
  },
  {
   "cell_type": "code",
   "execution_count": 9,
   "metadata": {
    "ExecuteTime": {
     "end_time": "2020-07-28T13:53:51.927948Z",
     "start_time": "2020-07-28T13:53:00.326374Z"
    }
   },
   "outputs": [
    {
     "name": "stderr",
     "output_type": "stream",
     "text": [
      "INFO:pystan:COMPILING THE C++ CODE FOR MODEL anon_model_97e723c47136639268ab4817ab64884e NOW.\n"
     ]
    }
   ],
   "source": [
    "# stanコードの記述\n",
    "stan_code = '''\n",
    "data { \n",
    "  int N;                // サンプルサイズ\n",
    "  int K;                // デザイン行列の列数(説明変数の数＋１)\n",
    "  vector[N] Y;          // 応答変数 \n",
    "  matrix[N, K] X;       // デザイン行列    \n",
    "} \n",
    "\n",
    "parameters { \n",
    "  vector[K] b;          // 切片を含む係数ベクトル\n",
    "  real<lower=0> sigma;  // データのばらつきを表す標準偏差\n",
    "} \n",
    "\n",
    "model { \n",
    "  vector[N] mu = X * b;\n",
    "  Y ~ normal(mu, sigma);\n",
    "} \n",
    "\n",
    "'''\n",
    "\n",
    "# モデルのコンパイル\n",
    "stan_model = pystan.StanModel(model_code=stan_code)\n",
    "\n",
    "# サンプリング\n",
    "lm = stan_model.sampling(data=data_list_design, seed=1, n_jobs=1)"
   ]
  },
  {
   "cell_type": "markdown",
   "metadata": {},
   "source": [
    "## MCMCの結果の確認"
   ]
  },
  {
   "cell_type": "code",
   "execution_count": 10,
   "metadata": {
    "ExecuteTime": {
     "end_time": "2020-07-28T13:53:52.056524Z",
     "start_time": "2020-07-28T13:53:52.023613Z"
    }
   },
   "outputs": [
    {
     "name": "stdout",
     "output_type": "stream",
     "text": [
      "Inference for Stan model: anon_model_97e723c47136639268ab4817ab64884e.\n",
      "4 chains, each with iter=2000; warmup=1000; thin=1; \n",
      "post-warmup draws per chain=1000, total post-warmup draws=4000.\n",
      "\n",
      "        mean se_mean     sd   2.5%    25%    50%    75%  97.5%  n_eff   Rhat\n",
      "b[1]   20.32    0.12    5.1  10.46  16.97   20.2   23.7  30.69   1788    1.0\n",
      "b[2]   -3.55    0.07   3.21  -9.85  -5.74  -3.49  -1.42   2.58   2258    1.0\n",
      "b[3]   29.39    0.07    3.2  23.28  27.25  29.34  31.49  35.88   2257    1.0\n",
      "b[4]    2.54  4.9e-3   0.22   2.09    2.4   2.54   2.69   2.98   2024    1.0\n",
      "sigma  16.04    0.02   0.93  14.32  15.39  16.01  16.62  17.97   3069    1.0\n",
      "lp__  -487.9    0.04   1.58 -491.8 -488.7 -487.5 -486.7 -485.8   1957    1.0\n",
      "\n",
      "Samples were drawn using NUTS at Tue Jul 28 22:53:51 2020.\n",
      "For each parameter, n_eff is a crude measure of effective sample size,\n",
      "and Rhat is the potential scale reduction factor on split chains (at \n",
      "convergence, Rhat=1).\n"
     ]
    }
   ],
   "source": [
    "print(lm)"
   ]
  },
  {
   "cell_type": "markdown",
   "metadata": {},
   "source": [
    "# 補足：回帰直線"
   ]
  },
  {
   "cell_type": "code",
   "execution_count": 18,
   "metadata": {
    "ExecuteTime": {
     "end_time": "2020-07-28T14:05:39.420036Z",
     "start_time": "2020-07-28T14:05:39.415049Z"
    }
   },
   "outputs": [],
   "source": [
    "data_list_design = dict(N=len(design_mat),\n",
    "                        K=design_mat.shape[1],\n",
    "                        Y=sales_climate['sales'],\n",
    "                        X=design_mat,\n",
    "                        N_temperature = len(np.arange(10,31,1)), # 10-30℃までのデータ長\n",
    "                        temperature = np.arange(10,31,1))        # 10-30℃までの温度"
   ]
  },
  {
   "cell_type": "markdown",
   "metadata": {},
   "source": [
    "## MCMCの実行"
   ]
  },
  {
   "cell_type": "code",
   "execution_count": 12,
   "metadata": {
    "ExecuteTime": {
     "end_time": "2020-07-28T13:54:33.275736Z",
     "start_time": "2020-07-28T13:53:52.244983Z"
    }
   },
   "outputs": [
    {
     "name": "stderr",
     "output_type": "stream",
     "text": [
      "INFO:pystan:COMPILING THE C++ CODE FOR MODEL anon_model_ce7d90323518c5b80d3068d70dcf7538 NOW.\n"
     ]
    }
   ],
   "source": [
    "# stanコードの記述\n",
    "stan_code = '''\n",
    "data { \n",
    "  int N;                // サンプルサイズ\n",
    "  int K;                // デザイン行列の列数(説明変数の数＋１)\n",
    "  vector[N] Y;          // 応答変数 \n",
    "  matrix[N, K] X;       // デザイン行列 \n",
    "  int N_temperature;                    // 温度データの長さ\n",
    "  vector[N_temperature] temperature;    // 温度データ\n",
    "   \n",
    "} \n",
    "\n",
    "parameters { \n",
    "  vector[K] b;          // 切片を含む係数ベクトル\n",
    "  real<lower=0> sigma;  // データのばらつきを表す標準偏差\n",
    "} \n",
    "\n",
    "model { \n",
    "  vector[N] mu = X * b;\n",
    "  Y ~ normal(mu, sigma);\n",
    "} \n",
    "\n",
    "generated quantities {\n",
    "    vector[N_temperature] mu_pred_cloudy;    // 曇りの日の平均売り上げ \n",
    "    vector[N_temperature] mu_pred_rainy;     // 雨の日の平均売り上げ\n",
    "    vector[N_temperature] mu_pred_sunny;     // 晴れの日の平均売り上げ\n",
    "    for(i in 1:N_temperature){\n",
    "        mu_pred_cloudy[i] = (b[1] + b[2]*0 + b[3]*0 + b[4]*temperature[i]);\n",
    "        mu_pred_rainy[i] =  (b[1] + b[2]*1 + b[3]*0 + b[4]*temperature[i]);\n",
    "        mu_pred_sunny[i] =  (b[1] + b[2]*0 + b[3]*1 + b[4]*temperature[i]);\n",
    "    }\n",
    "}\n",
    "\n",
    "'''\n",
    "\n",
    "# モデルのコンパイル\n",
    "stan_model = pystan.StanModel(model_code=stan_code)\n",
    "\n",
    "# サンプリング\n",
    "lm = stan_model.sampling(data=data_list_design, seed=1, n_jobs=1)"
   ]
  },
  {
   "cell_type": "markdown",
   "metadata": {},
   "source": [
    "## MCMCの結果の確認"
   ]
  },
  {
   "cell_type": "code",
   "execution_count": 16,
   "metadata": {
    "ExecuteTime": {
     "end_time": "2020-07-28T13:56:21.322260Z",
     "start_time": "2020-07-28T13:56:21.013115Z"
    }
   },
   "outputs": [
    {
     "name": "stdout",
     "output_type": "stream",
     "text": [
      "Inference for Stan model: anon_model_ce7d90323518c5b80d3068d70dcf7538.\n",
      "4 chains, each with iter=2000; warmup=1000; thin=1; \n",
      "post-warmup draws per chain=1000, total post-warmup draws=4000.\n",
      "\n",
      "                     mean se_mean     sd   2.5%    25%    50%    75%  97.5%  n_eff   Rhat\n",
      "b[1]                20.32    0.12    5.1  10.46  16.97   20.2   23.7  30.69   1788    1.0\n",
      "b[2]                -3.55    0.07   3.21  -9.85  -5.74  -3.49  -1.42   2.58   2258    1.0\n",
      "b[3]                29.39    0.07    3.2  23.28  27.25  29.34  31.49  35.88   2257    1.0\n",
      "b[4]                 2.54  4.9e-3   0.22   2.09    2.4   2.54   2.69   2.98   2024    1.0\n",
      "sigma               16.04    0.02   0.93  14.32  15.39  16.01  16.62  17.97   3069    1.0\n",
      "mu_pred_cloudy[1]   45.76    0.08   3.26   39.5  43.56  45.76  47.95  52.23   1802    1.0\n",
      "mu_pred_cloudy[2]   48.31    0.07    3.1  42.39  46.22  48.31  50.38  54.39   1816    1.0\n",
      "mu_pred_cloudy[3]   50.85    0.07   2.95  45.13  48.85  50.87  52.81  56.61   1837    1.0\n",
      "mu_pred_cloudy[4]    53.4    0.07   2.81  47.95   51.5  53.42  55.26  58.87   1865    1.0\n",
      "mu_pred_cloudy[5]   55.94    0.06   2.68  50.68  54.12  55.96  57.74  61.19   1901    1.0\n",
      "mu_pred_cloudy[6]   58.49    0.06   2.57   53.4  56.73  58.51   60.2   63.5   1940    1.0\n",
      "mu_pred_cloudy[7]   61.03    0.06   2.47  56.18  59.36  61.04   62.7  65.82   1999    1.0\n",
      "mu_pred_cloudy[8]   63.57    0.05   2.39  58.85  61.95  63.58   65.2  68.23   2078    1.0\n",
      "mu_pred_cloudy[9]   66.12    0.05   2.32  61.48  64.56  66.13   67.7  70.66   2176    1.0\n",
      "mu_pred_cloudy[10]  68.66    0.05   2.28  64.04  67.15  68.69  70.21  73.14   2293    1.0\n",
      "mu_pred_cloudy[11]  71.21    0.05   2.25  66.66  69.72  71.26  72.74   75.6   2427    1.0\n",
      "mu_pred_cloudy[12]  73.75    0.04   2.25  69.19  72.25  73.76  75.27  78.16   2545    1.0\n",
      "mu_pred_cloudy[13]   76.3    0.04   2.27  71.68   74.8   76.3  77.82  80.68   2721    1.0\n",
      "mu_pred_cloudy[14]  78.84    0.04   2.31  74.19  77.32  78.85  80.39  83.32   2848    1.0\n",
      "mu_pred_cloudy[15]  81.38    0.04   2.37  76.66  79.81  81.38  82.96  85.98   2947    1.0\n",
      "mu_pred_cloudy[16]  83.93    0.04   2.45  79.12  82.29  83.94  85.57  88.66   3018    1.0\n",
      "mu_pred_cloudy[17]  86.47    0.05   2.55   81.5  84.73  86.46   88.2  91.42   3058    1.0\n",
      "mu_pred_cloudy[18]  89.02    0.05   2.66   83.8   87.2  89.02  90.83  94.24   3071    1.0\n",
      "mu_pred_cloudy[19]  91.56    0.05   2.78  86.19  89.68  91.58  93.45  96.99   3062    1.0\n",
      "mu_pred_cloudy[20]  94.11    0.05   2.92  88.47  92.12  94.13  96.09  99.86   3037    1.0\n",
      "mu_pred_cloudy[21]  96.65    0.06   3.07  90.79  94.58  96.65  98.73  102.7   3000    1.0\n",
      "mu_pred_rainy[1]    42.22    0.06   3.23  35.85  40.02  42.21  44.36  48.48   2661    1.0\n",
      "mu_pred_rainy[2]    44.76    0.06   3.08  38.68  42.69  44.78  46.82  50.67   2746    1.0\n",
      "mu_pred_rainy[3]     47.3    0.06   2.93  41.47  45.32  47.31  49.23  52.91   2844    1.0\n",
      "mu_pred_rainy[4]    49.85    0.05    2.8  44.27  47.98  49.86  51.72  55.16   2956    1.0\n",
      "mu_pred_rainy[5]    52.39    0.05   2.68   47.1  50.62   52.4  54.16  57.54   3084    1.0\n",
      "mu_pred_rainy[6]    54.94    0.05   2.57   49.9  53.23  54.97  56.66  59.89   3223    1.0\n",
      "mu_pred_rainy[7]    57.48    0.04   2.47  52.55  55.82  57.51  59.14  62.29   3359    1.0\n",
      "mu_pred_rainy[8]    60.03    0.04   2.39  55.22  58.43  60.07  61.62  64.69   3472    1.0\n",
      "mu_pred_rainy[9]    62.57    0.04   2.33  57.88  61.02  62.63  64.12  67.14   3562    1.0\n",
      "mu_pred_rainy[10]   65.12    0.04    2.3  60.52  63.58  65.18  66.65  69.53   3615    1.0\n",
      "mu_pred_rainy[11]   67.66    0.04   2.28  63.13  66.13  67.71  69.17   72.1   3620    1.0\n",
      "mu_pred_rainy[12]    70.2    0.04   2.28  65.69  68.66  70.25  71.73  74.65   3574    1.0\n",
      "mu_pred_rainy[13]   72.75    0.04   2.31  68.15   71.2  72.81  74.26  77.25   3483    1.0\n",
      "mu_pred_rainy[14]   75.29    0.04   2.35   70.6  73.72  75.32  76.82  79.86   3362    1.0\n",
      "mu_pred_rainy[15]   77.84    0.04   2.42  73.02  76.24  77.86  79.42  82.52   3225    1.0\n",
      "mu_pred_rainy[16]   80.38    0.04    2.5  75.38  78.75   80.4  82.03  85.22   3087    1.0\n",
      "mu_pred_rainy[17]   82.93    0.05    2.6  77.62   81.2  82.93  84.68  87.97   2956    1.0\n",
      "mu_pred_rainy[18]   85.47    0.05   2.71  79.98  83.68  85.46  87.29  90.78   2837    1.0\n",
      "mu_pred_rainy[19]   88.01    0.05   2.84  82.28  86.14  88.01   89.9  93.58   2733    1.0\n",
      "mu_pred_rainy[20]   90.56    0.06   2.98  84.53  88.58  90.54  92.54  96.38   2642    1.0\n",
      "mu_pred_rainy[21]    93.1    0.06   3.13  86.76  91.05  93.11  95.17  99.27   2565    1.0\n",
      "mu_pred_sunny[1]    75.16    0.06    3.1  69.11   73.1  75.06  77.22  81.34   2983    1.0\n",
      "mu_pred_sunny[2]     77.7    0.05   2.95  71.88  75.75  77.62  79.68  83.51   3098    1.0\n",
      "mu_pred_sunny[3]    80.25    0.05   2.81  74.69  78.38  80.19  82.15  85.79   3227    1.0\n",
      "mu_pred_sunny[4]    82.79    0.05   2.69  77.48  81.03  82.72   84.6  88.04   3369    1.0\n",
      "mu_pred_sunny[5]    85.33    0.04   2.57  80.27  83.63  85.27  87.05  90.46   3520    1.0\n",
      "mu_pred_sunny[6]    87.88    0.04   2.47  83.04  86.23  87.85  89.54  92.79   3671    1.0\n",
      "mu_pred_sunny[7]    90.42    0.04   2.39  85.79  88.83  90.41  92.05  95.12   3807    1.0\n",
      "mu_pred_sunny[8]    92.97    0.04   2.32  88.46  91.41  92.94  94.53  97.56   3908    1.0\n",
      "mu_pred_sunny[9]    95.51    0.04   2.28  91.13  93.99  95.51  97.05 100.02   3954    1.0\n",
      "mu_pred_sunny[10]   98.06    0.04   2.25  93.72  96.55  98.06  99.54 102.51   3929    1.0\n",
      "mu_pred_sunny[11]   100.6    0.04   2.25  96.19  99.08 100.61 102.07 105.06   3814    1.0\n",
      "mu_pred_sunny[12]  103.14    0.04   2.27  98.67 101.62 103.19 104.62 107.62   3601    1.0\n",
      "mu_pred_sunny[13]  105.69    0.04   2.31 101.16 104.15 105.73  107.2 110.18   3375    1.0\n",
      "mu_pred_sunny[14]  108.23    0.04   2.37 103.61 106.65 108.25 109.77 112.87   3158    1.0\n",
      "mu_pred_sunny[15]  110.78    0.04   2.44 106.03 109.14  110.8 112.36 115.55   2963    1.0\n",
      "mu_pred_sunny[16]  113.32    0.05   2.54 108.26 111.62 113.34 114.97 118.34   2794    1.0\n",
      "mu_pred_sunny[17]  115.87    0.05   2.65 110.61 114.09 115.89 117.61 121.09   2653    1.0\n",
      "mu_pred_sunny[18]  118.41    0.06   2.78 112.89 116.53 118.43 120.23 123.92   2536    1.0\n",
      "mu_pred_sunny[19]  120.96    0.06   2.91 115.26  119.0 120.98  122.9 126.77   2441    1.0\n",
      "mu_pred_sunny[20]   123.5    0.06   3.06 117.54 121.45 123.52 125.54 129.62   2363    1.0\n",
      "mu_pred_sunny[21]  126.04    0.07   3.21 119.75 123.88 126.07  128.2 132.47   2299    1.0\n",
      "lp__               -487.9    0.04   1.58 -491.8 -488.7 -487.5 -486.7 -485.8   1957    1.0\n",
      "\n",
      "Samples were drawn using NUTS at Tue Jul 28 22:54:33 2020.\n",
      "For each parameter, n_eff is a crude measure of effective sample size,\n",
      "and Rhat is the potential scale reduction factor on split chains (at \n",
      "convergence, Rhat=1).\n"
     ]
    }
   ],
   "source": [
    "print(lm)"
   ]
  },
  {
   "cell_type": "markdown",
   "metadata": {},
   "source": [
    "## MCMCサンプルの抽出"
   ]
  },
  {
   "cell_type": "code",
   "execution_count": 19,
   "metadata": {
    "ExecuteTime": {
     "end_time": "2020-07-28T14:08:55.981238Z",
     "start_time": "2020-07-28T14:08:55.974257Z"
    }
   },
   "outputs": [],
   "source": [
    "mcmc_sample = lm.extract()"
   ]
  },
  {
   "cell_type": "markdown",
   "metadata": {},
   "source": [
    "## 天気別ビール売り上げ平均値の事後予測分布をデータフレームにまとめる"
   ]
  },
  {
   "cell_type": "code",
   "execution_count": 20,
   "metadata": {
    "ExecuteTime": {
     "end_time": "2020-07-28T14:14:07.306299Z",
     "start_time": "2020-07-28T14:14:07.270348Z"
    }
   },
   "outputs": [],
   "source": [
    "# 天気別売り上げの事後予測分布を格納するためのデータフレームを作成\n",
    "result_cloudy = pd.DataFrame(np.zeros([len(np.arange(10,31,1)),3]))\n",
    "result_rainy = pd.DataFrame(np.zeros([len(np.arange(10,31,1)),3]))\n",
    "result_sunny = pd.DataFrame(np.zeros([len(np.arange(10,31,1)),3]))\n",
    "\n",
    "# 2.5・50・97.5パーセンタイルの値をデータフレームに代入\n",
    "for i in range(21):\n",
    "    result_cloudy.iloc[i,:] = np.percentile(mcmc_sample['mu_pred_cloudy'][:,i], q=[2.5, 50, 97.5])\n",
    "    result_rainy.iloc[i,:] = np.percentile(mcmc_sample['mu_pred_rainy'][:,i], q=[2.5, 50, 97.5])\n",
    "    result_sunny.iloc[i,:] = np.percentile(mcmc_sample['mu_pred_sunny'][:,i], q=[2.5, 50, 97.5])\n",
    "    \n",
    "# データフレームの列名を変更\n",
    "result_cloudy.columns = [\"2.5%\", \"50%\", \"97.5%\"]\n",
    "result_rainy.columns = [\"2.5%\", \"50%\", \"97.5%\"]\n",
    "result_sunny.columns = [\"2.5%\", \"50%\", \"97.5%\"]\n",
    "\n",
    "# 温度情報をデータフレームに追加\n",
    "result_cloudy['temperature'] = np.arange(10,31,1)\n",
    "result_rainy['temperature'] = np.arange(10,31,1)\n",
    "result_sunny['temperature'] = np.arange(10,31,1)"
   ]
  },
  {
   "cell_type": "markdown",
   "metadata": {},
   "source": [
    "## 回帰直線の描画"
   ]
  },
  {
   "cell_type": "code",
   "execution_count": 21,
   "metadata": {
    "ExecuteTime": {
     "end_time": "2020-07-28T14:14:34.086083Z",
     "start_time": "2020-07-28T14:14:33.900335Z"
    }
   },
   "outputs": [
    {
     "data": {
      "image/png": "[encoded data removed]",
      "text/plain": [
       "<Figure size 720x360 with 1 Axes>"
      ]
     },
     "metadata": {},
     "output_type": "display_data"
    }
   ],
   "source": [
    "# グラフ描画領域の作成\n",
    "plt.figure(figsize=(10, 5))\n",
    "\n",
    "# 散布図の描画\n",
    "sns.scatterplot(x='temperature',\n",
    "                y='sales',\n",
    "                data=sales_climate,\n",
    "                hue='weather',\n",
    "                hue_order=['cloudy', 'rainy', 'sunny'],\n",
    "                palette=['red', 'green', 'blue'])\n",
    "\n",
    "# 曇りの日のビールの売り上げの平均値を描画\n",
    "plt.plot(result_cloudy['temperature'], result_cloudy[\"50%\"], color='red')\n",
    "# 95%ベイズ信頼区間を描画\n",
    "plt.fill_between(x=result_cloudy['temperature'],\n",
    "                 y1=result_cloudy[\"2.5%\"],\n",
    "                 y2=result_cloudy[\"97.5%\"],\n",
    "                 color='red',alpha=0.3)\n",
    "\n",
    "# 雨の日のビールの売り上げの平均値を描画\n",
    "plt.plot(result_rainy['temperature'], result_rainy[\"50%\"], color='green')\n",
    "# 95%ベイズ信頼区間を描画\n",
    "plt.fill_between(x=result_rainy['temperature'],\n",
    "                 y1=result_rainy[\"2.5%\"],\n",
    "                 y2=result_rainy[\"97.5%\"],\n",
    "                 color='green',alpha=0.3)\n",
    "\n",
    "# 晴れの日のビールの売り上げの平均値を描画\n",
    "plt.plot(result_sunny['temperature'], result_sunny[\"50%\"], color='blue')\n",
    "# 95%ベイズ信頼区間を描画\n",
    "plt.fill_between(x=result_sunny['temperature'],\n",
    "                 y1=result_sunny[\"2.5%\"],\n",
    "                 y2=result_sunny[\"97.5%\"],\n",
    "                 color='blue',alpha=0.3)\n",
    "\n",
    "# グラフタイトル追加\n",
    "plt.title('ビールの売り上げと気温・天気の関係')\n",
    "\n",
    "# グラフの描画\n",
    "plt.show()"
   ]
  },
  {
   "cell_type": "code",
   "execution_count": null,
   "metadata": {},
   "outputs": [],
   "source": []
  }
 ],
 "metadata": {
  "kernelspec": {
   "display_name": "Python 3",
   "language": "python",
   "name": "python3"
  },
  "language_info": {
   "codemirror_mode": {
    "name": "ipython",
    "version": 3
   },
   "file_extension": ".py",
   "mimetype": "text/x-python",
   "name": "python",
   "nbconvert_exporter": "python",
   "pygments_lexer": "ipython3",
   "version": "3.7.6"
  },
  "toc": {
   "base_numbering": 1,
   "nav_menu": {},
   "number_sections": true,
   "sideBar": true,
   "skip_h1_title": false,
   "title_cell": "Table of Contents",
   "title_sidebar": "Contents",
   "toc_cell": false,
   "toc_position": {},
   "toc_section_display": true,
   "toc_window_display": true
  },
  "varInspector": {
   "cols": {
    "lenName": 16,
    "lenType": 16,
    "lenVar": 40
   },
   "kernels_config": {
    "python": {
     "delete_cmd_postfix": "",
     "delete_cmd_prefix": "del ",
     "library": "var_list.py",
     "varRefreshCmd": "print(var_dic_list())"
    },
    "r": {
     "delete_cmd_postfix": ") ",
     "delete_cmd_prefix": "rm(",
     "library": "var_list.r",
     "varRefreshCmd": "cat(var_dic_list()) "
    }
   },
   "types_to_exclude": [
    "module",
    "function",
    "builtin_function_or_method",
    "instance",
    "_Feature"
   ],
   "window_display": false
  }
 },
 "nbformat": 4,
 "nbformat_minor": 4
}
