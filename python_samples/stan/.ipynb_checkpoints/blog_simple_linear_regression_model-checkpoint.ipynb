{
 "cells": [
  {
   "cell_type": "markdown",
   "metadata": {},
   "source": [
    "RとStanで始めるベイズ統計モデリングによるデータ分析入門，実践編第2章をpython環境で実行する。"
   ]
  },
  {
   "cell_type": "markdown",
   "metadata": {},
   "source": [
    "# パッケージのインポート"
   ]
  },
  {
   "cell_type": "code",
   "execution_count": 1,
   "metadata": {
    "ExecuteTime": {
     "end_time": "2020-07-11T07:26:30.749054Z",
     "start_time": "2020-07-11T07:26:29.022829Z"
    }
   },
   "outputs": [],
   "source": [
    "import pystan\n",
    "import pandas as pd\n",
    "\n",
    "%matplotlib inline\n",
    "import matplotlib.pyplot as plt\n",
    "plt.style.use('ggplot')\n",
    "plt.rcParams['font.family'] = 'Meiryo'"
   ]
  },
  {
   "cell_type": "markdown",
   "metadata": {},
   "source": [
    "# データの前処理\n",
    "\n",
    "## データの読み込み"
   ]
  },
  {
   "cell_type": "code",
   "execution_count": 2,
   "metadata": {
    "ExecuteTime": {
     "end_time": "2020-07-11T07:26:30.764933Z",
     "start_time": "2020-07-11T07:26:30.751004Z"
    }
   },
   "outputs": [
    {
     "data": {
      "text/html": [
       "<div>\n",
       "<style scoped>\n",
       "    .dataframe tbody tr th:only-of-type {\n",
       "        vertical-align: middle;\n",
       "    }\n",
       "\n",
       "    .dataframe tbody tr th {\n",
       "        vertical-align: top;\n",
       "    }\n",
       "\n",
       "    .dataframe thead th {\n",
       "        text-align: right;\n",
       "    }\n",
       "</style>\n",
       "<table border=\"1\" class=\"dataframe\">\n",
       "  <thead>\n",
       "    <tr style=\"text-align: right;\">\n",
       "      <th></th>\n",
       "      <th>sales</th>\n",
       "      <th>temperature</th>\n",
       "    </tr>\n",
       "  </thead>\n",
       "  <tbody>\n",
       "    <tr>\n",
       "      <th>0</th>\n",
       "      <td>41.68</td>\n",
       "      <td>13.7</td>\n",
       "    </tr>\n",
       "    <tr>\n",
       "      <th>1</th>\n",
       "      <td>110.99</td>\n",
       "      <td>24.0</td>\n",
       "    </tr>\n",
       "    <tr>\n",
       "      <th>2</th>\n",
       "      <td>65.32</td>\n",
       "      <td>21.5</td>\n",
       "    </tr>\n",
       "  </tbody>\n",
       "</table>\n",
       "</div>"
      ],
      "text/plain": [
       "    sales  temperature\n",
       "0   41.68         13.7\n",
       "1  110.99         24.0\n",
       "2   65.32         21.5"
      ]
     },
     "execution_count": 2,
     "metadata": {},
     "output_type": "execute_result"
    }
   ],
   "source": [
    "# 分析対象のデータ\n",
    "df = pd.read_csv('00_Data/3-2-1-beer-sales-2.csv')\n",
    "df.head(n=3)"
   ]
  },
  {
   "cell_type": "markdown",
   "metadata": {},
   "source": [
    "# 散布図による可視化"
   ]
  },
  {
   "cell_type": "code",
   "execution_count": 3,
   "metadata": {
    "ExecuteTime": {
     "end_time": "2020-07-11T07:26:30.911115Z",
     "start_time": "2020-07-11T07:26:30.766928Z"
    }
   },
   "outputs": [
    {
     "data": {
      "image/png": "[encoded data removed]",
      "text/plain": [
       "<Figure size 432x288 with 1 Axes>"
      ]
     },
     "metadata": {},
     "output_type": "display_data"
    }
   ],
   "source": [
    "# 図時\n",
    "plt.figure()\n",
    "plt.scatter(x=df['temperature'], y=df['sales'],color='black')\n",
    "plt.title('ビールの売り上げと気温の関係')\n",
    "plt.show()"
   ]
  },
  {
   "cell_type": "markdown",
   "metadata": {},
   "source": [
    "# stanファイルの実装\n",
    "\n",
    "stanファイルの中身は以下の通り"
   ]
  },
  {
   "cell_type": "markdown",
   "metadata": {},
   "source": [
    "data{\n",
    "\n",
    "    int N;                   # サンプルサイズ\n",
    "    vector[N] sales;         # 売り上げデータ\n",
    "    vectorr[N] temperature;  # 気温データ\n",
    "    \n",
    "}\n",
    "\n",
    "parameters{\n",
    "\n",
    "    real Intercept;          # 切片\n",
    "    real beta;               # 係数\n",
    "    real<lower=0> sigma;     # 標準偏差\n",
    "    \n",
    "}\n",
    "\n",
    "model{\n",
    "\n",
    "    # 平均　Intercept + beta*temperature\n",
    "    # 標準偏差sigmaの正規分布に従ってデータが得られたと仮定\n",
    "    for(i in 1:N){\n",
    "        sales[i] ~ normal(Intercept + beta*temperatur[i], sigma);\n",
    "    }\n",
    "    \n",
    "}\n"
   ]
  },
  {
   "cell_type": "markdown",
   "metadata": {},
   "source": [
    "# データの取りまとめ"
   ]
  },
  {
   "cell_type": "code",
   "execution_count": 4,
   "metadata": {
    "ExecuteTime": {
     "end_time": "2020-07-11T07:26:30.917088Z",
     "start_time": "2020-07-11T07:26:30.913113Z"
    }
   },
   "outputs": [],
   "source": [
    "# サンプルサイズ\n",
    "N = len(df)\n",
    "# ビールの売り上げ\n",
    "sales = df.sales\n",
    "# 気温\n",
    "temperature = df.temperature\n",
    "\n",
    "# ディクショナリ形式にまとめる\n",
    "data ={'N': N,\n",
    "       'sales': sales,\n",
    "       'temperature': temperature} "
   ]
  },
  {
   "cell_type": "markdown",
   "metadata": {},
   "source": [
    "# MCMCの実行"
   ]
  },
  {
   "cell_type": "code",
   "execution_count": 5,
   "metadata": {
    "ExecuteTime": {
     "end_time": "2020-07-11T07:27:13.079218Z",
     "start_time": "2020-07-11T07:26:30.918085Z"
    }
   },
   "outputs": [
    {
     "name": "stderr",
     "output_type": "stream",
     "text": [
      "WARNING:pystan:DeprecationWarning: pystan.stan was deprecated in version 2.17 and will be removed in version 3.0. Compile and use a Stan program in separate steps.\n",
      "INFO:pystan:COMPILING THE C++ CODE FOR MODEL anon_model_75accf505028bba5572c105072f99a10 NOW.\n"
     ]
    }
   ],
   "source": [
    "# 乱数の生成\n",
    "mcmc_result = pystan.stan(file='01_stan/3-2-1-simple-lm.stan',\n",
    "                          data=data,\n",
    "                          seed=1)"
   ]
  },
  {
   "cell_type": "markdown",
   "metadata": {
    "ExecuteTime": {
     "end_time": "2020-07-11T02:27:15.984007Z",
     "start_time": "2020-07-11T02:27:15.979020Z"
    }
   },
   "source": [
    "## 結果"
   ]
  },
  {
   "cell_type": "code",
   "execution_count": 6,
   "metadata": {
    "ExecuteTime": {
     "end_time": "2020-07-11T07:27:13.110164Z",
     "start_time": "2020-07-11T07:27:13.080247Z"
    }
   },
   "outputs": [
    {
     "name": "stdout",
     "output_type": "stream",
     "text": [
      "Inference for Stan model: anon_model_75accf505028bba5572c105072f99a10.\n",
      "4 chains, each with iter=2000; warmup=1000; thin=1; \n",
      "post-warmup draws per chain=1000, total post-warmup draws=4000.\n",
      "\n",
      "            mean se_mean     sd   2.5%    25%    50%    75%  97.5%  n_eff   Rhat\n",
      "Intercept  21.52    0.15   5.89  10.02  17.58  21.56  25.37  33.28   1529    1.0\n",
      "beta        2.44  7.2e-3   0.28   1.88   2.26   2.44   2.64   3.01   1537    1.0\n",
      "sigma      17.07    0.03   1.22  14.84  16.24   17.0  17.82   19.7   1948    1.0\n",
      "lp__      -330.1    0.03    1.2 -333.2 -330.6 -329.8 -329.2 -328.7   1310    1.0\n",
      "\n",
      "Samples were drawn using NUTS at Sat Jul 11 16:27:13 2020.\n",
      "For each parameter, n_eff is a crude measure of effective sample size,\n",
      "and Rhat is the potential scale reduction factor on split chains (at \n",
      "convergence, Rhat=1).\n"
     ]
    }
   ],
   "source": [
    "print(mcmc_result)"
   ]
  },
  {
   "cell_type": "markdown",
   "metadata": {},
   "source": [
    "## MCMCサンプルの抽出"
   ]
  },
  {
   "cell_type": "code",
   "execution_count": 11,
   "metadata": {
    "ExecuteTime": {
     "end_time": "2020-07-11T07:30:44.120360Z",
     "start_time": "2020-07-11T07:30:44.116348Z"
    }
   },
   "outputs": [],
   "source": [
    "mcmc_sample  = mcmc_result.extract()"
   ]
  },
  {
   "cell_type": "markdown",
   "metadata": {},
   "source": [
    "# 事後分布の可視化"
   ]
  },
  {
   "cell_type": "code",
   "execution_count": 17,
   "metadata": {
    "ExecuteTime": {
     "end_time": "2020-07-12T13:41:26.143067Z",
     "start_time": "2020-07-12T13:41:26.137085Z"
    }
   },
   "outputs": [
    {
     "data": {
      "text/plain": [
       "OrderedDict([('Intercept',\n",
       "              array([15.81067925,  9.33181186, 29.96891114, ..., 13.68114742,\n",
       "                     19.16975086, 23.71798771])),\n",
       "             ('beta',\n",
       "              array([2.58205218, 2.87549914, 2.13096552, ..., 2.7492859 , 2.64948755,\n",
       "                     2.41045107])),\n",
       "             ('sigma',\n",
       "              array([15.9837072 , 16.70859638, 17.09301963, ..., 17.10891857,\n",
       "                     18.30070546, 17.0805016 ])),\n",
       "             ('lp__',\n",
       "              array([-330.64183194, -332.0263637 , -330.2145832 , ..., -329.69260405,\n",
       "                     -330.00609418, -329.10703759]))])"
      ]
     },
     "execution_count": 17,
     "metadata": {},
     "output_type": "execute_result"
    }
   ],
   "source": [
    "mcmc_sample"
   ]
  },
  {
   "cell_type": "code",
   "execution_count": null,
   "metadata": {},
   "outputs": [],
   "source": []
  }
 ],
 "metadata": {
  "kernelspec": {
   "display_name": "Python 3",
   "language": "python",
   "name": "python3"
  },
  "language_info": {
   "codemirror_mode": {
    "name": "ipython",
    "version": 3
   },
   "file_extension": ".py",
   "mimetype": "text/x-python",
   "name": "python",
   "nbconvert_exporter": "python",
   "pygments_lexer": "ipython3",
   "version": "3.7.6"
  },
  "toc": {
   "base_numbering": 1,
   "nav_menu": {},
   "number_sections": true,
   "sideBar": true,
   "skip_h1_title": false,
   "title_cell": "Table of Contents",
   "title_sidebar": "Contents",
   "toc_cell": false,
   "toc_position": {},
   "toc_section_display": true,
   "toc_window_display": false
  },
  "varInspector": {
   "cols": {
    "lenName": 16,
    "lenType": 16,
    "lenVar": 40
   },
   "kernels_config": {
    "python": {
     "delete_cmd_postfix": "",
     "delete_cmd_prefix": "del ",
     "library": "var_list.py",
     "varRefreshCmd": "print(var_dic_list())"
    },
    "r": {
     "delete_cmd_postfix": ") ",
     "delete_cmd_prefix": "rm(",
     "library": "var_list.r",
     "varRefreshCmd": "cat(var_dic_list()) "
    }
   },
   "position": {
    "height": "318px",
    "left": "1472px",
    "right": "20px",
    "top": "129px",
    "width": "433px"
   },
   "types_to_exclude": [
    "module",
    "function",
    "builtin_function_or_method",
    "instance",
    "_Feature"
   ],
   "window_display": true
  }
 },
 "nbformat": 4,
 "nbformat_minor": 4
}
