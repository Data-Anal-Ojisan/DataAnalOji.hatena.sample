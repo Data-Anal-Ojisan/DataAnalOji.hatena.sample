{
 "cells": [
  {
   "cell_type": "markdown",
   "metadata": {},
   "source": [
    "「RとStanで始めるベイズ統計モデリングによるデータ分析入門」「実践編第5部第3章 状態空間モデルによる予測と補完」を対象に，公開されているR，Stanのコードをpython，pystanのコードへと書き直した一例です。Stanの代わりにpystanを利用しています。\n",
    "\n",
    "本ページでは公開されていない書籍の内容については一切触れません。理論や詳しい説明は書籍を参照してください。\n",
    "\n",
    "なお，こちらで紹介しているコードには誤りが含まれる可能性があります。内容やコードについてお気づきの点等ございましたら，ご指摘いただけると幸いです。"
   ]
  },
  {
   "cell_type": "markdown",
   "metadata": {},
   "source": [
    "# 分析の準備\n",
    "## パッケージの読み込み"
   ]
  },
  {
   "cell_type": "code",
   "execution_count": 1,
   "metadata": {
    "ExecuteTime": {
     "end_time": "2020-09-10T13:35:27.485968Z",
     "start_time": "2020-09-10T13:35:24.961383Z"
    }
   },
   "outputs": [],
   "source": [
    "import pystan\n",
    "import datetime\n",
    "import numpy as np\n",
    "import pandas as pd\n",
    "\n",
    "%matplotlib inline\n",
    "import matplotlib.pyplot as plt\n",
    "plt.style.use('ggplot')\n",
    "plt.rcParams['font.family'] = 'Meiryo'\n",
    "\n",
    "# 自作のplotSSM関数を読み込み\n",
    "from plotSSM import plotSSM"
   ]
  },
  {
   "cell_type": "markdown",
   "metadata": {},
   "source": [
    "## データの読み込み"
   ]
  },
  {
   "cell_type": "code",
   "execution_count": 2,
   "metadata": {
    "ExecuteTime": {
     "end_time": "2020-09-10T13:35:27.527785Z",
     "start_time": "2020-09-10T13:35:27.493868Z"
    }
   },
   "outputs": [
    {
     "data": {
      "text/html": [
       "<div>\n",
       "<style scoped>\n",
       "    .dataframe tbody tr th:only-of-type {\n",
       "        vertical-align: middle;\n",
       "    }\n",
       "\n",
       "    .dataframe tbody tr th {\n",
       "        vertical-align: top;\n",
       "    }\n",
       "\n",
       "    .dataframe thead th {\n",
       "        text-align: right;\n",
       "    }\n",
       "</style>\n",
       "<table border=\"1\" class=\"dataframe\">\n",
       "  <thead>\n",
       "    <tr style=\"text-align: right;\">\n",
       "      <th></th>\n",
       "      <th>date</th>\n",
       "      <th>sales</th>\n",
       "    </tr>\n",
       "  </thead>\n",
       "  <tbody>\n",
       "    <tr>\n",
       "      <th>0</th>\n",
       "      <td>2010-01-01</td>\n",
       "      <td>23.9</td>\n",
       "    </tr>\n",
       "    <tr>\n",
       "      <th>1</th>\n",
       "      <td>2010-01-02</td>\n",
       "      <td>19.0</td>\n",
       "    </tr>\n",
       "    <tr>\n",
       "      <th>2</th>\n",
       "      <td>2010-01-03</td>\n",
       "      <td>20.3</td>\n",
       "    </tr>\n",
       "  </tbody>\n",
       "</table>\n",
       "</div>"
      ],
      "text/plain": [
       "        date  sales\n",
       "0 2010-01-01   23.9\n",
       "1 2010-01-02   19.0\n",
       "2 2010-01-03   20.3"
      ]
     },
     "execution_count": 2,
     "metadata": {},
     "output_type": "execute_result"
    }
   ],
   "source": [
    "sales_df_all = pd.read_csv('5-2-1-sales-ts-1.csv')\n",
    "sales_df_all['date'] = pd.to_datetime(sales_df_all['date'])\n",
    "sales_df_all.head(n=3)"
   ]
  },
  {
   "cell_type": "markdown",
   "metadata": {},
   "source": [
    "# ローカルレベルモデルによる予測の実行\n"
   ]
  },
  {
   "cell_type": "markdown",
   "metadata": {},
   "source": [
    "## データの準備"
   ]
  },
  {
   "cell_type": "code",
   "execution_count": 3,
   "metadata": {
    "ExecuteTime": {
     "end_time": "2020-09-10T13:35:27.541748Z",
     "start_time": "2020-09-10T13:35:27.537759Z"
    }
   },
   "outputs": [],
   "source": [
    "data_list_pred = dict(T=len(sales_df_all),\n",
    "                      y=sales_df_all['sales'],\n",
    "                      pred_term=20)"
   ]
  },
  {
   "cell_type": "markdown",
   "metadata": {},
   "source": [
    "## モデルの推定"
   ]
  },
  {
   "cell_type": "code",
   "execution_count": 4,
   "metadata": {
    "ExecuteTime": {
     "end_time": "2020-09-10T13:36:30.244161Z",
     "start_time": "2020-09-10T13:35:28.720295Z"
    }
   },
   "outputs": [
    {
     "name": "stderr",
     "output_type": "stream",
     "text": [
      "INFO:pystan:COMPILING THE C++ CODE FOR MODEL anon_model_034be78dc0fa71b8d5e9e6b8edac86e4 NOW.\n"
     ]
    }
   ],
   "source": [
    "# stanコードの記述(5-3-1-local-level-pred.stan)\n",
    "stan_code = '''\n",
    "data {\n",
    "  int T;         // データ取得期間の長さ\n",
    "  vector[T] y;   // 観測値\n",
    "  int pred_term; // 予測期間の長さ\n",
    "}\n",
    "\n",
    "parameters {\n",
    "  vector[T] mu;       // 状態の推定値(水準成分)\n",
    "  real<lower=0> s_w;  // 過程誤差の標準偏差\n",
    "  real<lower=0> s_v;  // 観測誤差の標準偏差\n",
    "}\n",
    "\n",
    "model {\n",
    "  // 状態方程式に従い、状態が遷移する\n",
    "  for(i in 2:T) {\n",
    "    mu[i] ~ normal(mu[i-1], s_w);\n",
    "  }\n",
    "  \n",
    "  // 観測方程式に従い、観測値が得られる\n",
    "  for(i in 1:T) {\n",
    "    y[i] ~ normal(mu[i], s_v);\n",
    "  }\n",
    "}\n",
    "\n",
    "generated quantities{\n",
    "  vector[T + pred_term] mu_pred; // 予測値も含めた状態の推定値\n",
    "  \n",
    "  // データ取得期間においては、状態推定値muと同じ\n",
    "  mu_pred[1:T] = mu;\n",
    "  \n",
    "  // データ取得期間を超えた部分を予測\n",
    "  for(i in 1:pred_term){\n",
    "    mu_pred[T + i] = normal_rng(mu_pred[T + i - 1], s_w);\n",
    "  }\n",
    "}\n",
    "\n",
    "'''\n",
    "\n",
    "# モデルのコンパイル\n",
    "stan_model_llp = pystan.StanModel(model_code=stan_code)\n",
    "\n",
    "# サンプリング\n",
    "local_level_pred = stan_model_llp.sampling(data=data_list_pred,\n",
    "                                           seed=1,\n",
    "                                           n_jobs=1)"
   ]
  },
  {
   "cell_type": "markdown",
   "metadata": {},
   "source": [
    "## 参考：結果の確認"
   ]
  },
  {
   "cell_type": "code",
   "execution_count": 5,
   "metadata": {
    "ExecuteTime": {
     "end_time": "2020-09-10T13:36:36.673127Z",
     "start_time": "2020-09-10T13:36:31.211492Z"
    }
   },
   "outputs": [
    {
     "data": {
      "image/png": "[encoded data removed]",
      "text/plain": [
       "<Figure size 360x720 with 1 Axes>"
      ]
     },
     "metadata": {},
     "output_type": "display_data"
    }
   ],
   "source": [
    "# 収束確認用のRhatのプロット関数\n",
    "def mcmc_rhat(dataframe, column='Rhat', figsize=(5, 10)):\n",
    "    plt.figure(figsize=figsize)\n",
    "    plt.hlines(y=dataframe[column].sort_values().index,\n",
    "               xmin=1,\n",
    "               xmax=dataframe[column].sort_values(),\n",
    "               color='b',\n",
    "               alpha=0.5)\n",
    "    plt.vlines(x=1.05, ymin=0, ymax=len(dataframe[column]), linestyles='--')\n",
    "    plt.plot(dataframe[column].sort_values().values,\n",
    "             dataframe[column].sort_values().index,\n",
    "             marker='.',\n",
    "             linestyle='None',\n",
    "             color='b',\n",
    "             alpha=0.5)\n",
    "    plt.yticks(color='None')\n",
    "    plt.tick_params(length=0)\n",
    "    plt.xlabel(column)\n",
    "    plt.show()\n",
    "\n",
    "\n",
    "# 各推定結果のデータフレームを作成\n",
    "summary = pd.DataFrame(local_level_pred.summary()['summary'],\n",
    "                       columns=local_level_pred.summary()['summary_colnames'],\n",
    "                       index=local_level_pred.summary()['summary_rownames'])\n",
    "\n",
    "# プロット\n",
    "mcmc_rhat(summary)"
   ]
  },
  {
   "cell_type": "markdown",
   "metadata": {},
   "source": [
    "## 参考：結果の確認"
   ]
  },
  {
   "cell_type": "code",
   "execution_count": 6,
   "metadata": {
    "ExecuteTime": {
     "end_time": "2020-09-10T13:36:37.710593Z",
     "start_time": "2020-09-10T13:36:37.690645Z"
    }
   },
   "outputs": [
    {
     "name": "stdout",
     "output_type": "stream",
     "text": [
      "Inference for Stan model: anon_model_034be78dc0fa71b8d5e9e6b8edac86e4.\n",
      "4 chains, each with iter=2000; warmup=1000; thin=1; \n",
      "post-warmup draws per chain=1000, total post-warmup draws=4000.\n",
      "\n",
      "       mean se_mean     sd   2.5%    50%  97.5%  n_eff   Rhat\n",
      "s_w     1.3    0.02   0.32   0.79   1.26   2.05    230   1.02\n",
      "s_v    2.87  6.3e-3   0.26   2.39   2.86   3.42   1740    1.0\n",
      "lp__ -225.5    1.35  19.48 -264.7 -225.3 -188.2    207   1.03\n",
      "\n",
      "Samples were drawn using NUTS at Thu Sep 10 22:36:29 2020.\n",
      "For each parameter, n_eff is a crude measure of effective sample size,\n",
      "and Rhat is the potential scale reduction factor on split chains (at \n",
      "convergence, Rhat=1).\n"
     ]
    }
   ],
   "source": [
    "print(local_level_pred.stansummary(pars=[\"s_w\", \"s_v\", \"lp__\"],\n",
    "                                   probs=[0.025, 0.5, 0.975]))"
   ]
  },
  {
   "cell_type": "markdown",
   "metadata": {},
   "source": [
    "## 図示"
   ]
  },
  {
   "cell_type": "markdown",
   "metadata": {},
   "source": [
    "### 予測対象期間も含めた日付を用意"
   ]
  },
  {
   "cell_type": "code",
   "execution_count": 7,
   "metadata": {
    "ExecuteTime": {
     "end_time": "2020-09-10T13:36:38.703964Z",
     "start_time": "2020-09-10T13:36:38.693992Z"
    }
   },
   "outputs": [],
   "source": [
    "date_plot = pd.date_range('2010-1-1', periods=120, freq='D')"
   ]
  },
  {
   "cell_type": "markdown",
   "metadata": {
    "ExecuteTime": {
     "end_time": "2020-09-05T10:07:58.921554Z",
     "start_time": "2020-09-05T10:07:58.917538Z"
    }
   },
   "source": [
    "### 生成された乱数を格納"
   ]
  },
  {
   "cell_type": "code",
   "execution_count": 8,
   "metadata": {
    "ExecuteTime": {
     "end_time": "2020-09-10T13:36:39.639490Z",
     "start_time": "2020-09-10T13:36:39.624534Z"
    }
   },
   "outputs": [],
   "source": [
    "mcmc_sample = local_level_pred.extract()"
   ]
  },
  {
   "cell_type": "markdown",
   "metadata": {},
   "source": [
    "### 予測結果の図示"
   ]
  },
  {
   "cell_type": "code",
   "execution_count": 9,
   "metadata": {
    "ExecuteTime": {
     "end_time": "2020-09-10T13:36:40.757472Z",
     "start_time": "2020-09-10T13:36:40.539057Z"
    }
   },
   "outputs": [
    {
     "data": {
      "image/png": "[encoded data removed]",
      "text/plain": [
       "<Figure size 720x360 with 1 Axes>"
      ]
     },
     "metadata": {},
     "output_type": "display_data"
    }
   ],
   "source": [
    "# グラフ描画領域の作成\n",
    "fig = plt.figure(figsize=(10, 5))\n",
    "ax = fig.add_subplot(1,1,1)\n",
    "\n",
    "# plotSSM関数によるグラフ作成\n",
    "plotSSM(mcmc_sample,\n",
    "        time_vec=date_plot,\n",
    "        state_name='mu_pred',\n",
    "        graph_title='予測の結果',\n",
    "        y_label='sales',\n",
    "        axes=ax)\n",
    "\n",
    "# グラフの描画\n",
    "plt.show()"
   ]
  },
  {
   "cell_type": "markdown",
   "metadata": {
    "ExecuteTime": {
     "end_time": "2020-09-06T01:03:06.651296Z",
     "start_time": "2020-09-06T01:03:06.636308Z"
    }
   },
   "source": [
    "# 欠損があるデータ"
   ]
  },
  {
   "cell_type": "markdown",
   "metadata": {},
   "source": [
    "## データの読み込み"
   ]
  },
  {
   "cell_type": "code",
   "execution_count": 10,
   "metadata": {
    "ExecuteTime": {
     "end_time": "2020-09-10T13:36:41.673032Z",
     "start_time": "2020-09-10T13:36:41.658064Z"
    }
   },
   "outputs": [],
   "source": [
    "sales_df_NA = pd.read_csv('5-3-1-sales-ts-1-NA.csv')"
   ]
  },
  {
   "cell_type": "markdown",
   "metadata": {},
   "source": [
    "## 日付をdatetime型にする"
   ]
  },
  {
   "cell_type": "code",
   "execution_count": 11,
   "metadata": {
    "ExecuteTime": {
     "end_time": "2020-09-10T13:36:42.580599Z",
     "start_time": "2020-09-10T13:36:42.576609Z"
    }
   },
   "outputs": [],
   "source": [
    "sales_df_NA['date'] = pd.to_datetime(sales_df_NA['date'])"
   ]
  },
  {
   "cell_type": "markdown",
   "metadata": {
    "ExecuteTime": {
     "end_time": "2020-09-06T01:13:06.153973Z",
     "start_time": "2020-09-06T01:13:06.148988Z"
    }
   },
   "source": [
    "## 売り上げデータに一部欠損がある"
   ]
  },
  {
   "cell_type": "code",
   "execution_count": 12,
   "metadata": {
    "ExecuteTime": {
     "end_time": "2020-09-10T13:36:43.446281Z",
     "start_time": "2020-09-10T13:36:43.436309Z"
    }
   },
   "outputs": [
    {
     "data": {
      "text/html": [
       "<div>\n",
       "<style scoped>\n",
       "    .dataframe tbody tr th:only-of-type {\n",
       "        vertical-align: middle;\n",
       "    }\n",
       "\n",
       "    .dataframe tbody tr th {\n",
       "        vertical-align: top;\n",
       "    }\n",
       "\n",
       "    .dataframe thead th {\n",
       "        text-align: right;\n",
       "    }\n",
       "</style>\n",
       "<table border=\"1\" class=\"dataframe\">\n",
       "  <thead>\n",
       "    <tr style=\"text-align: right;\">\n",
       "      <th></th>\n",
       "      <th>date</th>\n",
       "      <th>sales</th>\n",
       "    </tr>\n",
       "  </thead>\n",
       "  <tbody>\n",
       "    <tr>\n",
       "      <th>0</th>\n",
       "      <td>2010-01-01</td>\n",
       "      <td>23.9</td>\n",
       "    </tr>\n",
       "    <tr>\n",
       "      <th>1</th>\n",
       "      <td>2010-01-02</td>\n",
       "      <td>19.0</td>\n",
       "    </tr>\n",
       "    <tr>\n",
       "      <th>2</th>\n",
       "      <td>2010-01-03</td>\n",
       "      <td>NaN</td>\n",
       "    </tr>\n",
       "  </tbody>\n",
       "</table>\n",
       "</div>"
      ],
      "text/plain": [
       "        date  sales\n",
       "0 2010-01-01   23.9\n",
       "1 2010-01-02   19.0\n",
       "2 2010-01-03    NaN"
      ]
     },
     "execution_count": 12,
     "metadata": {},
     "output_type": "execute_result"
    }
   ],
   "source": [
    "sales_df_NA.head(n=3)"
   ]
  },
  {
   "cell_type": "markdown",
   "metadata": {},
   "source": [
    "# 欠損データの取り扱い"
   ]
  },
  {
   "cell_type": "markdown",
   "metadata": {},
   "source": [
    "## NaN値がある行を削除"
   ]
  },
  {
   "cell_type": "code",
   "execution_count": 13,
   "metadata": {
    "ExecuteTime": {
     "end_time": "2020-09-10T13:36:44.353308Z",
     "start_time": "2020-09-10T13:36:44.340344Z"
    }
   },
   "outputs": [
    {
     "data": {
      "text/html": [
       "<div>\n",
       "<style scoped>\n",
       "    .dataframe tbody tr th:only-of-type {\n",
       "        vertical-align: middle;\n",
       "    }\n",
       "\n",
       "    .dataframe tbody tr th {\n",
       "        vertical-align: top;\n",
       "    }\n",
       "\n",
       "    .dataframe thead th {\n",
       "        text-align: right;\n",
       "    }\n",
       "</style>\n",
       "<table border=\"1\" class=\"dataframe\">\n",
       "  <thead>\n",
       "    <tr style=\"text-align: right;\">\n",
       "      <th></th>\n",
       "      <th>date</th>\n",
       "      <th>sales</th>\n",
       "    </tr>\n",
       "  </thead>\n",
       "  <tbody>\n",
       "    <tr>\n",
       "      <th>0</th>\n",
       "      <td>2010-01-01</td>\n",
       "      <td>23.9</td>\n",
       "    </tr>\n",
       "    <tr>\n",
       "      <th>1</th>\n",
       "      <td>2010-01-02</td>\n",
       "      <td>19.0</td>\n",
       "    </tr>\n",
       "    <tr>\n",
       "      <th>3</th>\n",
       "      <td>2010-01-04</td>\n",
       "      <td>24.2</td>\n",
       "    </tr>\n",
       "  </tbody>\n",
       "</table>\n",
       "</div>"
      ],
      "text/plain": [
       "        date  sales\n",
       "0 2010-01-01   23.9\n",
       "1 2010-01-02   19.0\n",
       "3 2010-01-04   24.2"
      ]
     },
     "execution_count": 13,
     "metadata": {},
     "output_type": "execute_result"
    }
   ],
   "source": [
    "sales_df_omit_NA = sales_df_NA.dropna(axis=0)\n",
    "sales_df_omit_NA.head(n=3)"
   ]
  },
  {
   "cell_type": "markdown",
   "metadata": {
    "ExecuteTime": {
     "end_time": "2020-09-06T11:55:47.391491Z",
     "start_time": "2020-09-06T11:55:47.381541Z"
    }
   },
   "source": [
    "## データを取得した期間"
   ]
  },
  {
   "cell_type": "code",
   "execution_count": 14,
   "metadata": {
    "ExecuteTime": {
     "end_time": "2020-09-10T13:36:45.336703Z",
     "start_time": "2020-09-10T13:36:45.329721Z"
    }
   },
   "outputs": [
    {
     "data": {
      "text/plain": [
       "100"
      ]
     },
     "execution_count": 14,
     "metadata": {},
     "output_type": "execute_result"
    }
   ],
   "source": [
    "len(sales_df_NA)"
   ]
  },
  {
   "cell_type": "markdown",
   "metadata": {},
   "source": [
    "## 正しくデータが取得できた日数"
   ]
  },
  {
   "cell_type": "code",
   "execution_count": 15,
   "metadata": {
    "ExecuteTime": {
     "end_time": "2020-09-10T13:36:46.289157Z",
     "start_time": "2020-09-10T13:36:46.284170Z"
    }
   },
   "outputs": [
    {
     "data": {
      "text/plain": [
       "74"
      ]
     },
     "execution_count": 15,
     "metadata": {},
     "output_type": "execute_result"
    }
   ],
   "source": [
    "len(sales_df_omit_NA)"
   ]
  },
  {
   "cell_type": "markdown",
   "metadata": {},
   "source": [
    "## NaN値がどこにあるのかを判別"
   ]
  },
  {
   "cell_type": "code",
   "execution_count": 16,
   "metadata": {
    "ExecuteTime": {
     "end_time": "2020-09-10T13:36:47.187074Z",
     "start_time": "2020-09-10T13:36:47.178106Z"
    }
   },
   "outputs": [
    {
     "data": {
      "text/plain": [
       "[(0, True),\n",
       " (1, True),\n",
       " (2, False),\n",
       " (3, True),\n",
       " (4, True),\n",
       " (5, True),\n",
       " (6, True),\n",
       " (7, True),\n",
       " (8, True),\n",
       " (9, True),\n",
       " (10, True),\n",
       " (11, True),\n",
       " (12, True),\n",
       " (13, True),\n",
       " (14, True),\n",
       " (15, True),\n",
       " (16, True),\n",
       " (17, True),\n",
       " (18, True),\n",
       " (19, True),\n",
       " (20, True),\n",
       " (21, True),\n",
       " (22, True),\n",
       " (23, True),\n",
       " (24, True),\n",
       " (25, True),\n",
       " (26, False),\n",
       " (27, False),\n",
       " (28, False),\n",
       " (29, False),\n",
       " (30, False),\n",
       " (31, False),\n",
       " (32, False),\n",
       " (33, False),\n",
       " (34, False),\n",
       " (35, False),\n",
       " (36, False),\n",
       " (37, False),\n",
       " (38, False),\n",
       " (39, False),\n",
       " (40, False),\n",
       " (41, False),\n",
       " (42, False),\n",
       " (43, False),\n",
       " (44, False),\n",
       " (45, False),\n",
       " (46, False),\n",
       " (47, False),\n",
       " (48, True),\n",
       " (49, True),\n",
       " (50, True),\n",
       " (51, True),\n",
       " (52, True),\n",
       " (53, True),\n",
       " (54, True),\n",
       " (55, True),\n",
       " (56, True),\n",
       " (57, True),\n",
       " (58, True),\n",
       " (59, True),\n",
       " (60, True),\n",
       " (61, True),\n",
       " (62, True),\n",
       " (63, True),\n",
       " (64, True),\n",
       " (65, True),\n",
       " (66, True),\n",
       " (67, True),\n",
       " (68, True),\n",
       " (69, True),\n",
       " (70, True),\n",
       " (71, True),\n",
       " (72, True),\n",
       " (73, True),\n",
       " (74, True),\n",
       " (75, True),\n",
       " (76, True),\n",
       " (77, False),\n",
       " (78, False),\n",
       " (79, True),\n",
       " (80, True),\n",
       " (81, True),\n",
       " (82, True),\n",
       " (83, True),\n",
       " (84, True),\n",
       " (85, True),\n",
       " (86, True),\n",
       " (87, True),\n",
       " (88, True),\n",
       " (89, True),\n",
       " (90, True),\n",
       " (91, True),\n",
       " (92, True),\n",
       " (93, True),\n",
       " (94, False),\n",
       " (95, True),\n",
       " (96, True),\n",
       " (97, True),\n",
       " (98, True),\n",
       " (99, True)]"
      ]
     },
     "execution_count": 16,
     "metadata": {},
     "output_type": "execute_result"
    }
   ],
   "source": [
    "[(n, not i) for n, i in enumerate(sales_df_NA['sales'].isnull())]"
   ]
  },
  {
   "cell_type": "markdown",
   "metadata": {
    "ExecuteTime": {
     "end_time": "2020-09-06T12:09:35.079658Z",
     "start_time": "2020-09-06T12:09:35.076687Z"
    }
   },
   "source": [
    "## データがある行番号の取得"
   ]
  },
  {
   "cell_type": "code",
   "execution_count": 17,
   "metadata": {
    "ExecuteTime": {
     "end_time": "2020-09-10T13:36:48.073761Z",
     "start_time": "2020-09-10T13:36:48.067761Z"
    }
   },
   "outputs": [
    {
     "data": {
      "text/plain": [
       "Int64Index([ 0,  1,  3,  4,  5,  6,  7,  8,  9, 10, 11, 12, 13, 14, 15, 16, 17,\n",
       "            18, 19, 20, 21, 22, 23, 24, 25, 48, 49, 50, 51, 52, 53, 54, 55, 56,\n",
       "            57, 58, 59, 60, 61, 62, 63, 64, 65, 66, 67, 68, 69, 70, 71, 72, 73,\n",
       "            74, 75, 76, 79, 80, 81, 82, 83, 84, 85, 86, 87, 88, 89, 90, 91, 92,\n",
       "            93, 95, 96, 97, 98, 99],\n",
       "           dtype='int64')"
      ]
     },
     "execution_count": 17,
     "metadata": {},
     "output_type": "execute_result"
    }
   ],
   "source": [
    "sales_df_omit_NA.index"
   ]
  },
  {
   "cell_type": "markdown",
   "metadata": {},
   "source": [
    "# ローカルレベルモデルによる補間の実行"
   ]
  },
  {
   "cell_type": "markdown",
   "metadata": {},
   "source": [
    "## データの準備"
   ]
  },
  {
   "cell_type": "code",
   "execution_count": 18,
   "metadata": {
    "ExecuteTime": {
     "end_time": "2020-09-10T13:36:48.950715Z",
     "start_time": "2020-09-10T13:36:48.935680Z"
    }
   },
   "outputs": [],
   "source": [
    "data_list_interpolation = dict(T=len(sales_df_NA),\n",
    "                               len_obs=len(sales_df_omit_NA),\n",
    "                               y=sales_df_omit_NA['sales'],\n",
    "                               obs_no=sales_df_omit_NA.index+1) # pythonはインデックスが0始まりなので1を加えておく"
   ]
  },
  {
   "cell_type": "markdown",
   "metadata": {},
   "source": [
    "## モデルの推定"
   ]
  },
  {
   "cell_type": "code",
   "execution_count": 19,
   "metadata": {
    "ExecuteTime": {
     "end_time": "2020-09-10T13:37:40.349088Z",
     "start_time": "2020-09-10T13:36:49.816444Z"
    }
   },
   "outputs": [
    {
     "name": "stderr",
     "output_type": "stream",
     "text": [
      "INFO:pystan:COMPILING THE C++ CODE FOR MODEL anon_model_28d0b3c36d27d089631f3604cc43a67b NOW.\n"
     ]
    }
   ],
   "source": [
    "# stanコードの記述(5-3-2-local-level-interpolation.stan)\n",
    "stan_code = '''\n",
    "data {\n",
    "  int T;               // データ取得期間の長さ\n",
    "  int len_obs;         // 観測値が得られた個数\n",
    "  vector[len_obs] y;   // 観測値\n",
    "  int obs_no[len_obs]; // 観測値が得られた時点\n",
    "}\n",
    "\n",
    "parameters {\n",
    "  vector[T] mu;       // 状態の推定値(水準成分)\n",
    "  real<lower=0> s_w;  // 過程誤差の標準偏差\n",
    "  real<lower=0> s_v;  // 観測誤差の標準偏差\n",
    "}\n",
    "\n",
    "model {\n",
    "  // 状態方程式に従い、状態が遷移する\n",
    "  for(i in 2:T) {\n",
    "    mu[i] ~ normal(mu[i-1], s_w);\n",
    "  }\n",
    "  \n",
    "  // 観測方程式に従い、観測値が得られる\n",
    "  // ただし、「観測値が得られた時点」でのみ実行する\n",
    "  for(i in 1:len_obs) {\n",
    "    y[i] ~ normal(mu[obs_no[i]], s_v);\n",
    "  }\n",
    "}\n",
    "\n",
    "'''\n",
    "\n",
    "# モデルのコンパイル\n",
    "stan_model_lli = pystan.StanModel(model_code=stan_code)\n",
    "\n",
    "# サンプリング\n",
    "local_level_interpolation = stan_model_lli.sampling(data=data_list_interpolation,\n",
    "                                           seed=1,\n",
    "                                           iter=4000,\n",
    "                                           n_jobs=1)"
   ]
  },
  {
   "cell_type": "markdown",
   "metadata": {},
   "source": [
    "## 参考：収束の確認"
   ]
  },
  {
   "cell_type": "code",
   "execution_count": 20,
   "metadata": {
    "ExecuteTime": {
     "end_time": "2020-09-10T13:37:44.879025Z",
     "start_time": "2020-09-10T13:37:41.905950Z"
    }
   },
   "outputs": [
    {
     "data": {
      "image/png": "[encoded data removed]",
      "text/plain": [
       "<Figure size 360x720 with 1 Axes>"
      ]
     },
     "metadata": {},
     "output_type": "display_data"
    }
   ],
   "source": [
    "# 各推定結果のデータフレームを作成\n",
    "summary_lli = pd.DataFrame(\n",
    "    local_level_interpolation.summary()['summary'],\n",
    "    columns=local_level_interpolation.summary()['summary_colnames'],\n",
    "    index=local_level_interpolation.summary()['summary_rownames'])\n",
    "\n",
    "# プロット\n",
    "mcmc_rhat(summary_lli)"
   ]
  },
  {
   "cell_type": "markdown",
   "metadata": {},
   "source": [
    "## 参考：結果の表示"
   ]
  },
  {
   "cell_type": "code",
   "execution_count": 21,
   "metadata": {
    "ExecuteTime": {
     "end_time": "2020-09-10T13:37:46.493709Z",
     "start_time": "2020-09-10T13:37:46.466758Z"
    }
   },
   "outputs": [
    {
     "name": "stdout",
     "output_type": "stream",
     "text": [
      "Inference for Stan model: anon_model_28d0b3c36d27d089631f3604cc43a67b.\n",
      "4 chains, each with iter=4000; warmup=2000; thin=1; \n",
      "post-warmup draws per chain=2000, total post-warmup draws=8000.\n",
      "\n",
      "       mean se_mean     sd   2.5%    50%  97.5%  n_eff   Rhat\n",
      "s_w     1.3    0.01   0.31   0.83   1.26   2.02    582   1.01\n",
      "s_v    2.65  4.5e-3   0.29   2.14   2.64   3.26   4023    1.0\n",
      "lp__ -179.2    0.86  19.47 -219.5 -178.6 -143.1    513   1.01\n",
      "\n",
      "Samples were drawn using NUTS at Thu Sep 10 22:37:39 2020.\n",
      "For each parameter, n_eff is a crude measure of effective sample size,\n",
      "and Rhat is the potential scale reduction factor on split chains (at \n",
      "convergence, Rhat=1).\n"
     ]
    }
   ],
   "source": [
    "print(local_level_interpolation.stansummary(pars=[\"s_w\", \"s_v\", \"lp__\"],\n",
    "                                            probs=[0.025, 0.5, 0.975]))"
   ]
  },
  {
   "cell_type": "markdown",
   "metadata": {},
   "source": [
    "## 図示\n",
    "### 生成された乱数を格納"
   ]
  },
  {
   "cell_type": "code",
   "execution_count": 22,
   "metadata": {
    "ExecuteTime": {
     "end_time": "2020-09-10T13:37:48.049600Z",
     "start_time": "2020-09-10T13:37:48.034558Z"
    }
   },
   "outputs": [],
   "source": [
    "mcmc_sample_interpolation = local_level_interpolation.extract()"
   ]
  },
  {
   "cell_type": "markdown",
   "metadata": {},
   "source": [
    "### 図示"
   ]
  },
  {
   "cell_type": "code",
   "execution_count": 23,
   "metadata": {
    "ExecuteTime": {
     "end_time": "2020-09-10T13:37:49.730217Z",
     "start_time": "2020-09-10T13:37:49.548701Z"
    }
   },
   "outputs": [
    {
     "data": {
      "image/png": "[encoded data removed]",
      "text/plain": [
       "<Figure size 720x360 with 1 Axes>"
      ]
     },
     "metadata": {},
     "output_type": "display_data"
    }
   ],
   "source": [
    "# グラフ描画領域の作成\n",
    "fig = plt.figure(figsize=(10, 5))\n",
    "ax = fig.add_subplot(1,1,1)\n",
    "\n",
    "# plotSSM関数によるグラフ作成\n",
    "plotSSM(mcmc_sample_interpolation,\n",
    "        time_vec=sales_df_all['date'],\n",
    "        obs_vec=sales_df_all['sales'],\n",
    "        state_name='mu',\n",
    "        graph_title='補間の結果',\n",
    "        y_label='sales',\n",
    "        axes=ax)\n",
    "\n",
    "# グラフの描画\n",
    "plt.show()"
   ]
  },
  {
   "cell_type": "markdown",
   "metadata": {},
   "source": [
    "# 参考：予測区間"
   ]
  },
  {
   "cell_type": "markdown",
   "metadata": {},
   "source": [
    "## モデルの推定"
   ]
  },
  {
   "cell_type": "code",
   "execution_count": 24,
   "metadata": {
    "ExecuteTime": {
     "end_time": "2020-09-10T13:38:41.033686Z",
     "start_time": "2020-09-10T13:37:51.355634Z"
    }
   },
   "outputs": [
    {
     "name": "stderr",
     "output_type": "stream",
     "text": [
      "INFO:pystan:COMPILING THE C++ CODE FOR MODEL anon_model_d708c6aac7351d717bde7cc6d469ec51 NOW.\n"
     ]
    }
   ],
   "source": [
    "# stanコードの記述(5-3-3-local-level-interpolation-prediction-interval.stan)\n",
    "stan_code = '''\n",
    "data {\n",
    "  int T;               // データ取得期間の長さ\n",
    "  int len_obs;         // 観測値が得られた個数\n",
    "  vector[len_obs] y;   // 観測値\n",
    "  int obs_no[len_obs]; // 観測値が得られた時点\n",
    "}\n",
    "\n",
    "parameters {\n",
    "  vector[T] mu;       // 状態の推定値(水準成分)\n",
    "  real<lower=0> s_w;  // 過程誤差の標準偏差\n",
    "  real<lower=0> s_v;  // 観測誤差の標準偏差\n",
    "}\n",
    "\n",
    "model {\n",
    "  // 状態方程式に従い、状態が遷移する\n",
    "  for(i in 2:T) {\n",
    "    mu[i] ~ normal(mu[i-1], s_w);\n",
    "  }\n",
    "  \n",
    "  // 観測方程式に従い、観測値が得られる\n",
    "  // ただし、「観測値が得られた時点」でのみ実行する\n",
    "  for(i in 1:len_obs) {\n",
    "    y[i] ~ normal(mu[obs_no[i]], s_v);\n",
    "  }\n",
    "}\n",
    "\n",
    "generated quantities {\n",
    "  vector[T] y_pred;       // 観測値の予測値\n",
    "  \n",
    "  for (i in 1:T) {\n",
    "    y_pred[i] = normal_rng(mu[i], s_v);\n",
    "  }\n",
    "}\n",
    "\n",
    "'''\n",
    "\n",
    "# モデルのコンパイル\n",
    "stan_model_llpi = pystan.StanModel(model_code=stan_code)\n",
    "\n",
    "# サンプリング\n",
    "local_level_prediction_interval = stan_model_llpi.sampling(data=data_list_interpolation, \n",
    "                                                           seed=1, \n",
    "                                                           iter=4000, \n",
    "                                                           n_jobs=1)"
   ]
  },
  {
   "cell_type": "markdown",
   "metadata": {},
   "source": [
    "## 参考：収束の確認"
   ]
  },
  {
   "cell_type": "code",
   "execution_count": 25,
   "metadata": {
    "ExecuteTime": {
     "end_time": "2020-09-10T13:38:50.121388Z",
     "start_time": "2020-09-10T13:38:44.038570Z"
    }
   },
   "outputs": [
    {
     "data": {
      "image/png": "[encoded data removed]",
      "text/plain": [
       "<Figure size 360x720 with 1 Axes>"
      ]
     },
     "metadata": {},
     "output_type": "display_data"
    }
   ],
   "source": [
    "# 各推定結果のデータフレームを作成\n",
    "summary_llpi = pd.DataFrame(\n",
    "    local_level_prediction_interval.summary()['summary'],\n",
    "    columns=local_level_prediction_interval.summary()['summary_colnames'],\n",
    "    index=local_level_prediction_interval.summary()['summary_rownames'])\n",
    "\n",
    "# プロット\n",
    "mcmc_rhat(summary_llpi)"
   ]
  },
  {
   "cell_type": "markdown",
   "metadata": {},
   "source": [
    "## 参考：結果の表示"
   ]
  },
  {
   "cell_type": "code",
   "execution_count": 26,
   "metadata": {
    "ExecuteTime": {
     "end_time": "2020-09-10T13:38:53.138293Z",
     "start_time": "2020-09-10T13:38:53.109372Z"
    }
   },
   "outputs": [
    {
     "name": "stdout",
     "output_type": "stream",
     "text": [
      "Inference for Stan model: anon_model_d708c6aac7351d717bde7cc6d469ec51.\n",
      "4 chains, each with iter=4000; warmup=2000; thin=1; \n",
      "post-warmup draws per chain=2000, total post-warmup draws=8000.\n",
      "\n",
      "       mean se_mean     sd   2.5%    50%  97.5%  n_eff   Rhat\n",
      "s_w    1.32    0.01    0.3   0.84   1.28   2.02    445    1.0\n",
      "s_v    2.65  4.3e-3   0.29   2.13   2.64   3.25   4452    1.0\n",
      "lp__ -181.0    0.95  18.79 -218.1 -180.9 -144.9    388    1.0\n",
      "\n",
      "Samples were drawn using NUTS at Thu Sep 10 22:38:39 2020.\n",
      "For each parameter, n_eff is a crude measure of effective sample size,\n",
      "and Rhat is the potential scale reduction factor on split chains (at \n",
      "convergence, Rhat=1).\n"
     ]
    }
   ],
   "source": [
    "print(local_level_prediction_interval.stansummary(pars=[\"s_w\", \"s_v\", \"lp__\"],\n",
    "                                                  probs=[0.025, 0.5, 0.975]))"
   ]
  },
  {
   "cell_type": "markdown",
   "metadata": {},
   "source": [
    "## 図示"
   ]
  },
  {
   "cell_type": "markdown",
   "metadata": {},
   "source": [
    "### 生成された乱数を格納"
   ]
  },
  {
   "cell_type": "code",
   "execution_count": 27,
   "metadata": {
    "ExecuteTime": {
     "end_time": "2020-09-10T13:38:56.107470Z",
     "start_time": "2020-09-10T13:38:56.082511Z"
    }
   },
   "outputs": [],
   "source": [
    "mcmc_sample_prediction_interval = local_level_prediction_interval.extract()"
   ]
  },
  {
   "cell_type": "markdown",
   "metadata": {},
   "source": [
    "### 図示"
   ]
  },
  {
   "cell_type": "code",
   "execution_count": 28,
   "metadata": {
    "ExecuteTime": {
     "end_time": "2020-09-10T13:38:59.221143Z",
     "start_time": "2020-09-10T13:38:59.035614Z"
    },
    "scrolled": true
   },
   "outputs": [
    {
     "data": {
      "image/png": "[encoded data removed]",
      "text/plain": [
       "<Figure size 720x360 with 1 Axes>"
      ]
     },
     "metadata": {},
     "output_type": "display_data"
    }
   ],
   "source": [
    "# グラフ描画領域の作成\n",
    "fig = plt.figure(figsize=(10, 5))\n",
    "ax = fig.add_subplot(1,1,1)\n",
    "\n",
    "# plotSSM関数によるグラフ作成\n",
    "plotSSM(mcmc_sample_prediction_interval,\n",
    "        time_vec=sales_df_all['date'],\n",
    "        obs_vec=sales_df_all['sales'],\n",
    "        state_name='y_pred',\n",
    "        graph_title='補間の結果:予測分布',\n",
    "        y_label='sales',\n",
    "        axes=ax)\n",
    "\n",
    "# グラフの描画\n",
    "plt.show()"
   ]
  },
  {
   "cell_type": "code",
   "execution_count": null,
   "metadata": {},
   "outputs": [],
   "source": []
  }
 ],
 "metadata": {
  "kernelspec": {
   "display_name": "Python 3",
   "language": "python",
   "name": "python3"
  },
  "language_info": {
   "codemirror_mode": {
    "name": "ipython",
    "version": 3
   },
   "file_extension": ".py",
   "mimetype": "text/x-python",
   "name": "python",
   "nbconvert_exporter": "python",
   "pygments_lexer": "ipython3",
   "version": "3.7.6"
  },
  "toc": {
   "base_numbering": 1,
   "nav_menu": {},
   "number_sections": true,
   "sideBar": true,
   "skip_h1_title": false,
   "title_cell": "Table of Contents",
   "title_sidebar": "Contents",
   "toc_cell": false,
   "toc_position": {},
   "toc_section_display": true,
   "toc_window_display": true
  },
  "varInspector": {
   "cols": {
    "lenName": 16,
    "lenType": 16,
    "lenVar": 40
   },
   "kernels_config": {
    "python": {
     "delete_cmd_postfix": "",
     "delete_cmd_prefix": "del ",
     "library": "var_list.py",
     "varRefreshCmd": "print(var_dic_list())"
    },
    "r": {
     "delete_cmd_postfix": ") ",
     "delete_cmd_prefix": "rm(",
     "library": "var_list.r",
     "varRefreshCmd": "cat(var_dic_list()) "
    }
   },
   "types_to_exclude": [
    "module",
    "function",
    "builtin_function_or_method",
    "instance",
    "_Feature"
   ],
   "window_display": false
  }
 },
 "nbformat": 4,
 "nbformat_minor": 4
}
