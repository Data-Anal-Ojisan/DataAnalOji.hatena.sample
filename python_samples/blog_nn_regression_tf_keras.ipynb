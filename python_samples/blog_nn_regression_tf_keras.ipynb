{
 "cells": [
  {
   "cell_type": "code",
   "execution_count": 1,
   "metadata": {
    "ExecuteTime": {
     "end_time": "2022-09-10T01:05:24.473595Z",
     "start_time": "2022-09-10T01:05:19.737828Z"
    }
   },
   "outputs": [],
   "source": [
    "from tensorflow import keras\n",
    "from matplotlib import pyplot as plt"
   ]
  },
  {
   "cell_type": "markdown",
   "metadata": {},
   "source": [
    "# データセット作成"
   ]
  },
  {
   "cell_type": "code",
   "execution_count": 2,
   "metadata": {
    "ExecuteTime": {
     "end_time": "2022-09-10T01:05:24.489572Z",
     "start_time": "2022-09-10T01:05:24.475563Z"
    }
   },
   "outputs": [
    {
     "name": "stdout",
     "output_type": "stream",
     "text": [
      "Train shape:(404, 13)\n",
      "Test shape:(102, 13)\n"
     ]
    }
   ],
   "source": [
    "boston = keras.datasets.boston_housing\n",
    "(X_train, y_train), (X_test, y_test) = boston.load_data()\n",
    "\n",
    "print('Train shape:{}'.format(X_train.shape))\n",
    "print('Test shape:{}'.format(X_test.shape))"
   ]
  },
  {
   "cell_type": "markdown",
   "metadata": {
    "ExecuteTime": {
     "end_time": "2022-09-09T15:25:43.232421Z",
     "start_time": "2022-09-09T15:25:43.223422Z"
    }
   },
   "source": [
    "# モデル作成"
   ]
  },
  {
   "cell_type": "code",
   "execution_count": 3,
   "metadata": {
    "ExecuteTime": {
     "end_time": "2022-09-10T01:05:24.745081Z",
     "start_time": "2022-09-10T01:05:24.493591Z"
    }
   },
   "outputs": [
    {
     "name": "stdout",
     "output_type": "stream",
     "text": [
      "Model: \"sequential\"\n",
      "_________________________________________________________________\n",
      " Layer (type)                Output Shape              Param #   \n",
      "=================================================================\n",
      " dense (Dense)               (None, 64)                896       \n",
      "                                                                 \n",
      " dense_1 (Dense)             (None, 64)                4160      \n",
      "                                                                 \n",
      " dense_2 (Dense)             (None, 1)                 65        \n",
      "                                                                 \n",
      "=================================================================\n",
      "Total params: 5,121\n",
      "Trainable params: 5,121\n",
      "Non-trainable params: 0\n",
      "_________________________________________________________________\n"
     ]
    }
   ],
   "source": [
    "# 入力層/中間層/出力層 各1層\n",
    "model = keras.Sequential()\n",
    "# 入力層\n",
    "model.add(keras.layers.Dense(64, activation=keras.activations.relu, input_shape=(X_train.shape[1],)))\n",
    "# 中間層\n",
    "model.add(keras.layers.Dense(64, activation=keras.activations.relu))\n",
    "# 出力層\n",
    "model.add(keras.layers.Dense(1))\n",
    "# モデルコンパイル\n",
    "model.compile(loss='mse', optimizer=keras.optimizers.Adam())\n",
    "# モデル内容の確認\n",
    "model.summary()"
   ]
  },
  {
   "cell_type": "markdown",
   "metadata": {},
   "source": [
    "# 学習"
   ]
  },
  {
   "cell_type": "code",
   "execution_count": 4,
   "metadata": {
    "ExecuteTime": {
     "end_time": "2022-09-10T01:05:30.087879Z",
     "start_time": "2022-09-10T01:05:24.748082Z"
    }
   },
   "outputs": [
    {
     "name": "stdout",
     "output_type": "stream",
     "text": [
      "Epoch 1/100\n",
      "11/11 [==============================] - 1s 18ms/step - loss: 410.4371 - val_loss: 101.6145\n",
      "Epoch 2/100\n",
      "11/11 [==============================] - 0s 4ms/step - loss: 146.2130 - val_loss: 105.8009\n",
      "Epoch 3/100\n",
      "11/11 [==============================] - 0s 4ms/step - loss: 81.3206 - val_loss: 91.2739\n",
      "Epoch 4/100\n",
      "11/11 [==============================] - 0s 4ms/step - loss: 72.5596 - val_loss: 87.1096\n",
      "Epoch 5/100\n",
      "11/11 [==============================] - 0s 5ms/step - loss: 63.0539 - val_loss: 78.6860\n",
      "Epoch 6/100\n",
      "11/11 [==============================] - 0s 4ms/step - loss: 61.9836 - val_loss: 74.5605\n",
      "Epoch 7/100\n",
      "11/11 [==============================] - 0s 4ms/step - loss: 58.5928 - val_loss: 69.0446\n",
      "Epoch 8/100\n",
      "11/11 [==============================] - 0s 4ms/step - loss: 59.4518 - val_loss: 66.7836\n",
      "Epoch 9/100\n",
      "11/11 [==============================] - 0s 4ms/step - loss: 57.6005 - val_loss: 92.5111\n",
      "Epoch 10/100\n",
      "11/11 [==============================] - 0s 4ms/step - loss: 55.5499 - val_loss: 64.8833\n",
      "Epoch 11/100\n",
      "11/11 [==============================] - 0s 4ms/step - loss: 53.9064 - val_loss: 65.1506\n",
      "Epoch 12/100\n",
      "11/11 [==============================] - 0s 4ms/step - loss: 51.6164 - val_loss: 63.1418\n",
      "Epoch 13/100\n",
      "11/11 [==============================] - 0s 4ms/step - loss: 49.0312 - val_loss: 68.4931\n",
      "Epoch 14/100\n",
      "11/11 [==============================] - 0s 4ms/step - loss: 48.9863 - val_loss: 60.6965\n",
      "Epoch 15/100\n",
      "11/11 [==============================] - 0s 4ms/step - loss: 47.6249 - val_loss: 74.3781\n",
      "Epoch 16/100\n",
      "11/11 [==============================] - 0s 5ms/step - loss: 49.4589 - val_loss: 78.4766\n",
      "Epoch 17/100\n",
      "11/11 [==============================] - 0s 4ms/step - loss: 55.6688 - val_loss: 58.6949\n",
      "Epoch 18/100\n",
      "11/11 [==============================] - 0s 4ms/step - loss: 46.9388 - val_loss: 64.0850\n",
      "Epoch 19/100\n",
      "11/11 [==============================] - 0s 5ms/step - loss: 67.4488 - val_loss: 80.0259\n",
      "Epoch 20/100\n",
      "11/11 [==============================] - 0s 5ms/step - loss: 47.0459 - val_loss: 60.7176\n",
      "Epoch 21/100\n",
      "11/11 [==============================] - 0s 4ms/step - loss: 47.0269 - val_loss: 58.1831\n",
      "Epoch 22/100\n",
      "11/11 [==============================] - 0s 5ms/step - loss: 56.6189 - val_loss: 53.5836\n",
      "Epoch 23/100\n",
      "11/11 [==============================] - 0s 4ms/step - loss: 52.9109 - val_loss: 65.2355\n",
      "Epoch 24/100\n",
      "11/11 [==============================] - 0s 4ms/step - loss: 42.2984 - val_loss: 69.4156\n",
      "Epoch 25/100\n",
      "11/11 [==============================] - 0s 4ms/step - loss: 41.6618 - val_loss: 59.2467\n",
      "Epoch 26/100\n",
      "11/11 [==============================] - 0s 4ms/step - loss: 40.8893 - val_loss: 52.1498\n",
      "Epoch 27/100\n",
      "11/11 [==============================] - 0s 4ms/step - loss: 37.5433 - val_loss: 52.3954\n",
      "Epoch 28/100\n",
      "11/11 [==============================] - 0s 4ms/step - loss: 37.2061 - val_loss: 49.2136\n",
      "Epoch 29/100\n",
      "11/11 [==============================] - 0s 4ms/step - loss: 43.2415 - val_loss: 50.1701\n",
      "Epoch 30/100\n",
      "11/11 [==============================] - 0s 4ms/step - loss: 52.2233 - val_loss: 59.8369\n",
      "Epoch 31/100\n",
      "11/11 [==============================] - 0s 4ms/step - loss: 39.8532 - val_loss: 54.4738\n",
      "Epoch 32/100\n",
      "11/11 [==============================] - 0s 4ms/step - loss: 37.3708 - val_loss: 48.6462\n",
      "Epoch 33/100\n",
      "11/11 [==============================] - 0s 4ms/step - loss: 50.4431 - val_loss: 48.5281\n",
      "Epoch 34/100\n",
      "11/11 [==============================] - 0s 5ms/step - loss: 35.9722 - val_loss: 45.2784\n",
      "Epoch 35/100\n",
      "11/11 [==============================] - 0s 4ms/step - loss: 38.0462 - val_loss: 45.8186\n",
      "Epoch 36/100\n",
      "11/11 [==============================] - 0s 4ms/step - loss: 34.2589 - val_loss: 44.8232\n",
      "Epoch 37/100\n",
      "11/11 [==============================] - 0s 4ms/step - loss: 31.8816 - val_loss: 43.2839\n",
      "Epoch 38/100\n",
      "11/11 [==============================] - 0s 4ms/step - loss: 33.5366 - val_loss: 43.0978\n",
      "Epoch 39/100\n",
      "11/11 [==============================] - 0s 4ms/step - loss: 30.5360 - val_loss: 48.0159\n",
      "Epoch 40/100\n",
      "11/11 [==============================] - 0s 4ms/step - loss: 32.0792 - val_loss: 47.1795\n",
      "Epoch 41/100\n",
      "11/11 [==============================] - 0s 4ms/step - loss: 31.1645 - val_loss: 49.3893\n",
      "Epoch 42/100\n",
      "11/11 [==============================] - 0s 6ms/step - loss: 33.5564 - val_loss: 47.5515\n",
      "Epoch 43/100\n",
      "11/11 [==============================] - 0s 4ms/step - loss: 33.4375 - val_loss: 59.4379\n",
      "Epoch 44/100\n",
      "11/11 [==============================] - 0s 4ms/step - loss: 33.4139 - val_loss: 57.9806\n",
      "Epoch 45/100\n",
      "11/11 [==============================] - 0s 4ms/step - loss: 34.0925 - val_loss: 45.1793\n",
      "Epoch 46/100\n",
      "11/11 [==============================] - 0s 4ms/step - loss: 29.0211 - val_loss: 42.7992\n",
      "Epoch 47/100\n",
      "11/11 [==============================] - 0s 4ms/step - loss: 28.9504 - val_loss: 44.6376\n",
      "Epoch 48/100\n",
      "11/11 [==============================] - 0s 4ms/step - loss: 29.7390 - val_loss: 39.8391\n",
      "Epoch 49/100\n",
      "11/11 [==============================] - 0s 4ms/step - loss: 28.3125 - val_loss: 42.8765\n",
      "Epoch 50/100\n",
      "11/11 [==============================] - 0s 4ms/step - loss: 27.2850 - val_loss: 40.0455\n",
      "Epoch 51/100\n",
      "11/11 [==============================] - 0s 4ms/step - loss: 27.1694 - val_loss: 41.2418\n",
      "Epoch 52/100\n",
      "11/11 [==============================] - 0s 4ms/step - loss: 28.4307 - val_loss: 49.5039\n",
      "Epoch 53/100\n",
      "11/11 [==============================] - 0s 4ms/step - loss: 30.0501 - val_loss: 38.9977\n",
      "Epoch 54/100\n",
      "11/11 [==============================] - 0s 4ms/step - loss: 26.8191 - val_loss: 38.4037\n",
      "Epoch 55/100\n",
      "11/11 [==============================] - 0s 4ms/step - loss: 26.6658 - val_loss: 37.8241\n",
      "Epoch 56/100\n",
      "11/11 [==============================] - 0s 4ms/step - loss: 26.1030 - val_loss: 37.9634\n",
      "Epoch 57/100\n",
      "11/11 [==============================] - 0s 4ms/step - loss: 26.8157 - val_loss: 38.0136\n",
      "Epoch 58/100\n",
      "11/11 [==============================] - 0s 4ms/step - loss: 28.8919 - val_loss: 51.6210\n",
      "Epoch 59/100\n",
      "11/11 [==============================] - 0s 4ms/step - loss: 39.4336 - val_loss: 55.4375\n",
      "Epoch 60/100\n",
      "11/11 [==============================] - 0s 4ms/step - loss: 33.7721 - val_loss: 40.3180\n",
      "Epoch 61/100\n",
      "11/11 [==============================] - 0s 4ms/step - loss: 29.7722 - val_loss: 40.3393\n",
      "Epoch 62/100\n",
      "11/11 [==============================] - 0s 4ms/step - loss: 27.1492 - val_loss: 37.3262\n",
      "Epoch 63/100\n",
      "11/11 [==============================] - 0s 4ms/step - loss: 25.4419 - val_loss: 38.2510\n",
      "Epoch 64/100\n",
      "11/11 [==============================] - 0s 5ms/step - loss: 26.6112 - val_loss: 42.2924\n",
      "Epoch 65/100\n",
      "11/11 [==============================] - 0s 4ms/step - loss: 32.8845 - val_loss: 37.7234\n",
      "Epoch 66/100\n",
      "11/11 [==============================] - 0s 5ms/step - loss: 29.0660 - val_loss: 37.4012\n",
      "Epoch 67/100\n",
      "11/11 [==============================] - 0s 4ms/step - loss: 25.9249 - val_loss: 39.6476\n",
      "Epoch 68/100\n",
      "11/11 [==============================] - 0s 5ms/step - loss: 24.4924 - val_loss: 39.5102\n",
      "Epoch 69/100\n",
      "11/11 [==============================] - 0s 4ms/step - loss: 26.4182 - val_loss: 39.3089\n",
      "Epoch 70/100\n",
      "11/11 [==============================] - 0s 4ms/step - loss: 24.8720 - val_loss: 53.9315\n",
      "Epoch 71/100\n",
      "11/11 [==============================] - 0s 5ms/step - loss: 31.8563 - val_loss: 44.7169\n",
      "Epoch 72/100\n",
      "11/11 [==============================] - 0s 5ms/step - loss: 25.6570 - val_loss: 48.1859\n",
      "Epoch 73/100\n",
      "11/11 [==============================] - 0s 4ms/step - loss: 29.3987 - val_loss: 41.6636\n",
      "Epoch 74/100\n",
      "11/11 [==============================] - 0s 4ms/step - loss: 25.4770 - val_loss: 36.3801\n",
      "Epoch 75/100\n",
      "11/11 [==============================] - 0s 4ms/step - loss: 25.1221 - val_loss: 40.5796\n",
      "Epoch 76/100\n",
      "11/11 [==============================] - 0s 4ms/step - loss: 26.4931 - val_loss: 36.2963\n",
      "Epoch 77/100\n",
      "11/11 [==============================] - 0s 4ms/step - loss: 27.0673 - val_loss: 35.8827\n",
      "Epoch 78/100\n",
      "11/11 [==============================] - 0s 4ms/step - loss: 25.6802 - val_loss: 46.8604\n",
      "Epoch 79/100\n",
      "11/11 [==============================] - 0s 4ms/step - loss: 28.6956 - val_loss: 43.5213\n",
      "Epoch 80/100\n",
      "11/11 [==============================] - 0s 5ms/step - loss: 27.6012 - val_loss: 48.7673\n",
      "Epoch 81/100\n",
      "11/11 [==============================] - 0s 4ms/step - loss: 28.9357 - val_loss: 37.0537\n",
      "Epoch 82/100\n",
      "11/11 [==============================] - 0s 4ms/step - loss: 24.5112 - val_loss: 34.9142\n",
      "Epoch 83/100\n",
      "11/11 [==============================] - 0s 4ms/step - loss: 23.6102 - val_loss: 35.3020\n",
      "Epoch 84/100\n",
      "11/11 [==============================] - 0s 4ms/step - loss: 24.1068 - val_loss: 36.3996\n",
      "Epoch 85/100\n",
      "11/11 [==============================] - 0s 6ms/step - loss: 24.5635 - val_loss: 34.9096\n",
      "Epoch 86/100\n",
      "11/11 [==============================] - 0s 4ms/step - loss: 23.3632 - val_loss: 36.3194\n",
      "Epoch 87/100\n",
      "11/11 [==============================] - 0s 4ms/step - loss: 32.3899 - val_loss: 34.9314\n",
      "Epoch 88/100\n",
      "11/11 [==============================] - 0s 4ms/step - loss: 24.9558 - val_loss: 33.3860\n",
      "Epoch 89/100\n",
      "11/11 [==============================] - 0s 4ms/step - loss: 21.4234 - val_loss: 36.5149\n",
      "Epoch 90/100\n",
      "11/11 [==============================] - 0s 4ms/step - loss: 21.5140 - val_loss: 33.5526\n",
      "Epoch 91/100\n",
      "11/11 [==============================] - 0s 4ms/step - loss: 22.9095 - val_loss: 36.5171\n",
      "Epoch 92/100\n",
      "11/11 [==============================] - 0s 4ms/step - loss: 22.0665 - val_loss: 36.3553\n",
      "Epoch 93/100\n",
      "11/11 [==============================] - 0s 4ms/step - loss: 22.0395 - val_loss: 36.8179\n",
      "Epoch 94/100\n",
      "11/11 [==============================] - 0s 4ms/step - loss: 22.7146 - val_loss: 34.1870\n",
      "Epoch 95/100\n",
      "11/11 [==============================] - 0s 6ms/step - loss: 22.6312 - val_loss: 33.8368\n",
      "Epoch 96/100\n",
      "11/11 [==============================] - 0s 4ms/step - loss: 21.8874 - val_loss: 43.1385\n",
      "Epoch 97/100\n",
      "11/11 [==============================] - 0s 4ms/step - loss: 27.3694 - val_loss: 35.7622\n",
      "Epoch 98/100\n",
      "11/11 [==============================] - 0s 4ms/step - loss: 21.6681 - val_loss: 36.5386\n",
      "Epoch 99/100\n",
      "11/11 [==============================] - 0s 4ms/step - loss: 22.7989 - val_loss: 33.7172\n",
      "Epoch 100/100\n",
      "11/11 [==============================] - 0s 4ms/step - loss: 20.5440 - val_loss: 49.2540\n"
     ]
    }
   ],
   "source": [
    "history = model.fit(X_train, y_train, epochs=100, validation_split=0.2)"
   ]
  },
  {
   "cell_type": "code",
   "execution_count": null,
   "metadata": {},
   "outputs": [],
   "source": []
  },
  {
   "cell_type": "code",
   "execution_count": 5,
   "metadata": {
    "ExecuteTime": {
     "end_time": "2022-09-10T01:05:30.295786Z",
     "start_time": "2022-09-10T01:05:30.090883Z"
    }
   },
   "outputs": [
    {
     "data": {
      "image/png": "[encoded data removed]",
      "text/plain": [
       "<Figure size 400x400 with 1 Axes>"
      ]
     },
     "metadata": {},
     "output_type": "display_data"
    }
   ],
   "source": [
    "# 学習過程の可視化\n",
    "plt.figure(figsize=(4, 4))\n",
    "plt.plot(history.history['loss'])\n",
    "plt.plot(history.history['val_loss'])\n",
    "plt.title('Model loss')\n",
    "plt.ylabel('Loss')\n",
    "plt.xlabel('Epoch')\n",
    "plt.legend(['Train', 'Test'], loc='upper right')\n",
    "plt.show()"
   ]
  },
  {
   "cell_type": "markdown",
   "metadata": {},
   "source": [
    "# 予測"
   ]
  },
  {
   "cell_type": "code",
   "execution_count": 6,
   "metadata": {
    "ExecuteTime": {
     "end_time": "2022-09-10T01:05:30.438904Z",
     "start_time": "2022-09-10T01:05:30.297768Z"
    }
   },
   "outputs": [],
   "source": [
    "pred = model.predict(X_test, verbose=0)"
   ]
  },
  {
   "cell_type": "code",
   "execution_count": 7,
   "metadata": {
    "ExecuteTime": {
     "end_time": "2022-09-10T01:05:30.566939Z",
     "start_time": "2022-09-10T01:05:30.441905Z"
    }
   },
   "outputs": [
    {
     "data": {
      "image/png": "[encoded data removed]",
      "text/plain": [
       "<Figure size 400x400 with 1 Axes>"
      ]
     },
     "metadata": {},
     "output_type": "display_data"
    }
   ],
   "source": [
    "plt.figure(figsize=(4, 4))\n",
    "plt.scatter(pred, y_test)\n",
    "plt.title('Prediction vs. True value')\n",
    "plt.ylabel('True value')\n",
    "plt.xlabel('Prediction')\n",
    "plt.show()"
   ]
  },
  {
   "cell_type": "code",
   "execution_count": null,
   "metadata": {},
   "outputs": [],
   "source": []
  }
 ],
 "metadata": {
  "kernelspec": {
   "display_name": "Python 3 (ipykernel)",
   "language": "python",
   "name": "python3"
  },
  "language_info": {
   "codemirror_mode": {
    "name": "ipython",
    "version": 3
   },
   "file_extension": ".py",
   "mimetype": "text/x-python",
   "name": "python",
   "nbconvert_exporter": "python",
   "pygments_lexer": "ipython3",
   "version": "3.8.13"
  },
  "toc": {
   "base_numbering": 1,
   "nav_menu": {},
   "number_sections": true,
   "sideBar": true,
   "skip_h1_title": false,
   "title_cell": "Table of Contents",
   "title_sidebar": "Contents",
   "toc_cell": false,
   "toc_position": {},
   "toc_section_display": true,
   "toc_window_display": false
  },
  "varInspector": {
   "cols": {
    "lenName": 16,
    "lenType": 16,
    "lenVar": 40
   },
   "kernels_config": {
    "python": {
     "delete_cmd_postfix": "",
     "delete_cmd_prefix": "del ",
     "library": "var_list.py",
     "varRefreshCmd": "print(var_dic_list())"
    },
    "r": {
     "delete_cmd_postfix": ") ",
     "delete_cmd_prefix": "rm(",
     "library": "var_list.r",
     "varRefreshCmd": "cat(var_dic_list()) "
    }
   },
   "types_to_exclude": [
    "module",
    "function",
    "builtin_function_or_method",
    "instance",
    "_Feature"
   ],
   "window_display": false
  }
 },
 "nbformat": 4,
 "nbformat_minor": 4
}
