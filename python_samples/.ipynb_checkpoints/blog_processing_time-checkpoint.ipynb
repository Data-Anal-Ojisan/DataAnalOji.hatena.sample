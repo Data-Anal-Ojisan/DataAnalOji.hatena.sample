{
 "cells": [
  {
   "cell_type": "markdown",
   "metadata": {},
   "source": [
    "# 処理開始前時刻と開始後時刻の差分を計算"
   ]
  },
  {
   "cell_type": "code",
   "execution_count": 140,
   "metadata": {
    "ExecuteTime": {
     "end_time": "2020-05-24T01:34:28.516573Z",
     "start_time": "2020-05-24T01:34:28.503606Z"
    }
   },
   "outputs": [
    {
     "name": "stdout",
     "output_type": "stream",
     "text": [
      "elapsed time:0.0069541931sec\n"
     ]
    }
   ],
   "source": [
    "import time\n",
    "\n",
    "# 処理時間を計測したい処理\n",
    "def func(n):    \n",
    "    result = 0\n",
    "    for i in range(n):\n",
    "        result += i\n",
    "\n",
    "start_time = time.time() # 処理開始前のシステム時刻を取得\n",
    "result = func(100000) # 処理時間を計測したい処理を実行\n",
    "elapsed_time = time.time() - start_time # 処理終了後のシステム時刻と開始前のシステム時間の差分を取得 \n",
    "print(\"elapsed time:{:.10f}\".format(elapsed_time) + \"sec\") # 処理時間の表示"
   ]
  },
  {
   "cell_type": "markdown",
   "metadata": {},
   "source": [
    "# Ipython/Jupyter 向け\n",
    "\n",
    "## 処理を一度実行して処理時間を返す\n",
    "\n",
    "- 処理時間を計測したい処理と同一行に「%time」を記述"
   ]
  },
  {
   "cell_type": "code",
   "execution_count": 153,
   "metadata": {
    "ExecuteTime": {
     "end_time": "2020-05-24T01:37:08.192815Z",
     "start_time": "2020-05-24T01:37:08.183840Z"
    }
   },
   "outputs": [
    {
     "name": "stdout",
     "output_type": "stream",
     "text": [
      "Wall time: 4.99 ms\n"
     ]
    }
   ],
   "source": [
    "%time func(100000)"
   ]
  },
  {
   "cell_type": "markdown",
   "metadata": {
    "ExecuteTime": {
     "end_time": "2020-05-24T01:32:17.966581Z",
     "start_time": "2020-05-24T01:32:09.694692Z"
    }
   },
   "source": [
    "### セル全体の処理時間を計算する場合\n",
    "\n",
    "- 処理時間を計測したいセルの先頭に「%%time」を記述"
   ]
  },
  {
   "cell_type": "code",
   "execution_count": 161,
   "metadata": {
    "ExecuteTime": {
     "end_time": "2020-05-24T01:40:20.377935Z",
     "start_time": "2020-05-24T01:40:20.361978Z"
    }
   },
   "outputs": [
    {
     "name": "stdout",
     "output_type": "stream",
     "text": [
      "Wall time: 9.97 ms\n"
     ]
    }
   ],
   "source": [
    "%%time\n",
    "\n",
    "func(100000)\n",
    "func(100000)"
   ]
  },
  {
   "cell_type": "markdown",
   "metadata": {
    "ExecuteTime": {
     "end_time": "2020-05-24T01:31:37.014229Z",
     "start_time": "2020-05-24T01:31:37.002261Z"
    }
   },
   "source": [
    "## 処理を複数回繰り返して平均時間を返す\n",
    "\n",
    "- 処理時間を計測したい処理と同一行に「%timeit」を記述"
   ]
  },
  {
   "cell_type": "code",
   "execution_count": 155,
   "metadata": {
    "ExecuteTime": {
     "end_time": "2020-05-24T01:37:58.698670Z",
     "start_time": "2020-05-24T01:37:54.376197Z"
    }
   },
   "outputs": [
    {
     "name": "stdout",
     "output_type": "stream",
     "text": [
      "5.33 ms ± 534 µs per loop (mean ± std. dev. of 7 runs, 100 loops each)\n"
     ]
    }
   ],
   "source": [
    "%timeit func(100000)"
   ]
  },
  {
   "cell_type": "markdown",
   "metadata": {},
   "source": [
    "### セル全体の処理時間を計算する場合\n",
    "\n",
    "- 処理時間を計測したいセルの先頭に「%%timeit」を記述"
   ]
  },
  {
   "cell_type": "code",
   "execution_count": 160,
   "metadata": {
    "ExecuteTime": {
     "end_time": "2020-05-24T01:40:20.343038Z",
     "start_time": "2020-05-24T01:40:12.047203Z"
    }
   },
   "outputs": [
    {
     "name": "stdout",
     "output_type": "stream",
     "text": [
      "10.2 ms ± 611 µs per loop (mean ± std. dev. of 7 runs, 100 loops each)\n"
     ]
    }
   ],
   "source": [
    "%%timeit\n",
    "\n",
    "func(100000)\n",
    "func(100000)"
   ]
  },
  {
   "cell_type": "code",
   "execution_count": null,
   "metadata": {},
   "outputs": [],
   "source": []
  }
 ],
 "metadata": {
  "kernelspec": {
   "display_name": "Python 3",
   "language": "python",
   "name": "python3"
  },
  "language_info": {
   "codemirror_mode": {
    "name": "ipython",
    "version": 3
   },
   "file_extension": ".py",
   "mimetype": "text/x-python",
   "name": "python",
   "nbconvert_exporter": "python",
   "pygments_lexer": "ipython3",
   "version": "3.7.6"
  },
  "toc": {
   "base_numbering": 1,
   "nav_menu": {},
   "number_sections": true,
   "sideBar": true,
   "skip_h1_title": false,
   "title_cell": "Table of Contents",
   "title_sidebar": "Contents",
   "toc_cell": false,
   "toc_position": {},
   "toc_section_display": true,
   "toc_window_display": false
  },
  "varInspector": {
   "cols": {
    "lenName": 16,
    "lenType": 16,
    "lenVar": 40
   },
   "kernels_config": {
    "python": {
     "delete_cmd_postfix": "",
     "delete_cmd_prefix": "del ",
     "library": "var_list.py",
     "varRefreshCmd": "print(var_dic_list())"
    },
    "r": {
     "delete_cmd_postfix": ") ",
     "delete_cmd_prefix": "rm(",
     "library": "var_list.r",
     "varRefreshCmd": "cat(var_dic_list()) "
    }
   },
   "types_to_exclude": [
    "module",
    "function",
    "builtin_function_or_method",
    "instance",
    "_Feature"
   ],
   "window_display": false
  }
 },
 "nbformat": 4,
 "nbformat_minor": 4
}
