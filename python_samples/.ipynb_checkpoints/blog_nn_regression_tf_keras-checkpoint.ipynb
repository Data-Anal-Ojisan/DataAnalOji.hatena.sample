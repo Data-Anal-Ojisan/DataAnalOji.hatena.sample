{
 "cells": [
  {
   "cell_type": "code",
   "execution_count": 1,
   "metadata": {
    "ExecuteTime": {
     "end_time": "2022-09-09T23:43:50.546690Z",
     "start_time": "2022-09-09T23:43:45.758966Z"
    }
   },
   "outputs": [],
   "source": [
    "import tensorflow as tf\n",
    "from tensorflow import keras\n",
    "from matplotlib import pyplot as plt"
   ]
  },
  {
   "cell_type": "markdown",
   "metadata": {},
   "source": [
    "# データセット作成"
   ]
  },
  {
   "cell_type": "code",
   "execution_count": 2,
   "metadata": {
    "ExecuteTime": {
     "end_time": "2022-09-09T23:43:50.578686Z",
     "start_time": "2022-09-09T23:43:50.548638Z"
    }
   },
   "outputs": [
    {
     "name": "stdout",
     "output_type": "stream",
     "text": [
      "Train shape:(404, 13)\n",
      "Test shape:(102, 13)\n"
     ]
    }
   ],
   "source": [
    "boston = keras.datasets.boston_housing\n",
    "(X_train, y_train), (X_test, y_test) = boston.load_data()\n",
    "\n",
    "print('Train shape:{}'.format(X_train.shape))\n",
    "print('Test shape:{}'.format(X_test.shape))"
   ]
  },
  {
   "cell_type": "markdown",
   "metadata": {
    "ExecuteTime": {
     "end_time": "2022-09-09T15:25:43.232421Z",
     "start_time": "2022-09-09T15:25:43.223422Z"
    }
   },
   "source": [
    "# モデル作成"
   ]
  },
  {
   "cell_type": "code",
   "execution_count": 9,
   "metadata": {
    "ExecuteTime": {
     "end_time": "2022-09-09T23:44:01.357738Z",
     "start_time": "2022-09-09T23:44:01.287708Z"
    }
   },
   "outputs": [
    {
     "name": "stdout",
     "output_type": "stream",
     "text": [
      "Model: \"sequential_1\"\n",
      "_________________________________________________________________\n",
      " Layer (type)                Output Shape              Param #   \n",
      "=================================================================\n",
      " dense_3 (Dense)             (None, 64)                896       \n",
      "                                                                 \n",
      " dense_4 (Dense)             (None, 64)                4160      \n",
      "                                                                 \n",
      " dense_5 (Dense)             (None, 1)                 65        \n",
      "                                                                 \n",
      "=================================================================\n",
      "Total params: 5,121\n",
      "Trainable params: 5,121\n",
      "Non-trainable params: 0\n",
      "_________________________________________________________________\n"
     ]
    }
   ],
   "source": [
    "# 入力層/中間層/出力層 各1層\n",
    "model = keras.Sequential()\n",
    "model.add(keras.layers.Dense(64, activation=tf.nn.relu, input_shape=(X_train.shape[1],)))\n",
    "model.add(keras.layers.Dense(64, activation=tf.nn.relu))\n",
    "model.add(keras.layers.Dense(1))\n",
    "optimizer = tf.keras.optimizers.Adam()\n",
    "model.compile(loss='mse', optimizer=optimizer)\n",
    "model.summary()"
   ]
  },
  {
   "cell_type": "markdown",
   "metadata": {},
   "source": [
    "# 学習"
   ]
  },
  {
   "cell_type": "code",
   "execution_count": 14,
   "metadata": {
    "ExecuteTime": {
     "end_time": "2022-09-09T23:49:49.213335Z",
     "start_time": "2022-09-09T23:49:44.503733Z"
    }
   },
   "outputs": [
    {
     "name": "stdout",
     "output_type": "stream",
     "text": [
      "Epoch 1/100\n",
      "11/11 [==============================] - 0s 7ms/step - loss: 33.5459 - val_loss: 41.9330\n",
      "Epoch 2/100\n",
      "11/11 [==============================] - 0s 4ms/step - loss: 31.2590 - val_loss: 45.3281\n",
      "Epoch 3/100\n",
      "11/11 [==============================] - 0s 4ms/step - loss: 31.0649 - val_loss: 41.1061\n",
      "Epoch 4/100\n",
      "11/11 [==============================] - 0s 4ms/step - loss: 34.0095 - val_loss: 60.1772\n",
      "Epoch 5/100\n",
      "11/11 [==============================] - 0s 4ms/step - loss: 63.7527 - val_loss: 45.7368\n",
      "Epoch 6/100\n",
      "11/11 [==============================] - 0s 4ms/step - loss: 40.3998 - val_loss: 41.8869\n",
      "Epoch 7/100\n",
      "11/11 [==============================] - 0s 4ms/step - loss: 32.4244 - val_loss: 41.0892\n",
      "Epoch 8/100\n",
      "11/11 [==============================] - 0s 4ms/step - loss: 29.1562 - val_loss: 39.0658\n",
      "Epoch 9/100\n",
      "11/11 [==============================] - 0s 4ms/step - loss: 28.1796 - val_loss: 42.1846\n",
      "Epoch 10/100\n",
      "11/11 [==============================] - 0s 4ms/step - loss: 34.3829 - val_loss: 38.5686\n",
      "Epoch 11/100\n",
      "11/11 [==============================] - 0s 4ms/step - loss: 32.0822 - val_loss: 40.4133\n",
      "Epoch 12/100\n",
      "11/11 [==============================] - 0s 4ms/step - loss: 29.5149 - val_loss: 37.9508\n",
      "Epoch 13/100\n",
      "11/11 [==============================] - 0s 4ms/step - loss: 29.3891 - val_loss: 36.5598\n",
      "Epoch 14/100\n",
      "11/11 [==============================] - 0s 4ms/step - loss: 30.2641 - val_loss: 35.9471\n",
      "Epoch 15/100\n",
      "11/11 [==============================] - 0s 4ms/step - loss: 32.8535 - val_loss: 36.2423\n",
      "Epoch 16/100\n",
      "11/11 [==============================] - 0s 4ms/step - loss: 38.2409 - val_loss: 36.6931\n",
      "Epoch 17/100\n",
      "11/11 [==============================] - 0s 4ms/step - loss: 28.3575 - val_loss: 36.8657\n",
      "Epoch 18/100\n",
      "11/11 [==============================] - 0s 4ms/step - loss: 26.9274 - val_loss: 41.3044\n",
      "Epoch 19/100\n",
      "11/11 [==============================] - 0s 4ms/step - loss: 28.3775 - val_loss: 45.1864\n",
      "Epoch 20/100\n",
      "11/11 [==============================] - 0s 4ms/step - loss: 32.4990 - val_loss: 35.7776\n",
      "Epoch 21/100\n",
      "11/11 [==============================] - 0s 4ms/step - loss: 27.1580 - val_loss: 36.0084\n",
      "Epoch 22/100\n",
      "11/11 [==============================] - 0s 4ms/step - loss: 29.4764 - val_loss: 36.3989\n",
      "Epoch 23/100\n",
      "11/11 [==============================] - 0s 4ms/step - loss: 29.8650 - val_loss: 35.3340\n",
      "Epoch 24/100\n",
      "11/11 [==============================] - 0s 4ms/step - loss: 25.5430 - val_loss: 35.2264\n",
      "Epoch 25/100\n",
      "11/11 [==============================] - 0s 4ms/step - loss: 26.7132 - val_loss: 39.6534\n",
      "Epoch 26/100\n",
      "11/11 [==============================] - 0s 4ms/step - loss: 26.9622 - val_loss: 34.8766\n",
      "Epoch 27/100\n",
      "11/11 [==============================] - 0s 4ms/step - loss: 26.7729 - val_loss: 34.9492\n",
      "Epoch 28/100\n",
      "11/11 [==============================] - 0s 4ms/step - loss: 28.2436 - val_loss: 37.0204\n",
      "Epoch 29/100\n",
      "11/11 [==============================] - 0s 4ms/step - loss: 27.5546 - val_loss: 35.4851\n",
      "Epoch 30/100\n",
      "11/11 [==============================] - 0s 4ms/step - loss: 25.5242 - val_loss: 40.1668\n",
      "Epoch 31/100\n",
      "11/11 [==============================] - 0s 4ms/step - loss: 36.0343 - val_loss: 32.9608\n",
      "Epoch 32/100\n",
      "11/11 [==============================] - 0s 4ms/step - loss: 26.3094 - val_loss: 39.4966\n",
      "Epoch 33/100\n",
      "11/11 [==============================] - 0s 4ms/step - loss: 31.5903 - val_loss: 33.6370\n",
      "Epoch 34/100\n",
      "11/11 [==============================] - 0s 5ms/step - loss: 27.4026 - val_loss: 32.9139\n",
      "Epoch 35/100\n",
      "11/11 [==============================] - 0s 5ms/step - loss: 26.4991 - val_loss: 33.0918\n",
      "Epoch 36/100\n",
      "11/11 [==============================] - 0s 5ms/step - loss: 26.4696 - val_loss: 43.7991\n",
      "Epoch 37/100\n",
      "11/11 [==============================] - 0s 5ms/step - loss: 39.0184 - val_loss: 36.9678\n",
      "Epoch 38/100\n",
      "11/11 [==============================] - 0s 4ms/step - loss: 31.1397 - val_loss: 34.3270\n",
      "Epoch 39/100\n",
      "11/11 [==============================] - 0s 4ms/step - loss: 28.1753 - val_loss: 32.4864\n",
      "Epoch 40/100\n",
      "11/11 [==============================] - 0s 4ms/step - loss: 28.8440 - val_loss: 41.1217\n",
      "Epoch 41/100\n",
      "11/11 [==============================] - 0s 4ms/step - loss: 33.6705 - val_loss: 40.4653\n",
      "Epoch 42/100\n",
      "11/11 [==============================] - 0s 4ms/step - loss: 25.6637 - val_loss: 38.7751\n",
      "Epoch 43/100\n",
      "11/11 [==============================] - 0s 4ms/step - loss: 26.2968 - val_loss: 33.0104\n",
      "Epoch 44/100\n",
      "11/11 [==============================] - 0s 4ms/step - loss: 24.4823 - val_loss: 32.4123\n",
      "Epoch 45/100\n",
      "11/11 [==============================] - 0s 4ms/step - loss: 24.2689 - val_loss: 31.8575\n",
      "Epoch 46/100\n",
      "11/11 [==============================] - 0s 4ms/step - loss: 24.7964 - val_loss: 30.6753\n",
      "Epoch 47/100\n",
      "11/11 [==============================] - 0s 4ms/step - loss: 25.4666 - val_loss: 31.7503\n",
      "Epoch 48/100\n",
      "11/11 [==============================] - 0s 4ms/step - loss: 27.6160 - val_loss: 41.1748\n",
      "Epoch 49/100\n",
      "11/11 [==============================] - 0s 4ms/step - loss: 28.8506 - val_loss: 43.4259\n",
      "Epoch 50/100\n",
      "11/11 [==============================] - 0s 4ms/step - loss: 25.5042 - val_loss: 39.6986\n",
      "Epoch 51/100\n",
      "11/11 [==============================] - 0s 4ms/step - loss: 27.2201 - val_loss: 33.5034\n",
      "Epoch 52/100\n",
      "11/11 [==============================] - 0s 4ms/step - loss: 23.7111 - val_loss: 34.2428\n",
      "Epoch 53/100\n",
      "11/11 [==============================] - 0s 4ms/step - loss: 28.8200 - val_loss: 32.3432\n",
      "Epoch 54/100\n",
      "11/11 [==============================] - 0s 4ms/step - loss: 24.5247 - val_loss: 31.9075\n",
      "Epoch 55/100\n",
      "11/11 [==============================] - 0s 4ms/step - loss: 23.3895 - val_loss: 33.4155\n",
      "Epoch 56/100\n",
      "11/11 [==============================] - 0s 5ms/step - loss: 24.6509 - val_loss: 32.1316\n",
      "Epoch 57/100\n",
      "11/11 [==============================] - 0s 4ms/step - loss: 22.6175 - val_loss: 33.9943\n",
      "Epoch 58/100\n",
      "11/11 [==============================] - 0s 4ms/step - loss: 25.0714 - val_loss: 40.5191\n",
      "Epoch 59/100\n",
      "11/11 [==============================] - 0s 4ms/step - loss: 23.2483 - val_loss: 31.9386\n",
      "Epoch 60/100\n",
      "11/11 [==============================] - 0s 4ms/step - loss: 21.7413 - val_loss: 34.3048\n",
      "Epoch 61/100\n",
      "11/11 [==============================] - 0s 4ms/step - loss: 22.0807 - val_loss: 32.8169\n",
      "Epoch 62/100\n",
      "11/11 [==============================] - 0s 7ms/step - loss: 25.3233 - val_loss: 34.5535\n",
      "Epoch 63/100\n",
      "11/11 [==============================] - 0s 4ms/step - loss: 25.6635 - val_loss: 31.7509\n",
      "Epoch 64/100\n",
      "11/11 [==============================] - 0s 5ms/step - loss: 24.7685 - val_loss: 37.0483\n",
      "Epoch 65/100\n",
      "11/11 [==============================] - 0s 5ms/step - loss: 21.9022 - val_loss: 32.2082\n",
      "Epoch 66/100\n",
      "11/11 [==============================] - 0s 5ms/step - loss: 21.4175 - val_loss: 31.2810\n",
      "Epoch 67/100\n",
      "11/11 [==============================] - 0s 4ms/step - loss: 21.5502 - val_loss: 32.1356\n",
      "Epoch 68/100\n",
      "11/11 [==============================] - 0s 4ms/step - loss: 21.5648 - val_loss: 50.3672\n",
      "Epoch 69/100\n",
      "11/11 [==============================] - 0s 4ms/step - loss: 44.3611 - val_loss: 58.4268\n",
      "Epoch 70/100\n",
      "11/11 [==============================] - 0s 4ms/step - loss: 37.2407 - val_loss: 41.6920\n",
      "Epoch 71/100\n",
      "11/11 [==============================] - 0s 4ms/step - loss: 29.2211 - val_loss: 33.0251\n",
      "Epoch 72/100\n",
      "11/11 [==============================] - 0s 4ms/step - loss: 28.0276 - val_loss: 32.4133\n",
      "Epoch 73/100\n",
      "11/11 [==============================] - 0s 5ms/step - loss: 24.3632 - val_loss: 31.6345\n",
      "Epoch 74/100\n",
      "11/11 [==============================] - 0s 4ms/step - loss: 23.3591 - val_loss: 44.1053\n",
      "Epoch 75/100\n",
      "11/11 [==============================] - 0s 4ms/step - loss: 31.8246 - val_loss: 41.8853\n",
      "Epoch 76/100\n",
      "11/11 [==============================] - 0s 4ms/step - loss: 31.0618 - val_loss: 32.8537\n",
      "Epoch 77/100\n",
      "11/11 [==============================] - 0s 4ms/step - loss: 21.5213 - val_loss: 33.2166\n",
      "Epoch 78/100\n",
      "11/11 [==============================] - 0s 4ms/step - loss: 21.2319 - val_loss: 32.3648\n",
      "Epoch 79/100\n",
      "11/11 [==============================] - 0s 4ms/step - loss: 21.5598 - val_loss: 32.9459\n",
      "Epoch 80/100\n",
      "11/11 [==============================] - 0s 4ms/step - loss: 23.4045 - val_loss: 30.9052\n",
      "Epoch 81/100\n"
     ]
    },
    {
     "name": "stdout",
     "output_type": "stream",
     "text": [
      "11/11 [==============================] - 0s 4ms/step - loss: 19.6565 - val_loss: 31.6973\n",
      "Epoch 82/100\n",
      "11/11 [==============================] - 0s 4ms/step - loss: 20.4163 - val_loss: 30.6935\n",
      "Epoch 83/100\n",
      "11/11 [==============================] - 0s 4ms/step - loss: 19.1347 - val_loss: 31.4037\n",
      "Epoch 84/100\n",
      "11/11 [==============================] - 0s 4ms/step - loss: 19.6857 - val_loss: 32.3675\n",
      "Epoch 85/100\n",
      "11/11 [==============================] - 0s 4ms/step - loss: 20.5448 - val_loss: 30.0046\n",
      "Epoch 86/100\n",
      "11/11 [==============================] - 0s 4ms/step - loss: 19.4786 - val_loss: 31.3644\n",
      "Epoch 87/100\n",
      "11/11 [==============================] - 0s 4ms/step - loss: 20.5535 - val_loss: 41.9611\n",
      "Epoch 88/100\n",
      "11/11 [==============================] - 0s 4ms/step - loss: 24.4801 - val_loss: 36.6910\n",
      "Epoch 89/100\n",
      "11/11 [==============================] - 0s 4ms/step - loss: 20.2521 - val_loss: 29.3809\n",
      "Epoch 90/100\n",
      "11/11 [==============================] - 0s 4ms/step - loss: 18.6102 - val_loss: 30.4292\n",
      "Epoch 91/100\n",
      "11/11 [==============================] - 0s 4ms/step - loss: 19.4726 - val_loss: 33.3998\n",
      "Epoch 92/100\n",
      "11/11 [==============================] - 0s 4ms/step - loss: 20.7037 - val_loss: 37.7773\n",
      "Epoch 93/100\n",
      "11/11 [==============================] - 0s 4ms/step - loss: 19.5039 - val_loss: 32.8771\n",
      "Epoch 94/100\n",
      "11/11 [==============================] - 0s 4ms/step - loss: 17.7769 - val_loss: 31.4438\n",
      "Epoch 95/100\n",
      "11/11 [==============================] - 0s 4ms/step - loss: 19.0393 - val_loss: 30.0595\n",
      "Epoch 96/100\n",
      "11/11 [==============================] - 0s 4ms/step - loss: 19.6548 - val_loss: 31.1570\n",
      "Epoch 97/100\n",
      "11/11 [==============================] - 0s 4ms/step - loss: 19.2802 - val_loss: 30.8604\n",
      "Epoch 98/100\n",
      "11/11 [==============================] - 0s 4ms/step - loss: 18.8501 - val_loss: 31.8062\n",
      "Epoch 99/100\n",
      "11/11 [==============================] - 0s 4ms/step - loss: 18.1944 - val_loss: 34.9280\n",
      "Epoch 100/100\n",
      "11/11 [==============================] - 0s 4ms/step - loss: 20.7527 - val_loss: 34.8099\n"
     ]
    }
   ],
   "source": [
    "history = model.fit(X_train, y_train, epochs=100, validation_split=0.2)"
   ]
  },
  {
   "cell_type": "code",
   "execution_count": 11,
   "metadata": {
    "ExecuteTime": {
     "end_time": "2022-09-09T23:44:15.960746Z",
     "start_time": "2022-09-09T23:44:15.828872Z"
    }
   },
   "outputs": [
    {
     "data": {
      "image/png": "[encoded data removed]",
      "text/plain": [
       "<Figure size 400x400 with 1 Axes>"
      ]
     },
     "metadata": {},
     "output_type": "display_data"
    }
   ],
   "source": [
    "# Lossの変遷をプロット\n",
    "plt.figure(figsize=(4, 4))\n",
    "plt.plot(history.history['loss'])\n",
    "plt.plot(history.history['val_loss'])\n",
    "plt.title('Model loss')\n",
    "plt.ylabel('Loss')\n",
    "plt.xlabel('Epoch')\n",
    "plt.legend(['Train', 'Test'], loc='upper right')\n",
    "plt.show()"
   ]
  },
  {
   "cell_type": "markdown",
   "metadata": {},
   "source": [
    "# 予測"
   ]
  },
  {
   "cell_type": "code",
   "execution_count": 12,
   "metadata": {
    "ExecuteTime": {
     "end_time": "2022-09-09T23:44:17.764034Z",
     "start_time": "2022-09-09T23:44:17.661837Z"
    }
   },
   "outputs": [],
   "source": [
    "pred = model.predict(X_test, verbose=0)"
   ]
  },
  {
   "cell_type": "code",
   "execution_count": 13,
   "metadata": {
    "ExecuteTime": {
     "end_time": "2022-09-09T23:44:18.399784Z",
     "start_time": "2022-09-09T23:44:18.280785Z"
    }
   },
   "outputs": [
    {
     "data": {
      "image/png": "[encoded data removed]",
      "text/plain": [
       "<Figure size 400x400 with 1 Axes>"
      ]
     },
     "metadata": {},
     "output_type": "display_data"
    }
   ],
   "source": [
    "plt.figure(figsize=(4, 4))\n",
    "plt.scatter(pred, y_test)\n",
    "plt.title('Prediction vs. True value')\n",
    "plt.ylabel('True value')\n",
    "plt.xlabel('Prediction')\n",
    "plt.show()"
   ]
  },
  {
   "cell_type": "code",
   "execution_count": null,
   "metadata": {},
   "outputs": [],
   "source": []
  }
 ],
 "metadata": {
  "kernelspec": {
   "display_name": "Python 3 (ipykernel)",
   "language": "python",
   "name": "python3"
  },
  "language_info": {
   "codemirror_mode": {
    "name": "ipython",
    "version": 3
   },
   "file_extension": ".py",
   "mimetype": "text/x-python",
   "name": "python",
   "nbconvert_exporter": "python",
   "pygments_lexer": "ipython3",
   "version": "3.10.4"
  },
  "toc": {
   "base_numbering": 1,
   "nav_menu": {},
   "number_sections": true,
   "sideBar": true,
   "skip_h1_title": false,
   "title_cell": "Table of Contents",
   "title_sidebar": "Contents",
   "toc_cell": false,
   "toc_position": {},
   "toc_section_display": true,
   "toc_window_display": false
  },
  "varInspector": {
   "cols": {
    "lenName": 16,
    "lenType": 16,
    "lenVar": 40
   },
   "kernels_config": {
    "python": {
     "delete_cmd_postfix": "",
     "delete_cmd_prefix": "del ",
     "library": "var_list.py",
     "varRefreshCmd": "print(var_dic_list())"
    },
    "r": {
     "delete_cmd_postfix": ") ",
     "delete_cmd_prefix": "rm(",
     "library": "var_list.r",
     "varRefreshCmd": "cat(var_dic_list()) "
    }
   },
   "types_to_exclude": [
    "module",
    "function",
    "builtin_function_or_method",
    "instance",
    "_Feature"
   ],
   "window_display": false
  }
 },
 "nbformat": 4,
 "nbformat_minor": 4
}
