{
 "cells": [
  {
   "cell_type": "code",
   "execution_count": 8,
   "metadata": {
    "ExecuteTime": {
     "end_time": "2020-05-20T11:22:42.695015Z",
     "start_time": "2020-05-20T11:22:42.507433Z"
    }
   },
   "outputs": [
    {
     "name": "stdout",
     "output_type": "stream",
     "text": [
      "              precision    recall  f1-score   support\n",
      "\n",
      "   malignant       0.96      0.85      0.90        55\n",
      "      benign       0.91      0.98      0.95        88\n",
      "\n",
      "    accuracy                           0.93       143\n",
      "   macro avg       0.94      0.92      0.92       143\n",
      "weighted avg       0.93      0.93      0.93       143\n",
      "\n"
     ]
    },
    {
     "data": {
      "text/html": [
       "<div>\n",
       "<style scoped>\n",
       "    .dataframe tbody tr th:only-of-type {\n",
       "        vertical-align: middle;\n",
       "    }\n",
       "\n",
       "    .dataframe tbody tr th {\n",
       "        vertical-align: top;\n",
       "    }\n",
       "\n",
       "    .dataframe thead th {\n",
       "        text-align: right;\n",
       "    }\n",
       "</style>\n",
       "<table border=\"1\" class=\"dataframe\">\n",
       "  <thead>\n",
       "    <tr style=\"text-align: right;\">\n",
       "      <th></th>\n",
       "      <th>malignant</th>\n",
       "      <th>benign</th>\n",
       "      <th>accuracy</th>\n",
       "      <th>macro avg</th>\n",
       "      <th>weighted avg</th>\n",
       "    </tr>\n",
       "  </thead>\n",
       "  <tbody>\n",
       "    <tr>\n",
       "      <th>precision</th>\n",
       "      <td>0.959184</td>\n",
       "      <td>0.914894</td>\n",
       "      <td>0.93007</td>\n",
       "      <td>0.937039</td>\n",
       "      <td>0.931928</td>\n",
       "    </tr>\n",
       "    <tr>\n",
       "      <th>recall</th>\n",
       "      <td>0.854545</td>\n",
       "      <td>0.977273</td>\n",
       "      <td>0.93007</td>\n",
       "      <td>0.915909</td>\n",
       "      <td>0.930070</td>\n",
       "    </tr>\n",
       "    <tr>\n",
       "      <th>f1-score</th>\n",
       "      <td>0.903846</td>\n",
       "      <td>0.945055</td>\n",
       "      <td>0.93007</td>\n",
       "      <td>0.924451</td>\n",
       "      <td>0.929205</td>\n",
       "    </tr>\n",
       "    <tr>\n",
       "      <th>support</th>\n",
       "      <td>55.000000</td>\n",
       "      <td>88.000000</td>\n",
       "      <td>0.93007</td>\n",
       "      <td>143.000000</td>\n",
       "      <td>143.000000</td>\n",
       "    </tr>\n",
       "  </tbody>\n",
       "</table>\n",
       "</div>"
      ],
      "text/plain": [
       "           malignant     benign  accuracy   macro avg  weighted avg\n",
       "precision   0.959184   0.914894   0.93007    0.937039      0.931928\n",
       "recall      0.854545   0.977273   0.93007    0.915909      0.930070\n",
       "f1-score    0.903846   0.945055   0.93007    0.924451      0.929205\n",
       "support    55.000000  88.000000   0.93007  143.000000    143.000000"
      ]
     },
     "metadata": {},
     "output_type": "display_data"
    }
   ],
   "source": [
    "from sklearn.datasets import load_breast_cancer \n",
    "from sklearn.model_selection import train_test_split \n",
    "from sklearn.ensemble import RandomForestClassifier\n",
    "from sklearn.metrics import classification_report\n",
    "\n",
    "# データセットの読み込み\n",
    "cancer = load_breast_cancer()\n",
    "X = cancer.data # 特徴量\n",
    "y = cancer.target # ターゲット\n",
    "\n",
    "# データ分割\n",
    "X_train, X_test, y_train, y_test = train_test_split(X,y,random_state=1234)\n",
    "\n",
    "# ランダムフォレストによる分類\n",
    "RF = RandomForestClassifier(random_state=1234) # インスタンス生成\n",
    "RF.fit(X_train,y_train) # 学習\n",
    "\n",
    "# テストデータを分類\n",
    "prediction = RF.predict(X_test)\n",
    "\n",
    "# 評価指標の計算\n",
    "print(classification_report(y_true=y_test, y_pred=prediction,\n",
    "                            target_names=cancer.target_names))\n",
    "\n",
    "# 評価指標の計算結果をdictで保存\n",
    "report = classification_report(y_true=y_test, y_pred=prediction,\n",
    "                               target_names=cancer.target_names,\n",
    "                               output_dict=True)\n",
    "display(pd.DataFrame(report))"
   ]
  }
 ],
 "metadata": {
  "kernelspec": {
   "display_name": "Python 3",
   "language": "python",
   "name": "python3"
  },
  "language_info": {
   "codemirror_mode": {
    "name": "ipython",
    "version": 3
   },
   "file_extension": ".py",
   "mimetype": "text/x-python",
   "name": "python",
   "nbconvert_exporter": "python",
   "pygments_lexer": "ipython3",
   "version": "3.7.6"
  },
  "toc": {
   "base_numbering": 1,
   "nav_menu": {},
   "number_sections": true,
   "sideBar": true,
   "skip_h1_title": false,
   "title_cell": "Table of Contents",
   "title_sidebar": "Contents",
   "toc_cell": false,
   "toc_position": {},
   "toc_section_display": true,
   "toc_window_display": false
  },
  "varInspector": {
   "cols": {
    "lenName": 16,
    "lenType": 16,
    "lenVar": 40
   },
   "kernels_config": {
    "python": {
     "delete_cmd_postfix": "",
     "delete_cmd_prefix": "del ",
     "library": "var_list.py",
     "varRefreshCmd": "print(var_dic_list())"
    },
    "r": {
     "delete_cmd_postfix": ") ",
     "delete_cmd_prefix": "rm(",
     "library": "var_list.r",
     "varRefreshCmd": "cat(var_dic_list()) "
    }
   },
   "types_to_exclude": [
    "module",
    "function",
    "builtin_function_or_method",
    "instance",
    "_Feature"
   ],
   "window_display": false
  }
 },
 "nbformat": 4,
 "nbformat_minor": 4
}
