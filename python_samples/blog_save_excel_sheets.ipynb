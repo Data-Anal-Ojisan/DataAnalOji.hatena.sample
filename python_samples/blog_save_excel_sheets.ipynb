{
 "cells": [
  {
   "cell_type": "code",
   "execution_count": 2,
   "metadata": {
    "ExecuteTime": {
     "end_time": "2020-06-30T10:11:28.793400Z",
     "start_time": "2020-06-30T10:11:26.930839Z"
    }
   },
   "outputs": [],
   "source": [
    "# エクセル処理\n",
    "import openpyxl\n",
    "# 数値処理\n",
    "import numpy as np\n",
    "import pandas as pd\n",
    "# サンプルデータ\n",
    "from sklearn.datasets import load_boston, load_breast_cancer\n",
    "# サンプルデータの読み込み\n",
    "# インスタンスの生成\n",
    "boston = load_boston()\n",
    "cancer = load_breast_cancer()\n",
    "\n",
    "# データフレームの作成\n",
    "df_boston = pd.DataFrame(boston.data, columns=boston.feature_names)\n",
    "df_cancer = pd.DataFrame(cancer.data, columns=cancer.feature_names)\n",
    "# シート別にエクセルファイルに書き込み\n",
    "# 空のワークブックを作成\n",
    "workbook = openpyxl.Workbook()\n",
    "# ワークブックをエクセルファイルとして保存\n",
    "workbook.save('sample.xlsx')\n",
    "# 作成したエクセルファイに対してExcelWriterを利用して書き込み\n",
    "with pd.ExcelWriter('sample.xlsx') as writer:\n",
    "    df_boston.to_excel(writer, sheet_name='boston')\n",
    "    df_cancer.to_excel(writer, sheet_name='cancer')\n"
   ]
  },
  {
   "cell_type": "code",
   "execution_count": null,
   "metadata": {},
   "outputs": [],
   "source": []
  }
 ],
 "metadata": {
  "kernelspec": {
   "display_name": "Python 3",
   "language": "python",
   "name": "python3"
  },
  "language_info": {
   "codemirror_mode": {
    "name": "ipython",
    "version": 3
   },
   "file_extension": ".py",
   "mimetype": "text/x-python",
   "name": "python",
   "nbconvert_exporter": "python",
   "pygments_lexer": "ipython3",
   "version": "3.7.6"
  },
  "toc": {
   "base_numbering": 1,
   "nav_menu": {},
   "number_sections": true,
   "sideBar": true,
   "skip_h1_title": false,
   "title_cell": "Table of Contents",
   "title_sidebar": "Contents",
   "toc_cell": false,
   "toc_position": {},
   "toc_section_display": true,
   "toc_window_display": false
  },
  "varInspector": {
   "cols": {
    "lenName": 16,
    "lenType": 16,
    "lenVar": 40
   },
   "kernels_config": {
    "python": {
     "delete_cmd_postfix": "",
     "delete_cmd_prefix": "del ",
     "library": "var_list.py",
     "varRefreshCmd": "print(var_dic_list())"
    },
    "r": {
     "delete_cmd_postfix": ") ",
     "delete_cmd_prefix": "rm(",
     "library": "var_list.r",
     "varRefreshCmd": "cat(var_dic_list()) "
    }
   },
   "types_to_exclude": [
    "module",
    "function",
    "builtin_function_or_method",
    "instance",
    "_Feature"
   ],
   "window_display": false
  }
 },
 "nbformat": 4,
 "nbformat_minor": 4
}
